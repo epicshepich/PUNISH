{
 "cells": [
  {
   "cell_type": "markdown",
   "id": "e1fb3a78",
   "metadata": {},
   "source": [
    "# Initialization"
   ]
  },
  {
   "cell_type": "code",
   "execution_count": 10,
   "id": "dfeff7f2",
   "metadata": {},
   "outputs": [
    {
     "name": "stdout",
     "output_type": "stream",
     "text": [
      "Loading dependencies\n"
     ]
    }
   ],
   "source": [
    "println(\"Loading dependencies\")\n",
    "using StatsBase;\n",
    "using JSON;\n",
    "using YAML;\n",
    "using BenchmarkTools;\n",
    "using ProgressMeter;\n",
    "using SQLite;\n",
    "using DataFrames;\n",
    "using ThreadsX;\n",
    "using Flux;\n",
    "include(\"game.jl\");"
   ]
  },
  {
   "cell_type": "code",
   "execution_count": 2,
   "id": "edcc54b6",
   "metadata": {},
   "outputs": [
    {
     "name": "stdout",
     "output_type": "stream",
     "text": [
      "Initializing training with 8 threads\n"
     ]
    }
   ],
   "source": [
    "println(\"Initializing training with $(Threads.nthreads()) threads\")"
   ]
  },
  {
   "cell_type": "code",
   "execution_count": 3,
   "id": "b542a967",
   "metadata": {},
   "outputs": [
    {
     "name": "stdout",
     "output_type": "stream",
     "text": [
      "Loading training config from config.yaml\n",
      "Loading model parameters from model.yaml\n"
     ]
    }
   ],
   "source": [
    "println(\"Loading training config from config.yaml\")\n",
    "config = YAML.load_file(\"config.yaml\");\n",
    "println(\"Loading model parameters from model.yaml\")\n",
    "model = YAML.load_file(\"model.yaml\");"
   ]
  },
  {
   "cell_type": "markdown",
   "id": "3ca106eb",
   "metadata": {},
   "source": [
    "# State Space"
   ]
  },
  {
   "cell_type": "code",
   "execution_count": 4,
   "id": "b795acfe",
   "metadata": {},
   "outputs": [
    {
     "name": "stdout",
     "output_type": "stream",
     "text": [
      "Loading state space from statespace.json\n"
     ]
    }
   ],
   "source": [
    "if config[\"statespace\"][\"generate\"]\n",
    "    println(\"Generating state space\")\n",
    "    \n",
    "    println(\"Saving to $(config[\"statespace\"][\"filepath\"])\")\n",
    "    \n",
    "else\n",
    "    println(\"Loading state space from $(config[\"statespace\"][\"filepath\"])\")\n",
    "    STATE_SPACE = Int64[JSON.parsefile(config[\"statespace\"][\"filepath\"],use_mmap=false)...];\n",
    "end;"
   ]
  },
  {
   "cell_type": "markdown",
   "id": "fb6f77cd",
   "metadata": {},
   "source": [
    "# ETL"
   ]
  },
  {
   "cell_type": "code",
   "execution_count": 7,
   "id": "8cfeca06",
   "metadata": {},
   "outputs": [],
   "source": [
    "training_games_query = \"\"\"\n",
    "SELECT \n",
    "    games.game_id, winners.username as winner_username, losers.username as loser_username,\n",
    "    winners.is_bot as winner_is_bot, losers.is_bot as loser_is_bot, COUNT(*)/2 as duration\n",
    "FROM games\n",
    "LEFT JOIN players winners\n",
    "    on games.winner_id = winners.player_id\n",
    "LEFT JOIN players losers\n",
    "    on games.loser_id = losers.player_id\n",
    "RIGHT JOIN breaths \n",
    "    on games.game_id = breaths.game_id\n",
    "WHERE\n",
    "    (games.game_id>=$(model[\"data\"][\"epoch-start\"] == -Inf ? 0 : model[\"data\"][\"epoch-start\"]))\n",
    "AND\n",
    "(games.game_id<=$(model[\"data\"][\"epoch-end\"] == Inf ? time() : model[\"data\"][\"epoch-end\"]))\n",
    "AND \n",
    "    ((winner_is_bot=0) OR (loser_is_bot=0))\n",
    "GROUP BY games.game_id\n",
    "\"\"\"\n",
    "#Replace winner/loser IDs with usernames, and indicate whether each is a bot.\n",
    "#Right join the breaths table in order to count the duration of each game.\n",
    "#Games in the training set must have at least one human player, and must occur\n",
    "#before the epoch time cutoff.\n",
    "\n",
    "training_breaths_query = \"\"\"\n",
    "SELECT\n",
    "    training_games.game_id, breaths.state, breaths.action, breaths.is_winner,\n",
    "    (CASE breaths.is_winner\n",
    "        WHEN 1 THEN training_games.winner_is_bot\n",
    "        ELSE training_games.loser_is_bot\n",
    "    END) as is_bot\n",
    "FROM ($(training_games_query)) training_games\n",
    "RIGHT JOIN breaths\n",
    "    on training_games.game_id = breaths.game_id\n",
    "WHERE (is_bot=0)\n",
    "\"\"\"\n",
    "#Use a right join on the `training_games` table to ensure we are only using breaths\n",
    "#from the training set.\n",
    ";"
   ]
  },
  {
   "cell_type": "code",
   "execution_count": 12,
   "id": "0e34b500",
   "metadata": {},
   "outputs": [
    {
     "name": "stdout",
     "output_type": "stream",
     "text": [
      "Retrieving gameplay data\n",
      "Data contain 7226 breaths.\n"
     ]
    },
    {
     "ename": "LoadError",
     "evalue": "UndefVarError: STARTING_STATES not defined",
     "output_type": "error",
     "traceback": [
      "UndefVarError: STARTING_STATES not defined",
      "",
      "Stacktrace:",
      "  [1] (::var\"#90#92\")(state::Int64)",
      "    @ Main .\\none:0",
      "  [2] FilteringRF",
      "    @ .\\reduce.jl:107 [inlined]",
      "  [3] _foldl_impl(op::Base.FilteringRF{var\"#90#92\", Base.MappingRF{var\"#89#91\", Base.BottomRF{typeof(Base.add_sum)}}}, init::Base._InitialValue, itr::Vector{Int64})",
      "    @ Base .\\reduce.jl:58",
      "  [4] foldl_impl",
      "    @ .\\reduce.jl:48 [inlined]",
      "  [5] mapfoldl_impl",
      "    @ .\\reduce.jl:44 [inlined]",
      "  [6] #mapfoldl#258",
      "    @ .\\reduce.jl:162 [inlined]",
      "  [7] mapfoldl",
      "    @ .\\reduce.jl:162 [inlined]",
      "  [8] #mapreduce#262",
      "    @ .\\reduce.jl:294 [inlined]",
      "  [9] mapreduce",
      "    @ .\\reduce.jl:294 [inlined]",
      " [10] #sum#265",
      "    @ .\\reduce.jl:520 [inlined]",
      " [11] sum",
      "    @ .\\reduce.jl:520 [inlined]",
      " [12] #sum#266",
      "    @ .\\reduce.jl:549 [inlined]",
      " [13] sum(a::Base.Generator{Base.Iterators.Filter{var\"#90#92\", Vector{Int64}}, var\"#89#91\"})",
      "    @ Base .\\reduce.jl:549",
      " [14] top-level scope",
      "    @ In[12]:9",
      " [15] eval",
      "    @ .\\boot.jl:368 [inlined]",
      " [16] include_string(mapexpr::typeof(REPL.softscope), mod::Module, code::String, filename::String)",
      "    @ Base .\\loading.jl:1428"
     ]
    }
   ],
   "source": [
    "println(\"Retrieving gameplay data\")\n",
    "\n",
    "db = SQLite.DB(\"archived/data/punish_data.db\")\n",
    "#Initialize connection to database.\n",
    "\n",
    "training_breaths = DBInterface.execute(db,training_breaths_query) |> DataFrame\n",
    "println(\"\"\"Data contain $(nrow(training_breaths)) breaths.\"\"\")\n",
    "\n",
    "n_starting_states = sum(1 for state in unique(training_breaths[:,\"state\"]) if state in STARTING_STATES)\n",
    "println(\"\"\"$(n_starting_states) of $(length(STARTING_STATES)) possible starting states ($(\n",
    "    round(100*n_starting_states/length(STARTING_STATES),digits=2))%).\"\"\")\n",
    "\n",
    "println(\"\"\"$(length(unique(training_breaths[:,\"state\"]))) distinct states of $(\n",
    "    length(STATE_SPACE)) possible states visited ($(\n",
    "    round(100*length(unique(training_breaths[:,\"state\"]))/length(STATE_SPACE),digits=2)\n",
    "    )% of state space).\"\"\")\n",
    "\n",
    "DBInterface.close!(db)"
   ]
  },
  {
   "cell_type": "code",
   "execution_count": 31,
   "id": "ecc3d2b1",
   "metadata": {},
   "outputs": [
    {
     "data": {
      "text/plain": [
       "(5361, 18)"
      ]
     },
     "execution_count": 31,
     "metadata": {},
     "output_type": "execute_result"
    }
   ],
   "source": [
    "training_state_matrix = vcat([\n",
    "    transpose(state_int2vector(state)) for state in unique(training_breaths[:,\"state\"])]...\n",
    "    #Reverse the digits so the first component is breath number; transpose observations \n",
    "    #into row-vectors. Multiply by 1.0 so vectors are float-valued.\n",
    ")\n",
    "size(training_states)"
   ]
  },
  {
   "cell_type": "markdown",
   "id": "b90e4172",
   "metadata": {},
   "source": [
    "# PARLESS"
   ]
  },
  {
   "cell_type": "code",
   "execution_count": 22,
   "id": "56b3c99b",
   "metadata": {},
   "outputs": [
    {
     "name": "stdout",
     "output_type": "stream",
     "text": [
      "Performing PARLESS reweighting"
     ]
    },
    {
     "name": "stderr",
     "output_type": "stream",
     "text": [
      "\r",
      "\u001b[32mProgress:   0%|█                                        |  ETA: 0:10:32\u001b[39m"
     ]
    },
    {
     "name": "stdout",
     "output_type": "stream",
     "text": [
      "\n"
     ]
    },
    {
     "name": "stderr",
     "output_type": "stream",
     "text": [
      "\u001b[32mProgress: 100%|█████████████████████████████████████████| Time: 0:00:00\u001b[39m\n"
     ]
    }
   ],
   "source": [
    "parless_strategies = Dict{Int64,Dict{Int64,Float64}}()\n",
    "\n",
    "if model[\"parless\"][\"enabled\"]\n",
    "    println(\"Performing PARLESS reweighting\")  \n",
    "    \n",
    "        @showprogress for state in unique(training_breaths[:,\"state\"])\n",
    "            action_counts = countmap(\n",
    "                training_breaths[training_breaths[:,\"state\"].==state,\"action\"]\n",
    "            )\n",
    "            actions = possible_actions(state)\n",
    "            dirichlet_posterior = Dict(\n",
    "                action => get(action_counts,action,0)+model[\"parless\"][\"prior-pseudocounts\"]/\n",
    "                    length(actions) for action in actions\n",
    "            )\n",
    "            sum_pseudocounts = sum(values(dirichlet_posterior))\n",
    "            categorical_posterior = Dict(\n",
    "                action => pseudocounts/sum_pseudocounts \n",
    "                for (action,pseudocounts) in dirichlet_posterior\n",
    "            )\n",
    "            parless_strategies[state] = categorical_posterior\n",
    "        end\n",
    "end"
   ]
  },
  {
   "cell_type": "code",
   "execution_count": 29,
   "id": "04db7ece",
   "metadata": {},
   "outputs": [],
   "source": [
    "training_strategy_matrix = vcat([\n",
    "    transpose(strategy_dict2vector(parless_strategies[state])) \n",
    "    for state in unique(training_breaths[:,\"state\"])]...\n",
    "    #Match strategy vectors to their corresponding states.\n",
    ");"
   ]
  },
  {
   "cell_type": "markdown",
   "id": "1dd200e5",
   "metadata": {},
   "source": [
    "# PAWNN"
   ]
  },
  {
   "cell_type": "code",
   "execution_count": 50,
   "id": "fbf70392",
   "metadata": {},
   "outputs": [
    {
     "name": "stdout",
     "output_type": "stream",
     "text": [
      "Initializing PAWNN network\n"
     ]
    }
   ],
   "source": [
    "println(\"Initializing PAWNN network\")\n",
    "\n",
    "Random.seed!(config[\"pawnn\"][\"random-seed\"])\n",
    "pawnn_network = Chain(\n",
    "    (eval(Meta.parse(layer)) for layer in model[\"pawnn\"][\"network-structure\"])...\n",
    ")\n",
    "loss(x,y) = eval(Meta.parse(model[\"pawnn\"][\"loss-metric\"]))(pawnn_network(x), y)\n",
    "optimizer = eval(Meta.parse(model[\"pawnn\"][\"optimizer\"]));\n",
    "#Initialize the model."
   ]
  },
  {
   "cell_type": "code",
   "execution_count": 53,
   "id": "1dd7b217",
   "metadata": {},
   "outputs": [
    {
     "data": {
      "text/plain": [
       "Chain(\n",
       "  Dense(18 => 36, relu),                \u001b[90m# 684 parameters\u001b[39m\n",
       "  Dropout(0.5),\n",
       "  Dense(36 => 24, relu),                \u001b[90m# 888 parameters\u001b[39m\n",
       "  Dense(24 => 16, relu),                \u001b[90m# 400 parameters\u001b[39m\n",
       "  Dense(16 => 11),                      \u001b[90m# 187 parameters\u001b[39m\n",
       "  NNlib.softmax,\n",
       ") \u001b[90m                  # Total: 8 arrays, \u001b[39m2_159 parameters, 8.965 KiB."
      ]
     },
     "execution_count": 53,
     "metadata": {},
     "output_type": "execute_result"
    }
   ],
   "source": [
    "pawnn_network"
   ]
  },
  {
   "cell_type": "code",
   "execution_count": 51,
   "id": "6f6dbc1c",
   "metadata": {},
   "outputs": [
    {
     "name": "stdout",
     "output_type": "stream",
     "text": [
      "Training PAWNN network\n"
     ]
    },
    {
     "ename": "LoadError",
     "evalue": "Can't differentiate foreigncall expression $(Expr(:foreigncall, :(:jl_toplevel_eval_in), Any, svec(Any, Any), 0, :(:ccall), %2, %3)).\nYou might want to check the Zygote limitations documentation.\nhttps://fluxml.ai/Zygote.jl/latest/limitations\n",
     "output_type": "error",
     "traceback": [
      "Can't differentiate foreigncall expression $(Expr(:foreigncall, :(:jl_toplevel_eval_in), Any, svec(Any, Any), 0, :(:ccall), %2, %3)).\nYou might want to check the Zygote limitations documentation.\nhttps://fluxml.ai/Zygote.jl/latest/limitations\n",
      "",
      "Stacktrace:",
      "  [1] error(s::String)",
      "    @ Base .\\error.jl:35",
      "  [2] Pullback",
      "    @ .\\boot.jl:368 [inlined]",
      "  [3] (::typeof(∂(eval)))(Δ::Nothing)",
      "    @ Zygote C:\\Users\\epics\\.julia\\packages\\Zygote\\SmJK6\\src\\compiler\\interface2.jl:0",
      "  [4] Pullback",
      "    @ .\\client.jl:478 [inlined]",
      "  [5] (::typeof(∂(eval)))(Δ::Nothing)",
      "    @ Zygote C:\\Users\\epics\\.julia\\packages\\Zygote\\SmJK6\\src\\compiler\\interface2.jl:0",
      "  [6] Pullback",
      "    @ .\\In[50]:7 [inlined]",
      "  [7] (::typeof(∂(loss)))(Δ::Float64)",
      "    @ Zygote C:\\Users\\epics\\.julia\\packages\\Zygote\\SmJK6\\src\\compiler\\interface2.jl:0",
      "  [8] (::Zygote.var\"#208#209\"{Tuple{Tuple{Nothing, Nothing}}, typeof(∂(loss))})(Δ::Float64)",
      "    @ Zygote C:\\Users\\epics\\.julia\\packages\\Zygote\\SmJK6\\src\\lib\\lib.jl:206",
      "  [9] (::Zygote.var\"#2066#back#210\"{Zygote.var\"#208#209\"{Tuple{Tuple{Nothing, Nothing}}, typeof(∂(loss))}})(Δ::Float64)",
      "    @ Zygote C:\\Users\\epics\\.julia\\packages\\ZygoteRules\\AIbCs\\src\\adjoint.jl:67",
      " [10] Pullback",
      "    @ C:\\Users\\epics\\.julia\\packages\\Flux\\nJ0IB\\src\\optimise\\train.jl:132 [inlined]",
      " [11] (::typeof(∂(λ)))(Δ::Float64)",
      "    @ Zygote C:\\Users\\epics\\.julia\\packages\\Zygote\\SmJK6\\src\\compiler\\interface2.jl:0",
      " [12] (::Zygote.var\"#99#100\"{Zygote.Params{Zygote.Buffer{Any, Vector{Any}}}, typeof(∂(λ)), Zygote.Context{true}})(Δ::Float64)",
      "    @ Zygote C:\\Users\\epics\\.julia\\packages\\Zygote\\SmJK6\\src\\compiler\\interface.jl:389",
      " [13] withgradient(f::Function, args::Zygote.Params{Zygote.Buffer{Any, Vector{Any}}})",
      "    @ Zygote C:\\Users\\epics\\.julia\\packages\\Zygote\\SmJK6\\src\\compiler\\interface.jl:133",
      " [14] macro expansion",
      "    @ C:\\Users\\epics\\.julia\\packages\\Flux\\nJ0IB\\src\\optimise\\train.jl:131 [inlined]",
      " [15] macro expansion",
      "    @ C:\\Users\\epics\\.julia\\packages\\ProgressLogging\\6KXlp\\src\\ProgressLogging.jl:328 [inlined]",
      " [16] train!(loss::Function, ps::Zygote.Params{Zygote.Buffer{Any, Vector{Any}}}, data::Base.Iterators.Zip{Tuple{Base.Generator{Base.OneTo{Int64}, Base.var\"#239#240\"{Matrix{Float64}}}, Base.Generator{Base.OneTo{Int64}, Base.var\"#239#240\"{Matrix{Real}}}}}, opt::Adam; cb::Flux.Optimise.var\"#38#41\")",
      "    @ Flux.Optimise C:\\Users\\epics\\.julia\\packages\\Flux\\nJ0IB\\src\\optimise\\train.jl:129",
      " [17] train!(loss::Function, ps::Zygote.Params{Zygote.Buffer{Any, Vector{Any}}}, data::Base.Iterators.Zip{Tuple{Base.Generator{Base.OneTo{Int64}, Base.var\"#239#240\"{Matrix{Float64}}}, Base.Generator{Base.OneTo{Int64}, Base.var\"#239#240\"{Matrix{Real}}}}}, opt::Adam)",
      "    @ Flux.Optimise C:\\Users\\epics\\.julia\\packages\\Flux\\nJ0IB\\src\\optimise\\train.jl:125",
      " [18] macro expansion",
      "    @ .\\In[51]:4 [inlined]",
      " [19] top-level scope",
      "    @ C:\\Users\\epics\\.julia\\packages\\ProgressMeter\\sN2xr\\src\\ProgressMeter.jl:938",
      " [20] eval",
      "    @ .\\boot.jl:368 [inlined]",
      " [21] include_string(mapexpr::typeof(REPL.softscope), mod::Module, code::String, filename::String)",
      "    @ Base .\\loading.jl:1428"
     ]
    }
   ],
   "source": [
    "println(\"Training PAWNN network\")\n",
    "\n",
    "@showprogress for epoch in 1:model[\"pawnn\"][\"n-epochs\"]\n",
    "    Flux.train!(\n",
    "        loss,\n",
    "        Flux.params(pawnn),\n",
    "        zip(\n",
    "            eachrow(training_state_matrix),\n",
    "            eachrow(training_strategy_matrix)\n",
    "            #The `eachrow` calls are essentiall; otherwise, `zip` doesn't know\n",
    "            #what to pair up.\n",
    "        ), \n",
    "        optimizer\n",
    "    )\n",
    "end\n",
    "#Train the model."
   ]
  },
  {
   "cell_type": "code",
   "execution_count": 27,
   "id": "c6c7b16a",
   "metadata": {},
   "outputs": [
    {
     "name": "stdout",
     "output_type": "stream",
     "text": [
      "Training PAWNN network\n"
     ]
    },
    {
     "ename": "LoadError",
     "evalue": "UndefVarError: training_strategies not defined",
     "output_type": "error",
     "traceback": [
      "UndefVarError: training_strategies not defined",
      "",
      "Stacktrace:",
      " [1] macro expansion",
      "   @ .\\In[27]:5 [inlined]",
      " [2] top-level scope",
      "   @ C:\\Users\\epics\\.julia\\packages\\ProgressMeter\\sN2xr\\src\\ProgressMeter.jl:938",
      " [3] eval",
      "   @ .\\boot.jl:368 [inlined]",
      " [4] include_string(mapexpr::typeof(REPL.softscope), mod::Module, code::String, filename::String)",
      "   @ Base .\\loading.jl:1428"
     ]
    }
   ],
   "source": [
    "    \n",
    "    open(CONFIG[\"neural-networks\"][\"general-pawnn\"][\"filepath\"],\"w\") do f\n",
    "        JSON.print(f,[layer_params for layer_params in Flux.params(general_pawnn_network)])\n",
    "        #Parameters are formatted as a vector of matrices. Each matrix is serialized as a list\n",
    "        #of column vectors. \n",
    "    end\n",
    "    save_run_times()\n",
    "    #Save results.\n",
    "\n",
    "println(\"\"\"Run time: $(round(run_times[\"neural-net-training\"][\"general-final-model\"]/60,digits=2)) min\"\"\")\n",
    "println(\"\"\"MSE: $(mean(loss.(eachrow(general_training_states),eachrow(general_training_strategies))) )\"\"\")"
   ]
  },
  {
   "cell_type": "markdown",
   "id": "b1e43dbb",
   "metadata": {},
   "source": [
    "# Transition Mapping"
   ]
  },
  {
   "cell_type": "code",
   "execution_count": 173,
   "id": "dbb03102",
   "metadata": {},
   "outputs": [
    {
     "name": "stdout",
     "output_type": "stream",
     "text": [
      "Calculating state-action transition probabilities: \n"
     ]
    },
    {
     "name": "stderr",
     "output_type": "stream",
     "text": [
      "\u001b[30m 100%|███████████████████████████████████████████████████| Time: 0:38:35\u001b[39m\u0000\u0000\u0000\u0000\u0000\u0000\u0000\u0000\u0000\u0000\u0000\u0000\u0000\u0000\u0000\u0000\u0000\u0000\u0000\u0000\u0000\u0000\u0000\u0000\u0000\u0000\u0000\u0000\u0000\u0000\u0000\u0000\u0000\u0000\u0000\u0000\u0000\u0000\u0000\u0000\u0000\u0000\u0000\u0000\u0000\u0000\u0000\u0000\u0000\u0000\u0000\u0000\u0000\u0000\u0000\u0000\u0000\u0000\u0000\u0000\u0000\u0000\u0000\u0000\u0000\u0000\u0000\u0000\u0000\u0000\u0000\u0000\u0000\u0000\u0000\u000008\u001b[39m\u001b[30m  23%|████████████                                       |  ETA: 0:14:55\u001b[39m\n"
     ]
    }
   ],
   "source": [
    "println(\"Calculating state-action transition probabilities: \");\n",
    "\n",
    "progress = Progress(length(STATE_SPACE))\n",
    "\n",
    "transitions = ThreadsX.mapreduce(\n",
    "    state -> begin next!(progress); return Dict(state=>transitionmap(state)) end,\n",
    "    merge,\n",
    "    STATE_SPACE;\n",
    "    init = Dict{Int64, Dict{Int64, Dict{Int64, Float64}}}()\n",
    "    #Must specify initial value as an empty dict.\n",
    ");"
   ]
  },
  {
   "cell_type": "markdown",
   "id": "a06efa50",
   "metadata": {},
   "source": [
    "# Value Iteration"
   ]
  }
 ],
 "metadata": {
  "@webio": {
   "lastCommId": null,
   "lastKernelId": null
  },
  "kernelspec": {
   "display_name": "Julia 8 Threads 1.8.0",
   "language": "julia",
   "name": "julia-8-threads-1.8"
  },
  "language_info": {
   "file_extension": ".jl",
   "mimetype": "application/julia",
   "name": "julia",
   "version": "1.8.0"
  }
 },
 "nbformat": 4,
 "nbformat_minor": 5
}
