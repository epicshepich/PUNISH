{
 "cells": [
  {
   "cell_type": "markdown",
   "id": "c30c0ae1",
   "metadata": {},
   "source": [
    "# Playing Punish with Reinforcement Learning\n",
    "### Jim Shepich III\n",
    "### Updated: 10 October 2022\n",
    "### Time Required: 23 hours 33  minutes"
   ]
  },
  {
   "cell_type": "markdown",
   "id": "376ee6cc",
   "metadata": {},
   "source": [
    "# Contents <a id=\"contents\"></a>"
   ]
  },
  {
   "cell_type": "markdown",
   "id": "9c231906",
   "metadata": {},
   "source": [
    "- [Import Packages](#import-packages)\n",
    "- [Notebook Settings](#config)\n",
    "- [Representing Game States](#states)\n",
    "- [Representing Actions](#actions)\n",
    "- [Simulating the Game Environment](#environment)\n",
    "- [Enumerating State Space](#state-space)\n",
    "- [Modeling Enemy Strategies](#enemy-strategies)\n",
    "    - [Summary of Empirical Strategic Data](#data-summary)\n",
    "    - [Possible Actions Reweighted by Limited Empirical Strategic Samples (PARLESS)](#parless)\n",
    "    - [PARLESS Augmented With Neural Networks (PAWNN)](#pawnn)\n",
    "- [Enumerating State-Action Transition Probabilities](#transitions)\n",
    "    - [Naïve Transition Probabilities](#naive-transitions)\n",
    "- [Implementation of Value Iteration](#value-iteration)\n",
    "- [Agent Training](#training)\n",
    "    - [Naïve Agent](#naive-agent)"
   ]
  },
  {
   "cell_type": "markdown",
   "id": "84ca0a36",
   "metadata": {},
   "source": [
    "# Import Packages <a name=\"import-packages\"></a>\n",
    "### [↑ Contents](#contents)"
   ]
  },
  {
   "cell_type": "code",
   "execution_count": 110,
   "id": "01c60f5e",
   "metadata": {},
   "outputs": [],
   "source": [
    "using Combinatorics\n",
    "using StatsBase\n",
    "using Random\n",
    "using JSON\n",
    "using BenchmarkTools\n",
    "using Plots; gr()\n",
    "using StatsPlots\n",
    "using WebIO\n",
    "using SQLite\n",
    "using DataFrames"
   ]
  },
  {
   "cell_type": "markdown",
   "id": "02d84af6",
   "metadata": {},
   "source": [
    "# Notebook Settings <a name=\"config\"></a>\n",
    "### [↑ Contents](#contents)"
   ]
  },
  {
   "cell_type": "markdown",
   "id": "c9a1903c",
   "metadata": {},
   "source": [
    "This section allows a user to configure the setttings of this notebook. For the most part, it will allow you to toggle between generating results or loading them from a file on disk, as well as set model hyperparameters."
   ]
  },
  {
   "cell_type": "code",
   "execution_count": 66,
   "id": "28783467",
   "metadata": {},
   "outputs": [
    {
     "data": {
      "text/plain": [
       "Dict{String, Any} with 4 entries:\n",
       "  \"value-iteration\"          => Dict{String, Dict{String, Any}}(\"naive\"=>Dict(\"…\n",
       "  \"transition-probabilities\" => Dict{String, Dict{String, Any}}(\"naive\"=>Dict(\"…\n",
       "  \"state-space\"              => Dict{String, Any}(\"generate\"=>false, \"filepath\"…\n",
       "  \"training-cutoff\"          => 1668358800"
      ]
     },
     "execution_count": 66,
     "metadata": {},
     "output_type": "execute_result"
    }
   ],
   "source": [
    "CONFIG = Dict(\n",
    "    \"state-space\" => Dict(\n",
    "        \"generate\" => false,\n",
    "        \"filepath\" => \"statespace.json\"\n",
    "    ),\n",
    "    \"training-cutoff\" => 1668358800,\n",
    "    #Specifies the last game ID used for training \n",
    "    #(use to ensure analysis of training data is accurate).\n",
    "    \"transition-probabilities\" => Dict(\n",
    "        \"naive\" => Dict(\"generate\"=>false,\"filepath\"=>\"naive_transitions.json\"),\n",
    "        \"parless\" => Dict(\"generate\"=>true,\"filepath\"=>\"parless_transitions.json\"),\n",
    "        \"pawnn\" => Dict(\"generate\"=>true,\"filepath\"=>\"pawnn_transitions.json\")\n",
    "    ),\n",
    "    \"value-iteration\" => Dict(\n",
    "        \"naive\" => Dict(\"generate\"=>false,\"episodes\"=>0,\"filepath\"=>\"q_naive.json\")\n",
    "    )\n",
    ")"
   ]
  },
  {
   "cell_type": "markdown",
   "id": "f1a7da44",
   "metadata": {},
   "source": [
    "JSON only allows keys to be strings. This is a bit of a problem, since our transition probability maps and state-action value functions are nested dictionaries with integer keys. Rather than converting encoded states and actions to strings when performing lookups, which will be an inefficiency that really adds up, we'll just create a recursive function to parse the keys of these JSON-serialized dictionaries as integers."
   ]
  },
  {
   "cell_type": "code",
   "execution_count": 3,
   "id": "bf8b0626",
   "metadata": {},
   "outputs": [
    {
     "data": {
      "text/plain": [
       "strkeys2int (generic function with 2 methods)"
      ]
     },
     "execution_count": 3,
     "metadata": {},
     "output_type": "execute_result"
    }
   ],
   "source": [
    "function strkeys2int(d::Dict{String,Any})\n",
    "    \"\"\"This is a function that recursively converts the keys of a `Dict{String,Any}`\n",
    "    and its nested `Dict{String,Any}` values into `Int64` data.\"\"\"\n",
    "    return Dict(parse(Int64,key)=>strkeys2int(value) for (key,value) in d)\n",
    "    #Parse all keys as integers and then call this function on the value.\n",
    "    #If the value is a `Dict{String,Any}`, then its keys will be converted too;\n",
    "    #if not, the value will be left alone.\n",
    "end\n",
    "\n",
    "function strkeys2int(value::Any)\n",
    "    return value\n",
    "end"
   ]
  },
  {
   "cell_type": "code",
   "execution_count": 4,
   "id": "b0888d83",
   "metadata": {},
   "outputs": [
    {
     "data": {
      "text/plain": [
       "Dict{String, Any} with 1 entry:\n",
       "  \"naive\" => Any[675.507, 695.864, 699.245, 694.724, 676.924, 653.037, 631.188,…"
      ]
     },
     "execution_count": 4,
     "metadata": {},
     "output_type": "execute_result"
    }
   ],
   "source": [
    "training_log = JSON.parsefile(\"training_log.json\",use_mmap=false)"
   ]
  },
  {
   "cell_type": "markdown",
   "id": "7455169e",
   "metadata": {},
   "source": [
    "# Representing Game States <a id=\"states\"></a>\n",
    "### [↑ Contents](#contents)"
   ]
  },
  {
   "cell_type": "markdown",
   "id": "7d9a5bd5",
   "metadata": {},
   "source": [
    "In a standard, two-player game of Punish, the game state consists of the following attributes:\n",
    "\n",
    "- The cards in the two players' hands\n",
    "- The cards that are showing (cards that have been played and the two cards that have been revealed)\n",
    "- The cards that are face-down in the deck (which can potentially be played via the Feint action)\n",
    "- Whether or not each player has already feinted\n",
    "- Whether or not each player is exhausted from using the Punish action\n",
    "- Both players' HP totals\n",
    "- The breath number \n",
    "\n",
    "Although the measure number is also an aspect of the game state, we will exclude it from our modeling because although measure number may have an impact on how a player's attitudes toward taking risks evolves, it does not change the mechanics of the game. Because a game of Punish can theoretically last for an indefinite number of measures (much like Rock-Paper-Scissors), it is necessary that we exclude measure number in order to have a finite state space.\n",
    "\n",
    "We will design our model to support an agent with the limited perspective of a single player. This means that instead of seeing the specific cards in the opponent's hand and the deck, the agent will only be able to see the number of cards in each. Additionally, since the number of face-down cards in the deck can be determined based on feinting status, we don't need to include it in the state. "
   ]
  },
  {
   "cell_type": "markdown",
   "id": "52a9df3c",
   "metadata": {},
   "source": [
    "In the next cell, we create a custom structure in which to store a game state. For convenience, we will use `NamedTuple` structures to store the number of each card type in the player's hand, the player's status conditions, enemy's status conditions and hand size, and number of each card type in the discard pile. \n",
    "\n",
    "Victory and loss states will be singleton structures."
   ]
  },
  {
   "cell_type": "code",
   "execution_count": 5,
   "id": "7126d301",
   "metadata": {},
   "outputs": [],
   "source": [
    "abstract type PunishState end\n",
    "\n",
    "struct DuelingState <: PunishState\n",
    "    breath::Int64\n",
    "    hand::NamedTuple{(:guard, :rush, :dodge, :strike, :punish), NTuple{5, Int64}}\n",
    "    status::NamedTuple{(:hp, :exhausted, :feinted), Tuple{Int64, Bool, Bool}}\n",
    "    enemy::NamedTuple{(:hp, :hand_size, :exhausted, :feinted), Tuple{Int64, Int64, Bool, Bool}}\n",
    "    discard::NamedTuple{(:guard, :rush, :dodge, :strike, :punish), NTuple{5, Int64}}\n",
    "end \n",
    "\n",
    "struct WinState <: PunishState end\n",
    "struct LossState <: PunishState end"
   ]
  },
  {
   "cell_type": "markdown",
   "id": "a79bb09e",
   "metadata": {},
   "source": [
    "Although a struct with `NamedTuple` fields is convenient to work with, it is not a memory-efficient data structure to use in the state-action value function, which we will represent with a lookup table. So, in the next cell, we will implement functions to encode the game state as an integer and decode a game state from such an integer. We will encode a win as -1 and a loss as -2; all dueling states will be encoded as positive integers."
   ]
  },
  {
   "cell_type": "code",
   "execution_count": 6,
   "id": "9a529743",
   "metadata": {},
   "outputs": [
    {
     "data": {
      "text/plain": [
       "decode_state (generic function with 1 method)"
      ]
     },
     "execution_count": 6,
     "metadata": {},
     "output_type": "execute_result"
    }
   ],
   "source": [
    "function encode_state(state::DuelingState)\n",
    "    \"\"\"This function encodes a `DuelingState` structure as an integer in which each digit\n",
    "    corresponds to an attribute of the game state.\"\"\"\n",
    "    digit_list = vcat(\n",
    "        [state.breath],\n",
    "        [card for card in state.hand],\n",
    "        [Int(stat) for stat in state.status],\n",
    "        [Int(stat) for stat in state.enemy],\n",
    "        [card for card in state.discard]\n",
    "    )\n",
    "    #Sequentially add each attribute of the game state to a list of digits.\n",
    "    return sum([digit*10^(i-1) for (i, digit) in enumerate(reverse(digit_list))])\n",
    "    #Convert the list of digits into an integer by multiplying each digit by the \n",
    "    #next power of 10 and adding them all together. Reverse the array so that\n",
    "    #the first digit in the array gets multiplied by the largest power of 10\n",
    "    #and becomes the leftmost digit in the resulting integer.\n",
    "end\n",
    "\n",
    "function encode_state(state::WinState)\n",
    "    return -1\n",
    "    #Encode a winning state as -1.\n",
    "end\n",
    "\n",
    "function encode_state(state::LossState)\n",
    "     return -2\n",
    "    #Encode a losing state as -2.\n",
    "end\n",
    "\n",
    "\n",
    "function decode_state(coding::Int64)\n",
    "    \"\"\"This function decodes a game state that has been\n",
    "    encoded as an integer and returns a `DuelingState` structure.\"\"\"\n",
    "    if coding < 0\n",
    "        return [WinState(),LossState()][abs(coding)]\n",
    "    end\n",
    "    digit_list = reverse(digits(coding))\n",
    "    #Convert the encoding into an array of digits, and reverse it so\n",
    "    #that the leftmost digit is the first entry in the array.\n",
    "    state = DuelingState(\n",
    "        digit_list[1],\n",
    "        (\n",
    "            guard=digit_list[2], \n",
    "            rush=digit_list[3], \n",
    "            dodge=digit_list[4], \n",
    "            strike=digit_list[5], \n",
    "            punish=digit_list[6]\n",
    "        ),\n",
    "        (\n",
    "            hp=digit_list[7],\n",
    "            exhausted=Bool(digit_list[8]),\n",
    "            feinted=Bool(digit_list[9])\n",
    "        ),\n",
    "        (\n",
    "            hp=digit_list[10], \n",
    "            hand_size=digit_list[11],\n",
    "            exhausted=Bool(digit_list[12]),\n",
    "            feinted=Bool(digit_list[13])\n",
    "        ),\n",
    "        (\n",
    "            guard=digit_list[14], \n",
    "            rush=digit_list[15], \n",
    "            dodge=digit_list[16], \n",
    "            strike=digit_list[17], \n",
    "            punish=digit_list[18]\n",
    "        )\n",
    "    )\n",
    "end"
   ]
  },
  {
   "cell_type": "markdown",
   "id": "0eb7c74e",
   "metadata": {},
   "source": [
    "Just in case, we will define a dispatch of the `==` operator to compare a pair of `PunishState`s. Turns out that we can easily compare a pair of `PunishState` objects by comparing their integer encodings."
   ]
  },
  {
   "cell_type": "code",
   "execution_count": 7,
   "id": "eb3f0e9c",
   "metadata": {},
   "outputs": [],
   "source": [
    "Base.:(==)(x::PunishState, y::PunishState) = encode_state(x) == encode_state(y)"
   ]
  },
  {
   "cell_type": "markdown",
   "id": "5a6f9631",
   "metadata": {},
   "source": [
    "# Representing Actions <a id=\"actions\"></a>\n",
    "### [↑ Contents](#contents)"
   ]
  },
  {
   "cell_type": "markdown",
   "id": "ad938843",
   "metadata": {},
   "source": [
    "Now, we need to decicde how we will represent actions. There are no more than 10 unique actions that can be taken in the game of Punish: play one of any of the 5 card types, or feint with one of those cards. I think that it will be most convenient to work with actions that are represented as `(card::Symbol, feint::Bool)` pairs. However, for memory efficiency, we will encode these pairs as a two-digit integer in which the first digit identifies the card and the second digit indicates whether or not that card is used for a feint.\n",
    "\n",
    "Importantly, if a player is exhausted, then they may not take any actions. We will use the `(:rest,:false)` tuple for this \"action\", which we will encode numerically as `90`."
   ]
  },
  {
   "cell_type": "code",
   "execution_count": 8,
   "id": "614ede41",
   "metadata": {},
   "outputs": [
    {
     "data": {
      "text/plain": [
       "decode_action (generic function with 1 method)"
      ]
     },
     "execution_count": 8,
     "metadata": {},
     "output_type": "execute_result"
    }
   ],
   "source": [
    "function encode_action(action::Tuple{Symbol,Bool})\n",
    "    \"\"\"This function takes an action represented as a (card, is_feint) tuple and \n",
    "    encodes it as an integer in which the first digit represents the card used and\n",
    "    the second represents whether or not the action is a feint.\n",
    "    \"\"\"\n",
    "    card_identifiers = (guard=1,rush=2,dodge=3,strike=4,punish=5,rest=9)\n",
    "    #Encode cards as their priority +1; encode a \"rest\"/the nothing card as a 9.\n",
    "    return card_identifiers[action[1]]*10+Int(action[2])\n",
    "end\n",
    "\n",
    "function decode_action(coding::Int)\n",
    "    \"\"\"This function decodes an action encoded as an integer back into a (card,is_feint) tuple.\"\"\"\n",
    "    card_identifiers = Dict(1=>:guard,2=>:rush,3=>:dodge,4=>:strike,5=>:punish,9=>:rest)\n",
    "    card = card_identifiers[digits(coding)[2]]\n",
    "    feint = Bool(digits(coding)[1])\n",
    "    return (card,feint)\n",
    "end"
   ]
  },
  {
   "cell_type": "code",
   "execution_count": 9,
   "id": "4a046ee6",
   "metadata": {},
   "outputs": [
    {
     "data": {
      "text/plain": [
       "possible_actions (generic function with 4 methods)"
      ]
     },
     "execution_count": 9,
     "metadata": {},
     "output_type": "execute_result"
    }
   ],
   "source": [
    "function possible_actions(state::DuelingState)\n",
    "    \"\"\"This function returns an encoded list of the possible actions\n",
    "    that can be taken by the player from a given state.\"\"\"\n",
    "    actions = []\n",
    "    if (state.status.exhausted) || (state.breath==5)\n",
    "        return [encode_action((:rest,false))]\n",
    "        #When the player is exhausted, the only action they can take\n",
    "        #is rest (which by definition does not involve a feint).\n",
    "        #Use Rest without reint as a sentinel action for intermediary\n",
    "        #\"Breath 5\" states.\n",
    "    end\n",
    "    \n",
    "    for (card,count) in pairs(state.hand)\n",
    "        if count == 0 \n",
    "            continue\n",
    "        else\n",
    "            push!(actions,encode_action((card,false)))\n",
    "            #The player can play any card that they hold at least 1 of.\n",
    "            if !state.status.feinted\n",
    "                push!(actions,encode_action((card,true)))\n",
    "                #If they have not already feinted this breath, they also \n",
    "                #have the option of discarding that card to perform a feint.\n",
    "            end\n",
    "        end\n",
    "    end\n",
    "    return actions\n",
    "end\n",
    "\n",
    "function possible_actions(state::Int)\n",
    "     return possible_actions(decode_state(state))\n",
    "end\n",
    "\n",
    "function possible_actions(state::WinState)\n",
    "     return [90]\n",
    "end\n",
    "\n",
    "function possible_actions(state::LossState)\n",
    "     return [90]\n",
    "end\n",
    "#Use Rest without feint as a sentinel action for Win/Loss states."
   ]
  },
  {
   "cell_type": "markdown",
   "id": "227dd9d7",
   "metadata": {},
   "source": [
    "# Simulating the Game Environment <a id=\"environment\"></a>\n",
    "### [↑ Contents](#contents)"
   ]
  },
  {
   "cell_type": "markdown",
   "id": "0463ec0e",
   "metadata": {},
   "source": [
    "In this section, we will create the functions that implement our representation of the overall game environment. In RL problems, the environment is typically modeled as a Markov Decision Process (MDP) — a model in which at any state, an agent can choose from some set of actions that will influence the probabilities of transitioning to different states, and the set of possible actions and transition probabilities from any given state are fixed. In other words, the actions and transition probabilities are a state function rather than a path function.\n",
    "\n",
    "Treating PUNISH as an MDP is a bit of an oversimplification because throughout the course of a Measure, you gain information about what is in the opponent's hand. The most clear example is that if you play a Punish against a Dodge and the enemy does not follow up with a Punish, you know that they do not have a Punish in hand. Additionally, if both players feint and do not use Punish until the last measure, you know with certainty the single card that is in the enemy's hand.\n",
    "\n",
    "Now, if I were to include this information in the game state, there would be less bias in treating the game as an MDP. However, I made the command decision that the benefit of including this information is outweighed by the increase in the size of the state space that would result from it. "
   ]
  },
  {
   "cell_type": "code",
   "execution_count": 10,
   "id": "1436b805",
   "metadata": {},
   "outputs": [
    {
     "data": {
      "text/plain": [
       "ΔHP (generic function with 1 method)"
      ]
     },
     "execution_count": 10,
     "metadata": {},
     "output_type": "execute_result"
    }
   ],
   "source": [
    "function ΔHP(cards::NamedTuple{(:player,:enemy),Tuple{Symbol,Symbol}})\n",
    "    \"\"\"This function computes the change in HP incurred by each player\n",
    "    when a pair of cards is played. Priority is not taken into account here.\"\"\"\n",
    "    if cards.player == cards.enemy\n",
    "        return (player=0, enemy=0)\n",
    "        #No damage is dealt in a clash. \n",
    "    end\n",
    "    \n",
    "    damage_map = Dict(:rush=>1,:strike=>2,:punish=>3)\n",
    "    player_Δ = -get(damage_map,cards.enemy,0) *\n",
    "        #Base damage.\n",
    "        (cards.player==:dodge ? cards.enemy==:rush : 1) +\n",
    "        #Dodging reduces base damage from non-Rush attacks to 0.\n",
    "        (cards.player==:guard ? Int(cards.enemy in keys(damage_map)) : 0)\n",
    "        #Guarding reduces damage from any attacks by 1.\n",
    "    enemy_Δ = -get(damage_map,cards.player,0) *\n",
    "        #Base damage.\n",
    "        (cards.enemy==:dodge ? cards.player==:rush : 1) +\n",
    "        #Dodging reduces base damage from non-Rush attacks to 0.\n",
    "        (cards.enemy==:guard ? Int(cards.player in keys(damage_map)) : 0)\n",
    "        #Guarding reduces damage from any attacks by 1.\n",
    "    \n",
    "    return (player=player_Δ, enemy=enemy_Δ)\n",
    "    \n",
    "end"
   ]
  },
  {
   "cell_type": "code",
   "execution_count": 11,
   "id": "ae57d0a0",
   "metadata": {},
   "outputs": [
    {
     "data": {
      "text/plain": [
       "Dict{Symbol, Int64} with 6 entries:\n",
       "  :strike => 3\n",
       "  :dodge  => 2\n",
       "  :guard  => 0\n",
       "  :punish => 4\n",
       "  :rest   => -1\n",
       "  :rush   => 1"
      ]
     },
     "execution_count": 11,
     "metadata": {},
     "output_type": "execute_result"
    }
   ],
   "source": [
    "priority = Dict(\n",
    "    :rest => -1,\n",
    "    :guard => 0,\n",
    "    :rush => 1,\n",
    "    :dodge => 2,\n",
    "    :strike => 3,\n",
    "    :punish => 4\n",
    ")"
   ]
  },
  {
   "cell_type": "markdown",
   "id": "0b822eda",
   "metadata": {},
   "source": [
    "Before we continue, there is a quirk we must introduce into our model. After the fourth Breath of a Measure is resolved, if both players remain above 0 HP, the deck and the discard pile are shuffled together and are used to deal both players back up to 5 cards. This means that the successors of a Breath 4 state will be Breath 1 states (and Win/Loss states). \n",
    "\n",
    "In later sections, we compute transition probabilities for each (state,action) pair. Due to the overwhelmingly large cardinality of the set of possible Breath 4 states (>100k), we found it to be prohibitively inefficient to compute all possible re-dealings for that many Breath 4 states. To remedy this, we will use intermediary \"Breath 5\" states to represent game states after the actions taken in a fourth Breath are resolved but before the cards are redealt. Since status effects are cleared and players heal 1 HP (to a max of 3) between Measures, we will apply this in between Breath 4 and Breath 5 states, which will result in a smaller number of possible Breath 5 states over which redealing probabilities must be computed."
   ]
  },
  {
   "cell_type": "code",
   "execution_count": 12,
   "id": "1dfc8ecf",
   "metadata": {},
   "outputs": [
    {
     "data": {
      "text/plain": [
       "breath (generic function with 1 method)"
      ]
     },
     "execution_count": 12,
     "metadata": {},
     "output_type": "execute_result"
    }
   ],
   "source": [
    "function breath(\n",
    "    state::DuelingState,\n",
    "    picks::NamedTuple{(:player,:enemy),Tuple{Symbol,Symbol}},\n",
    "    feints::NamedTuple,\n",
    "    )\n",
    "    \"\"\"This function takes complete information about one Breath (i.e. the input state,\n",
    "    as well as both players' picked cards and the results of any feints) and returns the\n",
    "    successor state. \n",
    "    \n",
    "    This function is designed to be deterministic and single-valued. To that end, successors\n",
    "    of a fourth breath are returned as a single placeholder whose `breath` field is set to 5;\n",
    "    we will use a different function to compute all possible re-deals for the start of a new\n",
    "    measure.\n",
    "    \"\"\"\n",
    "    plays = (\n",
    "        player=isnothing(feints.player) ? picks.player : feints.player, \n",
    "        enemy=isnothing(feints.enemy) ? picks.enemy : feints.enemy\n",
    "    )\n",
    "    #Track the actual cards that are played \n",
    "    #(i.e. if feinting, the drawn card; otherwise, the picked card).\n",
    "    \n",
    "    successor = DuelingState(\n",
    "        state.breath + 1,\n",
    "        (; [(card,count-Int(card==picks.player)) for (card,count) in pairs(state.hand)]...),\n",
    "        #Whichever card was picked is removed from the hand.\n",
    "        (\n",
    "            hp = state.status.hp+ΔHP(plays).player,\n",
    "            #Compute the change in HP and apply it to the HP total.\n",
    "            exhausted = (plays.player==:punish),\n",
    "            #If the player played Punish this breath they become exhausted.\n",
    "            feinted = (!isnothing(feints.player)||state.status.feinted)\n",
    "            #The player has feinted if they feinted this breath or in a previous breath.\n",
    "        ),\n",
    "        (\n",
    "            hp = state.enemy.hp+ΔHP(plays).enemy, \n",
    "            hand_size = (state.enemy.hand_size-Int(plays.enemy!=:rest)),\n",
    "            #The enemy's hand size decreases by 1 unless they rested after a Punish.\n",
    "            exhausted= (plays.enemy==:punish),\n",
    "            feinted = (!isnothing(feints.enemy)||state.enemy.feinted)\n",
    "        ),\n",
    "        (; [(card,count+sum([picks...,feints...].==card)) \n",
    "            for (card,count) in pairs(state.discard)]...),\n",
    "        #For each card type in the discard pile, increment the count for every\n",
    "        #pick and every feint that matched that type this breath.  \n",
    "    )\n",
    "    \n",
    "    if successor.status.hp <= 0\n",
    "        if successor.enemy.hp <= 0\n",
    "            return priority[plays.player] < priority[plays.enemy] ? WinState() : LossState()\n",
    "            #If both players would be reduced to nonpositive HP this breath, the winner\n",
    "            #is determined by card priority.\n",
    "        else\n",
    "            return LossState()\n",
    "            #If just the player would be reduced to nonpositive HP, it is a loss.\n",
    "        end\n",
    "    elseif successor.enemy.hp <= 0\n",
    "        return WinState()\n",
    "        #If just the enemy would be reduced to nonpositive HP, it is a win.\n",
    "    else\n",
    "        if successor.breath == 5\n",
    "            successor = DuelingState(\n",
    "                successor.breath,\n",
    "                successor.hand,\n",
    "                (hp=min(3,successor.status.hp+1),exhausted=false,feinted=false),\n",
    "                (hp=min(3,successor.enemy.hp+1),hand_size=successor.enemy.hand_size,exhausted=false,feinted=false),\n",
    "                successor.discard\n",
    "            )\n",
    "            #When entering a Breath 5 state, both players heal 1 HP (to a max of 3),\n",
    "            #and status effects (feinted/exhausted) are cleared.\n",
    "        end\n",
    "        \n",
    "        return successor\n",
    "        #If both the player and the enemy have positive HP, then the duel continues.\n",
    "    end\n",
    "end"
   ]
  },
  {
   "cell_type": "code",
   "execution_count": 13,
   "id": "c81cf35c",
   "metadata": {},
   "outputs": [
    {
     "data": {
      "text/plain": [
       "redeal (generic function with 2 methods)"
      ]
     },
     "execution_count": 13,
     "metadata": {},
     "output_type": "execute_result"
    }
   ],
   "source": [
    "function redeal(state::DuelingState)\n",
    "    \"\"\"This function takes an end-of-measure (\"Breath 5\") state and returns a\n",
    "    dict mapping each possible beginning-of-new-measure state to its\n",
    "    probability of occuring based on a random redealing of cards.\"\"\"\n",
    "    successors = []\n",
    "    for draws in combinations(\n",
    "        vcat([repeat([card],count) for (card, count) in pairs(state.discard)]...),\n",
    "        5-sum(state.hand)\n",
    "    )\n",
    "        #Randomly draw a number of cards equal to the difference between 5 and your \n",
    "        #ending hand size from the cards visible in the discard pile.\n",
    "        \n",
    "        hand = (; [(card,count+sum(draws.==card)) for (card,count) in pairs(state.hand)]...)\n",
    "        #Add the drawn cards to the cards remaining in your hand at the end of the Breath.\n",
    "        \n",
    "        for discards in combinations(\n",
    "            vcat([repeat([card],count-sum(draws.==card)) for (card, count) in pairs(state.discard)]...),\n",
    "            3\n",
    "        )\n",
    "            #Randomly choose 3 cards to go face-up into the discard pile from the cards \n",
    "            #that remain after you've made your draws.\n",
    "            discard = (; [(card,sum(discards.==card)) for (card,count) in pairs(state.discard)]...)\n",
    "            #These three cards replace the old discard pile. The rest of the cards fill the \n",
    "            #enemy's hand and the face-down deck.\n",
    "            \n",
    "            successor = DuelingState(\n",
    "                1, #The first breath of a new measure.\n",
    "                hand,\n",
    "                (hp=state.status.hp,exhausted=false,feinted=false),\n",
    "                #Between measures, each player heals 1HP up to a maximum of 3,\n",
    "                #and status effects are removed.\n",
    "                (hp=state.enemy.hp,hand_size=5,exhausted=false,feinted=false),\n",
    "                discard\n",
    "            )\n",
    "            \n",
    "            push!(successors,encode_state(successor))\n",
    "        end\n",
    "    end\n",
    "    return proportionmap(successors)\n",
    "end\n",
    "\n",
    "\n",
    "function redeal(state::Int)\n",
    "    return redeal(decode_state(state))\n",
    "end"
   ]
  },
  {
   "cell_type": "code",
   "execution_count": 14,
   "id": "87ea5c73",
   "metadata": {},
   "outputs": [
    {
     "data": {
      "text/plain": [
       "enemy_states (generic function with 1 method)"
      ]
     },
     "execution_count": 14,
     "metadata": {},
     "output_type": "execute_result"
    }
   ],
   "source": [
    "function enemy_states(state::DuelingState)\n",
    "    \"\"\"This function takes a DuelingState based on the player's incomplete\n",
    "    information and returns a dict mapping each possible state of the enemy's\n",
    "    incomplete information to a probability based on card counts.\"\"\"\n",
    "    \n",
    "    enemy_states = []\n",
    "    \n",
    "    for enemy_hand in combinations(\n",
    "        vcat([repeat([card],3-state.hand[card]-state.discard[card]) for card in keys(state.discard)]...),\n",
    "        state.enemy.hand_size\n",
    "    )\n",
    "    #The enemy's hand could be any member of the set of all possible combinations of n cards chosen\n",
    "    #from whichever cards the player cannot see, where n is the enemy's hand size. \n",
    "        enemy_state = DuelingState(\n",
    "            state.breath,\n",
    "            (; [(card,sum(enemy_hand.==card)) for card in [:guard,:rush,:dodge,:strike,:punish]]...),\n",
    "            (hp=state.enemy.hp, exhausted=state.enemy.exhausted, feinted=state.enemy.feinted),\n",
    "            (\n",
    "                hp=state.status.hp,\n",
    "                hand_size=sum(state.hand),\n",
    "                exhausted=state.status.exhausted,\n",
    "                feinted=state.status.feinted\n",
    "            ),\n",
    "            state.discard\n",
    "        )\n",
    "        #Breath number, discard, and statuses are all common information. \n",
    "        push!(enemy_states,encode_state(enemy_state))\n",
    "    end\n",
    "    return proportionmap(enemy_states)\n",
    "    #Return normalized value counts of the possible enemy states.\n",
    "end"
   ]
  },
  {
   "cell_type": "code",
   "execution_count": 15,
   "id": "be1f74db",
   "metadata": {},
   "outputs": [
    {
     "data": {
      "text/plain": [
       "transitionmap (generic function with 4 methods)"
      ]
     },
     "execution_count": 15,
     "metadata": {},
     "output_type": "execute_result"
    }
   ],
   "source": [
    "function transitionmap(state::DuelingState,action::Tuple{Symbol,Bool}; empirical_strategies=Dict())\n",
    "    \"\"\"This function takes a `DuelingState` and an action tuple and\n",
    "    returns a dict mapping all possible successor states to the probability of \n",
    "    that successor resulting from taking the given action from the given state, i.e.\n",
    "    a dict of (successor, transition probability) pairs.\n",
    "    \n",
    "    The `empirical_strategies` keyword argument allows you to pass in a dictionary of \n",
    "    (state, action probability map) pairs corresponding to the enemy's empirically observed\n",
    "    mixed strategies (probability distribution over possible actions). For any states\n",
    "    not in the dictionary, a uniform distribution over all possible actions will be assumed.\n",
    "    \"\"\"\n",
    "    transitions = Dict{Int64,Float64}()\n",
    "    for (enemy_state,p_enemy_state) in enemy_states(state)\n",
    "        #Loop over all possible enemy hands. \n",
    "        enemy_actions = get(\n",
    "            empirical_strategies,\n",
    "            enemy_state,\n",
    "            Dict(enemy_action=>1/length(possible_actions(enemy_state)) \n",
    "                for enemy_action in possible_actions(enemy_state) )\n",
    "        )\n",
    "        #Look up the enemy's state in the empirical strategies dict. If the entry is missing,\n",
    "        #assume a uniform mixed strategy (equal probability of all possible actions).\n",
    "        \n",
    "        decoded_enemy_state = decode_state(enemy_state)\n",
    "        \n",
    "        for (enemy_action,p_enemy_action) in enemy_actions\n",
    "            #Loop over all possible enemy actions.\n",
    "            \n",
    "            deck = vcat([repeat([card],3-(\n",
    "                        state.hand[card]+\n",
    "                        decoded_enemy_state.hand[card]+\n",
    "                        state.discard[card]\n",
    "                        ))\n",
    "                    for card in keys(state.discard)]...)\n",
    "            #With a fixed enemy hand, we have certainty about which cards are in the deck.\n",
    "             \n",
    "            feints = [(player=pf,enemy=ef) for (pf,ef) in zip(\n",
    "                (action[2] ? deck : repeat([nothing],length(deck))),\n",
    "                (decode_action(enemy_action)[2] ? reverse(deck) : repeat([nothing],length(deck))),\n",
    "            )]\n",
    "            #Generate the set of possible outcomes of the feints taken.\n",
    "            if length(feints) == 0\n",
    "                feints = [(player=nothing,enemy=nothing)]\n",
    "            end\n",
    "            \n",
    "            for (feint, p_feint) in proportionmap(feints)\n",
    "                #Loop over the distinct feint outcomces. \n",
    "                picks = (player=action[1],enemy=decode_action(enemy_action)[1])\n",
    "                if state.breath != 5\n",
    "                    successors = Dict(\n",
    "                        encode_state(breath(state,picks,feint))=>1\n",
    "                    )\n",
    "                    #Simulate a Breath using the fixed player and enemy actions and feint outcomes.\n",
    "                else\n",
    "                    successors = redeal(state) \n",
    "                    #If the result is a Breath 5 state, then generate the possible redeals\n",
    "                    #and their probabilities. Otherwise, there is a single successor that\n",
    "                    #occurs with probability 1. \n",
    "                end\n",
    "                for (successor,p_redealt) in successors\n",
    "                    p = p_enemy_state * p_enemy_action * p_feint * p_redealt\n",
    "                    #Multiply all the conditional probabilities to get the overall\n",
    "                    #probability of the successor resulting from the player taking\n",
    "                    #the given action from the given state.\n",
    "                    if successor in keys(transitions)\n",
    "                        transitions[successor] += p\n",
    "                    else\n",
    "                        transitions[successor] = p\n",
    "                    end\n",
    "                    #If this successor has already been mapped out, add the \n",
    "                    #probability from this path to it.\n",
    "                end\n",
    "            end\n",
    "        end\n",
    "    end\n",
    "    return transitions\n",
    "end\n",
    "\n",
    "\n",
    "function transitionmap(state::WinState,action::Tuple{Symbol,Bool};kwargs...)\n",
    "    return Dict(-1=>1)\n",
    "end\n",
    "function transitionmap(state::LossState,action::Tuple{Symbol,Bool};kwargs...)\n",
    "    return Dict(-2=>1)\n",
    "end\n",
    "#Win/Loss are \"absorbing states\"; when the game is over, it's over forever.\n",
    "\n",
    "function transitionmap(state::Int,action::Int; kwargs...)\n",
    "     return transitionmap(decode_state(state),decode_action(action);kwargs...)\n",
    "end"
   ]
  },
  {
   "cell_type": "markdown",
   "id": "ceaf5d0d",
   "metadata": {},
   "source": [
    "# Enumerating State Space <a id=\"state-space\"></a>\n",
    "### [↑ Contents](#contents)"
   ]
  },
  {
   "cell_type": "markdown",
   "id": "fa38b15a",
   "metadata": {},
   "source": [
    "The next thing we have to do as we lay the groundwork is to generate the set of all possible game states. The following facts restrict the state space from the simple Cartesian product of all possible values of each aspect of the game state:\n",
    "- Neither player's HP can be 0 in a non-end state\n",
    "- Neither player's HP can be less than 2 in a Breath 1 state\n",
    "- Neither player can already be exhausted in a Breath 1 state\n",
    "- Neither player can have already feinted in a Breath 1 state\n",
    "- A player's hand size must be 5-(breath#-1) or 5-(breath#-2); the latter can only be true if there is a Punish in the discard pile for that player\n",
    "- Likewise, the number of cards in the discard pile must be 2*(breath#)+(# of feints)-(# of punishes played), where the # of Punishes played is a variable that cannot exceed 2, and must be at least 1 if there are three Punish cards in the discard\n",
    "- For each card type, the sum of the number in hand and the number showing in the discard pile cannot exceed 3.\n",
    "- A player cannot have an HP of 1 unless \n",
    "    - A Strike was used against them (guarded if they started with 2 HP and unguarded if they started with 1)\n",
    "    - A Rush was used against them and not guarded\n",
    "    - A Punish was used against them and guarded \n",
    "\n",
    "It is clear to see that the state space's intension cannot be stated simply. The last rule we have listed in particular shows that when we look into how the cards played affect the possible status conditions, things get pretty complicated.\n",
    "\n",
    "There might be an easier way to generate the set of possible states. The intension of the set of possible Breath 1 states is much simpler than that of the set of all possible states. If we enumerate all possible Breath 1 states, we can simply use the functions we defined in the previous section to generate the set of all possible successor states, i.e. the set of all possible Breath 2 states. Then, we rinse and repeat to get the Breath 3 and Breath 4 states. This is certainly not the most efficient way to go about this, but we only have to do it once."
   ]
  },
  {
   "cell_type": "markdown",
   "id": "740330c4",
   "metadata": {},
   "source": [
    "We'll start out by generating the possible starting (Measure 1 Breath 1) states. Since both players start with 3 HP, 5 cards in hand, and no status conditions, this boils down to the set of possible combinations of hands and discard piles."
   ]
  },
  {
   "cell_type": "code",
   "execution_count": 16,
   "id": "0d153daf",
   "metadata": {},
   "outputs": [],
   "source": [
    "if CONFIG[\"state-space\"][\"generate\"]\n",
    "    \n",
    "STARTING_STATES = Set{Int64}()\n",
    "hands = Set{NamedTuple}()\n",
    "\n",
    "for draws in (combinations(repeat([:guard,:rush,:dodge,:strike,:punish],3),5))\n",
    "    hand = (; [(card,sum(draws.==card)) for card in [:guard,:rush,:dodge,:strike,:punish]]...)\n",
    "    #Loop over all possible starting hands.\n",
    "    if hand in hands\n",
    "        continue\n",
    "        #The `combinations` function does not account for identical elements, so\n",
    "        #skip any combinations that have already been encountered.\n",
    "    else\n",
    "        push!(hands,hand)\n",
    "        #Track the combinations that have been encountered.\n",
    "    end\n",
    "    \n",
    "    discards = []\n",
    "    for discard_draws in combinations(\n",
    "            vcat([repeat([card],3-count) for (card, count) in pairs(hand)]...),\n",
    "            3\n",
    "        )\n",
    "        #Loop over all possible 3-card discard piles taken from the cards that\n",
    "        #remain after the player's hand has been drawn.\n",
    "        discard = (; [(card,sum(discard_draws.==card)) for card in [:guard,:rush,:dodge,:strike,:punish]]...)\n",
    "        if discard in discards\n",
    "            continue\n",
    "        else\n",
    "            push!(discards,discard)\n",
    "        end\n",
    "        #Likewise, skip discard combinations that have already been encountered.\n",
    "        \n",
    "        starting_state = DuelingState(\n",
    "            1,\n",
    "            hand,\n",
    "            (hp=3, exhausted=false, feinted=false),\n",
    "            (hp=3, hand_size=5, exhausted=false, feinted=false),\n",
    "            discard\n",
    "        )\n",
    "        push!(STARTING_STATES,encode_state(starting_state))\n",
    "         \n",
    "    end\n",
    "    \n",
    "end\n",
    "\n",
    "println(\"$(length(STARTING_STATES)) distinct starting states\")\n",
    "end"
   ]
  },
  {
   "cell_type": "markdown",
   "id": "de29f0ce",
   "metadata": {},
   "source": [
    "    2150 distinct starting states"
   ]
  },
  {
   "cell_type": "markdown",
   "id": "9a22465e",
   "metadata": {},
   "source": [
    "Now, we'll generate all possible Breath 1 states. Still no status effects and 5 cards in both players' hands, but either or both players can have 2 HP on Breath 1 after the first Measure."
   ]
  },
  {
   "cell_type": "code",
   "execution_count": 17,
   "id": "552c1c13",
   "metadata": {},
   "outputs": [],
   "source": [
    "if CONFIG[\"state-space\"][\"generate\"]\n",
    "\n",
    "BREATH1_STATES = union(\n",
    "    STARTING_STATES,\n",
    "    STARTING_STATES .- 0_00000_100_0000_00000,\n",
    "    #Player starts with 2HP\n",
    "    STARTING_STATES .- 0_00000_000_1000_00000,\n",
    "    #Enemy starts with 2HP\n",
    "    STARTING_STATES .- 0_00000_100_1000_00000\n",
    "    #Both start with 2HP\n",
    ")\n",
    "println(\"Breath 1: $(length(BREATH1_STATES)) distinct states\")\n",
    "    \n",
    "end"
   ]
  },
  {
   "cell_type": "markdown",
   "id": "347599f2",
   "metadata": {},
   "source": [
    "    Breath 1: 8600 distinct states"
   ]
  },
  {
   "cell_type": "markdown",
   "id": "8163a9e5",
   "metadata": {},
   "source": [
    "Now, we have to find the Breath 2-5 states. We will do this by using the `transitionmap` function to find all the possible successors from each state in the previous breath. This will inevitably be very inefficient, but it will get the job done."
   ]
  },
  {
   "cell_type": "code",
   "execution_count": 18,
   "id": "f19ebb5e",
   "metadata": {},
   "outputs": [],
   "source": [
    "if CONFIG[\"state-space\"][\"generate\"]\n",
    "\n",
    "STATE_SPACE = Set{Int64}([BREATH1_STATES...])\n",
    "new_states = Set{Int64}([BREATH1_STATES...])\n",
    "\n",
    "for breath in 2:5\n",
    "    successors = Set{Int64}()\n",
    "    for state in new_states\n",
    "        for action in possible_actions(state)\n",
    "            union!(successors, keys(transitionmap(state,action)))\n",
    "            #Loop over all distinct states of the previous breath and \n",
    "            #construct a set of all distinct successors from any state\n",
    "            #in that breath.\n",
    "        end\n",
    "    end\n",
    "    \n",
    "    new_states = successors\n",
    "    println(\"Breath $(breath): $(length(new_states)) distinct states\")\n",
    "    #Print the number of distinct states for each breath number.\n",
    "    \n",
    "    if length(new_states)==0\n",
    "        break\n",
    "    end\n",
    "    \n",
    "    union!(STATE_SPACE,successors)\n",
    "end\n",
    "    \n",
    "end"
   ]
  },
  {
   "cell_type": "markdown",
   "id": "03e5d877",
   "metadata": {},
   "source": [
    "    Breath 2: 169495 distinct states\n",
    "    Breath 3: 259312 distinct states\n",
    "    Breath 4: 212142 distinct states\n",
    "    Breath 5: 19341 distinct states"
   ]
  },
  {
   "cell_type": "markdown",
   "id": "469e1401",
   "metadata": {},
   "source": [
    "This cell took about 20 minutes to execute."
   ]
  },
  {
   "cell_type": "code",
   "execution_count": 19,
   "id": "2dc2f2e5",
   "metadata": {},
   "outputs": [
    {
     "name": "stdout",
     "output_type": "stream",
     "text": [
      "Total: 668884 distinct states\n"
     ]
    }
   ],
   "source": [
    "if CONFIG[\"state-space\"][\"generate\"]\n",
    "    open(CONFIG[\"state-space\"][\"filepath\"],\"w\") do f\n",
    "        JSON.print(f,STATE_SPACE)\n",
    "    end\n",
    "    #If the state space is to be generated, then save the results.\n",
    "else \n",
    "    STATE_SPACE = Set(JSON.parsefile(CONFIG[\"state-space\"][\"filepath\"],use_mmap=false))\n",
    "    #Otherwise, load from disk. The use_mmap keyword must be set to false, otherwise\n",
    "    #the file will remain open in Julia.\n",
    "end\n",
    "println(\"Total: $(length(STATE_SPACE)) distinct states\")"
   ]
  },
  {
   "cell_type": "markdown",
   "id": "930d0209",
   "metadata": {},
   "source": [
    "# Modeling Enemy Strategies <a id=\"enemy-strategies\"></a>\n",
    "### [↑ Contents](#contents)"
   ]
  },
  {
   "cell_type": "markdown",
   "id": "1ec64605",
   "metadata": {},
   "source": [
    "One of the biases of our current representation of PUNISH is the assumption that at any given state, the enemy will weight each of their possible acitons equally. In actuality, we expect a human player to (on average) avoid taking actions that will lead to imminent defeat. However, human players lack the computational power to estimate expected rewards by considering anything deeper than the immediate Breath. Additionally, attitudes toward risk-taking will also inform a human player's behavior. This is beyond the scope of what we are able to derive from a strictly logical premise. So, we turn to data."
   ]
  },
  {
   "cell_type": "markdown",
   "id": "16a2b4f4",
   "metadata": {},
   "source": [
    "## Summary of Empirical Strategic Data <a id=\"data-summary\"></a>\n",
    "### [↑ Contents](#contents)\n"
   ]
  },
  {
   "cell_type": "markdown",
   "id": "cf566d22",
   "metadata": {},
   "source": [
    "Before we dive into using the data, let's take a look at what we are working with."
   ]
  },
  {
   "cell_type": "code",
   "execution_count": null,
   "id": "c16f3532",
   "metadata": {},
   "outputs": [],
   "source": [
    "db = SQLite.DB(\"data/punish_data.db\")\n",
    "#Initialize connection to database."
   ]
  },
  {
   "cell_type": "markdown",
   "id": "8e527ef0",
   "metadata": {},
   "source": [
    "First, we'll get the overview of the games in the training set."
   ]
  },
  {
   "cell_type": "code",
   "execution_count": 114,
   "id": "75f6cedb",
   "metadata": {},
   "outputs": [
    {
     "name": "stdout",
     "output_type": "stream",
     "text": [
      "Using data from 270 games.\n"
     ]
    }
   ],
   "source": [
    "training_games_query = \"\"\"\n",
    "SELECT \n",
    "    games.game_id, winners.username as winner_username, losers.username as loser_username,\n",
    "    winners.is_bot as winner_is_bot, losers.is_bot as loser_is_bot, COUNT(*)/2 as duration\n",
    "FROM games\n",
    "LEFT JOIN players winners\n",
    "    on games.winner_id = winners.player_id\n",
    "LEFT JOIN players losers\n",
    "    on games.loser_id = losers.player_id\n",
    "RIGHT JOIN breaths \n",
    "    on games.game_id = breaths.game_id\n",
    "WHERE\n",
    "    (winner_is_bot=0) OR (loser_is_bot=0)\n",
    "AND \n",
    "    (games.game_id<=$(CONFIG[\"training-cutoff\"]))\n",
    "GROUP BY games.game_id\n",
    "\"\"\"\n",
    "#Replace winner/loser IDs with usernames, and indicate whether each is a bot.\n",
    "#Right join the breaths table in order to count the duration of each game.\n",
    "#Games in the training set must have at least one human player, and must occur\n",
    "#before the epoch time cutoff.\n",
    "\n",
    "training_games = DBInterface.execute(db,training_games_query) |> DataFrame\n",
    "println(\"\"\"Using data from $(nrow(training_games)) games.\"\"\")"
   ]
  },
  {
   "cell_type": "markdown",
   "id": "399963b5",
   "metadata": {},
   "source": [
    "Let's check out the distribution of how many breaths each game is."
   ]
  },
  {
   "cell_type": "code",
   "execution_count": 113,
   "id": "2cea8491",
   "metadata": {},
   "outputs": [
    {
     "data": {
      "image/svg+xml": [
       "<?xml version=\"1.0\" encoding=\"utf-8\"?>\n",
       "<svg xmlns=\"http://www.w3.org/2000/svg\" xmlns:xlink=\"http://www.w3.org/1999/xlink\" width=\"600\" height=\"400\" viewBox=\"0 0 2400 1600\">\n",
       "<defs>\n",
       "  <clipPath id=\"clip940\">\n",
       "    <rect x=\"0\" y=\"0\" width=\"2400\" height=\"1600\"/>\n",
       "  </clipPath>\n",
       "</defs>\n",
       "<path clip-path=\"url(#clip940)\" d=\"\n",
       "M0 1600 L2400 1600 L2400 0 L0 0  Z\n",
       "  \" fill=\"#ffffff\" fill-rule=\"evenodd\" fill-opacity=\"1\"/>\n",
       "<defs>\n",
       "  <clipPath id=\"clip941\">\n",
       "    <rect x=\"480\" y=\"0\" width=\"1681\" height=\"1600\"/>\n",
       "  </clipPath>\n",
       "</defs>\n",
       "<path clip-path=\"url(#clip940)\" d=\"\n",
       "M205.121 1423.18 L2352.76 1423.18 L2352.76 123.472 L205.121 123.472  Z\n",
       "  \" fill=\"#ffffff\" fill-rule=\"evenodd\" fill-opacity=\"1\"/>\n",
       "<defs>\n",
       "  <clipPath id=\"clip942\">\n",
       "    <rect x=\"205\" y=\"123\" width=\"2149\" height=\"1301\"/>\n",
       "  </clipPath>\n",
       "</defs>\n",
       "<polyline clip-path=\"url(#clip942)\" style=\"stroke:#000000; stroke-linecap:round; stroke-linejoin:round; stroke-width:2; stroke-opacity:0.1; fill:none\" points=\"\n",
       "  459.772,1423.18 459.772,123.472 \n",
       "  \"/>\n",
       "<polyline clip-path=\"url(#clip942)\" style=\"stroke:#000000; stroke-linecap:round; stroke-linejoin:round; stroke-width:2; stroke-opacity:0.1; fill:none\" points=\"\n",
       "  732.828,1423.18 732.828,123.472 \n",
       "  \"/>\n",
       "<polyline clip-path=\"url(#clip942)\" style=\"stroke:#000000; stroke-linecap:round; stroke-linejoin:round; stroke-width:2; stroke-opacity:0.1; fill:none\" points=\"\n",
       "  1005.88,1423.18 1005.88,123.472 \n",
       "  \"/>\n",
       "<polyline clip-path=\"url(#clip942)\" style=\"stroke:#000000; stroke-linecap:round; stroke-linejoin:round; stroke-width:2; stroke-opacity:0.1; fill:none\" points=\"\n",
       "  1278.94,1423.18 1278.94,123.472 \n",
       "  \"/>\n",
       "<polyline clip-path=\"url(#clip942)\" style=\"stroke:#000000; stroke-linecap:round; stroke-linejoin:round; stroke-width:2; stroke-opacity:0.1; fill:none\" points=\"\n",
       "  1551.99,1423.18 1551.99,123.472 \n",
       "  \"/>\n",
       "<polyline clip-path=\"url(#clip942)\" style=\"stroke:#000000; stroke-linecap:round; stroke-linejoin:round; stroke-width:2; stroke-opacity:0.1; fill:none\" points=\"\n",
       "  1825.05,1423.18 1825.05,123.472 \n",
       "  \"/>\n",
       "<polyline clip-path=\"url(#clip942)\" style=\"stroke:#000000; stroke-linecap:round; stroke-linejoin:round; stroke-width:2; stroke-opacity:0.1; fill:none\" points=\"\n",
       "  2098.1,1423.18 2098.1,123.472 \n",
       "  \"/>\n",
       "<polyline clip-path=\"url(#clip940)\" style=\"stroke:#000000; stroke-linecap:round; stroke-linejoin:round; stroke-width:4; stroke-opacity:1; fill:none\" points=\"\n",
       "  205.121,1423.18 2352.76,1423.18 \n",
       "  \"/>\n",
       "<polyline clip-path=\"url(#clip940)\" style=\"stroke:#000000; stroke-linecap:round; stroke-linejoin:round; stroke-width:4; stroke-opacity:1; fill:none\" points=\"\n",
       "  459.772,1423.18 459.772,1404.28 \n",
       "  \"/>\n",
       "<polyline clip-path=\"url(#clip940)\" style=\"stroke:#000000; stroke-linecap:round; stroke-linejoin:round; stroke-width:4; stroke-opacity:1; fill:none\" points=\"\n",
       "  732.828,1423.18 732.828,1404.28 \n",
       "  \"/>\n",
       "<polyline clip-path=\"url(#clip940)\" style=\"stroke:#000000; stroke-linecap:round; stroke-linejoin:round; stroke-width:4; stroke-opacity:1; fill:none\" points=\"\n",
       "  1005.88,1423.18 1005.88,1404.28 \n",
       "  \"/>\n",
       "<polyline clip-path=\"url(#clip940)\" style=\"stroke:#000000; stroke-linecap:round; stroke-linejoin:round; stroke-width:4; stroke-opacity:1; fill:none\" points=\"\n",
       "  1278.94,1423.18 1278.94,1404.28 \n",
       "  \"/>\n",
       "<polyline clip-path=\"url(#clip940)\" style=\"stroke:#000000; stroke-linecap:round; stroke-linejoin:round; stroke-width:4; stroke-opacity:1; fill:none\" points=\"\n",
       "  1551.99,1423.18 1551.99,1404.28 \n",
       "  \"/>\n",
       "<polyline clip-path=\"url(#clip940)\" style=\"stroke:#000000; stroke-linecap:round; stroke-linejoin:round; stroke-width:4; stroke-opacity:1; fill:none\" points=\"\n",
       "  1825.05,1423.18 1825.05,1404.28 \n",
       "  \"/>\n",
       "<polyline clip-path=\"url(#clip940)\" style=\"stroke:#000000; stroke-linecap:round; stroke-linejoin:round; stroke-width:4; stroke-opacity:1; fill:none\" points=\"\n",
       "  2098.1,1423.18 2098.1,1404.28 \n",
       "  \"/>\n",
       "<path clip-path=\"url(#clip940)\" d=\"M454.425 1481.64 L470.745 1481.64 L470.745 1485.58 L448.8 1485.58 L448.8 1481.64 Q451.462 1478.89 456.046 1474.26 Q460.652 1469.61 461.833 1468.27 Q464.078 1465.74 464.958 1464.01 Q465.86 1462.25 465.86 1460.56 Q465.86 1457.8 463.916 1456.07 Q461.995 1454.33 458.893 1454.33 Q456.694 1454.33 454.24 1455.09 Q451.809 1455.86 449.032 1457.41 L449.032 1452.69 Q451.856 1451.55 454.309 1450.97 Q456.763 1450.39 458.8 1450.39 Q464.171 1450.39 467.365 1453.08 Q470.559 1455.77 470.559 1460.26 Q470.559 1462.39 469.749 1464.31 Q468.962 1466.2 466.856 1468.8 Q466.277 1469.47 463.175 1472.69 Q460.073 1475.88 454.425 1481.64 Z\" fill=\"#000000\" fill-rule=\"evenodd\" fill-opacity=\"1\" /><path clip-path=\"url(#clip940)\" d=\"M735.837 1455.09 L724.031 1473.54 L735.837 1473.54 L735.837 1455.09 M734.61 1451.02 L740.49 1451.02 L740.49 1473.54 L745.42 1473.54 L745.42 1477.43 L740.49 1477.43 L740.49 1485.58 L735.837 1485.58 L735.837 1477.43 L720.235 1477.43 L720.235 1472.92 L734.61 1451.02 Z\" fill=\"#000000\" fill-rule=\"evenodd\" fill-opacity=\"1\" /><path clip-path=\"url(#clip940)\" d=\"M1006.29 1466.44 Q1003.14 1466.44 1001.29 1468.59 Q999.46 1470.74 999.46 1474.49 Q999.46 1478.22 1001.29 1480.39 Q1003.14 1482.55 1006.29 1482.55 Q1009.44 1482.55 1011.27 1480.39 Q1013.12 1478.22 1013.12 1474.49 Q1013.12 1470.74 1011.27 1468.59 Q1009.44 1466.44 1006.29 1466.44 M1015.57 1451.78 L1015.57 1456.04 Q1013.81 1455.21 1012.01 1454.77 Q1010.22 1454.33 1008.46 1454.33 Q1003.83 1454.33 1001.38 1457.45 Q998.95 1460.58 998.603 1466.9 Q999.969 1464.89 1002.03 1463.82 Q1004.09 1462.73 1006.57 1462.73 Q1011.77 1462.73 1014.78 1465.9 Q1017.82 1469.05 1017.82 1474.49 Q1017.82 1479.82 1014.67 1483.03 Q1011.52 1486.25 1006.29 1486.25 Q1000.29 1486.25 997.122 1481.67 Q993.95 1477.06 993.95 1468.33 Q993.95 1460.14 997.839 1455.28 Q1001.73 1450.39 1008.28 1450.39 Q1010.04 1450.39 1011.82 1450.74 Q1013.63 1451.09 1015.57 1451.78 Z\" fill=\"#000000\" fill-rule=\"evenodd\" fill-opacity=\"1\" /><path clip-path=\"url(#clip940)\" d=\"M1278.94 1469.17 Q1275.61 1469.17 1273.68 1470.95 Q1271.79 1472.73 1271.79 1475.86 Q1271.79 1478.98 1273.68 1480.77 Q1275.61 1482.55 1278.94 1482.55 Q1282.27 1482.55 1284.19 1480.77 Q1286.11 1478.96 1286.11 1475.86 Q1286.11 1472.73 1284.19 1470.95 Q1282.29 1469.17 1278.94 1469.17 M1274.26 1467.18 Q1271.25 1466.44 1269.56 1464.38 Q1267.9 1462.32 1267.9 1459.35 Q1267.9 1455.21 1270.84 1452.8 Q1273.8 1450.39 1278.94 1450.39 Q1284.1 1450.39 1287.04 1452.8 Q1289.98 1455.21 1289.98 1459.35 Q1289.98 1462.32 1288.29 1464.38 Q1286.62 1466.44 1283.64 1467.18 Q1287.02 1467.96 1288.89 1470.26 Q1290.79 1472.55 1290.79 1475.86 Q1290.79 1480.88 1287.71 1483.57 Q1284.66 1486.25 1278.94 1486.25 Q1273.22 1486.25 1270.14 1483.57 Q1267.09 1480.88 1267.09 1475.86 Q1267.09 1472.55 1268.98 1470.26 Q1270.88 1467.96 1274.26 1467.18 M1272.55 1459.79 Q1272.55 1462.48 1274.22 1463.98 Q1275.91 1465.49 1278.94 1465.49 Q1281.95 1465.49 1283.64 1463.98 Q1285.35 1462.48 1285.35 1459.79 Q1285.35 1457.11 1283.64 1455.6 Q1281.95 1454.1 1278.94 1454.1 Q1275.91 1454.1 1274.22 1455.6 Q1272.55 1457.11 1272.55 1459.79 Z\" fill=\"#000000\" fill-rule=\"evenodd\" fill-opacity=\"1\" /><path clip-path=\"url(#clip940)\" d=\"M1526.68 1481.64 L1534.32 1481.64 L1534.32 1455.28 L1526.01 1456.95 L1526.01 1452.69 L1534.27 1451.02 L1538.95 1451.02 L1538.95 1481.64 L1546.59 1481.64 L1546.59 1485.58 L1526.68 1485.58 L1526.68 1481.64 Z\" fill=\"#000000\" fill-rule=\"evenodd\" fill-opacity=\"1\" /><path clip-path=\"url(#clip940)\" d=\"M1566.03 1454.1 Q1562.42 1454.1 1560.59 1457.66 Q1558.79 1461.2 1558.79 1468.33 Q1558.79 1475.44 1560.59 1479.01 Q1562.42 1482.55 1566.03 1482.55 Q1569.67 1482.55 1571.47 1479.01 Q1573.3 1475.44 1573.3 1468.33 Q1573.3 1461.2 1571.47 1457.66 Q1569.67 1454.1 1566.03 1454.1 M1566.03 1450.39 Q1571.84 1450.39 1574.9 1455 Q1577.98 1459.58 1577.98 1468.33 Q1577.98 1477.06 1574.9 1481.67 Q1571.84 1486.25 1566.03 1486.25 Q1560.22 1486.25 1557.14 1481.67 Q1554.09 1477.06 1554.09 1468.33 Q1554.09 1459.58 1557.14 1455 Q1560.22 1450.39 1566.03 1450.39 Z\" fill=\"#000000\" fill-rule=\"evenodd\" fill-opacity=\"1\" /><path clip-path=\"url(#clip940)\" d=\"M1800.54 1481.64 L1808.17 1481.64 L1808.17 1455.28 L1799.86 1456.95 L1799.86 1452.69 L1808.13 1451.02 L1812.8 1451.02 L1812.8 1481.64 L1820.44 1481.64 L1820.44 1485.58 L1800.54 1485.58 L1800.54 1481.64 Z\" fill=\"#000000\" fill-rule=\"evenodd\" fill-opacity=\"1\" /><path clip-path=\"url(#clip940)\" d=\"M1833.91 1481.64 L1850.23 1481.64 L1850.23 1485.58 L1828.29 1485.58 L1828.29 1481.64 Q1830.95 1478.89 1835.54 1474.26 Q1840.14 1469.61 1841.32 1468.27 Q1843.57 1465.74 1844.45 1464.01 Q1845.35 1462.25 1845.35 1460.56 Q1845.35 1457.8 1843.41 1456.07 Q1841.48 1454.33 1838.38 1454.33 Q1836.18 1454.33 1833.73 1455.09 Q1831.3 1455.86 1828.52 1457.41 L1828.52 1452.69 Q1831.35 1451.55 1833.8 1450.97 Q1836.25 1450.39 1838.29 1450.39 Q1843.66 1450.39 1846.85 1453.08 Q1850.05 1455.77 1850.05 1460.26 Q1850.05 1462.39 1849.24 1464.31 Q1848.45 1466.2 1846.35 1468.8 Q1845.77 1469.47 1842.66 1472.69 Q1839.56 1475.88 1833.91 1481.64 Z\" fill=\"#000000\" fill-rule=\"evenodd\" fill-opacity=\"1\" /><path clip-path=\"url(#clip940)\" d=\"M2072.55 1481.64 L2080.19 1481.64 L2080.19 1455.28 L2071.88 1456.95 L2071.88 1452.69 L2080.14 1451.02 L2084.82 1451.02 L2084.82 1481.64 L2092.46 1481.64 L2092.46 1485.58 L2072.55 1485.58 L2072.55 1481.64 Z\" fill=\"#000000\" fill-rule=\"evenodd\" fill-opacity=\"1\" /><path clip-path=\"url(#clip940)\" d=\"M2114.75 1455.09 L2102.94 1473.54 L2114.75 1473.54 L2114.75 1455.09 M2113.52 1451.02 L2119.4 1451.02 L2119.4 1473.54 L2124.33 1473.54 L2124.33 1477.43 L2119.4 1477.43 L2119.4 1485.58 L2114.75 1485.58 L2114.75 1477.43 L2099.15 1477.43 L2099.15 1472.92 L2113.52 1451.02 Z\" fill=\"#000000\" fill-rule=\"evenodd\" fill-opacity=\"1\" /><path clip-path=\"url(#clip940)\" d=\"M1106.41 1539.37 L1097.15 1539.37 L1094.48 1550 L1103.8 1550 L1106.41 1539.37 M1101.64 1521.26 L1098.33 1534.46 L1107.62 1534.46 L1110.96 1521.26 L1116.06 1521.26 L1112.78 1534.46 L1122.71 1534.46 L1122.71 1539.37 L1111.54 1539.37 L1108.93 1550 L1119.05 1550 L1119.05 1554.87 L1107.69 1554.87 L1104.37 1568.04 L1099.28 1568.04 L1102.56 1554.87 L1093.23 1554.87 L1089.96 1568.04 L1084.83 1568.04 L1088.14 1554.87 L1078.12 1554.87 L1078.12 1550 L1089.32 1550 L1091.99 1539.37 L1081.74 1539.37 L1081.74 1534.46 L1093.23 1534.46 L1096.48 1521.26 L1101.64 1521.26 Z\" fill=\"#000000\" fill-rule=\"evenodd\" fill-opacity=\"1\" /><path clip-path=\"url(#clip940)\" d=\"M1168.38 1536.5 Q1163.67 1536.5 1160.93 1540.19 Q1158.2 1543.85 1158.2 1550.25 Q1158.2 1556.65 1160.9 1560.34 Q1163.64 1564 1168.38 1564 Q1173.06 1564 1175.8 1560.31 Q1178.54 1556.62 1178.54 1550.25 Q1178.54 1543.92 1175.8 1540.23 Q1173.06 1536.5 1168.38 1536.5 M1168.38 1531.54 Q1176.02 1531.54 1180.38 1536.5 Q1184.74 1541.47 1184.74 1550.25 Q1184.74 1559 1180.38 1564 Q1176.02 1568.97 1168.38 1568.97 Q1160.71 1568.97 1156.35 1564 Q1152.02 1559 1152.02 1550.25 Q1152.02 1541.47 1156.35 1536.5 Q1160.71 1531.54 1168.38 1531.54 Z\" fill=\"#000000\" fill-rule=\"evenodd\" fill-opacity=\"1\" /><path clip-path=\"url(#clip940)\" d=\"M1212.5 1518.52 L1212.5 1523.39 L1206.89 1523.39 Q1203.74 1523.39 1202.5 1524.66 Q1201.29 1525.93 1201.29 1529.24 L1201.29 1532.4 L1210.94 1532.4 L1210.94 1536.95 L1201.29 1536.95 L1201.29 1568.04 L1195.4 1568.04 L1195.4 1536.95 L1189.8 1536.95 L1189.8 1532.4 L1195.4 1532.4 L1195.4 1529.91 Q1195.4 1523.96 1198.17 1521.26 Q1200.94 1518.52 1206.96 1518.52 L1212.5 1518.52 Z\" fill=\"#000000\" fill-rule=\"evenodd\" fill-opacity=\"1\" /><path clip-path=\"url(#clip940)\" d=\"M1244.8 1545.35 L1244.8 1562.76 L1255.11 1562.76 Q1260.3 1562.76 1262.79 1560.63 Q1265.3 1558.46 1265.3 1554.04 Q1265.3 1549.58 1262.79 1547.48 Q1260.3 1545.35 1255.11 1545.35 L1244.8 1545.35 M1244.8 1525.81 L1244.8 1540.13 L1254.32 1540.13 Q1259.03 1540.13 1261.32 1538.38 Q1263.64 1536.6 1263.64 1532.97 Q1263.64 1529.37 1261.32 1527.59 Q1259.03 1525.81 1254.32 1525.81 L1244.8 1525.81 M1238.37 1520.52 L1254.8 1520.52 Q1262.15 1520.52 1266.13 1523.58 Q1270.11 1526.63 1270.11 1532.27 Q1270.11 1536.63 1268.07 1539.21 Q1266.03 1541.79 1262.09 1542.42 Q1266.83 1543.44 1269.44 1546.69 Q1272.08 1549.9 1272.08 1554.74 Q1272.08 1561.11 1267.75 1564.57 Q1263.42 1568.04 1255.43 1568.04 L1238.37 1568.04 L1238.37 1520.52 Z\" fill=\"#000000\" fill-rule=\"evenodd\" fill-opacity=\"1\" /><path clip-path=\"url(#clip940)\" d=\"M1303.49 1537.87 Q1302.51 1537.3 1301.33 1537.04 Q1300.18 1536.76 1298.78 1536.76 Q1293.82 1536.76 1291.14 1540 Q1288.5 1543.22 1288.5 1549.27 L1288.5 1568.04 L1282.61 1568.04 L1282.61 1532.4 L1288.5 1532.4 L1288.5 1537.93 Q1290.35 1534.69 1293.31 1533.13 Q1296.27 1531.54 1300.5 1531.54 Q1301.11 1531.54 1301.84 1531.63 Q1302.57 1531.7 1303.46 1531.85 L1303.49 1537.87 Z\" fill=\"#000000\" fill-rule=\"evenodd\" fill-opacity=\"1\" /><path clip-path=\"url(#clip940)\" d=\"M1338.7 1548.76 L1338.7 1551.62 L1311.77 1551.62 Q1312.15 1557.67 1315.4 1560.85 Q1318.68 1564 1324.5 1564 Q1327.87 1564 1331.03 1563.17 Q1334.21 1562.35 1337.33 1560.69 L1337.33 1566.23 Q1334.18 1567.57 1330.87 1568.27 Q1327.56 1568.97 1324.15 1568.97 Q1315.62 1568.97 1310.62 1564 Q1305.66 1559.04 1305.66 1550.57 Q1305.66 1541.82 1310.37 1536.69 Q1315.11 1531.54 1323.13 1531.54 Q1330.33 1531.54 1334.5 1536.18 Q1338.7 1540.8 1338.7 1548.76 M1332.84 1547.04 Q1332.78 1542.23 1330.13 1539.37 Q1327.52 1536.5 1323.2 1536.5 Q1318.29 1536.5 1315.33 1539.27 Q1312.41 1542.04 1311.96 1547.07 L1332.84 1547.04 Z\" fill=\"#000000\" fill-rule=\"evenodd\" fill-opacity=\"1\" /><path clip-path=\"url(#clip940)\" d=\"M1364.51 1550.12 Q1357.41 1550.12 1354.67 1551.75 Q1351.94 1553.37 1351.94 1557.29 Q1351.94 1560.4 1353.97 1562.25 Q1356.04 1564.07 1359.58 1564.07 Q1364.45 1564.07 1367.37 1560.63 Q1370.33 1557.16 1370.33 1551.43 L1370.33 1550.12 L1364.51 1550.12 M1376.19 1547.71 L1376.19 1568.04 L1370.33 1568.04 L1370.33 1562.63 Q1368.33 1565.88 1365.34 1567.44 Q1362.35 1568.97 1358.02 1568.97 Q1352.54 1568.97 1349.3 1565.91 Q1346.08 1562.82 1346.08 1557.67 Q1346.08 1551.65 1350.09 1548.6 Q1354.13 1545.54 1362.12 1545.54 L1370.33 1545.54 L1370.33 1544.97 Q1370.33 1540.93 1367.66 1538.73 Q1365.02 1536.5 1360.21 1536.5 Q1357.16 1536.5 1354.26 1537.23 Q1351.36 1537.97 1348.69 1539.43 L1348.69 1534.02 Q1351.91 1532.78 1354.93 1532.17 Q1357.95 1531.54 1360.82 1531.54 Q1368.55 1531.54 1372.37 1535.55 Q1376.19 1539.56 1376.19 1547.71 Z\" fill=\"#000000\" fill-rule=\"evenodd\" fill-opacity=\"1\" /><path clip-path=\"url(#clip940)\" d=\"M1394.05 1522.27 L1394.05 1532.4 L1406.11 1532.4 L1406.11 1536.95 L1394.05 1536.95 L1394.05 1556.3 Q1394.05 1560.66 1395.22 1561.9 Q1396.43 1563.14 1400.09 1563.14 L1406.11 1563.14 L1406.11 1568.04 L1400.09 1568.04 Q1393.31 1568.04 1390.74 1565.53 Q1388.16 1562.98 1388.16 1556.3 L1388.16 1536.95 L1383.86 1536.95 L1383.86 1532.4 L1388.16 1532.4 L1388.16 1522.27 L1394.05 1522.27 Z\" fill=\"#000000\" fill-rule=\"evenodd\" fill-opacity=\"1\" /><path clip-path=\"url(#clip940)\" d=\"M1443.44 1546.53 L1443.44 1568.04 L1437.59 1568.04 L1437.59 1546.72 Q1437.59 1541.66 1435.61 1539.14 Q1433.64 1536.63 1429.69 1536.63 Q1424.95 1536.63 1422.21 1539.65 Q1419.48 1542.68 1419.48 1547.9 L1419.48 1568.04 L1413.59 1568.04 L1413.59 1518.52 L1419.48 1518.52 L1419.48 1537.93 Q1421.58 1534.72 1424.41 1533.13 Q1427.28 1531.54 1431 1531.54 Q1437.14 1531.54 1440.29 1535.36 Q1443.44 1539.14 1443.44 1546.53 Z\" fill=\"#000000\" fill-rule=\"evenodd\" fill-opacity=\"1\" /><path clip-path=\"url(#clip940)\" d=\"M1477.85 1533.45 L1477.85 1538.98 Q1475.37 1537.71 1472.69 1537.07 Q1470.02 1536.44 1467.16 1536.44 Q1462.8 1536.44 1460.6 1537.77 Q1458.44 1539.11 1458.44 1541.79 Q1458.44 1543.82 1460 1545 Q1461.55 1546.15 1466.27 1547.2 L1468.27 1547.64 Q1474.51 1548.98 1477.12 1551.43 Q1479.76 1553.85 1479.76 1558.21 Q1479.76 1563.17 1475.81 1566.07 Q1471.9 1568.97 1465.02 1568.97 Q1462.16 1568.97 1459.04 1568.39 Q1455.95 1567.85 1452.52 1566.74 L1452.52 1560.69 Q1455.76 1562.38 1458.91 1563.24 Q1462.06 1564.07 1465.15 1564.07 Q1469.29 1564.07 1471.52 1562.66 Q1473.74 1561.23 1473.74 1558.65 Q1473.74 1556.27 1472.12 1554.99 Q1470.53 1553.72 1465.09 1552.54 L1463.05 1552.07 Q1457.61 1550.92 1455.19 1548.56 Q1452.77 1546.18 1452.77 1542.04 Q1452.77 1537.01 1456.33 1534.27 Q1459.9 1531.54 1466.46 1531.54 Q1469.7 1531.54 1472.57 1532.01 Q1475.43 1532.49 1477.85 1533.45 Z\" fill=\"#000000\" fill-rule=\"evenodd\" fill-opacity=\"1\" /><polyline clip-path=\"url(#clip942)\" style=\"stroke:#000000; stroke-linecap:round; stroke-linejoin:round; stroke-width:2; stroke-opacity:0.1; fill:none\" points=\"\n",
       "  205.121,1386.4 2352.76,1386.4 \n",
       "  \"/>\n",
       "<polyline clip-path=\"url(#clip942)\" style=\"stroke:#000000; stroke-linecap:round; stroke-linejoin:round; stroke-width:2; stroke-opacity:0.1; fill:none\" points=\"\n",
       "  205.121,1200.62 2352.76,1200.62 \n",
       "  \"/>\n",
       "<polyline clip-path=\"url(#clip942)\" style=\"stroke:#000000; stroke-linecap:round; stroke-linejoin:round; stroke-width:2; stroke-opacity:0.1; fill:none\" points=\"\n",
       "  205.121,1014.84 2352.76,1014.84 \n",
       "  \"/>\n",
       "<polyline clip-path=\"url(#clip942)\" style=\"stroke:#000000; stroke-linecap:round; stroke-linejoin:round; stroke-width:2; stroke-opacity:0.1; fill:none\" points=\"\n",
       "  205.121,829.06 2352.76,829.06 \n",
       "  \"/>\n",
       "<polyline clip-path=\"url(#clip942)\" style=\"stroke:#000000; stroke-linecap:round; stroke-linejoin:round; stroke-width:2; stroke-opacity:0.1; fill:none\" points=\"\n",
       "  205.121,643.281 2352.76,643.281 \n",
       "  \"/>\n",
       "<polyline clip-path=\"url(#clip942)\" style=\"stroke:#000000; stroke-linecap:round; stroke-linejoin:round; stroke-width:2; stroke-opacity:0.1; fill:none\" points=\"\n",
       "  205.121,457.502 2352.76,457.502 \n",
       "  \"/>\n",
       "<polyline clip-path=\"url(#clip942)\" style=\"stroke:#000000; stroke-linecap:round; stroke-linejoin:round; stroke-width:2; stroke-opacity:0.1; fill:none\" points=\"\n",
       "  205.121,271.724 2352.76,271.724 \n",
       "  \"/>\n",
       "<polyline clip-path=\"url(#clip940)\" style=\"stroke:#000000; stroke-linecap:round; stroke-linejoin:round; stroke-width:4; stroke-opacity:1; fill:none\" points=\"\n",
       "  205.121,1423.18 205.121,123.472 \n",
       "  \"/>\n",
       "<polyline clip-path=\"url(#clip940)\" style=\"stroke:#000000; stroke-linecap:round; stroke-linejoin:round; stroke-width:4; stroke-opacity:1; fill:none\" points=\"\n",
       "  205.121,1386.4 224.019,1386.4 \n",
       "  \"/>\n",
       "<polyline clip-path=\"url(#clip940)\" style=\"stroke:#000000; stroke-linecap:round; stroke-linejoin:round; stroke-width:4; stroke-opacity:1; fill:none\" points=\"\n",
       "  205.121,1200.62 224.019,1200.62 \n",
       "  \"/>\n",
       "<polyline clip-path=\"url(#clip940)\" style=\"stroke:#000000; stroke-linecap:round; stroke-linejoin:round; stroke-width:4; stroke-opacity:1; fill:none\" points=\"\n",
       "  205.121,1014.84 224.019,1014.84 \n",
       "  \"/>\n",
       "<polyline clip-path=\"url(#clip940)\" style=\"stroke:#000000; stroke-linecap:round; stroke-linejoin:round; stroke-width:4; stroke-opacity:1; fill:none\" points=\"\n",
       "  205.121,829.06 224.019,829.06 \n",
       "  \"/>\n",
       "<polyline clip-path=\"url(#clip940)\" style=\"stroke:#000000; stroke-linecap:round; stroke-linejoin:round; stroke-width:4; stroke-opacity:1; fill:none\" points=\"\n",
       "  205.121,643.281 224.019,643.281 \n",
       "  \"/>\n",
       "<polyline clip-path=\"url(#clip940)\" style=\"stroke:#000000; stroke-linecap:round; stroke-linejoin:round; stroke-width:4; stroke-opacity:1; fill:none\" points=\"\n",
       "  205.121,457.502 224.019,457.502 \n",
       "  \"/>\n",
       "<polyline clip-path=\"url(#clip940)\" style=\"stroke:#000000; stroke-linecap:round; stroke-linejoin:round; stroke-width:4; stroke-opacity:1; fill:none\" points=\"\n",
       "  205.121,271.724 224.019,271.724 \n",
       "  \"/>\n",
       "<path clip-path=\"url(#clip940)\" d=\"M157.177 1372.19 Q153.566 1372.19 151.737 1375.76 Q149.931 1379.3 149.931 1386.43 Q149.931 1393.54 151.737 1397.1 Q153.566 1400.64 157.177 1400.64 Q160.811 1400.64 162.616 1397.1 Q164.445 1393.54 164.445 1386.43 Q164.445 1379.3 162.616 1375.76 Q160.811 1372.19 157.177 1372.19 M157.177 1368.49 Q162.987 1368.49 166.042 1373.1 Q169.121 1377.68 169.121 1386.43 Q169.121 1395.16 166.042 1399.76 Q162.987 1404.35 157.177 1404.35 Q151.366 1404.35 148.288 1399.76 Q145.232 1395.16 145.232 1386.43 Q145.232 1377.68 148.288 1373.1 Q151.366 1368.49 157.177 1368.49 Z\" fill=\"#000000\" fill-rule=\"evenodd\" fill-opacity=\"1\" /><path clip-path=\"url(#clip940)\" d=\"M117.825 1213.96 L125.464 1213.96 L125.464 1187.6 L117.154 1189.26 L117.154 1185 L125.418 1183.34 L130.093 1183.34 L130.093 1213.96 L137.732 1213.96 L137.732 1217.9 L117.825 1217.9 L117.825 1213.96 Z\" fill=\"#000000\" fill-rule=\"evenodd\" fill-opacity=\"1\" /><path clip-path=\"url(#clip940)\" d=\"M157.177 1186.42 Q153.566 1186.42 151.737 1189.98 Q149.931 1193.52 149.931 1200.65 Q149.931 1207.76 151.737 1211.32 Q153.566 1214.86 157.177 1214.86 Q160.811 1214.86 162.616 1211.32 Q164.445 1207.76 164.445 1200.65 Q164.445 1193.52 162.616 1189.98 Q160.811 1186.42 157.177 1186.42 M157.177 1182.71 Q162.987 1182.71 166.042 1187.32 Q169.121 1191.9 169.121 1200.65 Q169.121 1209.38 166.042 1213.98 Q162.987 1218.57 157.177 1218.57 Q151.366 1218.57 148.288 1213.98 Q145.232 1209.38 145.232 1200.65 Q145.232 1191.9 148.288 1187.32 Q151.366 1182.71 157.177 1182.71 Z\" fill=\"#000000\" fill-rule=\"evenodd\" fill-opacity=\"1\" /><path clip-path=\"url(#clip940)\" d=\"M121.043 1028.18 L137.362 1028.18 L137.362 1032.12 L115.418 1032.12 L115.418 1028.18 Q118.08 1025.43 122.663 1020.8 Q127.269 1016.15 128.45 1014.8 Q130.695 1012.28 131.575 1010.54 Q132.478 1008.79 132.478 1007.1 Q132.478 1004.34 130.533 1002.6 Q128.612 1000.87 125.51 1000.87 Q123.311 1000.87 120.857 1001.63 Q118.427 1002.4 115.649 1003.95 L115.649 999.225 Q118.473 998.091 120.927 997.512 Q123.38 996.933 125.418 996.933 Q130.788 996.933 133.982 999.618 Q137.177 1002.3 137.177 1006.79 Q137.177 1008.92 136.367 1010.85 Q135.579 1012.74 133.473 1015.34 Q132.894 1016.01 129.792 1019.22 Q126.691 1022.42 121.043 1028.18 Z\" fill=\"#000000\" fill-rule=\"evenodd\" fill-opacity=\"1\" /><path clip-path=\"url(#clip940)\" d=\"M157.177 1000.64 Q153.566 1000.64 151.737 1004.2 Q149.931 1007.74 149.931 1014.87 Q149.931 1021.98 151.737 1025.54 Q153.566 1029.09 157.177 1029.09 Q160.811 1029.09 162.616 1025.54 Q164.445 1021.98 164.445 1014.87 Q164.445 1007.74 162.616 1004.2 Q160.811 1000.64 157.177 1000.64 M157.177 996.933 Q162.987 996.933 166.042 1001.54 Q169.121 1006.12 169.121 1014.87 Q169.121 1023.6 166.042 1028.21 Q162.987 1032.79 157.177 1032.79 Q151.366 1032.79 148.288 1028.21 Q145.232 1023.6 145.232 1014.87 Q145.232 1006.12 148.288 1001.54 Q151.366 996.933 157.177 996.933 Z\" fill=\"#000000\" fill-rule=\"evenodd\" fill-opacity=\"1\" /><path clip-path=\"url(#clip940)\" d=\"M131.181 827.705 Q134.538 828.423 136.413 830.692 Q138.311 832.96 138.311 836.293 Q138.311 841.409 134.792 844.21 Q131.274 847.011 124.793 847.011 Q122.617 847.011 120.302 846.571 Q118.01 846.154 115.556 845.298 L115.556 840.784 Q117.501 841.918 119.816 842.497 Q122.13 843.076 124.654 843.076 Q129.052 843.076 131.343 841.34 Q133.658 839.604 133.658 836.293 Q133.658 833.238 131.505 831.525 Q129.376 829.789 125.556 829.789 L121.529 829.789 L121.529 825.946 L125.742 825.946 Q129.191 825.946 131.019 824.58 Q132.848 823.192 132.848 820.599 Q132.848 817.937 130.95 816.525 Q129.075 815.09 125.556 815.09 Q123.635 815.09 121.436 815.506 Q119.237 815.923 116.598 816.803 L116.598 812.636 Q119.26 811.895 121.575 811.525 Q123.913 811.155 125.973 811.155 Q131.297 811.155 134.399 813.585 Q137.501 815.993 137.501 820.113 Q137.501 822.983 135.857 824.974 Q134.214 826.942 131.181 827.705 Z\" fill=\"#000000\" fill-rule=\"evenodd\" fill-opacity=\"1\" /><path clip-path=\"url(#clip940)\" d=\"M157.177 814.858 Q153.566 814.858 151.737 818.423 Q149.931 821.965 149.931 829.094 Q149.931 836.201 151.737 839.766 Q153.566 843.307 157.177 843.307 Q160.811 843.307 162.616 839.766 Q164.445 836.201 164.445 829.094 Q164.445 821.965 162.616 818.423 Q160.811 814.858 157.177 814.858 M157.177 811.155 Q162.987 811.155 166.042 815.761 Q169.121 820.344 169.121 829.094 Q169.121 837.821 166.042 842.428 Q162.987 847.011 157.177 847.011 Q151.366 847.011 148.288 842.428 Q145.232 837.821 145.232 829.094 Q145.232 820.344 148.288 815.761 Q151.366 811.155 157.177 811.155 Z\" fill=\"#000000\" fill-rule=\"evenodd\" fill-opacity=\"1\" /><path clip-path=\"url(#clip940)\" d=\"M129.862 630.075 L118.056 648.524 L129.862 648.524 L129.862 630.075 M128.635 626.001 L134.515 626.001 L134.515 648.524 L139.445 648.524 L139.445 652.413 L134.515 652.413 L134.515 660.561 L129.862 660.561 L129.862 652.413 L114.26 652.413 L114.26 647.899 L128.635 626.001 Z\" fill=\"#000000\" fill-rule=\"evenodd\" fill-opacity=\"1\" /><path clip-path=\"url(#clip940)\" d=\"M157.177 629.08 Q153.566 629.08 151.737 632.644 Q149.931 636.186 149.931 643.316 Q149.931 650.422 151.737 653.987 Q153.566 657.529 157.177 657.529 Q160.811 657.529 162.616 653.987 Q164.445 650.422 164.445 643.316 Q164.445 636.186 162.616 632.644 Q160.811 629.08 157.177 629.08 M157.177 625.376 Q162.987 625.376 166.042 629.982 Q169.121 634.566 169.121 643.316 Q169.121 652.042 166.042 656.649 Q162.987 661.232 157.177 661.232 Q151.366 661.232 148.288 656.649 Q145.232 652.042 145.232 643.316 Q145.232 634.566 148.288 629.982 Q151.366 625.376 157.177 625.376 Z\" fill=\"#000000\" fill-rule=\"evenodd\" fill-opacity=\"1\" /><path clip-path=\"url(#clip940)\" d=\"M117.061 440.222 L135.417 440.222 L135.417 444.157 L121.343 444.157 L121.343 452.63 Q122.362 452.282 123.38 452.12 Q124.399 451.935 125.418 451.935 Q131.205 451.935 134.584 455.106 Q137.964 458.278 137.964 463.694 Q137.964 469.273 134.492 472.375 Q131.019 475.454 124.7 475.454 Q122.524 475.454 120.255 475.083 Q118.01 474.713 115.603 473.972 L115.603 469.273 Q117.686 470.407 119.908 470.963 Q122.13 471.518 124.607 471.518 Q128.612 471.518 130.95 469.412 Q133.288 467.305 133.288 463.694 Q133.288 460.083 130.95 457.977 Q128.612 455.87 124.607 455.87 Q122.732 455.87 120.857 456.287 Q119.006 456.704 117.061 457.583 L117.061 440.222 Z\" fill=\"#000000\" fill-rule=\"evenodd\" fill-opacity=\"1\" /><path clip-path=\"url(#clip940)\" d=\"M157.177 443.301 Q153.566 443.301 151.737 446.866 Q149.931 450.407 149.931 457.537 Q149.931 464.643 151.737 468.208 Q153.566 471.75 157.177 471.75 Q160.811 471.75 162.616 468.208 Q164.445 464.643 164.445 457.537 Q164.445 450.407 162.616 446.866 Q160.811 443.301 157.177 443.301 M157.177 439.597 Q162.987 439.597 166.042 444.204 Q169.121 448.787 169.121 457.537 Q169.121 466.264 166.042 470.87 Q162.987 475.454 157.177 475.454 Q151.366 475.454 148.288 470.87 Q145.232 466.264 145.232 457.537 Q145.232 448.787 148.288 444.204 Q151.366 439.597 157.177 439.597 Z\" fill=\"#000000\" fill-rule=\"evenodd\" fill-opacity=\"1\" /><path clip-path=\"url(#clip940)\" d=\"M127.593 269.86 Q124.445 269.86 122.593 272.013 Q120.765 274.166 120.765 277.916 Q120.765 281.642 122.593 283.818 Q124.445 285.971 127.593 285.971 Q130.742 285.971 132.57 283.818 Q134.422 281.642 134.422 277.916 Q134.422 274.166 132.57 272.013 Q130.742 269.86 127.593 269.86 M136.876 255.207 L136.876 259.467 Q135.117 258.633 133.311 258.194 Q131.529 257.754 129.769 257.754 Q125.14 257.754 122.686 260.879 Q120.255 264.004 119.908 270.323 Q121.274 268.309 123.334 267.244 Q125.394 266.156 127.871 266.156 Q133.08 266.156 136.089 269.328 Q139.121 272.476 139.121 277.916 Q139.121 283.24 135.973 286.457 Q132.825 289.675 127.593 289.675 Q121.598 289.675 118.427 285.092 Q115.256 280.485 115.256 271.758 Q115.256 263.564 119.144 258.703 Q123.033 253.819 129.584 253.819 Q131.343 253.819 133.126 254.166 Q134.931 254.513 136.876 255.207 Z\" fill=\"#000000\" fill-rule=\"evenodd\" fill-opacity=\"1\" /><path clip-path=\"url(#clip940)\" d=\"M157.177 257.522 Q153.566 257.522 151.737 261.087 Q149.931 264.629 149.931 271.758 Q149.931 278.865 151.737 282.429 Q153.566 285.971 157.177 285.971 Q160.811 285.971 162.616 282.429 Q164.445 278.865 164.445 271.758 Q164.445 264.629 162.616 261.087 Q160.811 257.522 157.177 257.522 M157.177 253.819 Q162.987 253.819 166.042 258.425 Q169.121 263.008 169.121 271.758 Q169.121 280.485 166.042 285.092 Q162.987 289.675 157.177 289.675 Q151.366 289.675 148.288 285.092 Q145.232 280.485 145.232 271.758 Q145.232 263.008 148.288 258.425 Q151.366 253.819 157.177 253.819 Z\" fill=\"#000000\" fill-rule=\"evenodd\" fill-opacity=\"1\" /><path clip-path=\"url(#clip940)\" d=\"M16.4842 1065.61 L16.4842 1056.95 L56.238 1035.88 L16.4842 1035.88 L16.4842 1029.64 L64.0042 1029.64 L64.0042 1038.3 L24.2503 1059.37 L64.0042 1059.37 L64.0042 1065.61 L16.4842 1065.61 Z\" fill=\"#000000\" fill-rule=\"evenodd\" fill-opacity=\"1\" /><path clip-path=\"url(#clip940)\" d=\"M49.9359 1017.71 L28.3562 1017.71 L28.3562 1011.85 L49.7131 1011.85 Q54.7739 1011.85 57.3202 1009.88 Q59.8346 1007.9 59.8346 1003.96 Q59.8346 999.213 56.8109 996.476 Q53.7872 993.707 48.5673 993.707 L28.3562 993.707 L28.3562 987.85 L64.0042 987.85 L64.0042 993.707 L58.5296 993.707 Q61.7762 995.839 63.3676 998.672 Q64.9272 1001.47 64.9272 1005.2 Q64.9272 1011.34 61.1078 1014.52 Q57.2883 1017.71 49.9359 1017.71 M27.4968 1002.97 L27.4968 1002.97 Z\" fill=\"#000000\" fill-rule=\"evenodd\" fill-opacity=\"1\" /><path clip-path=\"url(#clip940)\" d=\"M35.1993 948.033 Q31.2526 945.837 29.3747 942.781 Q27.4968 939.726 27.4968 935.588 Q27.4968 930.018 31.4117 926.994 Q35.2948 923.97 42.4881 923.97 L64.0042 923.97 L64.0042 929.859 L42.679 929.859 Q37.5546 929.859 35.072 931.673 Q32.5894 933.487 32.5894 937.211 Q32.5894 941.763 35.6131 944.404 Q38.6368 947.046 43.8567 947.046 L64.0042 947.046 L64.0042 952.934 L42.679 952.934 Q37.5228 952.934 35.072 954.749 Q32.5894 956.563 32.5894 960.35 Q32.5894 964.838 35.6449 967.48 Q38.6686 970.122 43.8567 970.122 L64.0042 970.122 L64.0042 976.01 L28.3562 976.01 L28.3562 970.122 L33.8944 970.122 Q30.616 968.117 29.0564 965.316 Q27.4968 962.515 27.4968 958.664 Q27.4968 954.78 29.4702 952.075 Q31.4436 949.338 35.1993 948.033 Z\" fill=\"#000000\" fill-rule=\"evenodd\" fill-opacity=\"1\" /><path clip-path=\"url(#clip940)\" d=\"M46.212 886.699 Q39.7508 886.699 36.0905 889.373 Q32.3984 892.015 32.3984 896.662 Q32.3984 901.309 36.0905 903.982 Q39.7508 906.624 46.212 906.624 Q52.6732 906.624 56.3653 903.982 Q60.0256 901.309 60.0256 896.662 Q60.0256 892.015 56.3653 889.373 Q52.6732 886.699 46.212 886.699 M33.7671 906.624 Q30.5842 904.778 29.0564 901.977 Q27.4968 899.144 27.4968 895.229 Q27.4968 888.736 32.6531 884.694 Q37.8093 880.62 46.212 880.62 Q54.6147 880.62 59.771 884.694 Q64.9272 888.736 64.9272 895.229 Q64.9272 899.144 63.3994 901.977 Q61.8398 904.778 58.657 906.624 L64.0042 906.624 L64.0042 912.512 L14.479 912.512 L14.479 906.624 L33.7671 906.624 Z\" fill=\"#000000\" fill-rule=\"evenodd\" fill-opacity=\"1\" /><path clip-path=\"url(#clip940)\" d=\"M44.7161 840.421 L47.5806 840.421 L47.5806 867.347 Q53.6281 866.966 56.8109 863.719 Q59.9619 860.441 59.9619 854.616 Q59.9619 851.242 59.1344 848.091 Q58.3069 844.908 56.6518 841.789 L62.1899 841.789 Q63.5267 844.94 64.227 848.25 Q64.9272 851.561 64.9272 854.966 Q64.9272 863.496 59.9619 868.493 Q54.9967 873.459 46.5303 873.459 Q37.7774 873.459 32.6531 868.748 Q27.4968 864.005 27.4968 855.985 Q27.4968 848.791 32.1438 844.622 Q36.7589 840.421 44.7161 840.421 M42.9973 846.277 Q38.1912 846.341 35.3266 848.982 Q32.4621 851.592 32.4621 855.921 Q32.4621 860.823 35.2312 863.783 Q38.0002 866.711 43.0292 867.156 L42.9973 846.277 Z\" fill=\"#000000\" fill-rule=\"evenodd\" fill-opacity=\"1\" /><path clip-path=\"url(#clip940)\" d=\"M33.8307 810.152 Q33.2578 811.138 33.0032 812.316 Q32.7167 813.462 32.7167 814.862 Q32.7167 819.827 35.9632 822.501 Q39.1779 825.143 45.2253 825.143 L64.0042 825.143 L64.0042 831.031 L28.3562 831.031 L28.3562 825.143 L33.8944 825.143 Q30.6479 823.297 29.0883 820.337 Q27.4968 817.377 27.4968 813.143 Q27.4968 812.539 27.5923 811.807 Q27.656 811.075 27.8151 810.183 L33.8307 810.152 Z\" fill=\"#000000\" fill-rule=\"evenodd\" fill-opacity=\"1\" /><path clip-path=\"url(#clip940)\" d=\"M32.4621 769.475 Q32.4621 774.185 36.1542 776.923 Q39.8145 779.66 46.212 779.66 Q52.6095 779.66 56.3017 776.954 Q59.9619 774.217 59.9619 769.475 Q59.9619 764.796 56.2698 762.059 Q52.5777 759.321 46.212 759.321 Q39.8781 759.321 36.186 762.059 Q32.4621 764.796 32.4621 769.475 M27.4968 769.475 Q27.4968 761.836 32.4621 757.475 Q37.4273 753.115 46.212 753.115 Q54.9649 753.115 59.9619 757.475 Q64.9272 761.836 64.9272 769.475 Q64.9272 777.145 59.9619 781.506 Q54.9649 785.835 46.212 785.835 Q37.4273 785.835 32.4621 781.506 Q27.4968 777.145 27.4968 769.475 Z\" fill=\"#000000\" fill-rule=\"evenodd\" fill-opacity=\"1\" /><path clip-path=\"url(#clip940)\" d=\"M14.479 725.36 L19.3487 725.36 L19.3487 730.962 Q19.3487 734.113 20.6219 735.355 Q21.895 736.564 25.2052 736.564 L28.3562 736.564 L28.3562 726.92 L32.9077 726.92 L32.9077 736.564 L64.0042 736.564 L64.0042 742.452 L32.9077 742.452 L32.9077 748.054 L28.3562 748.054 L28.3562 742.452 L25.8736 742.452 Q19.9216 742.452 17.2162 739.683 Q14.479 736.914 14.479 730.899 L14.479 725.36 Z\" fill=\"#000000\" fill-rule=\"evenodd\" fill-opacity=\"1\" /><path clip-path=\"url(#clip940)\" d=\"M57.2247 667.082 L44.4614 667.082 L44.4614 677.586 L39.1779 677.586 L39.1779 660.717 L59.58 660.717 Q62.2218 664.441 63.5904 668.928 Q64.9272 673.416 64.9272 678.509 Q64.9272 689.649 58.4342 695.951 Q51.9093 702.221 40.2919 702.221 Q28.6427 702.221 22.1496 695.951 Q15.6248 689.649 15.6248 678.509 Q15.6248 673.862 16.7706 669.692 Q17.9164 665.491 20.1444 661.958 L26.9876 661.958 Q23.9639 665.523 22.4361 669.533 Q20.9083 673.544 20.9083 677.968 Q20.9083 686.689 25.7781 691.081 Q30.6479 695.442 40.2919 695.442 Q49.9041 695.442 54.7739 691.081 Q59.6436 686.689 59.6436 677.968 Q59.6436 674.562 59.0707 671.888 Q58.466 669.215 57.2247 667.082 Z\" fill=\"#000000\" fill-rule=\"evenodd\" fill-opacity=\"1\" /><path clip-path=\"url(#clip940)\" d=\"M46.0847 633.026 Q46.0847 640.124 47.7079 642.861 Q49.3312 645.598 53.2461 645.598 Q56.3653 645.598 58.2114 643.561 Q60.0256 641.492 60.0256 637.959 Q60.0256 633.089 56.5881 630.161 Q53.1188 627.201 47.3897 627.201 L46.0847 627.201 L46.0847 633.026 M43.6657 621.345 L64.0042 621.345 L64.0042 627.201 L58.5933 627.201 Q61.8398 629.206 63.3994 632.198 Q64.9272 635.19 64.9272 639.519 Q64.9272 644.993 61.8716 648.24 Q58.7843 651.455 53.6281 651.455 Q47.6125 651.455 44.5569 647.444 Q41.5014 643.402 41.5014 635.413 L41.5014 627.201 L40.9285 627.201 Q36.8862 627.201 34.6901 629.875 Q32.4621 632.517 32.4621 637.323 Q32.4621 640.378 33.1941 643.275 Q33.9262 646.171 35.3903 648.845 L29.9795 648.845 Q28.7381 645.63 28.1334 642.606 Q27.4968 639.582 27.4968 636.718 Q27.4968 628.984 31.5072 625.164 Q35.5176 621.345 43.6657 621.345 Z\" fill=\"#000000\" fill-rule=\"evenodd\" fill-opacity=\"1\" /><path clip-path=\"url(#clip940)\" d=\"M35.1993 581.527 Q31.2526 579.331 29.3747 576.276 Q27.4968 573.22 27.4968 569.082 Q27.4968 563.512 31.4117 560.489 Q35.2948 557.465 42.4881 557.465 L64.0042 557.465 L64.0042 563.353 L42.679 563.353 Q37.5546 563.353 35.072 565.167 Q32.5894 566.982 32.5894 570.706 Q32.5894 575.257 35.6131 577.899 Q38.6368 580.541 43.8567 580.541 L64.0042 580.541 L64.0042 586.429 L42.679 586.429 Q37.5228 586.429 35.072 588.243 Q32.5894 590.057 32.5894 593.845 Q32.5894 598.333 35.6449 600.974 Q38.6686 603.616 43.8567 603.616 L64.0042 603.616 L64.0042 609.505 L28.3562 609.505 L28.3562 603.616 L33.8944 603.616 Q30.616 601.611 29.0564 598.81 Q27.4968 596.009 27.4968 592.158 Q27.4968 588.275 29.4702 585.569 Q31.4436 582.832 35.1993 581.527 Z\" fill=\"#000000\" fill-rule=\"evenodd\" fill-opacity=\"1\" /><path clip-path=\"url(#clip940)\" d=\"M44.7161 515.292 L47.5806 515.292 L47.5806 542.219 Q53.6281 541.837 56.8109 538.591 Q59.9619 535.312 59.9619 529.488 Q59.9619 526.114 59.1344 522.963 Q58.3069 519.78 56.6518 516.661 L62.1899 516.661 Q63.5267 519.812 64.227 523.122 Q64.9272 526.432 64.9272 529.838 Q64.9272 538.368 59.9619 543.365 Q54.9967 548.33 46.5303 548.33 Q37.7774 548.33 32.6531 543.619 Q27.4968 538.877 27.4968 530.856 Q27.4968 523.663 32.1438 519.493 Q36.7589 515.292 44.7161 515.292 M42.9973 521.149 Q38.1912 521.212 35.3266 523.854 Q32.4621 526.464 32.4621 530.793 Q32.4621 535.694 35.2312 538.654 Q38.0002 541.582 43.0292 542.028 L42.9973 521.149 Z\" fill=\"#000000\" fill-rule=\"evenodd\" fill-opacity=\"1\" /><path clip-path=\"url(#clip940)\" d=\"M29.4065 482.954 L34.9447 482.954 Q33.6716 485.437 33.035 488.11 Q32.3984 490.784 32.3984 493.649 Q32.3984 498.009 33.7352 500.205 Q35.072 502.37 37.7456 502.37 Q39.7826 502.37 40.9603 500.81 Q42.1061 499.25 43.1565 494.54 L43.6021 492.535 Q44.9389 486.296 47.3897 483.686 Q49.8086 481.045 54.1691 481.045 Q59.1344 481.045 62.0308 484.991 Q64.9272 488.906 64.9272 495.781 Q64.9272 498.646 64.3543 501.765 Q63.8132 504.852 62.6992 508.29 L56.6518 508.29 Q58.3387 505.043 59.198 501.892 Q60.0256 498.741 60.0256 495.654 Q60.0256 491.516 58.6251 489.288 Q57.1929 487.06 54.6147 487.06 Q52.2276 487.06 50.9545 488.683 Q49.6813 490.275 48.5037 495.718 L48.0262 497.755 Q46.8804 503.197 44.5251 505.616 Q42.138 508.035 38.0002 508.035 Q32.9713 508.035 30.2341 504.47 Q27.4968 500.906 27.4968 494.349 Q27.4968 491.102 27.9743 488.238 Q28.4517 485.373 29.4065 482.954 Z\" fill=\"#000000\" fill-rule=\"evenodd\" fill-opacity=\"1\" /><path clip-path=\"url(#clip940)\" d=\"M646.41 18.8205 L646.41 65.8515 L656.294 65.8515 Q668.812 65.8515 674.604 60.1802 Q680.438 54.509 680.438 42.2752 Q680.438 30.1225 674.604 24.4918 Q668.812 18.8205 656.294 18.8205 L646.41 18.8205 M638.227 12.096 L655.038 12.096 Q672.619 12.096 680.843 19.4281 Q689.066 26.7198 689.066 42.2752 Q689.066 57.9117 680.802 65.2439 Q672.538 72.576 655.038 72.576 L638.227 72.576 L638.227 12.096 Z\" fill=\"#000000\" fill-rule=\"evenodd\" fill-opacity=\"1\" /><path clip-path=\"url(#clip940)\" d=\"M701.786 27.2059 L709.24 27.2059 L709.24 72.576 L701.786 72.576 L701.786 27.2059 M701.786 9.54393 L709.24 9.54393 L709.24 18.9825 L701.786 18.9825 L701.786 9.54393 Z\" fill=\"#000000\" fill-rule=\"evenodd\" fill-opacity=\"1\" /><path clip-path=\"url(#clip940)\" d=\"M753.759 28.5427 L753.759 35.5912 Q750.599 33.9709 747.196 33.1607 Q743.794 32.3505 740.148 32.3505 Q734.598 32.3505 731.803 34.0519 Q729.048 35.7533 729.048 39.156 Q729.048 41.7486 731.033 43.2475 Q733.018 44.7058 739.014 46.0426 L741.566 46.6097 Q749.506 48.3111 752.827 51.4303 Q756.19 54.509 756.19 60.0587 Q756.19 66.3781 751.166 70.0644 Q746.184 73.7508 737.434 73.7508 Q733.788 73.7508 729.818 73.0216 Q725.889 72.3329 721.514 70.9151 L721.514 63.2184 Q725.646 65.3654 729.656 66.4591 Q733.666 67.5124 737.596 67.5124 Q742.862 67.5124 745.698 65.73 Q748.533 63.9071 748.533 60.6258 Q748.533 57.5877 746.467 55.9673 Q744.442 54.3469 737.515 52.8481 L734.922 52.2405 Q727.995 50.7821 724.917 47.7845 Q721.838 44.7463 721.838 39.4801 Q721.838 33.0797 726.375 29.5959 Q730.912 26.1121 739.257 26.1121 Q743.389 26.1121 747.034 26.7198 Q750.68 27.3274 753.759 28.5427 Z\" fill=\"#000000\" fill-rule=\"evenodd\" fill-opacity=\"1\" /><path clip-path=\"url(#clip940)\" d=\"M775.431 14.324 L775.431 27.2059 L790.784 27.2059 L790.784 32.9987 L775.431 32.9987 L775.431 57.6282 Q775.431 63.1779 776.93 64.7578 Q778.469 66.3376 783.128 66.3376 L790.784 66.3376 L790.784 72.576 L783.128 72.576 Q774.5 72.576 771.218 69.3758 Q767.937 66.1351 767.937 57.6282 L767.937 32.9987 L762.468 32.9987 L762.468 27.2059 L767.937 27.2059 L767.937 14.324 L775.431 14.324 Z\" fill=\"#000000\" fill-rule=\"evenodd\" fill-opacity=\"1\" /><path clip-path=\"url(#clip940)\" d=\"M826.878 34.1734 Q825.622 33.4443 824.123 33.1202 Q822.665 32.7556 820.882 32.7556 Q814.563 32.7556 811.16 36.8875 Q807.798 40.9789 807.798 48.6757 L807.798 72.576 L800.304 72.576 L800.304 27.2059 L807.798 27.2059 L807.798 34.2544 Q810.148 30.1225 813.915 28.1376 Q817.682 26.1121 823.07 26.1121 Q823.84 26.1121 824.771 26.2337 Q825.703 26.3147 826.837 26.5172 L826.878 34.1734 Z\" fill=\"#000000\" fill-rule=\"evenodd\" fill-opacity=\"1\" /><path clip-path=\"url(#clip940)\" d=\"M834.696 27.2059 L842.15 27.2059 L842.15 72.576 L834.696 72.576 L834.696 27.2059 M834.696 9.54393 L842.15 9.54393 L842.15 18.9825 L834.696 18.9825 L834.696 9.54393 Z\" fill=\"#000000\" fill-rule=\"evenodd\" fill-opacity=\"1\" /><path clip-path=\"url(#clip940)\" d=\"M890.315 49.9314 Q890.315 41.7081 886.912 37.0496 Q883.55 32.3505 877.636 32.3505 Q871.721 32.3505 868.319 37.0496 Q864.956 41.7081 864.956 49.9314 Q864.956 58.1548 868.319 62.8538 Q871.721 67.5124 877.636 67.5124 Q883.55 67.5124 886.912 62.8538 Q890.315 58.1548 890.315 49.9314 M864.956 34.0924 Q867.306 30.0415 870.871 28.0971 Q874.476 26.1121 879.459 26.1121 Q887.722 26.1121 892.867 32.6746 Q898.052 39.2371 898.052 49.9314 Q898.052 60.6258 892.867 67.1883 Q887.722 73.7508 879.459 73.7508 Q874.476 73.7508 870.871 71.8063 Q867.306 69.8214 864.956 65.7705 L864.956 72.576 L857.462 72.576 L857.462 9.54393 L864.956 9.54393 L864.956 34.0924 Z\" fill=\"#000000\" fill-rule=\"evenodd\" fill-opacity=\"1\" /><path clip-path=\"url(#clip940)\" d=\"M909.638 54.671 L909.638 27.2059 L917.091 27.2059 L917.091 54.3874 Q917.091 60.8284 919.603 64.0691 Q922.115 67.2693 927.138 67.2693 Q933.174 67.2693 936.657 63.421 Q940.182 59.5726 940.182 52.9291 L940.182 27.2059 L947.635 27.2059 L947.635 72.576 L940.182 72.576 L940.182 65.6084 Q937.467 69.7404 933.862 71.7658 Q930.297 73.7508 925.558 73.7508 Q917.74 73.7508 913.689 68.8897 Q909.638 64.0286 909.638 54.671 M928.393 26.1121 L928.393 26.1121 Z\" fill=\"#000000\" fill-rule=\"evenodd\" fill-opacity=\"1\" /><path clip-path=\"url(#clip940)\" d=\"M970.361 14.324 L970.361 27.2059 L985.714 27.2059 L985.714 32.9987 L970.361 32.9987 L970.361 57.6282 Q970.361 63.1779 971.86 64.7578 Q973.399 66.3376 978.058 66.3376 L985.714 66.3376 L985.714 72.576 L978.058 72.576 Q969.429 72.576 966.148 69.3758 Q962.867 66.1351 962.867 57.6282 L962.867 32.9987 L957.398 32.9987 L957.398 27.2059 L962.867 27.2059 L962.867 14.324 L970.361 14.324 Z\" fill=\"#000000\" fill-rule=\"evenodd\" fill-opacity=\"1\" /><path clip-path=\"url(#clip940)\" d=\"M995.517 27.2059 L1002.97 27.2059 L1002.97 72.576 L995.517 72.576 L995.517 27.2059 M995.517 9.54393 L1002.97 9.54393 L1002.97 18.9825 L995.517 18.9825 L995.517 9.54393 Z\" fill=\"#000000\" fill-rule=\"evenodd\" fill-opacity=\"1\" /><path clip-path=\"url(#clip940)\" d=\"M1036.15 32.4315 Q1030.15 32.4315 1026.67 37.1306 Q1023.18 41.7891 1023.18 49.9314 Q1023.18 58.0738 1026.63 62.7728 Q1030.11 67.4314 1036.15 67.4314 Q1042.1 67.4314 1045.59 62.7323 Q1049.07 58.0333 1049.07 49.9314 Q1049.07 41.8701 1045.59 37.1711 Q1042.1 32.4315 1036.15 32.4315 M1036.15 26.1121 Q1045.87 26.1121 1051.42 32.4315 Q1056.97 38.7509 1056.97 49.9314 Q1056.97 61.0714 1051.42 67.4314 Q1045.87 73.7508 1036.15 73.7508 Q1026.38 73.7508 1020.84 67.4314 Q1015.33 61.0714 1015.33 49.9314 Q1015.33 38.7509 1020.84 32.4315 Q1026.38 26.1121 1036.15 26.1121 Z\" fill=\"#000000\" fill-rule=\"evenodd\" fill-opacity=\"1\" /><path clip-path=\"url(#clip940)\" d=\"M1107.04 45.1919 L1107.04 72.576 L1099.58 72.576 L1099.58 45.4349 Q1099.58 38.994 1097.07 35.7938 Q1094.56 32.5936 1089.54 32.5936 Q1083.5 32.5936 1080.02 36.4419 Q1076.54 40.2903 1076.54 46.9338 L1076.54 72.576 L1069.04 72.576 L1069.04 27.2059 L1076.54 27.2059 L1076.54 34.2544 Q1079.21 30.163 1082.81 28.1376 Q1086.46 26.1121 1091.2 26.1121 Q1099.02 26.1121 1103.03 30.9732 Q1107.04 35.7938 1107.04 45.1919 Z\" fill=\"#000000\" fill-rule=\"evenodd\" fill-opacity=\"1\" /><path clip-path=\"url(#clip940)\" d=\"M1165.86 32.4315 Q1159.86 32.4315 1156.38 37.1306 Q1152.89 41.7891 1152.89 49.9314 Q1152.89 58.0738 1156.34 62.7728 Q1159.82 67.4314 1165.86 67.4314 Q1171.81 67.4314 1175.3 62.7323 Q1178.78 58.0333 1178.78 49.9314 Q1178.78 41.8701 1175.3 37.1711 Q1171.81 32.4315 1165.86 32.4315 M1165.86 26.1121 Q1175.58 26.1121 1181.13 32.4315 Q1186.68 38.7509 1186.68 49.9314 Q1186.68 61.0714 1181.13 67.4314 Q1175.58 73.7508 1165.86 73.7508 Q1156.09 73.7508 1150.55 67.4314 Q1145.04 61.0714 1145.04 49.9314 Q1145.04 38.7509 1150.55 32.4315 Q1156.09 26.1121 1165.86 26.1121 Z\" fill=\"#000000\" fill-rule=\"evenodd\" fill-opacity=\"1\" /><path clip-path=\"url(#clip940)\" d=\"M1222 9.54393 L1222 15.7418 L1214.87 15.7418 Q1210.86 15.7418 1209.28 17.3622 Q1207.74 18.9825 1207.74 23.1955 L1207.74 27.2059 L1220.02 27.2059 L1220.02 32.9987 L1207.74 32.9987 L1207.74 72.576 L1200.25 72.576 L1200.25 32.9987 L1193.12 32.9987 L1193.12 27.2059 L1200.25 27.2059 L1200.25 24.0462 Q1200.25 16.471 1203.77 13.0277 Q1207.3 9.54393 1214.95 9.54393 L1222 9.54393 Z\" fill=\"#000000\" fill-rule=\"evenodd\" fill-opacity=\"1\" /><path clip-path=\"url(#clip940)\" d=\"M1296.18 63.9476 L1296.18 47.7034 L1282.81 47.7034 L1282.81 40.9789 L1304.28 40.9789 L1304.28 66.9452 Q1299.54 70.3075 1293.83 72.0494 Q1288.11 73.7508 1281.63 73.7508 Q1267.45 73.7508 1259.43 65.4869 Q1251.45 57.1826 1251.45 42.3968 Q1251.45 27.5705 1259.43 19.3066 Q1267.45 11.0023 1281.63 11.0023 Q1287.55 11.0023 1292.85 12.4606 Q1298.2 13.9189 1302.7 16.7545 L1302.7 25.464 Q1298.16 21.6156 1293.06 19.6712 Q1287.95 17.7268 1282.32 17.7268 Q1271.22 17.7268 1265.63 23.9246 Q1260.08 30.1225 1260.08 42.3968 Q1260.08 54.6305 1265.63 60.8284 Q1271.22 67.0263 1282.32 67.0263 Q1286.66 67.0263 1290.06 66.2971 Q1293.46 65.5274 1296.18 63.9476 Z\" fill=\"#000000\" fill-rule=\"evenodd\" fill-opacity=\"1\" /><path clip-path=\"url(#clip940)\" d=\"M1339.52 49.7694 Q1330.49 49.7694 1327 51.8354 Q1323.52 53.9013 1323.52 58.8839 Q1323.52 62.8538 1326.11 65.2034 Q1328.74 67.5124 1333.24 67.5124 Q1339.44 67.5124 1343.17 63.1374 Q1346.93 58.7219 1346.93 51.4303 L1346.93 49.7694 L1339.52 49.7694 M1354.39 46.6907 L1354.39 72.576 L1346.93 72.576 L1346.93 65.6895 Q1344.38 69.8214 1340.57 71.8063 Q1336.77 73.7508 1331.26 73.7508 Q1324.29 73.7508 1320.16 69.8619 Q1316.06 65.9325 1316.06 59.3701 Q1316.06 51.7138 1321.17 47.825 Q1326.31 43.9361 1336.48 43.9361 L1346.93 43.9361 L1346.93 43.2069 Q1346.93 38.0623 1343.53 35.2672 Q1340.17 32.4315 1334.05 32.4315 Q1330.16 32.4315 1326.48 33.3632 Q1322.79 34.295 1319.39 36.1584 L1319.39 29.2718 Q1323.48 27.692 1327.33 26.9223 Q1331.17 26.1121 1334.82 26.1121 Q1344.66 26.1121 1349.53 31.2163 Q1354.39 36.3204 1354.39 46.6907 Z\" fill=\"#000000\" fill-rule=\"evenodd\" fill-opacity=\"1\" /><path clip-path=\"url(#clip940)\" d=\"M1405.06 35.9153 Q1407.86 30.8922 1411.75 28.5022 Q1415.64 26.1121 1420.9 26.1121 Q1427.99 26.1121 1431.84 31.0947 Q1435.69 36.0368 1435.69 45.1919 L1435.69 72.576 L1428.19 72.576 L1428.19 45.4349 Q1428.19 38.913 1425.88 35.7533 Q1423.58 32.5936 1418.84 32.5936 Q1413.04 32.5936 1409.68 36.4419 Q1406.32 40.2903 1406.32 46.9338 L1406.32 72.576 L1398.82 72.576 L1398.82 45.4349 Q1398.82 38.8725 1396.52 35.7533 Q1394.21 32.5936 1389.39 32.5936 Q1383.67 32.5936 1380.31 36.4824 Q1376.95 40.3308 1376.95 46.9338 L1376.95 72.576 L1369.46 72.576 L1369.46 27.2059 L1376.95 27.2059 L1376.95 34.2544 Q1379.5 30.082 1383.07 28.0971 Q1386.63 26.1121 1391.53 26.1121 Q1396.48 26.1121 1399.92 28.6237 Q1403.4 31.1352 1405.06 35.9153 Z\" fill=\"#000000\" fill-rule=\"evenodd\" fill-opacity=\"1\" /><path clip-path=\"url(#clip940)\" d=\"M1489.36 48.0275 L1489.36 51.6733 L1455.09 51.6733 Q1455.58 59.3701 1459.71 63.421 Q1463.88 67.4314 1471.3 67.4314 Q1475.59 67.4314 1479.6 66.3781 Q1483.65 65.3249 1487.62 63.2184 L1487.62 70.267 Q1483.61 71.9684 1479.4 72.8596 Q1475.18 73.7508 1470.85 73.7508 Q1459.99 73.7508 1453.63 67.4314 Q1447.31 61.1119 1447.31 50.3365 Q1447.31 39.1965 1453.31 32.6746 Q1459.35 26.1121 1469.55 26.1121 Q1478.71 26.1121 1484.02 32.0264 Q1489.36 37.9003 1489.36 48.0275 M1481.91 45.84 Q1481.83 39.7232 1478.47 36.0774 Q1475.14 32.4315 1469.63 32.4315 Q1463.4 32.4315 1459.63 35.9558 Q1455.9 39.4801 1455.34 45.8805 L1481.91 45.84 Z\" fill=\"#000000\" fill-rule=\"evenodd\" fill-opacity=\"1\" /><path clip-path=\"url(#clip940)\" d=\"M1536.47 18.8205 L1536.47 65.8515 L1546.36 65.8515 Q1558.88 65.8515 1564.67 60.1802 Q1570.5 54.509 1570.5 42.2752 Q1570.5 30.1225 1564.67 24.4918 Q1558.88 18.8205 1546.36 18.8205 L1536.47 18.8205 M1528.29 12.096 L1545.1 12.096 Q1562.68 12.096 1570.91 19.4281 Q1579.13 26.7198 1579.13 42.2752 Q1579.13 57.9117 1570.87 65.2439 Q1562.6 72.576 1545.1 72.576 L1528.29 72.576 L1528.29 12.096 Z\" fill=\"#000000\" fill-rule=\"evenodd\" fill-opacity=\"1\" /><path clip-path=\"url(#clip940)\" d=\"M1591.08 54.671 L1591.08 27.2059 L1598.53 27.2059 L1598.53 54.3874 Q1598.53 60.8284 1601.05 64.0691 Q1603.56 67.2693 1608.58 67.2693 Q1614.62 67.2693 1618.1 63.421 Q1621.62 59.5726 1621.62 52.9291 L1621.62 27.2059 L1629.08 27.2059 L1629.08 72.576 L1621.62 72.576 L1621.62 65.6084 Q1618.91 69.7404 1615.31 71.7658 Q1611.74 73.7508 1607 73.7508 Q1599.18 73.7508 1595.13 68.8897 Q1591.08 64.0286 1591.08 54.671 M1609.84 26.1121 L1609.84 26.1121 Z\" fill=\"#000000\" fill-rule=\"evenodd\" fill-opacity=\"1\" /><path clip-path=\"url(#clip940)\" d=\"M1670.72 34.1734 Q1669.47 33.4443 1667.97 33.1202 Q1666.51 32.7556 1664.73 32.7556 Q1658.41 32.7556 1655 36.8875 Q1651.64 40.9789 1651.64 48.6757 L1651.64 72.576 L1644.15 72.576 L1644.15 27.2059 L1651.64 27.2059 L1651.64 34.2544 Q1653.99 30.1225 1657.76 28.1376 Q1661.53 26.1121 1666.91 26.1121 Q1667.68 26.1121 1668.62 26.2337 Q1669.55 26.3147 1670.68 26.5172 L1670.72 34.1734 Z\" fill=\"#000000\" fill-rule=\"evenodd\" fill-opacity=\"1\" /><path clip-path=\"url(#clip940)\" d=\"M1699.16 49.7694 Q1690.13 49.7694 1686.64 51.8354 Q1683.16 53.9013 1683.16 58.8839 Q1683.16 62.8538 1685.75 65.2034 Q1688.38 67.5124 1692.88 67.5124 Q1699.08 67.5124 1702.8 63.1374 Q1706.57 58.7219 1706.57 51.4303 L1706.57 49.7694 L1699.16 49.7694 M1714.03 46.6907 L1714.03 72.576 L1706.57 72.576 L1706.57 65.6895 Q1704.02 69.8214 1700.21 71.8063 Q1696.4 73.7508 1690.9 73.7508 Q1683.93 73.7508 1679.8 69.8619 Q1675.7 65.9325 1675.7 59.3701 Q1675.7 51.7138 1680.81 47.825 Q1685.95 43.9361 1696.12 43.9361 L1706.57 43.9361 L1706.57 43.2069 Q1706.57 38.0623 1703.17 35.2672 Q1699.81 32.4315 1693.69 32.4315 Q1689.8 32.4315 1686.12 33.3632 Q1682.43 34.295 1679.03 36.1584 L1679.03 29.2718 Q1683.12 27.692 1686.97 26.9223 Q1690.81 26.1121 1694.46 26.1121 Q1704.3 26.1121 1709.16 31.2163 Q1714.03 36.3204 1714.03 46.6907 Z\" fill=\"#000000\" fill-rule=\"evenodd\" fill-opacity=\"1\" /><path clip-path=\"url(#clip940)\" d=\"M1736.75 14.324 L1736.75 27.2059 L1752.1 27.2059 L1752.1 32.9987 L1736.75 32.9987 L1736.75 57.6282 Q1736.75 63.1779 1738.25 64.7578 Q1739.79 66.3376 1744.45 66.3376 L1752.1 66.3376 L1752.1 72.576 L1744.45 72.576 Q1735.82 72.576 1732.54 69.3758 Q1729.26 66.1351 1729.26 57.6282 L1729.26 32.9987 L1723.79 32.9987 L1723.79 27.2059 L1729.26 27.2059 L1729.26 14.324 L1736.75 14.324 Z\" fill=\"#000000\" fill-rule=\"evenodd\" fill-opacity=\"1\" /><path clip-path=\"url(#clip940)\" d=\"M1761.91 27.2059 L1769.36 27.2059 L1769.36 72.576 L1761.91 72.576 L1761.91 27.2059 M1761.91 9.54393 L1769.36 9.54393 L1769.36 18.9825 L1761.91 18.9825 L1761.91 9.54393 Z\" fill=\"#000000\" fill-rule=\"evenodd\" fill-opacity=\"1\" /><path clip-path=\"url(#clip940)\" d=\"M1802.54 32.4315 Q1796.54 32.4315 1793.06 37.1306 Q1789.58 41.7891 1789.58 49.9314 Q1789.58 58.0738 1793.02 62.7728 Q1796.5 67.4314 1802.54 67.4314 Q1808.49 67.4314 1811.98 62.7323 Q1815.46 58.0333 1815.46 49.9314 Q1815.46 41.8701 1811.98 37.1711 Q1808.49 32.4315 1802.54 32.4315 M1802.54 26.1121 Q1812.26 26.1121 1817.81 32.4315 Q1823.36 38.7509 1823.36 49.9314 Q1823.36 61.0714 1817.81 67.4314 Q1812.26 73.7508 1802.54 73.7508 Q1792.78 73.7508 1787.23 67.4314 Q1781.72 61.0714 1781.72 49.9314 Q1781.72 38.7509 1787.23 32.4315 Q1792.78 26.1121 1802.54 26.1121 Z\" fill=\"#000000\" fill-rule=\"evenodd\" fill-opacity=\"1\" /><path clip-path=\"url(#clip940)\" d=\"M1873.43 45.1919 L1873.43 72.576 L1865.98 72.576 L1865.98 45.4349 Q1865.98 38.994 1863.46 35.7938 Q1860.95 32.5936 1855.93 32.5936 Q1849.89 32.5936 1846.41 36.4419 Q1842.93 40.2903 1842.93 46.9338 L1842.93 72.576 L1835.43 72.576 L1835.43 27.2059 L1842.93 27.2059 L1842.93 34.2544 Q1845.6 30.163 1849.2 28.1376 Q1852.85 26.1121 1857.59 26.1121 Q1865.41 26.1121 1869.42 30.9732 Q1873.43 35.7938 1873.43 45.1919 Z\" fill=\"#000000\" fill-rule=\"evenodd\" fill-opacity=\"1\" /><path clip-path=\"url(#clip940)\" d=\"M1917.22 28.5427 L1917.22 35.5912 Q1914.06 33.9709 1910.66 33.1607 Q1907.25 32.3505 1903.61 32.3505 Q1898.06 32.3505 1895.26 34.0519 Q1892.51 35.7533 1892.51 39.156 Q1892.51 41.7486 1894.49 43.2475 Q1896.48 44.7058 1902.47 46.0426 L1905.03 46.6097 Q1912.97 48.3111 1916.29 51.4303 Q1919.65 54.509 1919.65 60.0587 Q1919.65 66.3781 1914.63 70.0644 Q1909.64 73.7508 1900.89 73.7508 Q1897.25 73.7508 1893.28 73.0216 Q1889.35 72.3329 1884.97 70.9151 L1884.97 63.2184 Q1889.11 65.3654 1893.12 66.4591 Q1897.13 67.5124 1901.06 67.5124 Q1906.32 67.5124 1909.16 65.73 Q1911.99 63.9071 1911.99 60.6258 Q1911.99 57.5877 1909.93 55.9673 Q1907.9 54.3469 1900.98 52.8481 L1898.38 52.2405 Q1891.46 50.7821 1888.38 47.7845 Q1885.3 44.7463 1885.3 39.4801 Q1885.3 33.0797 1889.84 29.5959 Q1894.37 26.1121 1902.72 26.1121 Q1906.85 26.1121 1910.49 26.7198 Q1914.14 27.3274 1917.22 28.5427 Z\" fill=\"#000000\" fill-rule=\"evenodd\" fill-opacity=\"1\" /><path clip-path=\"url(#clip942)\" d=\"\n",
       "M323.245 959.105 L323.245 1386.4 L459.772 1386.4 L459.772 959.105 L323.245 959.105 L323.245 959.105  Z\n",
       "  \" fill=\"#009af9\" fill-rule=\"evenodd\" fill-opacity=\"1\"/>\n",
       "<polyline clip-path=\"url(#clip942)\" style=\"stroke:#000000; stroke-linecap:round; stroke-linejoin:round; stroke-width:4; stroke-opacity:1; fill:none\" points=\"\n",
       "  323.245,959.105 323.245,1386.4 459.772,1386.4 459.772,959.105 323.245,959.105 \n",
       "  \"/>\n",
       "<path clip-path=\"url(#clip942)\" d=\"\n",
       "M459.772 346.035 L459.772 1386.4 L596.3 1386.4 L596.3 346.035 L459.772 346.035 L459.772 346.035  Z\n",
       "  \" fill=\"#009af9\" fill-rule=\"evenodd\" fill-opacity=\"1\"/>\n",
       "<polyline clip-path=\"url(#clip942)\" style=\"stroke:#000000; stroke-linecap:round; stroke-linejoin:round; stroke-width:4; stroke-opacity:1; fill:none\" points=\"\n",
       "  459.772,346.035 459.772,1386.4 596.3,1386.4 596.3,346.035 459.772,346.035 \n",
       "  \"/>\n",
       "<path clip-path=\"url(#clip942)\" d=\"\n",
       "M596.3 160.256 L596.3 1386.4 L732.828 1386.4 L732.828 160.256 L596.3 160.256 L596.3 160.256  Z\n",
       "  \" fill=\"#009af9\" fill-rule=\"evenodd\" fill-opacity=\"1\"/>\n",
       "<polyline clip-path=\"url(#clip942)\" style=\"stroke:#000000; stroke-linecap:round; stroke-linejoin:round; stroke-width:4; stroke-opacity:1; fill:none\" points=\"\n",
       "  596.3,160.256 596.3,1386.4 732.828,1386.4 732.828,160.256 596.3,160.256 \n",
       "  \"/>\n",
       "<path clip-path=\"url(#clip942)\" d=\"\n",
       "M732.828 401.769 L732.828 1386.4 L869.355 1386.4 L869.355 401.769 L732.828 401.769 L732.828 401.769  Z\n",
       "  \" fill=\"#009af9\" fill-rule=\"evenodd\" fill-opacity=\"1\"/>\n",
       "<polyline clip-path=\"url(#clip942)\" style=\"stroke:#000000; stroke-linecap:round; stroke-linejoin:round; stroke-width:4; stroke-opacity:1; fill:none\" points=\"\n",
       "  732.828,401.769 732.828,1386.4 869.355,1386.4 869.355,401.769 732.828,401.769 \n",
       "  \"/>\n",
       "<path clip-path=\"url(#clip942)\" d=\"\n",
       "M869.355 1237.77 L869.355 1386.4 L1005.88 1386.4 L1005.88 1237.77 L869.355 1237.77 L869.355 1237.77  Z\n",
       "  \" fill=\"#009af9\" fill-rule=\"evenodd\" fill-opacity=\"1\"/>\n",
       "<polyline clip-path=\"url(#clip942)\" style=\"stroke:#000000; stroke-linecap:round; stroke-linejoin:round; stroke-width:4; stroke-opacity:1; fill:none\" points=\"\n",
       "  869.355,1237.77 869.355,1386.4 1005.88,1386.4 1005.88,1237.77 869.355,1237.77 \n",
       "  \"/>\n",
       "<path clip-path=\"url(#clip942)\" d=\"\n",
       "M1005.88 1051.99 L1005.88 1386.4 L1142.41 1386.4 L1142.41 1051.99 L1005.88 1051.99 L1005.88 1051.99  Z\n",
       "  \" fill=\"#009af9\" fill-rule=\"evenodd\" fill-opacity=\"1\"/>\n",
       "<polyline clip-path=\"url(#clip942)\" style=\"stroke:#000000; stroke-linecap:round; stroke-linejoin:round; stroke-width:4; stroke-opacity:1; fill:none\" points=\"\n",
       "  1005.88,1051.99 1005.88,1386.4 1142.41,1386.4 1142.41,1051.99 1005.88,1051.99 \n",
       "  \"/>\n",
       "<path clip-path=\"url(#clip942)\" d=\"\n",
       "M1142.41 977.683 L1142.41 1386.4 L1278.94 1386.4 L1278.94 977.683 L1142.41 977.683 L1142.41 977.683  Z\n",
       "  \" fill=\"#009af9\" fill-rule=\"evenodd\" fill-opacity=\"1\"/>\n",
       "<polyline clip-path=\"url(#clip942)\" style=\"stroke:#000000; stroke-linecap:round; stroke-linejoin:round; stroke-width:4; stroke-opacity:1; fill:none\" points=\"\n",
       "  1142.41,977.683 1142.41,1386.4 1278.94,1386.4 1278.94,977.683 1142.41,977.683 \n",
       "  \"/>\n",
       "<path clip-path=\"url(#clip942)\" d=\"\n",
       "M1278.94 1126.31 L1278.94 1386.4 L1415.47 1386.4 L1415.47 1126.31 L1278.94 1126.31 L1278.94 1126.31  Z\n",
       "  \" fill=\"#009af9\" fill-rule=\"evenodd\" fill-opacity=\"1\"/>\n",
       "<polyline clip-path=\"url(#clip942)\" style=\"stroke:#000000; stroke-linecap:round; stroke-linejoin:round; stroke-width:4; stroke-opacity:1; fill:none\" points=\"\n",
       "  1278.94,1126.31 1278.94,1386.4 1415.47,1386.4 1415.47,1126.31 1278.94,1126.31 \n",
       "  \"/>\n",
       "<path clip-path=\"url(#clip942)\" d=\"\n",
       "M1415.47 1330.66 L1415.47 1386.4 L1551.99 1386.4 L1551.99 1330.66 L1415.47 1330.66 L1415.47 1330.66  Z\n",
       "  \" fill=\"#009af9\" fill-rule=\"evenodd\" fill-opacity=\"1\"/>\n",
       "<polyline clip-path=\"url(#clip942)\" style=\"stroke:#000000; stroke-linecap:round; stroke-linejoin:round; stroke-width:4; stroke-opacity:1; fill:none\" points=\"\n",
       "  1415.47,1330.66 1415.47,1386.4 1551.99,1386.4 1551.99,1330.66 1415.47,1330.66 \n",
       "  \"/>\n",
       "<path clip-path=\"url(#clip942)\" d=\"\n",
       "M1551.99 1312.08 L1551.99 1386.4 L1688.52 1386.4 L1688.52 1312.08 L1551.99 1312.08 L1551.99 1312.08  Z\n",
       "  \" fill=\"#009af9\" fill-rule=\"evenodd\" fill-opacity=\"1\"/>\n",
       "<polyline clip-path=\"url(#clip942)\" style=\"stroke:#000000; stroke-linecap:round; stroke-linejoin:round; stroke-width:4; stroke-opacity:1; fill:none\" points=\"\n",
       "  1551.99,1312.08 1551.99,1386.4 1688.52,1386.4 1688.52,1312.08 1551.99,1312.08 \n",
       "  \"/>\n",
       "<path clip-path=\"url(#clip942)\" d=\"\n",
       "M1688.52 1367.82 L1688.52 1386.4 L1825.05 1386.4 L1825.05 1367.82 L1688.52 1367.82 L1688.52 1367.82  Z\n",
       "  \" fill=\"#009af9\" fill-rule=\"evenodd\" fill-opacity=\"1\"/>\n",
       "<polyline clip-path=\"url(#clip942)\" style=\"stroke:#000000; stroke-linecap:round; stroke-linejoin:round; stroke-width:4; stroke-opacity:1; fill:none\" points=\"\n",
       "  1688.52,1367.82 1688.52,1386.4 1825.05,1386.4 1825.05,1367.82 1688.52,1367.82 \n",
       "  \"/>\n",
       "<path clip-path=\"url(#clip942)\" d=\"\n",
       "M1825.05 1386.4 L1825.05 1386.4 L1961.58 1386.4 L1961.58 1386.4 L1825.05 1386.4 L1825.05 1386.4  Z\n",
       "  \" fill=\"#009af9\" fill-rule=\"evenodd\" fill-opacity=\"1\"/>\n",
       "<polyline clip-path=\"url(#clip942)\" style=\"stroke:#000000; stroke-linecap:round; stroke-linejoin:round; stroke-width:4; stroke-opacity:1; fill:none\" points=\"\n",
       "  1825.05,1386.4 1825.05,1386.4 1961.58,1386.4 1825.05,1386.4 \n",
       "  \"/>\n",
       "<path clip-path=\"url(#clip942)\" d=\"\n",
       "M1961.58 1386.4 L1961.58 1386.4 L2098.1 1386.4 L2098.1 1386.4 L1961.58 1386.4 L1961.58 1386.4  Z\n",
       "  \" fill=\"#009af9\" fill-rule=\"evenodd\" fill-opacity=\"1\"/>\n",
       "<polyline clip-path=\"url(#clip942)\" style=\"stroke:#000000; stroke-linecap:round; stroke-linejoin:round; stroke-width:4; stroke-opacity:1; fill:none\" points=\"\n",
       "  1961.58,1386.4 1961.58,1386.4 2098.1,1386.4 1961.58,1386.4 \n",
       "  \"/>\n",
       "<path clip-path=\"url(#clip942)\" d=\"\n",
       "M2098.1 1349.24 L2098.1 1386.4 L2234.63 1386.4 L2234.63 1349.24 L2098.1 1349.24 L2098.1 1349.24  Z\n",
       "  \" fill=\"#009af9\" fill-rule=\"evenodd\" fill-opacity=\"1\"/>\n",
       "<polyline clip-path=\"url(#clip942)\" style=\"stroke:#000000; stroke-linecap:round; stroke-linejoin:round; stroke-width:4; stroke-opacity:1; fill:none\" points=\"\n",
       "  2098.1,1349.24 2098.1,1386.4 2234.63,1386.4 2234.63,1349.24 2098.1,1349.24 \n",
       "  \"/>\n",
       "<circle clip-path=\"url(#clip942)\" style=\"fill:#009af9; stroke:none; fill-opacity:0\" cx=\"391.509\" cy=\"959.105\" r=\"2\"/>\n",
       "<circle clip-path=\"url(#clip942)\" style=\"fill:#009af9; stroke:none; fill-opacity:0\" cx=\"528.036\" cy=\"346.035\" r=\"2\"/>\n",
       "<circle clip-path=\"url(#clip942)\" style=\"fill:#009af9; stroke:none; fill-opacity:0\" cx=\"664.564\" cy=\"160.256\" r=\"2\"/>\n",
       "<circle clip-path=\"url(#clip942)\" style=\"fill:#009af9; stroke:none; fill-opacity:0\" cx=\"801.092\" cy=\"401.769\" r=\"2\"/>\n",
       "<circle clip-path=\"url(#clip942)\" style=\"fill:#009af9; stroke:none; fill-opacity:0\" cx=\"937.619\" cy=\"1237.77\" r=\"2\"/>\n",
       "<circle clip-path=\"url(#clip942)\" style=\"fill:#009af9; stroke:none; fill-opacity:0\" cx=\"1074.15\" cy=\"1051.99\" r=\"2\"/>\n",
       "<circle clip-path=\"url(#clip942)\" style=\"fill:#009af9; stroke:none; fill-opacity:0\" cx=\"1210.67\" cy=\"977.683\" r=\"2\"/>\n",
       "<circle clip-path=\"url(#clip942)\" style=\"fill:#009af9; stroke:none; fill-opacity:0\" cx=\"1347.2\" cy=\"1126.31\" r=\"2\"/>\n",
       "<circle clip-path=\"url(#clip942)\" style=\"fill:#009af9; stroke:none; fill-opacity:0\" cx=\"1483.73\" cy=\"1330.66\" r=\"2\"/>\n",
       "<circle clip-path=\"url(#clip942)\" style=\"fill:#009af9; stroke:none; fill-opacity:0\" cx=\"1620.26\" cy=\"1312.08\" r=\"2\"/>\n",
       "<circle clip-path=\"url(#clip942)\" style=\"fill:#009af9; stroke:none; fill-opacity:0\" cx=\"1756.79\" cy=\"1367.82\" r=\"2\"/>\n",
       "<circle clip-path=\"url(#clip942)\" style=\"fill:#009af9; stroke:none; fill-opacity:0\" cx=\"1893.31\" cy=\"1386.4\" r=\"2\"/>\n",
       "<circle clip-path=\"url(#clip942)\" style=\"fill:#009af9; stroke:none; fill-opacity:0\" cx=\"2029.84\" cy=\"1386.4\" r=\"2\"/>\n",
       "<circle clip-path=\"url(#clip942)\" style=\"fill:#009af9; stroke:none; fill-opacity:0\" cx=\"2166.37\" cy=\"1349.24\" r=\"2\"/>\n",
       "</svg>\n"
      ]
     },
     "execution_count": 113,
     "metadata": {},
     "output_type": "execute_result"
    }
   ],
   "source": [
    "histogram(\n",
    "    training_games[:,\"duration\"],\n",
    "    title=\"Distribution of Game Durations\",\n",
    "    xlabel=\"# of Breaths\",\n",
    "    ylabel=\"Number of Games\",\n",
    "    legend=false\n",
    ")"
   ]
  },
  {
   "cell_type": "markdown",
   "id": "18dfc744",
   "metadata": {},
   "source": [
    "Now that we know which games are in the training set, we'll select all the breaths from those games as our training data. Although the training set itself contains all games in which there was at least one human player, we only want to train on human empirical strategies, so we will filter out any breaths that were played by bots."
   ]
  },
  {
   "cell_type": "code",
   "execution_count": 115,
   "id": "33a24f59",
   "metadata": {},
   "outputs": [
    {
     "name": "stdout",
     "output_type": "stream",
     "text": [
      "Data contain 2130 breaths.\n",
      "1891 distinct states of 668884 total states visited (0.28% of state space).\n"
     ]
    }
   ],
   "source": [
    "training_breaths_query = \"\"\"\n",
    "SELECT\n",
    "    training_games.game_id, breaths.state, breaths.action, breaths.is_winner,\n",
    "    (CASE breaths.is_winner\n",
    "        WHEN 1 THEN training_games.winner_is_bot\n",
    "        ELSE training_games.loser_is_bot\n",
    "    END) as is_bot\n",
    "FROM ($(training_games_query)) training_games\n",
    "RIGHT JOIN breaths\n",
    "    on training_games.game_id = breaths.game_id\n",
    "WHERE (is_bot=0)\n",
    "\"\"\"\n",
    "#Use a right join on the `training_games` table to ensure we are only using breaths\n",
    "#from the training set.\n",
    "\n",
    "training_breaths = DBInterface.execute(db,training_breaths_query) |> DataFrame\n",
    "println(\"\"\"Data contain $(nrow(training_breaths)) breaths.\"\"\")\n",
    "println(\"\"\"$(length(unique(training_breaths[:,\"state\"]))) distinct states of $(\n",
    "    length(STATE_SPACE)) total states visited ($(\n",
    "    round(100*length(unique(training_breaths[:,\"state\"]))/length(STATE_SPACE),digits=2)\n",
    "    )% of state space).\"\"\")"
   ]
  },
  {
   "cell_type": "markdown",
   "id": "e3ca4fae",
   "metadata": {},
   "source": [
    "As expected; the state space is huge and the player base is small. We are doing our best with limited data here."
   ]
  },
  {
   "cell_type": "markdown",
   "id": "ff132d2d",
   "metadata": {},
   "source": [
    "Finally, let's examine some statistics of the players who contributed to the training set:"
   ]
  },
  {
   "cell_type": "code",
   "execution_count": 142,
   "id": "077b5127",
   "metadata": {
    "scrolled": true
   },
   "outputs": [
    {
     "data": {
      "text/html": [
       "<div><div style = \"float: left;\"><span>4×6 DataFrame</span></div><div style = \"clear: both;\"></div></div><div class = \"data-frame\" style = \"overflow-x: scroll;\"><table class = \"data-frame\" style = \"margin-bottom: 6px;\"><thead><tr class = \"header\"><th class = \"rowNumber\" style = \"font-weight: bold; text-align: right;\">Row</th><th style = \"text-align: left;\">player_id</th><th style = \"text-align: left;\">username</th><th style = \"text-align: left;\">wins</th><th style = \"text-align: left;\">losses</th><th style = \"text-align: left;\">games_played</th><th style = \"text-align: left;\">win_rate</th></tr><tr class = \"subheader headerLastRow\"><th class = \"rowNumber\" style = \"font-weight: bold; text-align: right;\"></th><th title = \"Int64\" style = \"text-align: left;\">Int64</th><th title = \"String\" style = \"text-align: left;\">String</th><th title = \"Int64\" style = \"text-align: left;\">Int64</th><th title = \"Int64\" style = \"text-align: left;\">Int64</th><th title = \"Int64\" style = \"text-align: left;\">Int64</th><th title = \"Float64\" style = \"text-align: left;\">Float64</th></tr></thead><tbody><tr><td class = \"rowNumber\" style = \"font-weight: bold; text-align: right;\">1</td><td style = \"text-align: right;\">1</td><td style = \"text-align: left;\">maestro</td><td style = \"text-align: right;\">140</td><td style = \"text-align: right;\">128</td><td style = \"text-align: right;\">268</td><td style = \"text-align: right;\">0.522388</td></tr><tr><td class = \"rowNumber\" style = \"font-weight: bold; text-align: right;\">2</td><td style = \"text-align: right;\">2</td><td style = \"text-align: left;\">Handel</td><td style = \"text-align: right;\">71</td><td style = \"text-align: right;\">87</td><td style = \"text-align: right;\">158</td><td style = \"text-align: right;\">0.449367</td></tr><tr><td class = \"rowNumber\" style = \"font-weight: bold; text-align: right;\">3</td><td style = \"text-align: right;\">3</td><td style = \"text-align: left;\">Joe</td><td style = \"text-align: right;\">52</td><td style = \"text-align: right;\">48</td><td style = \"text-align: right;\">100</td><td style = \"text-align: right;\">0.52</td></tr><tr><td class = \"rowNumber\" style = \"font-weight: bold; text-align: right;\">4</td><td style = \"text-align: right;\">4</td><td style = \"text-align: left;\">Comet</td><td style = \"text-align: right;\">7</td><td style = \"text-align: right;\">7</td><td style = \"text-align: right;\">14</td><td style = \"text-align: right;\">0.5</td></tr></tbody></table></div>"
      ],
      "text/latex": [
       "\\begin{tabular}{r|cccccc}\n",
       "\t& player\\_id & username & wins & losses & games\\_played & win\\_rate\\\\\n",
       "\t\\hline\n",
       "\t& Int64 & String & Int64 & Int64 & Int64 & Float64\\\\\n",
       "\t\\hline\n",
       "\t1 & 1 & maestro & 140 & 128 & 268 & 0.522388 \\\\\n",
       "\t2 & 2 & Handel & 71 & 87 & 158 & 0.449367 \\\\\n",
       "\t3 & 3 & Joe & 52 & 48 & 100 & 0.52 \\\\\n",
       "\t4 & 4 & Comet & 7 & 7 & 14 & 0.5 \\\\\n",
       "\\end{tabular}\n"
      ],
      "text/plain": [
       "\u001b[1m4×6 DataFrame\u001b[0m\n",
       "\u001b[1m Row \u001b[0m│\u001b[1m player_id \u001b[0m\u001b[1m username \u001b[0m\u001b[1m wins  \u001b[0m\u001b[1m losses \u001b[0m\u001b[1m games_played \u001b[0m\u001b[1m win_rate \u001b[0m\n",
       "     │\u001b[90m Int64     \u001b[0m\u001b[90m String   \u001b[0m\u001b[90m Int64 \u001b[0m\u001b[90m Int64  \u001b[0m\u001b[90m Int64        \u001b[0m\u001b[90m Float64  \u001b[0m\n",
       "─────┼────────────────────────────────────────────────────────────\n",
       "   1 │         1  maestro     140     128           268  0.522388\n",
       "   2 │         2  Handel       71      87           158  0.449367\n",
       "   3 │         3  Joe          52      48           100  0.52\n",
       "   4 │         4  Comet         7       7            14  0.5"
      ]
     },
     "execution_count": 142,
     "metadata": {},
     "output_type": "execute_result"
    }
   ],
   "source": [
    "player_wins_query = \"\"\"\n",
    "SELECT player_id, username, COUNT(*) as wins\n",
    "FROM players\n",
    "RIGHT JOIN games victories\n",
    "    on players.player_id = victories.winner_id\n",
    "WHERE (is_bot=0)\n",
    "AND (victories.game_id<=$(CONFIG[\"training-cutoff\"]))\n",
    "GROUP BY player_id\n",
    "\"\"\"\n",
    "\n",
    "player_stats_query = \"\"\"\n",
    "SELECT player_id, username, wins, COUNT(*) as losses, \n",
    "wins+COUNT(*) as games_played, 1.0*wins/(wins+COUNT(*)) as win_rate\n",
    "FROM ($(player_wins_query)) player_wins\n",
    "RIGHT JOIN games losses\n",
    "    on player_wins.player_id = losses.loser_id\n",
    "WHERE (losses.game_id<=$(CONFIG[\"training-cutoff\"]))\n",
    "GROUP BY player_id\n",
    "\"\"\"\n",
    "\n",
    "player_stats = DBInterface.execute(db,player_stats_query) |> DataFrame"
   ]
  },
  {
   "cell_type": "code",
   "execution_count": 157,
   "id": "e4d5241c",
   "metadata": {},
   "outputs": [
    {
     "data": {
      "image/svg+xml": [
       "<?xml version=\"1.0\" encoding=\"utf-8\"?>\n",
       "<svg xmlns=\"http://www.w3.org/2000/svg\" xmlns:xlink=\"http://www.w3.org/1999/xlink\" width=\"600\" height=\"400\" viewBox=\"0 0 2400 1600\">\n",
       "<defs>\n",
       "  <clipPath id=\"clip260\">\n",
       "    <rect x=\"0\" y=\"0\" width=\"2400\" height=\"1600\"/>\n",
       "  </clipPath>\n",
       "</defs>\n",
       "<path clip-path=\"url(#clip260)\" d=\"\n",
       "M0 1600 L2400 1600 L2400 0 L0 0  Z\n",
       "  \" fill=\"#ffffff\" fill-rule=\"evenodd\" fill-opacity=\"1\"/>\n",
       "<defs>\n",
       "  <clipPath id=\"clip261\">\n",
       "    <rect x=\"480\" y=\"0\" width=\"1681\" height=\"1600\"/>\n",
       "  </clipPath>\n",
       "</defs>\n",
       "<path clip-path=\"url(#clip260)\" d=\"\n",
       "M234.125 1423.18 L2352.76 1423.18 L2352.76 123.472 L234.125 123.472  Z\n",
       "  \" fill=\"#ffffff\" fill-rule=\"evenodd\" fill-opacity=\"1\"/>\n",
       "<defs>\n",
       "  <clipPath id=\"clip262\">\n",
       "    <rect x=\"234\" y=\"123\" width=\"2120\" height=\"1301\"/>\n",
       "  </clipPath>\n",
       "</defs>\n",
       "<polyline clip-path=\"url(#clip262)\" style=\"stroke:#000000; stroke-linecap:round; stroke-linejoin:round; stroke-width:2; stroke-opacity:0.1; fill:none\" points=\"\n",
       "  549.135,1423.18 549.135,123.472 \n",
       "  \"/>\n",
       "<polyline clip-path=\"url(#clip262)\" style=\"stroke:#000000; stroke-linecap:round; stroke-linejoin:round; stroke-width:2; stroke-opacity:0.1; fill:none\" points=\"\n",
       "  1045.34,1423.18 1045.34,123.472 \n",
       "  \"/>\n",
       "<polyline clip-path=\"url(#clip262)\" style=\"stroke:#000000; stroke-linecap:round; stroke-linejoin:round; stroke-width:2; stroke-opacity:0.1; fill:none\" points=\"\n",
       "  1541.54,1423.18 1541.54,123.472 \n",
       "  \"/>\n",
       "<polyline clip-path=\"url(#clip262)\" style=\"stroke:#000000; stroke-linecap:round; stroke-linejoin:round; stroke-width:2; stroke-opacity:0.1; fill:none\" points=\"\n",
       "  2037.75,1423.18 2037.75,123.472 \n",
       "  \"/>\n",
       "<polyline clip-path=\"url(#clip260)\" style=\"stroke:#000000; stroke-linecap:round; stroke-linejoin:round; stroke-width:4; stroke-opacity:1; fill:none\" points=\"\n",
       "  234.125,1423.18 2352.76,1423.18 \n",
       "  \"/>\n",
       "<polyline clip-path=\"url(#clip260)\" style=\"stroke:#000000; stroke-linecap:round; stroke-linejoin:round; stroke-width:4; stroke-opacity:1; fill:none\" points=\"\n",
       "  549.135,1423.18 549.135,1404.28 \n",
       "  \"/>\n",
       "<polyline clip-path=\"url(#clip260)\" style=\"stroke:#000000; stroke-linecap:round; stroke-linejoin:round; stroke-width:4; stroke-opacity:1; fill:none\" points=\"\n",
       "  1045.34,1423.18 1045.34,1404.28 \n",
       "  \"/>\n",
       "<polyline clip-path=\"url(#clip260)\" style=\"stroke:#000000; stroke-linecap:round; stroke-linejoin:round; stroke-width:4; stroke-opacity:1; fill:none\" points=\"\n",
       "  1541.54,1423.18 1541.54,1404.28 \n",
       "  \"/>\n",
       "<polyline clip-path=\"url(#clip260)\" style=\"stroke:#000000; stroke-linecap:round; stroke-linejoin:round; stroke-width:4; stroke-opacity:1; fill:none\" points=\"\n",
       "  2037.75,1423.18 2037.75,1404.28 \n",
       "  \"/>\n",
       "<path clip-path=\"url(#clip260)\" d=\"M475.363 1464.63 Q476.96 1461.76 479.182 1460.39 Q481.404 1459.03 484.413 1459.03 Q488.464 1459.03 490.663 1461.88 Q492.862 1464.7 492.862 1469.93 L492.862 1485.58 L488.58 1485.58 L488.58 1470.07 Q488.58 1466.34 487.261 1464.54 Q485.941 1462.73 483.233 1462.73 Q479.923 1462.73 478.001 1464.93 Q476.08 1467.13 476.08 1470.93 L476.08 1485.58 L471.798 1485.58 L471.798 1470.07 Q471.798 1466.32 470.478 1464.54 Q469.159 1462.73 466.404 1462.73 Q463.14 1462.73 461.219 1464.95 Q459.298 1467.15 459.298 1470.93 L459.298 1485.58 L455.015 1485.58 L455.015 1459.65 L459.298 1459.65 L459.298 1463.68 Q460.756 1461.3 462.793 1460.16 Q464.83 1459.03 467.631 1459.03 Q470.455 1459.03 472.423 1460.46 Q474.414 1461.9 475.363 1464.63 Z\" fill=\"#000000\" fill-rule=\"evenodd\" fill-opacity=\"1\" /><path clip-path=\"url(#clip260)\" d=\"M513.14 1472.55 Q507.978 1472.55 505.987 1473.73 Q503.997 1474.91 503.997 1477.76 Q503.997 1480.02 505.478 1481.37 Q506.983 1482.69 509.552 1482.69 Q513.094 1482.69 515.223 1480.19 Q517.376 1477.66 517.376 1473.5 L517.376 1472.55 L513.14 1472.55 M521.635 1470.79 L521.635 1485.58 L517.376 1485.58 L517.376 1481.64 Q515.918 1484.01 513.742 1485.14 Q511.566 1486.25 508.418 1486.25 Q504.436 1486.25 502.075 1484.03 Q499.737 1481.78 499.737 1478.03 Q499.737 1473.66 502.654 1471.44 Q505.594 1469.21 511.404 1469.21 L517.376 1469.21 L517.376 1468.8 Q517.376 1465.86 515.432 1464.26 Q513.511 1462.64 510.015 1462.64 Q507.793 1462.64 505.686 1463.17 Q503.58 1463.7 501.636 1464.77 L501.636 1460.83 Q503.974 1459.93 506.173 1459.49 Q508.372 1459.03 510.455 1459.03 Q516.08 1459.03 518.858 1461.95 Q521.635 1464.86 521.635 1470.79 Z\" fill=\"#000000\" fill-rule=\"evenodd\" fill-opacity=\"1\" /><path clip-path=\"url(#clip260)\" d=\"M552.584 1471.55 L552.584 1473.64 L533.001 1473.64 Q533.279 1478.03 535.64 1480.35 Q538.024 1482.64 542.26 1482.64 Q544.714 1482.64 547.006 1482.04 Q549.321 1481.44 551.589 1480.23 L551.589 1484.26 Q549.297 1485.23 546.89 1485.74 Q544.483 1486.25 542.006 1486.25 Q535.802 1486.25 532.168 1482.64 Q528.557 1479.03 528.557 1472.87 Q528.557 1466.51 531.983 1462.78 Q535.432 1459.03 541.265 1459.03 Q546.496 1459.03 549.529 1462.41 Q552.584 1465.77 552.584 1471.55 M548.325 1470.3 Q548.279 1466.81 546.358 1464.72 Q544.459 1462.64 541.311 1462.64 Q537.746 1462.64 535.594 1464.65 Q533.464 1466.67 533.14 1470.33 L548.325 1470.3 Z\" fill=\"#000000\" fill-rule=\"evenodd\" fill-opacity=\"1\" /><path clip-path=\"url(#clip260)\" d=\"M576.103 1460.42 L576.103 1464.45 Q574.297 1463.52 572.353 1463.06 Q570.408 1462.59 568.325 1462.59 Q565.154 1462.59 563.557 1463.57 Q561.982 1464.54 561.982 1466.48 Q561.982 1467.96 563.117 1468.82 Q564.251 1469.65 567.677 1470.42 L569.135 1470.74 Q573.672 1471.71 575.57 1473.5 Q577.492 1475.26 577.492 1478.43 Q577.492 1482.04 574.621 1484.14 Q571.774 1486.25 566.774 1486.25 Q564.691 1486.25 562.422 1485.83 Q560.177 1485.44 557.677 1484.63 L557.677 1480.23 Q560.038 1481.46 562.33 1482.08 Q564.621 1482.69 566.867 1482.69 Q569.876 1482.69 571.496 1481.67 Q573.117 1480.63 573.117 1478.75 Q573.117 1477.02 571.936 1476.09 Q570.779 1475.16 566.82 1474.31 L565.339 1473.96 Q561.381 1473.13 559.621 1471.41 Q557.862 1469.68 557.862 1466.67 Q557.862 1463.01 560.455 1461.02 Q563.047 1459.03 567.816 1459.03 Q570.177 1459.03 572.26 1459.38 Q574.344 1459.72 576.103 1460.42 Z\" fill=\"#000000\" fill-rule=\"evenodd\" fill-opacity=\"1\" /><path clip-path=\"url(#clip260)\" d=\"M588.487 1452.29 L588.487 1459.65 L597.26 1459.65 L597.26 1462.96 L588.487 1462.96 L588.487 1477.04 Q588.487 1480.21 589.343 1481.11 Q590.223 1482.02 592.885 1482.02 L597.26 1482.02 L597.26 1485.58 L592.885 1485.58 Q587.955 1485.58 586.08 1483.75 Q584.205 1481.9 584.205 1477.04 L584.205 1462.96 L581.08 1462.96 L581.08 1459.65 L584.205 1459.65 L584.205 1452.29 L588.487 1452.29 Z\" fill=\"#000000\" fill-rule=\"evenodd\" fill-opacity=\"1\" /><path clip-path=\"url(#clip260)\" d=\"M617.885 1463.64 Q617.167 1463.22 616.311 1463.03 Q615.478 1462.83 614.459 1462.83 Q610.848 1462.83 608.904 1465.19 Q606.982 1467.52 606.982 1471.92 L606.982 1485.58 L602.7 1485.58 L602.7 1459.65 L606.982 1459.65 L606.982 1463.68 Q608.325 1461.32 610.478 1460.19 Q612.63 1459.03 615.709 1459.03 Q616.149 1459.03 616.681 1459.1 Q617.214 1459.14 617.862 1459.26 L617.885 1463.64 Z\" fill=\"#000000\" fill-rule=\"evenodd\" fill-opacity=\"1\" /><path clip-path=\"url(#clip260)\" d=\"M631.357 1462.64 Q627.931 1462.64 625.94 1465.33 Q623.95 1467.99 623.95 1472.64 Q623.95 1477.29 625.917 1479.98 Q627.908 1482.64 631.357 1482.64 Q634.76 1482.64 636.751 1479.95 Q638.741 1477.27 638.741 1472.64 Q638.741 1468.03 636.751 1465.35 Q634.76 1462.64 631.357 1462.64 M631.357 1459.03 Q636.913 1459.03 640.084 1462.64 Q643.255 1466.25 643.255 1472.64 Q643.255 1479.01 640.084 1482.64 Q636.913 1486.25 631.357 1486.25 Q625.778 1486.25 622.607 1482.64 Q619.459 1479.01 619.459 1472.64 Q619.459 1466.25 622.607 1462.64 Q625.778 1459.03 631.357 1459.03 Z\" fill=\"#000000\" fill-rule=\"evenodd\" fill-opacity=\"1\" /><path clip-path=\"url(#clip260)\" d=\"M966.3 1451.02 L970.976 1451.02 L970.976 1465.19 L987.967 1465.19 L987.967 1451.02 L992.642 1451.02 L992.642 1485.58 L987.967 1485.58 L987.967 1469.12 L970.976 1469.12 L970.976 1485.58 L966.3 1485.58 L966.3 1451.02 Z\" fill=\"#000000\" fill-rule=\"evenodd\" fill-opacity=\"1\" /><path clip-path=\"url(#clip260)\" d=\"M1013.55 1472.55 Q1008.38 1472.55 1006.39 1473.73 Q1004.4 1474.91 1004.4 1477.76 Q1004.4 1480.02 1005.88 1481.37 Q1007.39 1482.69 1009.96 1482.69 Q1013.5 1482.69 1015.63 1480.19 Q1017.78 1477.66 1017.78 1473.5 L1017.78 1472.55 L1013.55 1472.55 M1022.04 1470.79 L1022.04 1485.58 L1017.78 1485.58 L1017.78 1481.64 Q1016.32 1484.01 1014.15 1485.14 Q1011.97 1486.25 1008.82 1486.25 Q1004.84 1486.25 1002.48 1484.03 Q1000.14 1481.78 1000.14 1478.03 Q1000.14 1473.66 1003.06 1471.44 Q1006 1469.21 1011.81 1469.21 L1017.78 1469.21 L1017.78 1468.8 Q1017.78 1465.86 1015.84 1464.26 Q1013.92 1462.64 1010.42 1462.64 Q1008.2 1462.64 1006.09 1463.17 Q1003.98 1463.7 1002.04 1464.77 L1002.04 1460.83 Q1004.38 1459.93 1006.58 1459.49 Q1008.78 1459.03 1010.86 1459.03 Q1016.48 1459.03 1019.26 1461.95 Q1022.04 1464.86 1022.04 1470.79 Z\" fill=\"#000000\" fill-rule=\"evenodd\" fill-opacity=\"1\" /><path clip-path=\"url(#clip260)\" d=\"M1052.36 1469.93 L1052.36 1485.58 L1048.11 1485.58 L1048.11 1470.07 Q1048.11 1466.39 1046.67 1464.56 Q1045.23 1462.73 1042.36 1462.73 Q1038.92 1462.73 1036.92 1464.93 Q1034.93 1467.13 1034.93 1470.93 L1034.93 1485.58 L1030.65 1485.58 L1030.65 1459.65 L1034.93 1459.65 L1034.93 1463.68 Q1036.46 1461.34 1038.52 1460.19 Q1040.61 1459.03 1043.31 1459.03 Q1047.78 1459.03 1050.07 1461.81 Q1052.36 1464.56 1052.36 1469.93 Z\" fill=\"#000000\" fill-rule=\"evenodd\" fill-opacity=\"1\" /><path clip-path=\"url(#clip260)\" d=\"M1077.92 1463.59 L1077.92 1449.56 L1082.18 1449.56 L1082.18 1485.58 L1077.92 1485.58 L1077.92 1481.69 Q1076.58 1484.01 1074.52 1485.14 Q1072.48 1486.25 1069.61 1486.25 Q1064.91 1486.25 1061.95 1482.5 Q1059.01 1478.75 1059.01 1472.64 Q1059.01 1466.53 1061.95 1462.78 Q1064.91 1459.03 1069.61 1459.03 Q1072.48 1459.03 1074.52 1460.16 Q1076.58 1461.27 1077.92 1463.59 M1063.41 1472.64 Q1063.41 1477.34 1065.33 1480.02 Q1067.27 1482.69 1070.65 1482.69 Q1074.03 1482.69 1075.98 1480.02 Q1077.92 1477.34 1077.92 1472.64 Q1077.92 1467.94 1075.98 1465.28 Q1074.03 1462.59 1070.65 1462.59 Q1067.27 1462.59 1065.33 1465.28 Q1063.41 1467.94 1063.41 1472.64 Z\" fill=\"#000000\" fill-rule=\"evenodd\" fill-opacity=\"1\" /><path clip-path=\"url(#clip260)\" d=\"M1113.13 1471.55 L1113.13 1473.64 L1093.54 1473.64 Q1093.82 1478.03 1096.18 1480.35 Q1098.57 1482.64 1102.8 1482.64 Q1105.26 1482.64 1107.55 1482.04 Q1109.86 1481.44 1112.13 1480.23 L1112.13 1484.26 Q1109.84 1485.23 1107.43 1485.74 Q1105.03 1486.25 1102.55 1486.25 Q1096.35 1486.25 1092.71 1482.64 Q1089.1 1479.03 1089.1 1472.87 Q1089.1 1466.51 1092.53 1462.78 Q1095.98 1459.03 1101.81 1459.03 Q1107.04 1459.03 1110.07 1462.41 Q1113.13 1465.77 1113.13 1471.55 M1108.87 1470.3 Q1108.82 1466.81 1106.9 1464.72 Q1105 1462.64 1101.85 1462.64 Q1098.29 1462.64 1096.14 1464.65 Q1094.01 1466.67 1093.68 1470.33 L1108.87 1470.3 Z\" fill=\"#000000\" fill-rule=\"evenodd\" fill-opacity=\"1\" /><path clip-path=\"url(#clip260)\" d=\"M1120.12 1449.56 L1124.38 1449.56 L1124.38 1485.58 L1120.12 1485.58 L1120.12 1449.56 Z\" fill=\"#000000\" fill-rule=\"evenodd\" fill-opacity=\"1\" /><path clip-path=\"url(#clip260)\" d=\"M1512.61 1451.02 L1517.28 1451.02 L1517.28 1483.17 Q1517.28 1489.42 1514.9 1492.25 Q1512.54 1495.07 1507.28 1495.07 L1505.5 1495.07 L1505.5 1491.14 L1506.96 1491.14 Q1510.06 1491.14 1511.33 1489.4 Q1512.61 1487.66 1512.61 1483.17 L1512.61 1451.02 Z\" fill=\"#000000\" fill-rule=\"evenodd\" fill-opacity=\"1\" /><path clip-path=\"url(#clip260)\" d=\"M1536.45 1462.64 Q1533.02 1462.64 1531.03 1465.33 Q1529.04 1467.99 1529.04 1472.64 Q1529.04 1477.29 1531.01 1479.98 Q1533 1482.64 1536.45 1482.64 Q1539.85 1482.64 1541.84 1479.95 Q1543.83 1477.27 1543.83 1472.64 Q1543.83 1468.03 1541.84 1465.35 Q1539.85 1462.64 1536.45 1462.64 M1536.45 1459.03 Q1542.01 1459.03 1545.18 1462.64 Q1548.35 1466.25 1548.35 1472.64 Q1548.35 1479.01 1545.18 1482.64 Q1542.01 1486.25 1536.45 1486.25 Q1530.87 1486.25 1527.7 1482.64 Q1524.55 1479.01 1524.55 1472.64 Q1524.55 1466.25 1527.7 1462.64 Q1530.87 1459.03 1536.45 1459.03 Z\" fill=\"#000000\" fill-rule=\"evenodd\" fill-opacity=\"1\" /><path clip-path=\"url(#clip260)\" d=\"M1577.58 1471.55 L1577.58 1473.64 L1558 1473.64 Q1558.28 1478.03 1560.64 1480.35 Q1563.02 1482.64 1567.26 1482.64 Q1569.71 1482.64 1572.01 1482.04 Q1574.32 1481.44 1576.59 1480.23 L1576.59 1484.26 Q1574.3 1485.23 1571.89 1485.74 Q1569.48 1486.25 1567.01 1486.25 Q1560.8 1486.25 1557.17 1482.64 Q1553.56 1479.03 1553.56 1472.87 Q1553.56 1466.51 1556.98 1462.78 Q1560.43 1459.03 1566.26 1459.03 Q1571.5 1459.03 1574.53 1462.41 Q1577.58 1465.77 1577.58 1471.55 M1573.32 1470.3 Q1573.28 1466.81 1571.36 1464.72 Q1569.46 1462.64 1566.31 1462.64 Q1562.75 1462.64 1560.59 1464.65 Q1558.46 1466.67 1558.14 1470.33 L1573.32 1470.3 Z\" fill=\"#000000\" fill-rule=\"evenodd\" fill-opacity=\"1\" /><path clip-path=\"url(#clip260)\" d=\"M1989.49 1453.68 L1989.49 1458.61 Q1987.13 1456.41 1984.45 1455.33 Q1981.79 1454.24 1978.78 1454.24 Q1972.85 1454.24 1969.7 1457.87 Q1966.55 1461.48 1966.55 1468.33 Q1966.55 1475.16 1969.7 1478.8 Q1972.85 1482.41 1978.78 1482.41 Q1981.79 1482.41 1984.45 1481.32 Q1987.13 1480.23 1989.49 1478.03 L1989.49 1482.92 Q1987.04 1484.58 1984.29 1485.42 Q1981.55 1486.25 1978.5 1486.25 Q1970.65 1486.25 1966.14 1481.46 Q1961.62 1476.64 1961.62 1468.33 Q1961.62 1460 1966.14 1455.21 Q1970.65 1450.39 1978.5 1450.39 Q1981.6 1450.39 1984.33 1451.23 Q1987.09 1452.04 1989.49 1453.68 Z\" fill=\"#000000\" fill-rule=\"evenodd\" fill-opacity=\"1\" /><path clip-path=\"url(#clip260)\" d=\"M2006.58 1462.64 Q2003.15 1462.64 2001.16 1465.33 Q1999.17 1467.99 1999.17 1472.64 Q1999.17 1477.29 2001.14 1479.98 Q2003.13 1482.64 2006.58 1482.64 Q2009.98 1482.64 2011.97 1479.95 Q2013.96 1477.27 2013.96 1472.64 Q2013.96 1468.03 2011.97 1465.35 Q2009.98 1462.64 2006.58 1462.64 M2006.58 1459.03 Q2012.13 1459.03 2015.3 1462.64 Q2018.48 1466.25 2018.48 1472.64 Q2018.48 1479.01 2015.3 1482.64 Q2012.13 1486.25 2006.58 1486.25 Q2001 1486.25 1997.83 1482.64 Q1994.68 1479.01 1994.68 1472.64 Q1994.68 1466.25 1997.83 1462.64 Q2001 1459.03 2006.58 1459.03 Z\" fill=\"#000000\" fill-rule=\"evenodd\" fill-opacity=\"1\" /><path clip-path=\"url(#clip260)\" d=\"M2045.72 1464.63 Q2047.32 1461.76 2049.54 1460.39 Q2051.76 1459.03 2054.77 1459.03 Q2058.82 1459.03 2061.02 1461.88 Q2063.22 1464.7 2063.22 1469.93 L2063.22 1485.58 L2058.94 1485.58 L2058.94 1470.07 Q2058.94 1466.34 2057.62 1464.54 Q2056.3 1462.73 2053.59 1462.73 Q2050.28 1462.73 2048.36 1464.93 Q2046.44 1467.13 2046.44 1470.93 L2046.44 1485.58 L2042.16 1485.58 L2042.16 1470.07 Q2042.16 1466.32 2040.84 1464.54 Q2039.52 1462.73 2036.76 1462.73 Q2033.5 1462.73 2031.58 1464.95 Q2029.66 1467.15 2029.66 1470.93 L2029.66 1485.58 L2025.37 1485.58 L2025.37 1459.65 L2029.66 1459.65 L2029.66 1463.68 Q2031.11 1461.3 2033.15 1460.16 Q2035.19 1459.03 2037.99 1459.03 Q2040.81 1459.03 2042.78 1460.46 Q2044.77 1461.9 2045.72 1464.63 Z\" fill=\"#000000\" fill-rule=\"evenodd\" fill-opacity=\"1\" /><path clip-path=\"url(#clip260)\" d=\"M2093.89 1471.55 L2093.89 1473.64 L2074.31 1473.64 Q2074.59 1478.03 2076.95 1480.35 Q2079.33 1482.64 2083.57 1482.64 Q2086.02 1482.64 2088.31 1482.04 Q2090.63 1481.44 2092.9 1480.23 L2092.9 1484.26 Q2090.6 1485.23 2088.2 1485.74 Q2085.79 1486.25 2083.31 1486.25 Q2077.11 1486.25 2073.48 1482.64 Q2069.86 1479.03 2069.86 1472.87 Q2069.86 1466.51 2073.29 1462.78 Q2076.74 1459.03 2082.57 1459.03 Q2087.8 1459.03 2090.84 1462.41 Q2093.89 1465.77 2093.89 1471.55 M2089.63 1470.3 Q2089.59 1466.81 2087.66 1464.72 Q2085.77 1462.64 2082.62 1462.64 Q2079.05 1462.64 2076.9 1464.65 Q2074.77 1466.67 2074.45 1470.33 L2089.63 1470.3 Z\" fill=\"#000000\" fill-rule=\"evenodd\" fill-opacity=\"1\" /><path clip-path=\"url(#clip260)\" d=\"M2105.1 1452.29 L2105.1 1459.65 L2113.87 1459.65 L2113.87 1462.96 L2105.1 1462.96 L2105.1 1477.04 Q2105.1 1480.21 2105.95 1481.11 Q2106.83 1482.02 2109.49 1482.02 L2113.87 1482.02 L2113.87 1485.58 L2109.49 1485.58 Q2104.56 1485.58 2102.69 1483.75 Q2100.81 1481.9 2100.81 1477.04 L2100.81 1462.96 L2097.69 1462.96 L2097.69 1459.65 L2100.81 1459.65 L2100.81 1452.29 L2105.1 1452.29 Z\" fill=\"#000000\" fill-rule=\"evenodd\" fill-opacity=\"1\" /><path clip-path=\"url(#clip260)\" d=\"M1131.86 1520.52 L1138.32 1520.52 L1138.32 1549.39 Q1138.32 1557.03 1141.09 1560.4 Q1143.86 1563.75 1150.07 1563.75 Q1156.24 1563.75 1159.01 1560.4 Q1161.78 1557.03 1161.78 1549.39 L1161.78 1520.52 L1168.24 1520.52 L1168.24 1550.19 Q1168.24 1559.48 1163.63 1564.22 Q1159.04 1568.97 1150.07 1568.97 Q1141.06 1568.97 1136.45 1564.22 Q1131.86 1559.48 1131.86 1550.19 L1131.86 1520.52 Z\" fill=\"#000000\" fill-rule=\"evenodd\" fill-opacity=\"1\" /><path clip-path=\"url(#clip260)\" d=\"M1202.78 1533.45 L1202.78 1538.98 Q1200.29 1537.71 1197.62 1537.07 Q1194.95 1536.44 1192.08 1536.44 Q1187.72 1536.44 1185.53 1537.77 Q1183.36 1539.11 1183.36 1541.79 Q1183.36 1543.82 1184.92 1545 Q1186.48 1546.15 1191.19 1547.2 L1193.2 1547.64 Q1199.44 1548.98 1202.05 1551.43 Q1204.69 1553.85 1204.69 1558.21 Q1204.69 1563.17 1200.74 1566.07 Q1196.83 1568.97 1189.95 1568.97 Q1187.09 1568.97 1183.97 1568.39 Q1180.88 1567.85 1177.44 1566.74 L1177.44 1560.69 Q1180.69 1562.38 1183.84 1563.24 Q1186.99 1564.07 1190.08 1564.07 Q1194.22 1564.07 1196.44 1562.66 Q1198.67 1561.23 1198.67 1558.65 Q1198.67 1556.27 1197.05 1554.99 Q1195.46 1553.72 1190.01 1552.54 L1187.98 1552.07 Q1182.53 1550.92 1180.12 1548.56 Q1177.7 1546.18 1177.7 1542.04 Q1177.7 1537.01 1181.26 1534.27 Q1184.83 1531.54 1191.38 1531.54 Q1194.63 1531.54 1197.49 1532.01 Q1200.36 1532.49 1202.78 1533.45 Z\" fill=\"#000000\" fill-rule=\"evenodd\" fill-opacity=\"1\" /><path clip-path=\"url(#clip260)\" d=\"M1244.5 1548.76 L1244.5 1551.62 L1217.58 1551.62 Q1217.96 1557.67 1221.21 1560.85 Q1224.48 1564 1230.31 1564 Q1233.68 1564 1236.83 1563.17 Q1240.02 1562.35 1243.14 1560.69 L1243.14 1566.23 Q1239.98 1567.57 1236.67 1568.27 Q1233.36 1568.97 1229.96 1568.97 Q1221.43 1568.97 1216.43 1564 Q1211.47 1559.04 1211.47 1550.57 Q1211.47 1541.82 1216.18 1536.69 Q1220.92 1531.54 1228.94 1531.54 Q1236.13 1531.54 1240.3 1536.18 Q1244.5 1540.8 1244.5 1548.76 M1238.65 1547.04 Q1238.58 1542.23 1235.94 1539.37 Q1233.33 1536.5 1229 1536.5 Q1224.1 1536.5 1221.14 1539.27 Q1218.21 1542.04 1217.77 1547.07 L1238.65 1547.04 Z\" fill=\"#000000\" fill-rule=\"evenodd\" fill-opacity=\"1\" /><path clip-path=\"url(#clip260)\" d=\"M1274.77 1537.87 Q1273.79 1537.3 1272.61 1537.04 Q1271.46 1536.76 1270.06 1536.76 Q1265.1 1536.76 1262.42 1540 Q1259.78 1543.22 1259.78 1549.27 L1259.78 1568.04 L1253.89 1568.04 L1253.89 1532.4 L1259.78 1532.4 L1259.78 1537.93 Q1261.63 1534.69 1264.59 1533.13 Q1267.55 1531.54 1271.78 1531.54 Q1272.39 1531.54 1273.12 1531.63 Q1273.85 1531.7 1274.74 1531.85 L1274.77 1537.87 Z\" fill=\"#000000\" fill-rule=\"evenodd\" fill-opacity=\"1\" /><path clip-path=\"url(#clip260)\" d=\"M1309.4 1546.53 L1309.4 1568.04 L1303.55 1568.04 L1303.55 1546.72 Q1303.55 1541.66 1301.57 1539.14 Q1299.6 1536.63 1295.65 1536.63 Q1290.91 1536.63 1288.17 1539.65 Q1285.44 1542.68 1285.44 1547.9 L1285.44 1568.04 L1279.55 1568.04 L1279.55 1532.4 L1285.44 1532.4 L1285.44 1537.93 Q1287.54 1534.72 1290.37 1533.13 Q1293.23 1531.54 1296.96 1531.54 Q1303.1 1531.54 1306.25 1535.36 Q1309.4 1539.14 1309.4 1546.53 Z\" fill=\"#000000\" fill-rule=\"evenodd\" fill-opacity=\"1\" /><path clip-path=\"url(#clip260)\" d=\"M1337.28 1550.12 Q1330.19 1550.12 1327.45 1551.75 Q1324.71 1553.37 1324.71 1557.29 Q1324.71 1560.4 1326.75 1562.25 Q1328.82 1564.07 1332.35 1564.07 Q1337.22 1564.07 1340.15 1560.63 Q1343.11 1557.16 1343.11 1551.43 L1343.11 1550.12 L1337.28 1550.12 M1348.97 1547.71 L1348.97 1568.04 L1343.11 1568.04 L1343.11 1562.63 Q1341.1 1565.88 1338.11 1567.44 Q1335.12 1568.97 1330.79 1568.97 Q1325.32 1568.97 1322.07 1565.91 Q1318.86 1562.82 1318.86 1557.67 Q1318.86 1551.65 1322.87 1548.6 Q1326.91 1545.54 1334.9 1545.54 L1343.11 1545.54 L1343.11 1544.97 Q1343.11 1540.93 1340.44 1538.73 Q1337.79 1536.5 1332.99 1536.5 Q1329.93 1536.5 1327.04 1537.23 Q1324.14 1537.97 1321.47 1539.43 L1321.47 1534.02 Q1324.68 1532.78 1327.7 1532.17 Q1330.73 1531.54 1333.59 1531.54 Q1341.33 1531.54 1345.15 1535.55 Q1348.97 1539.56 1348.97 1547.71 Z\" fill=\"#000000\" fill-rule=\"evenodd\" fill-opacity=\"1\" /><path clip-path=\"url(#clip260)\" d=\"M1388.78 1539.24 Q1390.98 1535.29 1394.03 1533.41 Q1397.09 1531.54 1401.23 1531.54 Q1406.8 1531.54 1409.82 1535.45 Q1412.85 1539.33 1412.85 1546.53 L1412.85 1568.04 L1406.96 1568.04 L1406.96 1546.72 Q1406.96 1541.59 1405.14 1539.11 Q1403.33 1536.63 1399.6 1536.63 Q1395.05 1536.63 1392.41 1539.65 Q1389.77 1542.68 1389.77 1547.9 L1389.77 1568.04 L1383.88 1568.04 L1383.88 1546.72 Q1383.88 1541.56 1382.07 1539.11 Q1380.25 1536.63 1376.47 1536.63 Q1371.98 1536.63 1369.34 1539.68 Q1366.69 1542.71 1366.69 1547.9 L1366.69 1568.04 L1360.81 1568.04 L1360.81 1532.4 L1366.69 1532.4 L1366.69 1537.93 Q1368.7 1534.66 1371.5 1533.1 Q1374.3 1531.54 1378.15 1531.54 Q1382.04 1531.54 1384.74 1533.51 Q1387.48 1535.48 1388.78 1539.24 Z\" fill=\"#000000\" fill-rule=\"evenodd\" fill-opacity=\"1\" /><path clip-path=\"url(#clip260)\" d=\"M1455.02 1548.76 L1455.02 1551.62 L1428.09 1551.62 Q1428.47 1557.67 1431.72 1560.85 Q1435 1564 1440.82 1564 Q1444.2 1564 1447.35 1563.17 Q1450.53 1562.35 1453.65 1560.69 L1453.65 1566.23 Q1450.5 1567.57 1447.19 1568.27 Q1443.88 1568.97 1440.47 1568.97 Q1431.94 1568.97 1426.95 1564 Q1421.98 1559.04 1421.98 1550.57 Q1421.98 1541.82 1426.69 1536.69 Q1431.43 1531.54 1439.45 1531.54 Q1446.65 1531.54 1450.82 1536.18 Q1455.02 1540.8 1455.02 1548.76 M1449.16 1547.04 Q1449.1 1542.23 1446.46 1539.37 Q1443.85 1536.5 1439.52 1536.5 Q1434.62 1536.5 1431.66 1539.27 Q1428.73 1542.04 1428.28 1547.07 L1449.16 1547.04 Z\" fill=\"#000000\" fill-rule=\"evenodd\" fill-opacity=\"1\" /><polyline clip-path=\"url(#clip262)\" style=\"stroke:#000000; stroke-linecap:round; stroke-linejoin:round; stroke-width:2; stroke-opacity:0.1; fill:none\" points=\"\n",
       "  234.125,1386.4 2352.76,1386.4 \n",
       "  \"/>\n",
       "<polyline clip-path=\"url(#clip262)\" style=\"stroke:#000000; stroke-linecap:round; stroke-linejoin:round; stroke-width:2; stroke-opacity:0.1; fill:none\" points=\"\n",
       "  234.125,1157.64 2352.76,1157.64 \n",
       "  \"/>\n",
       "<polyline clip-path=\"url(#clip262)\" style=\"stroke:#000000; stroke-linecap:round; stroke-linejoin:round; stroke-width:2; stroke-opacity:0.1; fill:none\" points=\"\n",
       "  234.125,928.881 2352.76,928.881 \n",
       "  \"/>\n",
       "<polyline clip-path=\"url(#clip262)\" style=\"stroke:#000000; stroke-linecap:round; stroke-linejoin:round; stroke-width:2; stroke-opacity:0.1; fill:none\" points=\"\n",
       "  234.125,700.124 2352.76,700.124 \n",
       "  \"/>\n",
       "<polyline clip-path=\"url(#clip262)\" style=\"stroke:#000000; stroke-linecap:round; stroke-linejoin:round; stroke-width:2; stroke-opacity:0.1; fill:none\" points=\"\n",
       "  234.125,471.366 2352.76,471.366 \n",
       "  \"/>\n",
       "<polyline clip-path=\"url(#clip262)\" style=\"stroke:#000000; stroke-linecap:round; stroke-linejoin:round; stroke-width:2; stroke-opacity:0.1; fill:none\" points=\"\n",
       "  234.125,242.609 2352.76,242.609 \n",
       "  \"/>\n",
       "<polyline clip-path=\"url(#clip260)\" style=\"stroke:#000000; stroke-linecap:round; stroke-linejoin:round; stroke-width:4; stroke-opacity:1; fill:none\" points=\"\n",
       "  234.125,1423.18 234.125,123.472 \n",
       "  \"/>\n",
       "<polyline clip-path=\"url(#clip260)\" style=\"stroke:#000000; stroke-linecap:round; stroke-linejoin:round; stroke-width:4; stroke-opacity:1; fill:none\" points=\"\n",
       "  234.125,1386.4 253.023,1386.4 \n",
       "  \"/>\n",
       "<polyline clip-path=\"url(#clip260)\" style=\"stroke:#000000; stroke-linecap:round; stroke-linejoin:round; stroke-width:4; stroke-opacity:1; fill:none\" points=\"\n",
       "  234.125,1157.64 253.023,1157.64 \n",
       "  \"/>\n",
       "<polyline clip-path=\"url(#clip260)\" style=\"stroke:#000000; stroke-linecap:round; stroke-linejoin:round; stroke-width:4; stroke-opacity:1; fill:none\" points=\"\n",
       "  234.125,928.881 253.023,928.881 \n",
       "  \"/>\n",
       "<polyline clip-path=\"url(#clip260)\" style=\"stroke:#000000; stroke-linecap:round; stroke-linejoin:round; stroke-width:4; stroke-opacity:1; fill:none\" points=\"\n",
       "  234.125,700.124 253.023,700.124 \n",
       "  \"/>\n",
       "<polyline clip-path=\"url(#clip260)\" style=\"stroke:#000000; stroke-linecap:round; stroke-linejoin:round; stroke-width:4; stroke-opacity:1; fill:none\" points=\"\n",
       "  234.125,471.366 253.023,471.366 \n",
       "  \"/>\n",
       "<polyline clip-path=\"url(#clip260)\" style=\"stroke:#000000; stroke-linecap:round; stroke-linejoin:round; stroke-width:4; stroke-opacity:1; fill:none\" points=\"\n",
       "  234.125,242.609 253.023,242.609 \n",
       "  \"/>\n",
       "<path clip-path=\"url(#clip260)\" d=\"M186.181 1372.19 Q182.57 1372.19 180.741 1375.76 Q178.936 1379.3 178.936 1386.43 Q178.936 1393.54 180.741 1397.1 Q182.57 1400.64 186.181 1400.64 Q189.815 1400.64 191.621 1397.1 Q193.45 1393.54 193.45 1386.43 Q193.45 1379.3 191.621 1375.76 Q189.815 1372.19 186.181 1372.19 M186.181 1368.49 Q191.991 1368.49 195.047 1373.1 Q198.125 1377.68 198.125 1386.43 Q198.125 1395.16 195.047 1399.76 Q191.991 1404.35 186.181 1404.35 Q180.371 1404.35 177.292 1399.76 Q174.237 1395.16 174.237 1386.43 Q174.237 1377.68 177.292 1373.1 Q180.371 1368.49 186.181 1368.49 Z\" fill=\"#000000\" fill-rule=\"evenodd\" fill-opacity=\"1\" /><path clip-path=\"url(#clip260)\" d=\"M146.066 1140.36 L164.422 1140.36 L164.422 1144.29 L150.348 1144.29 L150.348 1152.77 Q151.366 1152.42 152.385 1152.26 Q153.403 1152.07 154.422 1152.07 Q160.209 1152.07 163.589 1155.24 Q166.968 1158.41 166.968 1163.83 Q166.968 1169.41 163.496 1172.51 Q160.024 1175.59 153.704 1175.59 Q151.528 1175.59 149.26 1175.22 Q147.015 1174.85 144.607 1174.11 L144.607 1169.41 Q146.691 1170.54 148.913 1171.1 Q151.135 1171.65 153.612 1171.65 Q157.616 1171.65 159.954 1169.55 Q162.292 1167.44 162.292 1163.83 Q162.292 1160.22 159.954 1158.11 Q157.616 1156.01 153.612 1156.01 Q151.737 1156.01 149.862 1156.42 Q148.01 1156.84 146.066 1157.72 L146.066 1140.36 Z\" fill=\"#000000\" fill-rule=\"evenodd\" fill-opacity=\"1\" /><path clip-path=\"url(#clip260)\" d=\"M186.181 1143.44 Q182.57 1143.44 180.741 1147 Q178.936 1150.54 178.936 1157.67 Q178.936 1164.78 180.741 1168.34 Q182.57 1171.89 186.181 1171.89 Q189.815 1171.89 191.621 1168.34 Q193.45 1164.78 193.45 1157.67 Q193.45 1150.54 191.621 1147 Q189.815 1143.44 186.181 1143.44 M186.181 1139.73 Q191.991 1139.73 195.047 1144.34 Q198.125 1148.92 198.125 1157.67 Q198.125 1166.4 195.047 1171.01 Q191.991 1175.59 186.181 1175.59 Q180.371 1175.59 177.292 1171.01 Q174.237 1166.4 174.237 1157.67 Q174.237 1148.92 177.292 1144.34 Q180.371 1139.73 186.181 1139.73 Z\" fill=\"#000000\" fill-rule=\"evenodd\" fill-opacity=\"1\" /><path clip-path=\"url(#clip260)\" d=\"M116.668 942.226 L124.306 942.226 L124.306 915.86 L115.996 917.527 L115.996 913.268 L124.26 911.601 L128.936 911.601 L128.936 942.226 L136.575 942.226 L136.575 946.161 L116.668 946.161 L116.668 942.226 Z\" fill=\"#000000\" fill-rule=\"evenodd\" fill-opacity=\"1\" /><path clip-path=\"url(#clip260)\" d=\"M156.019 914.68 Q152.408 914.68 150.579 918.244 Q148.774 921.786 148.774 928.916 Q148.774 936.022 150.579 939.587 Q152.408 943.129 156.019 943.129 Q159.653 943.129 161.459 939.587 Q163.288 936.022 163.288 928.916 Q163.288 921.786 161.459 918.244 Q159.653 914.68 156.019 914.68 M156.019 910.976 Q161.829 910.976 164.885 915.582 Q167.964 920.166 167.964 928.916 Q167.964 937.643 164.885 942.249 Q161.829 946.832 156.019 946.832 Q150.209 946.832 147.13 942.249 Q144.075 937.643 144.075 928.916 Q144.075 920.166 147.13 915.582 Q150.209 910.976 156.019 910.976 Z\" fill=\"#000000\" fill-rule=\"evenodd\" fill-opacity=\"1\" /><path clip-path=\"url(#clip260)\" d=\"M186.181 914.68 Q182.57 914.68 180.741 918.244 Q178.936 921.786 178.936 928.916 Q178.936 936.022 180.741 939.587 Q182.57 943.129 186.181 943.129 Q189.815 943.129 191.621 939.587 Q193.45 936.022 193.45 928.916 Q193.45 921.786 191.621 918.244 Q189.815 914.68 186.181 914.68 M186.181 910.976 Q191.991 910.976 195.047 915.582 Q198.125 920.166 198.125 928.916 Q198.125 937.643 195.047 942.249 Q191.991 946.832 186.181 946.832 Q180.371 946.832 177.292 942.249 Q174.237 937.643 174.237 928.916 Q174.237 920.166 177.292 915.582 Q180.371 910.976 186.181 910.976 Z\" fill=\"#000000\" fill-rule=\"evenodd\" fill-opacity=\"1\" /><path clip-path=\"url(#clip260)\" d=\"M116.668 713.468 L124.306 713.468 L124.306 687.103 L115.996 688.77 L115.996 684.51 L124.26 682.844 L128.936 682.844 L128.936 713.468 L136.575 713.468 L136.575 717.404 L116.668 717.404 L116.668 713.468 Z\" fill=\"#000000\" fill-rule=\"evenodd\" fill-opacity=\"1\" /><path clip-path=\"url(#clip260)\" d=\"M146.066 682.844 L164.422 682.844 L164.422 686.779 L150.348 686.779 L150.348 695.251 Q151.366 694.904 152.385 694.742 Q153.403 694.557 154.422 694.557 Q160.209 694.557 163.589 697.728 Q166.968 700.899 166.968 706.316 Q166.968 711.894 163.496 714.996 Q160.024 718.075 153.704 718.075 Q151.528 718.075 149.26 717.705 Q147.015 717.334 144.607 716.593 L144.607 711.894 Q146.691 713.029 148.913 713.584 Q151.135 714.14 153.612 714.14 Q157.616 714.14 159.954 712.033 Q162.292 709.927 162.292 706.316 Q162.292 702.705 159.954 700.598 Q157.616 698.492 153.612 698.492 Q151.737 698.492 149.862 698.908 Q148.01 699.325 146.066 700.205 L146.066 682.844 Z\" fill=\"#000000\" fill-rule=\"evenodd\" fill-opacity=\"1\" /><path clip-path=\"url(#clip260)\" d=\"M186.181 685.922 Q182.57 685.922 180.741 689.487 Q178.936 693.029 178.936 700.158 Q178.936 707.265 180.741 710.83 Q182.57 714.371 186.181 714.371 Q189.815 714.371 191.621 710.83 Q193.45 707.265 193.45 700.158 Q193.45 693.029 191.621 689.487 Q189.815 685.922 186.181 685.922 M186.181 682.219 Q191.991 682.219 195.047 686.825 Q198.125 691.408 198.125 700.158 Q198.125 708.885 195.047 713.492 Q191.991 718.075 186.181 718.075 Q180.371 718.075 177.292 713.492 Q174.237 708.885 174.237 700.158 Q174.237 691.408 177.292 686.825 Q180.371 682.219 186.181 682.219 Z\" fill=\"#000000\" fill-rule=\"evenodd\" fill-opacity=\"1\" /><path clip-path=\"url(#clip260)\" d=\"M119.885 484.711 L136.204 484.711 L136.204 488.646 L114.26 488.646 L114.26 484.711 Q116.922 481.957 121.505 477.327 Q126.112 472.674 127.292 471.332 Q129.538 468.808 130.417 467.072 Q131.32 465.313 131.32 463.623 Q131.32 460.869 129.376 459.133 Q127.455 457.396 124.353 457.396 Q122.154 457.396 119.7 458.16 Q117.269 458.924 114.492 460.475 L114.492 455.753 Q117.316 454.619 119.769 454.04 Q122.223 453.461 124.26 453.461 Q129.63 453.461 132.825 456.146 Q136.019 458.832 136.019 463.322 Q136.019 465.452 135.209 467.373 Q134.422 469.271 132.316 471.864 Q131.737 472.535 128.635 475.753 Q125.533 478.947 119.885 484.711 Z\" fill=\"#000000\" fill-rule=\"evenodd\" fill-opacity=\"1\" /><path clip-path=\"url(#clip260)\" d=\"M156.019 457.165 Q152.408 457.165 150.579 460.73 Q148.774 464.271 148.774 471.401 Q148.774 478.507 150.579 482.072 Q152.408 485.614 156.019 485.614 Q159.653 485.614 161.459 482.072 Q163.288 478.507 163.288 471.401 Q163.288 464.271 161.459 460.73 Q159.653 457.165 156.019 457.165 M156.019 453.461 Q161.829 453.461 164.885 458.068 Q167.964 462.651 167.964 471.401 Q167.964 480.128 164.885 484.734 Q161.829 489.318 156.019 489.318 Q150.209 489.318 147.13 484.734 Q144.075 480.128 144.075 471.401 Q144.075 462.651 147.13 458.068 Q150.209 453.461 156.019 453.461 Z\" fill=\"#000000\" fill-rule=\"evenodd\" fill-opacity=\"1\" /><path clip-path=\"url(#clip260)\" d=\"M186.181 457.165 Q182.57 457.165 180.741 460.73 Q178.936 464.271 178.936 471.401 Q178.936 478.507 180.741 482.072 Q182.57 485.614 186.181 485.614 Q189.815 485.614 191.621 482.072 Q193.45 478.507 193.45 471.401 Q193.45 464.271 191.621 460.73 Q189.815 457.165 186.181 457.165 M186.181 453.461 Q191.991 453.461 195.047 458.068 Q198.125 462.651 198.125 471.401 Q198.125 480.128 195.047 484.734 Q191.991 489.318 186.181 489.318 Q180.371 489.318 177.292 484.734 Q174.237 480.128 174.237 471.401 Q174.237 462.651 177.292 458.068 Q180.371 453.461 186.181 453.461 Z\" fill=\"#000000\" fill-rule=\"evenodd\" fill-opacity=\"1\" /><path clip-path=\"url(#clip260)\" d=\"M119.885 255.954 L136.204 255.954 L136.204 259.889 L114.26 259.889 L114.26 255.954 Q116.922 253.199 121.505 248.57 Q126.112 243.917 127.292 242.574 Q129.538 240.051 130.417 238.315 Q131.32 236.556 131.32 234.866 Q131.32 232.111 129.376 230.375 Q127.455 228.639 124.353 228.639 Q122.154 228.639 119.7 229.403 Q117.269 230.167 114.492 231.718 L114.492 226.996 Q117.316 225.861 119.769 225.283 Q122.223 224.704 124.26 224.704 Q129.63 224.704 132.825 227.389 Q136.019 230.074 136.019 234.565 Q136.019 236.695 135.209 238.616 Q134.422 240.514 132.316 243.107 Q131.737 243.778 128.635 246.996 Q125.533 250.19 119.885 255.954 Z\" fill=\"#000000\" fill-rule=\"evenodd\" fill-opacity=\"1\" /><path clip-path=\"url(#clip260)\" d=\"M146.066 225.329 L164.422 225.329 L164.422 229.264 L150.348 229.264 L150.348 237.736 Q151.366 237.389 152.385 237.227 Q153.403 237.042 154.422 237.042 Q160.209 237.042 163.589 240.213 Q166.968 243.384 166.968 248.801 Q166.968 254.38 163.496 257.482 Q160.024 260.56 153.704 260.56 Q151.528 260.56 149.26 260.19 Q147.015 259.82 144.607 259.079 L144.607 254.38 Q146.691 255.514 148.913 256.07 Q151.135 256.625 153.612 256.625 Q157.616 256.625 159.954 254.519 Q162.292 252.412 162.292 248.801 Q162.292 245.19 159.954 243.083 Q157.616 240.977 153.612 240.977 Q151.737 240.977 149.862 241.394 Q148.01 241.81 146.066 242.69 L146.066 225.329 Z\" fill=\"#000000\" fill-rule=\"evenodd\" fill-opacity=\"1\" /><path clip-path=\"url(#clip260)\" d=\"M186.181 228.408 Q182.57 228.408 180.741 231.972 Q178.936 235.514 178.936 242.644 Q178.936 249.75 180.741 253.315 Q182.57 256.857 186.181 256.857 Q189.815 256.857 191.621 253.315 Q193.45 249.75 193.45 242.644 Q193.45 235.514 191.621 231.972 Q189.815 228.408 186.181 228.408 M186.181 224.704 Q191.991 224.704 195.047 229.31 Q198.125 233.894 198.125 242.644 Q198.125 251.37 195.047 255.977 Q191.991 260.56 186.181 260.56 Q180.371 260.56 177.292 255.977 Q174.237 251.37 174.237 242.644 Q174.237 233.894 177.292 229.31 Q180.371 224.704 186.181 224.704 Z\" fill=\"#000000\" fill-rule=\"evenodd\" fill-opacity=\"1\" /><path clip-path=\"url(#clip260)\" d=\"M16.4842 1065.61 L16.4842 1056.95 L56.238 1035.88 L16.4842 1035.88 L16.4842 1029.64 L64.0042 1029.64 L64.0042 1038.3 L24.2503 1059.37 L64.0042 1059.37 L64.0042 1065.61 L16.4842 1065.61 Z\" fill=\"#000000\" fill-rule=\"evenodd\" fill-opacity=\"1\" /><path clip-path=\"url(#clip260)\" d=\"M49.9359 1017.71 L28.3562 1017.71 L28.3562 1011.85 L49.7131 1011.85 Q54.7739 1011.85 57.3202 1009.88 Q59.8346 1007.9 59.8346 1003.96 Q59.8346 999.213 56.8109 996.476 Q53.7872 993.707 48.5673 993.707 L28.3562 993.707 L28.3562 987.85 L64.0042 987.85 L64.0042 993.707 L58.5296 993.707 Q61.7762 995.839 63.3676 998.672 Q64.9272 1001.47 64.9272 1005.2 Q64.9272 1011.34 61.1078 1014.52 Q57.2883 1017.71 49.9359 1017.71 M27.4968 1002.97 L27.4968 1002.97 Z\" fill=\"#000000\" fill-rule=\"evenodd\" fill-opacity=\"1\" /><path clip-path=\"url(#clip260)\" d=\"M35.1993 948.033 Q31.2526 945.837 29.3747 942.781 Q27.4968 939.726 27.4968 935.588 Q27.4968 930.018 31.4117 926.994 Q35.2948 923.97 42.4881 923.97 L64.0042 923.97 L64.0042 929.859 L42.679 929.859 Q37.5546 929.859 35.072 931.673 Q32.5894 933.487 32.5894 937.211 Q32.5894 941.763 35.6131 944.404 Q38.6368 947.046 43.8567 947.046 L64.0042 947.046 L64.0042 952.934 L42.679 952.934 Q37.5228 952.934 35.072 954.749 Q32.5894 956.563 32.5894 960.35 Q32.5894 964.838 35.6449 967.48 Q38.6686 970.122 43.8567 970.122 L64.0042 970.122 L64.0042 976.01 L28.3562 976.01 L28.3562 970.122 L33.8944 970.122 Q30.616 968.117 29.0564 965.316 Q27.4968 962.515 27.4968 958.664 Q27.4968 954.78 29.4702 952.075 Q31.4436 949.338 35.1993 948.033 Z\" fill=\"#000000\" fill-rule=\"evenodd\" fill-opacity=\"1\" /><path clip-path=\"url(#clip260)\" d=\"M46.212 886.699 Q39.7508 886.699 36.0905 889.373 Q32.3984 892.015 32.3984 896.662 Q32.3984 901.309 36.0905 903.982 Q39.7508 906.624 46.212 906.624 Q52.6732 906.624 56.3653 903.982 Q60.0256 901.309 60.0256 896.662 Q60.0256 892.015 56.3653 889.373 Q52.6732 886.699 46.212 886.699 M33.7671 906.624 Q30.5842 904.778 29.0564 901.977 Q27.4968 899.144 27.4968 895.229 Q27.4968 888.736 32.6531 884.694 Q37.8093 880.62 46.212 880.62 Q54.6147 880.62 59.771 884.694 Q64.9272 888.736 64.9272 895.229 Q64.9272 899.144 63.3994 901.977 Q61.8398 904.778 58.657 906.624 L64.0042 906.624 L64.0042 912.512 L14.479 912.512 L14.479 906.624 L33.7671 906.624 Z\" fill=\"#000000\" fill-rule=\"evenodd\" fill-opacity=\"1\" /><path clip-path=\"url(#clip260)\" d=\"M44.7161 840.421 L47.5806 840.421 L47.5806 867.347 Q53.6281 866.966 56.8109 863.719 Q59.9619 860.441 59.9619 854.616 Q59.9619 851.242 59.1344 848.091 Q58.3069 844.908 56.6518 841.789 L62.1899 841.789 Q63.5267 844.94 64.227 848.25 Q64.9272 851.561 64.9272 854.966 Q64.9272 863.496 59.9619 868.493 Q54.9967 873.459 46.5303 873.459 Q37.7774 873.459 32.6531 868.748 Q27.4968 864.005 27.4968 855.985 Q27.4968 848.791 32.1438 844.622 Q36.7589 840.421 44.7161 840.421 M42.9973 846.277 Q38.1912 846.341 35.3266 848.982 Q32.4621 851.592 32.4621 855.921 Q32.4621 860.823 35.2312 863.783 Q38.0002 866.711 43.0292 867.156 L42.9973 846.277 Z\" fill=\"#000000\" fill-rule=\"evenodd\" fill-opacity=\"1\" /><path clip-path=\"url(#clip260)\" d=\"M33.8307 810.152 Q33.2578 811.138 33.0032 812.316 Q32.7167 813.462 32.7167 814.862 Q32.7167 819.827 35.9632 822.501 Q39.1779 825.143 45.2253 825.143 L64.0042 825.143 L64.0042 831.031 L28.3562 831.031 L28.3562 825.143 L33.8944 825.143 Q30.6479 823.297 29.0883 820.337 Q27.4968 817.377 27.4968 813.143 Q27.4968 812.539 27.5923 811.807 Q27.656 811.075 27.8151 810.183 L33.8307 810.152 Z\" fill=\"#000000\" fill-rule=\"evenodd\" fill-opacity=\"1\" /><path clip-path=\"url(#clip260)\" d=\"M32.4621 769.475 Q32.4621 774.185 36.1542 776.923 Q39.8145 779.66 46.212 779.66 Q52.6095 779.66 56.3017 776.954 Q59.9619 774.217 59.9619 769.475 Q59.9619 764.796 56.2698 762.059 Q52.5777 759.321 46.212 759.321 Q39.8781 759.321 36.186 762.059 Q32.4621 764.796 32.4621 769.475 M27.4968 769.475 Q27.4968 761.836 32.4621 757.475 Q37.4273 753.115 46.212 753.115 Q54.9649 753.115 59.9619 757.475 Q64.9272 761.836 64.9272 769.475 Q64.9272 777.145 59.9619 781.506 Q54.9649 785.835 46.212 785.835 Q37.4273 785.835 32.4621 781.506 Q27.4968 777.145 27.4968 769.475 Z\" fill=\"#000000\" fill-rule=\"evenodd\" fill-opacity=\"1\" /><path clip-path=\"url(#clip260)\" d=\"M14.479 725.36 L19.3487 725.36 L19.3487 730.962 Q19.3487 734.113 20.6219 735.355 Q21.895 736.564 25.2052 736.564 L28.3562 736.564 L28.3562 726.92 L32.9077 726.92 L32.9077 736.564 L64.0042 736.564 L64.0042 742.452 L32.9077 742.452 L32.9077 748.054 L28.3562 748.054 L28.3562 742.452 L25.8736 742.452 Q19.9216 742.452 17.2162 739.683 Q14.479 736.914 14.479 730.899 L14.479 725.36 Z\" fill=\"#000000\" fill-rule=\"evenodd\" fill-opacity=\"1\" /><path clip-path=\"url(#clip260)\" d=\"M57.2247 667.082 L44.4614 667.082 L44.4614 677.586 L39.1779 677.586 L39.1779 660.717 L59.58 660.717 Q62.2218 664.441 63.5904 668.928 Q64.9272 673.416 64.9272 678.509 Q64.9272 689.649 58.4342 695.951 Q51.9093 702.221 40.2919 702.221 Q28.6427 702.221 22.1496 695.951 Q15.6248 689.649 15.6248 678.509 Q15.6248 673.862 16.7706 669.692 Q17.9164 665.491 20.1444 661.958 L26.9876 661.958 Q23.9639 665.523 22.4361 669.533 Q20.9083 673.544 20.9083 677.968 Q20.9083 686.689 25.7781 691.081 Q30.6479 695.442 40.2919 695.442 Q49.9041 695.442 54.7739 691.081 Q59.6436 686.689 59.6436 677.968 Q59.6436 674.562 59.0707 671.888 Q58.466 669.215 57.2247 667.082 Z\" fill=\"#000000\" fill-rule=\"evenodd\" fill-opacity=\"1\" /><path clip-path=\"url(#clip260)\" d=\"M46.0847 633.026 Q46.0847 640.124 47.7079 642.861 Q49.3312 645.598 53.2461 645.598 Q56.3653 645.598 58.2114 643.561 Q60.0256 641.492 60.0256 637.959 Q60.0256 633.089 56.5881 630.161 Q53.1188 627.201 47.3897 627.201 L46.0847 627.201 L46.0847 633.026 M43.6657 621.345 L64.0042 621.345 L64.0042 627.201 L58.5933 627.201 Q61.8398 629.206 63.3994 632.198 Q64.9272 635.19 64.9272 639.519 Q64.9272 644.993 61.8716 648.24 Q58.7843 651.455 53.6281 651.455 Q47.6125 651.455 44.5569 647.444 Q41.5014 643.402 41.5014 635.413 L41.5014 627.201 L40.9285 627.201 Q36.8862 627.201 34.6901 629.875 Q32.4621 632.517 32.4621 637.323 Q32.4621 640.378 33.1941 643.275 Q33.9262 646.171 35.3903 648.845 L29.9795 648.845 Q28.7381 645.63 28.1334 642.606 Q27.4968 639.582 27.4968 636.718 Q27.4968 628.984 31.5072 625.164 Q35.5176 621.345 43.6657 621.345 Z\" fill=\"#000000\" fill-rule=\"evenodd\" fill-opacity=\"1\" /><path clip-path=\"url(#clip260)\" d=\"M35.1993 581.527 Q31.2526 579.331 29.3747 576.276 Q27.4968 573.22 27.4968 569.082 Q27.4968 563.512 31.4117 560.489 Q35.2948 557.465 42.4881 557.465 L64.0042 557.465 L64.0042 563.353 L42.679 563.353 Q37.5546 563.353 35.072 565.167 Q32.5894 566.982 32.5894 570.706 Q32.5894 575.257 35.6131 577.899 Q38.6368 580.541 43.8567 580.541 L64.0042 580.541 L64.0042 586.429 L42.679 586.429 Q37.5228 586.429 35.072 588.243 Q32.5894 590.057 32.5894 593.845 Q32.5894 598.333 35.6449 600.974 Q38.6686 603.616 43.8567 603.616 L64.0042 603.616 L64.0042 609.505 L28.3562 609.505 L28.3562 603.616 L33.8944 603.616 Q30.616 601.611 29.0564 598.81 Q27.4968 596.009 27.4968 592.158 Q27.4968 588.275 29.4702 585.569 Q31.4436 582.832 35.1993 581.527 Z\" fill=\"#000000\" fill-rule=\"evenodd\" fill-opacity=\"1\" /><path clip-path=\"url(#clip260)\" d=\"M44.7161 515.292 L47.5806 515.292 L47.5806 542.219 Q53.6281 541.837 56.8109 538.591 Q59.9619 535.312 59.9619 529.488 Q59.9619 526.114 59.1344 522.963 Q58.3069 519.78 56.6518 516.661 L62.1899 516.661 Q63.5267 519.812 64.227 523.122 Q64.9272 526.432 64.9272 529.838 Q64.9272 538.368 59.9619 543.365 Q54.9967 548.33 46.5303 548.33 Q37.7774 548.33 32.6531 543.619 Q27.4968 538.877 27.4968 530.856 Q27.4968 523.663 32.1438 519.493 Q36.7589 515.292 44.7161 515.292 M42.9973 521.149 Q38.1912 521.212 35.3266 523.854 Q32.4621 526.464 32.4621 530.793 Q32.4621 535.694 35.2312 538.654 Q38.0002 541.582 43.0292 542.028 L42.9973 521.149 Z\" fill=\"#000000\" fill-rule=\"evenodd\" fill-opacity=\"1\" /><path clip-path=\"url(#clip260)\" d=\"M29.4065 482.954 L34.9447 482.954 Q33.6716 485.437 33.035 488.11 Q32.3984 490.784 32.3984 493.649 Q32.3984 498.009 33.7352 500.205 Q35.072 502.37 37.7456 502.37 Q39.7826 502.37 40.9603 500.81 Q42.1061 499.25 43.1565 494.54 L43.6021 492.535 Q44.9389 486.296 47.3897 483.686 Q49.8086 481.045 54.1691 481.045 Q59.1344 481.045 62.0308 484.991 Q64.9272 488.906 64.9272 495.781 Q64.9272 498.646 64.3543 501.765 Q63.8132 504.852 62.6992 508.29 L56.6518 508.29 Q58.3387 505.043 59.198 501.892 Q60.0256 498.741 60.0256 495.654 Q60.0256 491.516 58.6251 489.288 Q57.1929 487.06 54.6147 487.06 Q52.2276 487.06 50.9545 488.683 Q49.6813 490.275 48.5037 495.718 L48.0262 497.755 Q46.8804 503.197 44.5251 505.616 Q42.138 508.035 38.0002 508.035 Q32.9713 508.035 30.2341 504.47 Q27.4968 500.906 27.4968 494.349 Q27.4968 491.102 27.9743 488.238 Q28.4517 485.373 29.4065 482.954 Z\" fill=\"#000000\" fill-rule=\"evenodd\" fill-opacity=\"1\" /><path clip-path=\"url(#clip260)\" d=\"M753.374 16.7545 L753.374 25.383 Q749.242 21.5346 744.543 19.6307 Q739.885 17.7268 734.618 17.7268 Q724.248 17.7268 718.739 24.0867 Q713.23 30.4061 713.23 42.3968 Q713.23 54.3469 718.739 60.7069 Q724.248 67.0263 734.618 67.0263 Q739.885 67.0263 744.543 65.1223 Q749.242 63.2184 753.374 59.3701 L753.374 67.9175 Q749.08 70.8341 744.26 72.2924 Q739.48 73.7508 734.132 73.7508 Q720.4 73.7508 712.501 65.3654 Q704.601 56.9395 704.601 42.3968 Q704.601 27.8135 712.501 19.4281 Q720.4 11.0023 734.132 11.0023 Q739.561 11.0023 744.341 12.4606 Q749.161 13.8784 753.374 16.7545 Z\" fill=\"#000000\" fill-rule=\"evenodd\" fill-opacity=\"1\" /><path clip-path=\"url(#clip260)\" d=\"M783.27 32.4315 Q777.274 32.4315 773.791 37.1306 Q770.307 41.7891 770.307 49.9314 Q770.307 58.0738 773.75 62.7728 Q777.234 67.4314 783.27 67.4314 Q789.225 67.4314 792.708 62.7323 Q796.192 58.0333 796.192 49.9314 Q796.192 41.8701 792.708 37.1711 Q789.225 32.4315 783.27 32.4315 M783.27 26.1121 Q792.992 26.1121 798.542 32.4315 Q804.091 38.7509 804.091 49.9314 Q804.091 61.0714 798.542 67.4314 Q792.992 73.7508 783.27 73.7508 Q773.507 73.7508 767.957 67.4314 Q762.448 61.0714 762.448 49.9314 Q762.448 38.7509 767.957 32.4315 Q773.507 26.1121 783.27 26.1121 Z\" fill=\"#000000\" fill-rule=\"evenodd\" fill-opacity=\"1\" /><path clip-path=\"url(#clip260)\" d=\"M854.161 45.1919 L854.161 72.576 L846.707 72.576 L846.707 45.4349 Q846.707 38.994 844.195 35.7938 Q841.684 32.5936 836.661 32.5936 Q830.625 32.5936 827.141 36.4419 Q823.657 40.2903 823.657 46.9338 L823.657 72.576 L816.163 72.576 L816.163 27.2059 L823.657 27.2059 L823.657 34.2544 Q826.331 30.163 829.936 28.1376 Q833.582 26.1121 838.322 26.1121 Q846.14 26.1121 850.15 30.9732 Q854.161 35.7938 854.161 45.1919 Z\" fill=\"#000000\" fill-rule=\"evenodd\" fill-opacity=\"1\" /><path clip-path=\"url(#clip260)\" d=\"M876.4 14.324 L876.4 27.2059 L891.753 27.2059 L891.753 32.9987 L876.4 32.9987 L876.4 57.6282 Q876.4 63.1779 877.899 64.7578 Q879.438 66.3376 884.097 66.3376 L891.753 66.3376 L891.753 72.576 L884.097 72.576 Q875.468 72.576 872.187 69.3758 Q868.906 66.1351 868.906 57.6282 L868.906 32.9987 L863.437 32.9987 L863.437 27.2059 L868.906 27.2059 L868.906 14.324 L876.4 14.324 Z\" fill=\"#000000\" fill-rule=\"evenodd\" fill-opacity=\"1\" /><path clip-path=\"url(#clip260)\" d=\"M927.847 34.1734 Q926.591 33.4443 925.092 33.1202 Q923.634 32.7556 921.851 32.7556 Q915.532 32.7556 912.129 36.8875 Q908.767 40.9789 908.767 48.6757 L908.767 72.576 L901.273 72.576 L901.273 27.2059 L908.767 27.2059 L908.767 34.2544 Q911.116 30.1225 914.884 28.1376 Q918.651 26.1121 924.039 26.1121 Q924.808 26.1121 925.74 26.2337 Q926.672 26.3147 927.806 26.5172 L927.847 34.1734 Z\" fill=\"#000000\" fill-rule=\"evenodd\" fill-opacity=\"1\" /><path clip-path=\"url(#clip260)\" d=\"M935.665 27.2059 L943.118 27.2059 L943.118 72.576 L935.665 72.576 L935.665 27.2059 M935.665 9.54393 L943.118 9.54393 L943.118 18.9825 L935.665 18.9825 L935.665 9.54393 Z\" fill=\"#000000\" fill-rule=\"evenodd\" fill-opacity=\"1\" /><path clip-path=\"url(#clip260)\" d=\"M991.284 49.9314 Q991.284 41.7081 987.881 37.0496 Q984.519 32.3505 978.604 32.3505 Q972.69 32.3505 969.287 37.0496 Q965.925 41.7081 965.925 49.9314 Q965.925 58.1548 969.287 62.8538 Q972.69 67.5124 978.604 67.5124 Q984.519 67.5124 987.881 62.8538 Q991.284 58.1548 991.284 49.9314 M965.925 34.0924 Q968.275 30.0415 971.839 28.0971 Q975.445 26.1121 980.427 26.1121 Q988.691 26.1121 993.836 32.6746 Q999.021 39.2371 999.021 49.9314 Q999.021 60.6258 993.836 67.1883 Q988.691 73.7508 980.427 73.7508 Q975.445 73.7508 971.839 71.8063 Q968.275 69.8214 965.925 65.7705 L965.925 72.576 L958.431 72.576 L958.431 9.54393 L965.925 9.54393 L965.925 34.0924 Z\" fill=\"#000000\" fill-rule=\"evenodd\" fill-opacity=\"1\" /><path clip-path=\"url(#clip260)\" d=\"M1010.61 54.671 L1010.61 27.2059 L1018.06 27.2059 L1018.06 54.3874 Q1018.06 60.8284 1020.57 64.0691 Q1023.08 67.2693 1028.11 67.2693 Q1034.14 67.2693 1037.63 63.421 Q1041.15 59.5726 1041.15 52.9291 L1041.15 27.2059 L1048.6 27.2059 L1048.6 72.576 L1041.15 72.576 L1041.15 65.6084 Q1038.44 69.7404 1034.83 71.7658 Q1031.27 73.7508 1026.53 73.7508 Q1018.71 73.7508 1014.66 68.8897 Q1010.61 64.0286 1010.61 54.671 M1029.36 26.1121 L1029.36 26.1121 Z\" fill=\"#000000\" fill-rule=\"evenodd\" fill-opacity=\"1\" /><path clip-path=\"url(#clip260)\" d=\"M1071.33 14.324 L1071.33 27.2059 L1086.68 27.2059 L1086.68 32.9987 L1071.33 32.9987 L1071.33 57.6282 Q1071.33 63.1779 1072.83 64.7578 Q1074.37 66.3376 1079.03 66.3376 L1086.68 66.3376 L1086.68 72.576 L1079.03 72.576 Q1070.4 72.576 1067.12 69.3758 Q1063.84 66.1351 1063.84 57.6282 L1063.84 32.9987 L1058.37 32.9987 L1058.37 27.2059 L1063.84 27.2059 L1063.84 14.324 L1071.33 14.324 Z\" fill=\"#000000\" fill-rule=\"evenodd\" fill-opacity=\"1\" /><path clip-path=\"url(#clip260)\" d=\"M1096.49 27.2059 L1103.94 27.2059 L1103.94 72.576 L1096.49 72.576 L1096.49 27.2059 M1096.49 9.54393 L1103.94 9.54393 L1103.94 18.9825 L1096.49 18.9825 L1096.49 9.54393 Z\" fill=\"#000000\" fill-rule=\"evenodd\" fill-opacity=\"1\" /><path clip-path=\"url(#clip260)\" d=\"M1137.12 32.4315 Q1131.12 32.4315 1127.64 37.1306 Q1124.15 41.7891 1124.15 49.9314 Q1124.15 58.0738 1127.6 62.7728 Q1131.08 67.4314 1137.12 67.4314 Q1143.07 67.4314 1146.55 62.7323 Q1150.04 58.0333 1150.04 49.9314 Q1150.04 41.8701 1146.55 37.1711 Q1143.07 32.4315 1137.12 32.4315 M1137.12 26.1121 Q1146.84 26.1121 1152.39 32.4315 Q1157.94 38.7509 1157.94 49.9314 Q1157.94 61.0714 1152.39 67.4314 Q1146.84 73.7508 1137.12 73.7508 Q1127.35 73.7508 1121.8 67.4314 Q1116.29 61.0714 1116.29 49.9314 Q1116.29 38.7509 1121.8 32.4315 Q1127.35 26.1121 1137.12 26.1121 Z\" fill=\"#000000\" fill-rule=\"evenodd\" fill-opacity=\"1\" /><path clip-path=\"url(#clip260)\" d=\"M1208.01 45.1919 L1208.01 72.576 L1200.55 72.576 L1200.55 45.4349 Q1200.55 38.994 1198.04 35.7938 Q1195.53 32.5936 1190.51 32.5936 Q1184.47 32.5936 1180.99 36.4419 Q1177.5 40.2903 1177.5 46.9338 L1177.5 72.576 L1170.01 72.576 L1170.01 27.2059 L1177.5 27.2059 L1177.5 34.2544 Q1180.18 30.163 1183.78 28.1376 Q1187.43 26.1121 1192.17 26.1121 Q1199.99 26.1121 1204 30.9732 Q1208.01 35.7938 1208.01 45.1919 Z\" fill=\"#000000\" fill-rule=\"evenodd\" fill-opacity=\"1\" /><path clip-path=\"url(#clip260)\" d=\"M1251.8 28.5427 L1251.8 35.5912 Q1248.64 33.9709 1245.23 33.1607 Q1241.83 32.3505 1238.19 32.3505 Q1232.64 32.3505 1229.84 34.0519 Q1227.09 35.7533 1227.09 39.156 Q1227.09 41.7486 1229.07 43.2475 Q1231.06 44.7058 1237.05 46.0426 L1239.6 46.6097 Q1247.54 48.3111 1250.87 51.4303 Q1254.23 54.509 1254.23 60.0587 Q1254.23 66.3781 1249.2 70.0644 Q1244.22 73.7508 1235.47 73.7508 Q1231.83 73.7508 1227.86 73.0216 Q1223.93 72.3329 1219.55 70.9151 L1219.55 63.2184 Q1223.68 65.3654 1227.69 66.4591 Q1231.7 67.5124 1235.63 67.5124 Q1240.9 67.5124 1243.74 65.73 Q1246.57 63.9071 1246.57 60.6258 Q1246.57 57.5877 1244.51 55.9673 Q1242.48 54.3469 1235.55 52.8481 L1232.96 52.2405 Q1226.03 50.7821 1222.95 47.7845 Q1219.88 44.7463 1219.88 39.4801 Q1219.88 33.0797 1224.41 29.5959 Q1228.95 26.1121 1237.3 26.1121 Q1241.43 26.1121 1245.07 26.7198 Q1248.72 27.3274 1251.8 28.5427 Z\" fill=\"#000000\" fill-rule=\"evenodd\" fill-opacity=\"1\" /><path clip-path=\"url(#clip260)\" d=\"M1299.84 14.324 L1299.84 27.2059 L1315.19 27.2059 L1315.19 32.9987 L1299.84 32.9987 L1299.84 57.6282 Q1299.84 63.1779 1301.34 64.7578 Q1302.88 66.3376 1307.54 66.3376 L1315.19 66.3376 L1315.19 72.576 L1307.54 72.576 Q1298.91 72.576 1295.63 69.3758 Q1292.35 66.1351 1292.35 57.6282 L1292.35 32.9987 L1286.88 32.9987 L1286.88 27.2059 L1292.35 27.2059 L1292.35 14.324 L1299.84 14.324 Z\" fill=\"#000000\" fill-rule=\"evenodd\" fill-opacity=\"1\" /><path clip-path=\"url(#clip260)\" d=\"M1342.58 32.4315 Q1336.58 32.4315 1333.1 37.1306 Q1329.62 41.7891 1329.62 49.9314 Q1329.62 58.0738 1333.06 62.7728 Q1336.54 67.4314 1342.58 67.4314 Q1348.53 67.4314 1352.02 62.7323 Q1355.5 58.0333 1355.5 49.9314 Q1355.5 41.8701 1352.02 37.1711 Q1348.53 32.4315 1342.58 32.4315 M1342.58 26.1121 Q1352.3 26.1121 1357.85 32.4315 Q1363.4 38.7509 1363.4 49.9314 Q1363.4 61.0714 1357.85 67.4314 Q1352.3 73.7508 1342.58 73.7508 Q1332.82 73.7508 1327.27 67.4314 Q1321.76 61.0714 1321.76 49.9314 Q1321.76 38.7509 1327.27 32.4315 Q1332.82 26.1121 1342.58 26.1121 Z\" fill=\"#000000\" fill-rule=\"evenodd\" fill-opacity=\"1\" /><path clip-path=\"url(#clip260)\" d=\"M1394.07 12.096 L1445.23 12.096 L1445.23 18.9825 L1423.76 18.9825 L1423.76 72.576 L1415.53 72.576 L1415.53 18.9825 L1394.07 18.9825 L1394.07 12.096 Z\" fill=\"#000000\" fill-rule=\"evenodd\" fill-opacity=\"1\" /><path clip-path=\"url(#clip260)\" d=\"M1466.9 34.1734 Q1465.64 33.4443 1464.15 33.1202 Q1462.69 32.7556 1460.91 32.7556 Q1454.59 32.7556 1451.18 36.8875 Q1447.82 40.9789 1447.82 48.6757 L1447.82 72.576 L1440.33 72.576 L1440.33 27.2059 L1447.82 27.2059 L1447.82 34.2544 Q1450.17 30.1225 1453.94 28.1376 Q1457.7 26.1121 1463.09 26.1121 Q1463.86 26.1121 1464.79 26.2337 Q1465.73 26.3147 1466.86 26.5172 L1466.9 34.1734 Z\" fill=\"#000000\" fill-rule=\"evenodd\" fill-opacity=\"1\" /><path clip-path=\"url(#clip260)\" d=\"M1495.34 49.7694 Q1486.3 49.7694 1482.82 51.8354 Q1479.34 53.9013 1479.34 58.8839 Q1479.34 62.8538 1481.93 65.2034 Q1484.56 67.5124 1489.06 67.5124 Q1495.26 67.5124 1498.98 63.1374 Q1502.75 58.7219 1502.75 51.4303 L1502.75 49.7694 L1495.34 49.7694 M1510.2 46.6907 L1510.2 72.576 L1502.75 72.576 L1502.75 65.6895 Q1500.2 69.8214 1496.39 71.8063 Q1492.58 73.7508 1487.07 73.7508 Q1480.11 73.7508 1475.97 69.8619 Q1471.88 65.9325 1471.88 59.3701 Q1471.88 51.7138 1476.99 47.825 Q1482.13 43.9361 1492.3 43.9361 L1502.75 43.9361 L1502.75 43.2069 Q1502.75 38.0623 1499.35 35.2672 Q1495.99 32.4315 1489.87 32.4315 Q1485.98 32.4315 1482.29 33.3632 Q1478.61 34.295 1475.2 36.1584 L1475.2 29.2718 Q1479.3 27.692 1483.14 26.9223 Q1486.99 26.1121 1490.64 26.1121 Q1500.48 26.1121 1505.34 31.2163 Q1510.2 36.3204 1510.2 46.6907 Z\" fill=\"#000000\" fill-rule=\"evenodd\" fill-opacity=\"1\" /><path clip-path=\"url(#clip260)\" d=\"M1525.56 27.2059 L1533.01 27.2059 L1533.01 72.576 L1525.56 72.576 L1525.56 27.2059 M1525.56 9.54393 L1533.01 9.54393 L1533.01 18.9825 L1525.56 18.9825 L1525.56 9.54393 Z\" fill=\"#000000\" fill-rule=\"evenodd\" fill-opacity=\"1\" /><path clip-path=\"url(#clip260)\" d=\"M1586.32 45.1919 L1586.32 72.576 L1578.87 72.576 L1578.87 45.4349 Q1578.87 38.994 1576.36 35.7938 Q1573.84 32.5936 1568.82 32.5936 Q1562.79 32.5936 1559.3 36.4419 Q1555.82 40.2903 1555.82 46.9338 L1555.82 72.576 L1548.32 72.576 L1548.32 27.2059 L1555.82 27.2059 L1555.82 34.2544 Q1558.49 30.163 1562.1 28.1376 Q1565.74 26.1121 1570.48 26.1121 Q1578.3 26.1121 1582.31 30.9732 Q1586.32 35.7938 1586.32 45.1919 Z\" fill=\"#000000\" fill-rule=\"evenodd\" fill-opacity=\"1\" /><path clip-path=\"url(#clip260)\" d=\"M1601.19 27.2059 L1608.64 27.2059 L1608.64 72.576 L1601.19 72.576 L1601.19 27.2059 M1601.19 9.54393 L1608.64 9.54393 L1608.64 18.9825 L1601.19 18.9825 L1601.19 9.54393 Z\" fill=\"#000000\" fill-rule=\"evenodd\" fill-opacity=\"1\" /><path clip-path=\"url(#clip260)\" d=\"M1661.95 45.1919 L1661.95 72.576 L1654.5 72.576 L1654.5 45.4349 Q1654.5 38.994 1651.99 35.7938 Q1649.47 32.5936 1644.45 32.5936 Q1638.42 32.5936 1634.93 36.4419 Q1631.45 40.2903 1631.45 46.9338 L1631.45 72.576 L1623.95 72.576 L1623.95 27.2059 L1631.45 27.2059 L1631.45 34.2544 Q1634.12 30.163 1637.73 28.1376 Q1641.37 26.1121 1646.11 26.1121 Q1653.93 26.1121 1657.94 30.9732 Q1661.95 35.7938 1661.95 45.1919 Z\" fill=\"#000000\" fill-rule=\"evenodd\" fill-opacity=\"1\" /><path clip-path=\"url(#clip260)\" d=\"M1706.67 49.3643 Q1706.67 41.2625 1703.31 36.8065 Q1699.99 32.3505 1693.95 32.3505 Q1687.96 32.3505 1684.6 36.8065 Q1681.27 41.2625 1681.27 49.3643 Q1681.27 57.4256 1684.6 61.8816 Q1687.96 66.3376 1693.95 66.3376 Q1699.99 66.3376 1703.31 61.8816 Q1706.67 57.4256 1706.67 49.3643 M1714.13 66.9452 Q1714.13 78.5308 1708.98 84.1616 Q1703.84 89.8329 1693.22 89.8329 Q1689.3 89.8329 1685.81 89.2252 Q1682.33 88.6581 1679.05 87.4428 L1679.05 80.1917 Q1682.33 81.9741 1685.53 82.8248 Q1688.73 83.6755 1692.05 83.6755 Q1699.38 83.6755 1703.03 79.8271 Q1706.67 76.0193 1706.67 68.282 L1706.67 64.5957 Q1704.36 68.6061 1700.76 70.5911 Q1697.15 72.576 1692.13 72.576 Q1683.79 72.576 1678.68 66.2161 Q1673.58 59.8562 1673.58 49.3643 Q1673.58 38.832 1678.68 32.472 Q1683.79 26.1121 1692.13 26.1121 Q1697.15 26.1121 1700.76 28.0971 Q1704.36 30.082 1706.67 34.0924 L1706.67 27.2059 L1714.13 27.2059 L1714.13 66.9452 Z\" fill=\"#000000\" fill-rule=\"evenodd\" fill-opacity=\"1\" /><path clip-path=\"url(#clip260)\" d=\"M1792.43 14.0809 L1792.43 22.0612 Q1787.77 19.8332 1783.64 18.7395 Q1779.51 17.6457 1775.66 17.6457 Q1768.98 17.6457 1765.33 20.2383 Q1761.73 22.8309 1761.73 27.611 Q1761.73 31.6214 1764.12 33.6873 Q1766.55 35.7128 1773.27 36.9686 L1778.21 37.9813 Q1787.37 39.7232 1791.7 44.1387 Q1796.08 48.5136 1796.08 55.8863 Q1796.08 64.6767 1790.16 69.2137 Q1784.29 73.7508 1772.91 73.7508 Q1768.61 73.7508 1763.75 72.7785 Q1758.93 71.8063 1753.74 69.9024 L1753.74 61.4765 Q1758.73 64.2716 1763.51 65.6895 Q1768.29 67.1073 1772.91 67.1073 Q1779.91 67.1073 1783.72 64.3527 Q1787.53 61.598 1787.53 56.4939 Q1787.53 52.0379 1784.77 49.5264 Q1782.06 47.0148 1775.82 45.759 L1770.84 44.7868 Q1761.68 42.9639 1757.59 39.075 Q1753.5 35.1862 1753.5 28.2591 Q1753.5 20.2383 1759.13 15.6203 Q1764.8 11.0023 1774.73 11.0023 Q1778.98 11.0023 1783.4 11.7719 Q1787.81 12.5416 1792.43 14.0809 Z\" fill=\"#000000\" fill-rule=\"evenodd\" fill-opacity=\"1\" /><path clip-path=\"url(#clip260)\" d=\"M1847.32 48.0275 L1847.32 51.6733 L1813.05 51.6733 Q1813.54 59.3701 1817.67 63.421 Q1821.84 67.4314 1829.25 67.4314 Q1833.55 67.4314 1837.56 66.3781 Q1841.61 65.3249 1845.58 63.2184 L1845.58 70.267 Q1841.57 71.9684 1837.36 72.8596 Q1833.14 73.7508 1828.81 73.7508 Q1817.95 73.7508 1811.59 67.4314 Q1805.27 61.1119 1805.27 50.3365 Q1805.27 39.1965 1811.27 32.6746 Q1817.3 26.1121 1827.51 26.1121 Q1836.67 26.1121 1841.97 32.0264 Q1847.32 37.9003 1847.32 48.0275 M1839.87 45.84 Q1839.79 39.7232 1836.42 36.0774 Q1833.1 32.4315 1827.59 32.4315 Q1821.35 32.4315 1817.59 35.9558 Q1813.86 39.4801 1813.29 45.8805 L1839.87 45.84 Z\" fill=\"#000000\" fill-rule=\"evenodd\" fill-opacity=\"1\" /><path clip-path=\"url(#clip260)\" d=\"M1866.93 14.324 L1866.93 27.2059 L1882.28 27.2059 L1882.28 32.9987 L1866.93 32.9987 L1866.93 57.6282 Q1866.93 63.1779 1868.43 64.7578 Q1869.97 66.3376 1874.62 66.3376 L1882.28 66.3376 L1882.28 72.576 L1874.62 72.576 Q1866 72.576 1862.71 69.3758 Q1859.43 66.1351 1859.43 57.6282 L1859.43 32.9987 L1853.96 32.9987 L1853.96 27.2059 L1859.43 27.2059 L1859.43 14.324 L1866.93 14.324 Z\" fill=\"#000000\" fill-rule=\"evenodd\" fill-opacity=\"1\" /><path clip-path=\"url(#clip262)\" d=\"\n",
       "M350.654 160.256 L350.654 745.875 L747.617 745.875 L747.617 160.256 L350.654 160.256 L350.654 160.256  Z\n",
       "  \" fill=\"#009af9\" fill-rule=\"evenodd\" fill-opacity=\"1\"/>\n",
       "<polyline clip-path=\"url(#clip262)\" style=\"stroke:#000000; stroke-linecap:round; stroke-linejoin:round; stroke-width:4; stroke-opacity:1; fill:none\" points=\"\n",
       "  350.654,160.256 350.654,745.875 747.617,745.875 747.617,160.256 350.654,160.256 \n",
       "  \"/>\n",
       "<path clip-path=\"url(#clip262)\" d=\"\n",
       "M846.857 663.522 L846.857 1061.56 L1243.82 1061.56 L1243.82 663.522 L846.857 663.522 L846.857 663.522  Z\n",
       "  \" fill=\"#009af9\" fill-rule=\"evenodd\" fill-opacity=\"1\"/>\n",
       "<polyline clip-path=\"url(#clip262)\" style=\"stroke:#000000; stroke-linecap:round; stroke-linejoin:round; stroke-width:4; stroke-opacity:1; fill:none\" points=\"\n",
       "  846.857,663.522 846.857,1061.56 1243.82,1061.56 1243.82,663.522 846.857,663.522 \n",
       "  \"/>\n",
       "<path clip-path=\"url(#clip262)\" d=\"\n",
       "M1343.06 928.881 L1343.06 1148.49 L1740.02 1148.49 L1740.02 928.881 L1343.06 928.881 L1343.06 928.881  Z\n",
       "  \" fill=\"#009af9\" fill-rule=\"evenodd\" fill-opacity=\"1\"/>\n",
       "<polyline clip-path=\"url(#clip262)\" style=\"stroke:#000000; stroke-linecap:round; stroke-linejoin:round; stroke-width:4; stroke-opacity:1; fill:none\" points=\"\n",
       "  1343.06,928.881 1343.06,1148.49 1740.02,1148.49 1740.02,928.881 1343.06,928.881 \n",
       "  \"/>\n",
       "<path clip-path=\"url(#clip262)\" d=\"\n",
       "M1839.26 1322.34 L1839.26 1354.37 L2236.23 1354.37 L2236.23 1322.34 L1839.26 1322.34 L1839.26 1322.34  Z\n",
       "  \" fill=\"#009af9\" fill-rule=\"evenodd\" fill-opacity=\"1\"/>\n",
       "<polyline clip-path=\"url(#clip262)\" style=\"stroke:#000000; stroke-linecap:round; stroke-linejoin:round; stroke-width:4; stroke-opacity:1; fill:none\" points=\"\n",
       "  1839.26,1322.34 1839.26,1354.37 2236.23,1354.37 2236.23,1322.34 1839.26,1322.34 \n",
       "  \"/>\n",
       "<circle clip-path=\"url(#clip262)\" style=\"fill:#009af9; stroke:none; fill-opacity:0\" cx=\"549.135\" cy=\"160.256\" r=\"2\"/>\n",
       "<circle clip-path=\"url(#clip262)\" style=\"fill:#009af9; stroke:none; fill-opacity:0\" cx=\"1045.34\" cy=\"663.522\" r=\"2\"/>\n",
       "<circle clip-path=\"url(#clip262)\" style=\"fill:#009af9; stroke:none; fill-opacity:0\" cx=\"1541.54\" cy=\"928.881\" r=\"2\"/>\n",
       "<circle clip-path=\"url(#clip262)\" style=\"fill:#009af9; stroke:none; fill-opacity:0\" cx=\"2037.75\" cy=\"1322.34\" r=\"2\"/>\n",
       "<path clip-path=\"url(#clip262)\" d=\"\n",
       "M350.654 745.875 L350.654 1386.4 L747.617 1386.4 L747.617 745.875 L350.654 745.875 L350.654 745.875  Z\n",
       "  \" fill=\"#e26f46\" fill-rule=\"evenodd\" fill-opacity=\"1\"/>\n",
       "<polyline clip-path=\"url(#clip262)\" style=\"stroke:#000000; stroke-linecap:round; stroke-linejoin:round; stroke-width:4; stroke-opacity:1; fill:none\" points=\"\n",
       "  350.654,745.875 350.654,1386.4 747.617,1386.4 747.617,745.875 350.654,745.875 \n",
       "  \"/>\n",
       "<path clip-path=\"url(#clip262)\" d=\"\n",
       "M846.857 1061.56 L846.857 1386.4 L1243.82 1386.4 L1243.82 1061.56 L846.857 1061.56 L846.857 1061.56  Z\n",
       "  \" fill=\"#e26f46\" fill-rule=\"evenodd\" fill-opacity=\"1\"/>\n",
       "<polyline clip-path=\"url(#clip262)\" style=\"stroke:#000000; stroke-linecap:round; stroke-linejoin:round; stroke-width:4; stroke-opacity:1; fill:none\" points=\"\n",
       "  846.857,1061.56 846.857,1386.4 1243.82,1386.4 1243.82,1061.56 846.857,1061.56 \n",
       "  \"/>\n",
       "<path clip-path=\"url(#clip262)\" d=\"\n",
       "M1343.06 1148.49 L1343.06 1386.4 L1740.02 1386.4 L1740.02 1148.49 L1343.06 1148.49 L1343.06 1148.49  Z\n",
       "  \" fill=\"#e26f46\" fill-rule=\"evenodd\" fill-opacity=\"1\"/>\n",
       "<polyline clip-path=\"url(#clip262)\" style=\"stroke:#000000; stroke-linecap:round; stroke-linejoin:round; stroke-width:4; stroke-opacity:1; fill:none\" points=\"\n",
       "  1343.06,1148.49 1343.06,1386.4 1740.02,1386.4 1740.02,1148.49 1343.06,1148.49 \n",
       "  \"/>\n",
       "<path clip-path=\"url(#clip262)\" d=\"\n",
       "M1839.26 1354.37 L1839.26 1386.4 L2236.23 1386.4 L2236.23 1354.37 L1839.26 1354.37 L1839.26 1354.37  Z\n",
       "  \" fill=\"#e26f46\" fill-rule=\"evenodd\" fill-opacity=\"1\"/>\n",
       "<polyline clip-path=\"url(#clip262)\" style=\"stroke:#000000; stroke-linecap:round; stroke-linejoin:round; stroke-width:4; stroke-opacity:1; fill:none\" points=\"\n",
       "  1839.26,1354.37 1839.26,1386.4 2236.23,1386.4 2236.23,1354.37 1839.26,1354.37 \n",
       "  \"/>\n",
       "<circle clip-path=\"url(#clip262)\" style=\"fill:#e26f46; stroke:none; fill-opacity:0\" cx=\"549.135\" cy=\"745.875\" r=\"2\"/>\n",
       "<circle clip-path=\"url(#clip262)\" style=\"fill:#e26f46; stroke:none; fill-opacity:0\" cx=\"1045.34\" cy=\"1061.56\" r=\"2\"/>\n",
       "<circle clip-path=\"url(#clip262)\" style=\"fill:#e26f46; stroke:none; fill-opacity:0\" cx=\"1541.54\" cy=\"1148.49\" r=\"2\"/>\n",
       "<circle clip-path=\"url(#clip262)\" style=\"fill:#e26f46; stroke:none; fill-opacity:0\" cx=\"2037.75\" cy=\"1354.37\" r=\"2\"/>\n",
       "<path clip-path=\"url(#clip260)\" d=\"\n",
       "M1931.62 322.316 L2282.13 322.316 L2282.13 166.796 L1931.62 166.796  Z\n",
       "  \" fill=\"#ffffff\" fill-rule=\"evenodd\" fill-opacity=\"1\"/>\n",
       "<polyline clip-path=\"url(#clip260)\" style=\"stroke:#000000; stroke-linecap:round; stroke-linejoin:round; stroke-width:4; stroke-opacity:1; fill:none\" points=\"\n",
       "  1931.62,322.316 2282.13,322.316 2282.13,166.796 1931.62,166.796 1931.62,322.316 \n",
       "  \"/>\n",
       "<path clip-path=\"url(#clip260)\" d=\"\n",
       "M1955.16 239.372 L2096.4 239.372 L2096.4 197.9 L1955.16 197.9 L1955.16 239.372  Z\n",
       "  \" fill=\"#009af9\" fill-rule=\"evenodd\" fill-opacity=\"1\"/>\n",
       "<polyline clip-path=\"url(#clip260)\" style=\"stroke:#000000; stroke-linecap:round; stroke-linejoin:round; stroke-width:4; stroke-opacity:1; fill:none\" points=\"\n",
       "  1955.16,239.372 2096.4,239.372 2096.4,197.9 1955.16,197.9 1955.16,239.372 \n",
       "  \"/>\n",
       "<path clip-path=\"url(#clip260)\" d=\"M2119.94 199.897 L2124.2 199.897 L2124.2 235.916 L2119.94 235.916 L2119.94 199.897 Z\" fill=\"#000000\" fill-rule=\"evenodd\" fill-opacity=\"1\" /><path clip-path=\"url(#clip260)\" d=\"M2143.16 212.976 Q2139.73 212.976 2137.74 215.661 Q2135.75 218.323 2135.75 222.976 Q2135.75 227.629 2137.72 230.314 Q2139.71 232.976 2143.16 232.976 Q2146.56 232.976 2148.55 230.291 Q2150.54 227.606 2150.54 222.976 Q2150.54 218.37 2148.55 215.684 Q2146.56 212.976 2143.16 212.976 M2143.16 209.365 Q2148.71 209.365 2151.88 212.976 Q2155.05 216.587 2155.05 222.976 Q2155.05 229.342 2151.88 232.976 Q2148.71 236.587 2143.16 236.587 Q2137.58 236.587 2134.41 232.976 Q2131.26 229.342 2131.26 222.976 Q2131.26 216.587 2134.41 212.976 Q2137.58 209.365 2143.16 209.365 Z\" fill=\"#000000\" fill-rule=\"evenodd\" fill-opacity=\"1\" /><path clip-path=\"url(#clip260)\" d=\"M2178.64 210.754 L2178.64 214.782 Q2176.84 213.856 2174.89 213.393 Q2172.95 212.93 2170.86 212.93 Q2167.69 212.93 2166.1 213.902 Q2164.52 214.874 2164.52 216.819 Q2164.52 218.3 2165.66 219.157 Q2166.79 219.99 2170.22 220.754 L2171.67 221.078 Q2176.21 222.05 2178.11 223.832 Q2180.03 225.592 2180.03 228.763 Q2180.03 232.374 2177.16 234.481 Q2174.31 236.587 2169.31 236.587 Q2167.23 236.587 2164.96 236.17 Q2162.72 235.777 2160.22 234.967 L2160.22 230.569 Q2162.58 231.795 2164.87 232.42 Q2167.16 233.022 2169.41 233.022 Q2172.41 233.022 2174.03 232.004 Q2175.66 230.962 2175.66 229.087 Q2175.66 227.351 2174.47 226.425 Q2173.32 225.499 2169.36 224.643 L2167.88 224.295 Q2163.92 223.462 2162.16 221.749 Q2160.4 220.013 2160.4 217.004 Q2160.4 213.346 2162.99 211.356 Q2165.59 209.365 2170.35 209.365 Q2172.72 209.365 2174.8 209.712 Q2176.88 210.059 2178.64 210.754 Z\" fill=\"#000000\" fill-rule=\"evenodd\" fill-opacity=\"1\" /><path clip-path=\"url(#clip260)\" d=\"M2203.34 210.754 L2203.34 214.782 Q2201.53 213.856 2199.59 213.393 Q2197.65 212.93 2195.56 212.93 Q2192.39 212.93 2190.79 213.902 Q2189.22 214.874 2189.22 216.819 Q2189.22 218.3 2190.35 219.157 Q2191.49 219.99 2194.91 220.754 L2196.37 221.078 Q2200.91 222.05 2202.81 223.832 Q2204.73 225.592 2204.73 228.763 Q2204.73 232.374 2201.86 234.481 Q2199.01 236.587 2194.01 236.587 Q2191.93 236.587 2189.66 236.17 Q2187.41 235.777 2184.91 234.967 L2184.91 230.569 Q2187.28 231.795 2189.57 232.42 Q2191.86 233.022 2194.1 233.022 Q2197.11 233.022 2198.73 232.004 Q2200.35 230.962 2200.35 229.087 Q2200.35 227.351 2199.17 226.425 Q2198.02 225.499 2194.06 224.643 L2192.58 224.295 Q2188.62 223.462 2186.86 221.749 Q2185.1 220.013 2185.1 217.004 Q2185.1 213.346 2187.69 211.356 Q2190.28 209.365 2195.05 209.365 Q2197.41 209.365 2199.5 209.712 Q2201.58 210.059 2203.34 210.754 Z\" fill=\"#000000\" fill-rule=\"evenodd\" fill-opacity=\"1\" /><path clip-path=\"url(#clip260)\" d=\"M2233.69 221.888 L2233.69 223.971 L2214.1 223.971 Q2214.38 228.369 2216.74 230.684 Q2219.13 232.976 2223.36 232.976 Q2225.82 232.976 2228.11 232.374 Q2230.42 231.772 2232.69 230.569 L2232.69 234.596 Q2230.4 235.568 2227.99 236.078 Q2225.59 236.587 2223.11 236.587 Q2216.9 236.587 2213.27 232.976 Q2209.66 229.365 2209.66 223.207 Q2209.66 216.842 2213.09 213.115 Q2216.53 209.365 2222.37 209.365 Q2227.6 209.365 2230.63 212.745 Q2233.69 216.101 2233.69 221.888 M2229.43 220.638 Q2229.38 217.143 2227.46 215.059 Q2225.56 212.976 2222.41 212.976 Q2218.85 212.976 2216.7 214.99 Q2214.57 217.004 2214.24 220.661 L2229.43 220.638 Z\" fill=\"#000000\" fill-rule=\"evenodd\" fill-opacity=\"1\" /><path clip-path=\"url(#clip260)\" d=\"M2257.21 210.754 L2257.21 214.782 Q2255.4 213.856 2253.46 213.393 Q2251.51 212.93 2249.43 212.93 Q2246.26 212.93 2244.66 213.902 Q2243.09 214.874 2243.09 216.819 Q2243.09 218.3 2244.22 219.157 Q2245.35 219.99 2248.78 220.754 L2250.24 221.078 Q2254.78 222.05 2256.67 223.832 Q2258.59 225.592 2258.59 228.763 Q2258.59 232.374 2255.72 234.481 Q2252.88 236.587 2247.88 236.587 Q2245.79 236.587 2243.53 236.17 Q2241.28 235.777 2238.78 234.967 L2238.78 230.569 Q2241.14 231.795 2243.43 232.42 Q2245.72 233.022 2247.97 233.022 Q2250.98 233.022 2252.6 232.004 Q2254.22 230.962 2254.22 229.087 Q2254.22 227.351 2253.04 226.425 Q2251.88 225.499 2247.92 224.643 L2246.44 224.295 Q2242.48 223.462 2240.72 221.749 Q2238.97 220.013 2238.97 217.004 Q2238.97 213.346 2241.56 211.356 Q2244.15 209.365 2248.92 209.365 Q2251.28 209.365 2253.36 209.712 Q2255.45 210.059 2257.21 210.754 Z\" fill=\"#000000\" fill-rule=\"evenodd\" fill-opacity=\"1\" /><path clip-path=\"url(#clip260)\" d=\"\n",
       "M1955.16 291.212 L2096.4 291.212 L2096.4 249.74 L1955.16 249.74 L1955.16 291.212  Z\n",
       "  \" fill=\"#e26f46\" fill-rule=\"evenodd\" fill-opacity=\"1\"/>\n",
       "<polyline clip-path=\"url(#clip260)\" style=\"stroke:#000000; stroke-linecap:round; stroke-linejoin:round; stroke-width:4; stroke-opacity:1; fill:none\" points=\"\n",
       "  1955.16,291.212 2096.4,291.212 2096.4,249.74 1955.16,249.74 1955.16,291.212 \n",
       "  \"/>\n",
       "<path clip-path=\"url(#clip260)\" d=\"M2119.94 261.83 L2124.2 261.83 L2129.52 282.061 L2134.82 261.83 L2139.85 261.83 L2145.17 282.061 L2150.47 261.83 L2154.73 261.83 L2147.95 287.756 L2142.92 287.756 L2137.35 266.506 L2131.74 287.756 L2126.72 287.756 L2119.94 261.83 Z\" fill=\"#000000\" fill-rule=\"evenodd\" fill-opacity=\"1\" /><path clip-path=\"url(#clip260)\" d=\"M2161.19 261.83 L2165.45 261.83 L2165.45 287.756 L2161.19 287.756 L2161.19 261.83 M2161.19 251.737 L2165.45 251.737 L2165.45 257.131 L2161.19 257.131 L2161.19 251.737 Z\" fill=\"#000000\" fill-rule=\"evenodd\" fill-opacity=\"1\" /><path clip-path=\"url(#clip260)\" d=\"M2195.91 272.108 L2195.91 287.756 L2191.65 287.756 L2191.65 272.247 Q2191.65 268.566 2190.22 266.737 Q2188.78 264.909 2185.91 264.909 Q2182.46 264.909 2180.47 267.108 Q2178.48 269.307 2178.48 273.103 L2178.48 287.756 L2174.2 287.756 L2174.2 261.83 L2178.48 261.83 L2178.48 265.858 Q2180.01 263.52 2182.07 262.362 Q2184.15 261.205 2186.86 261.205 Q2191.33 261.205 2193.62 263.983 Q2195.91 266.737 2195.91 272.108 Z\" fill=\"#000000\" fill-rule=\"evenodd\" fill-opacity=\"1\" /><path clip-path=\"url(#clip260)\" d=\"M2220.93 262.594 L2220.93 266.622 Q2219.13 265.696 2217.18 265.233 Q2215.24 264.77 2213.15 264.77 Q2209.98 264.77 2208.39 265.742 Q2206.81 266.714 2206.81 268.659 Q2206.81 270.14 2207.95 270.997 Q2209.08 271.83 2212.51 272.594 L2213.97 272.918 Q2218.5 273.89 2220.4 275.672 Q2222.32 277.432 2222.32 280.603 Q2222.32 284.214 2219.45 286.321 Q2216.6 288.427 2211.6 288.427 Q2209.52 288.427 2207.25 288.01 Q2205.01 287.617 2202.51 286.807 L2202.51 282.409 Q2204.87 283.635 2207.16 284.26 Q2209.45 284.862 2211.7 284.862 Q2214.71 284.862 2216.33 283.844 Q2217.95 282.802 2217.95 280.927 Q2217.95 279.191 2216.77 278.265 Q2215.61 277.339 2211.65 276.483 L2210.17 276.135 Q2206.21 275.302 2204.45 273.589 Q2202.69 271.853 2202.69 268.844 Q2202.69 265.186 2205.28 263.196 Q2207.88 261.205 2212.65 261.205 Q2215.01 261.205 2217.09 261.552 Q2219.17 261.899 2220.93 262.594 Z\" fill=\"#000000\" fill-rule=\"evenodd\" fill-opacity=\"1\" /></svg>\n"
      ]
     },
     "execution_count": 157,
     "metadata": {},
     "output_type": "execute_result"
    }
   ],
   "source": [
    "groupedbar(\n",
    "    [player_stats[:,\"losses\"] player_stats[:,\"wins\"]],\n",
    "    xticks = (1:nrow(player_stats), player_stats[:,\"username\"]),\n",
    "    label = [\"losses\" \"wins\"],\n",
    "    bar_position = :stack,\n",
    "    title = \"Contributions to Training Set\",\n",
    "    xlabel = \"Username\",\n",
    "    ylabel = \"Number of Games\"\n",
    ")"
   ]
  },
  {
   "cell_type": "code",
   "execution_count": 158,
   "id": "6793f92f",
   "metadata": {},
   "outputs": [
    {
     "data": {
      "image/svg+xml": [
       "<?xml version=\"1.0\" encoding=\"utf-8\"?>\n",
       "<svg xmlns=\"http://www.w3.org/2000/svg\" xmlns:xlink=\"http://www.w3.org/1999/xlink\" width=\"600\" height=\"400\" viewBox=\"0 0 2400 1600\">\n",
       "<defs>\n",
       "  <clipPath id=\"clip300\">\n",
       "    <rect x=\"0\" y=\"0\" width=\"2400\" height=\"1600\"/>\n",
       "  </clipPath>\n",
       "</defs>\n",
       "<path clip-path=\"url(#clip300)\" d=\"\n",
       "M0 1600 L2400 1600 L2400 0 L0 0  Z\n",
       "  \" fill=\"#ffffff\" fill-rule=\"evenodd\" fill-opacity=\"1\"/>\n",
       "<defs>\n",
       "  <clipPath id=\"clip301\">\n",
       "    <rect x=\"480\" y=\"0\" width=\"1681\" height=\"1600\"/>\n",
       "  </clipPath>\n",
       "</defs>\n",
       "<path clip-path=\"url(#clip300)\" d=\"\n",
       "M219.866 1423.18 L2352.76 1423.18 L2352.76 123.472 L219.866 123.472  Z\n",
       "  \" fill=\"#ffffff\" fill-rule=\"evenodd\" fill-opacity=\"1\"/>\n",
       "<defs>\n",
       "  <clipPath id=\"clip302\">\n",
       "    <rect x=\"219\" y=\"123\" width=\"2134\" height=\"1301\"/>\n",
       "  </clipPath>\n",
       "</defs>\n",
       "<polyline clip-path=\"url(#clip302)\" style=\"stroke:#000000; stroke-linecap:round; stroke-linejoin:round; stroke-width:2; stroke-opacity:0.1; fill:none\" points=\"\n",
       "  536.996,1423.18 536.996,123.472 \n",
       "  \"/>\n",
       "<polyline clip-path=\"url(#clip302)\" style=\"stroke:#000000; stroke-linecap:round; stroke-linejoin:round; stroke-width:2; stroke-opacity:0.1; fill:none\" points=\"\n",
       "  1036.54,1423.18 1036.54,123.472 \n",
       "  \"/>\n",
       "<polyline clip-path=\"url(#clip302)\" style=\"stroke:#000000; stroke-linecap:round; stroke-linejoin:round; stroke-width:2; stroke-opacity:0.1; fill:none\" points=\"\n",
       "  1536.08,1423.18 1536.08,123.472 \n",
       "  \"/>\n",
       "<polyline clip-path=\"url(#clip302)\" style=\"stroke:#000000; stroke-linecap:round; stroke-linejoin:round; stroke-width:2; stroke-opacity:0.1; fill:none\" points=\"\n",
       "  2035.63,1423.18 2035.63,123.472 \n",
       "  \"/>\n",
       "<polyline clip-path=\"url(#clip300)\" style=\"stroke:#000000; stroke-linecap:round; stroke-linejoin:round; stroke-width:4; stroke-opacity:1; fill:none\" points=\"\n",
       "  219.866,1423.18 2352.76,1423.18 \n",
       "  \"/>\n",
       "<polyline clip-path=\"url(#clip300)\" style=\"stroke:#000000; stroke-linecap:round; stroke-linejoin:round; stroke-width:4; stroke-opacity:1; fill:none\" points=\"\n",
       "  536.996,1423.18 536.996,1404.28 \n",
       "  \"/>\n",
       "<polyline clip-path=\"url(#clip300)\" style=\"stroke:#000000; stroke-linecap:round; stroke-linejoin:round; stroke-width:4; stroke-opacity:1; fill:none\" points=\"\n",
       "  1036.54,1423.18 1036.54,1404.28 \n",
       "  \"/>\n",
       "<polyline clip-path=\"url(#clip300)\" style=\"stroke:#000000; stroke-linecap:round; stroke-linejoin:round; stroke-width:4; stroke-opacity:1; fill:none\" points=\"\n",
       "  1536.08,1423.18 1536.08,1404.28 \n",
       "  \"/>\n",
       "<polyline clip-path=\"url(#clip300)\" style=\"stroke:#000000; stroke-linecap:round; stroke-linejoin:round; stroke-width:4; stroke-opacity:1; fill:none\" points=\"\n",
       "  2035.63,1423.18 2035.63,1404.28 \n",
       "  \"/>\n",
       "<path clip-path=\"url(#clip300)\" d=\"M463.224 1464.63 Q464.821 1461.76 467.043 1460.39 Q469.265 1459.03 472.274 1459.03 Q476.325 1459.03 478.524 1461.88 Q480.723 1464.7 480.723 1469.93 L480.723 1485.58 L476.441 1485.58 L476.441 1470.07 Q476.441 1466.34 475.122 1464.54 Q473.802 1462.73 471.094 1462.73 Q467.784 1462.73 465.862 1464.93 Q463.941 1467.13 463.941 1470.93 L463.941 1485.58 L459.659 1485.58 L459.659 1470.07 Q459.659 1466.32 458.339 1464.54 Q457.02 1462.73 454.265 1462.73 Q451.001 1462.73 449.08 1464.95 Q447.159 1467.15 447.159 1470.93 L447.159 1485.58 L442.876 1485.58 L442.876 1459.65 L447.159 1459.65 L447.159 1463.68 Q448.617 1461.3 450.654 1460.16 Q452.691 1459.03 455.492 1459.03 Q458.316 1459.03 460.284 1460.46 Q462.274 1461.9 463.224 1464.63 Z\" fill=\"#000000\" fill-rule=\"evenodd\" fill-opacity=\"1\" /><path clip-path=\"url(#clip300)\" d=\"M501.001 1472.55 Q495.839 1472.55 493.848 1473.73 Q491.858 1474.91 491.858 1477.76 Q491.858 1480.02 493.339 1481.37 Q494.844 1482.69 497.413 1482.69 Q500.955 1482.69 503.084 1480.19 Q505.237 1477.66 505.237 1473.5 L505.237 1472.55 L501.001 1472.55 M509.496 1470.79 L509.496 1485.58 L505.237 1485.58 L505.237 1481.64 Q503.779 1484.01 501.603 1485.14 Q499.427 1486.25 496.279 1486.25 Q492.297 1486.25 489.936 1484.03 Q487.598 1481.78 487.598 1478.03 Q487.598 1473.66 490.515 1471.44 Q493.455 1469.21 499.265 1469.21 L505.237 1469.21 L505.237 1468.8 Q505.237 1465.86 503.293 1464.26 Q501.371 1462.64 497.876 1462.64 Q495.654 1462.64 493.547 1463.17 Q491.441 1463.7 489.497 1464.77 L489.497 1460.83 Q491.834 1459.93 494.034 1459.49 Q496.233 1459.03 498.316 1459.03 Q503.941 1459.03 506.719 1461.95 Q509.496 1464.86 509.496 1470.79 Z\" fill=\"#000000\" fill-rule=\"evenodd\" fill-opacity=\"1\" /><path clip-path=\"url(#clip300)\" d=\"M540.445 1471.55 L540.445 1473.64 L520.862 1473.64 Q521.14 1478.03 523.501 1480.35 Q525.885 1482.64 530.121 1482.64 Q532.575 1482.64 534.867 1482.04 Q537.181 1481.44 539.45 1480.23 L539.45 1484.26 Q537.158 1485.23 534.751 1485.74 Q532.344 1486.25 529.867 1486.25 Q523.663 1486.25 520.029 1482.64 Q516.418 1479.03 516.418 1472.87 Q516.418 1466.51 519.844 1462.78 Q523.293 1459.03 529.126 1459.03 Q534.357 1459.03 537.39 1462.41 Q540.445 1465.77 540.445 1471.55 M536.186 1470.3 Q536.14 1466.81 534.219 1464.72 Q532.32 1462.64 529.172 1462.64 Q525.607 1462.64 523.455 1464.65 Q521.325 1466.67 521.001 1470.33 L536.186 1470.3 Z\" fill=\"#000000\" fill-rule=\"evenodd\" fill-opacity=\"1\" /><path clip-path=\"url(#clip300)\" d=\"M563.964 1460.42 L563.964 1464.45 Q562.158 1463.52 560.214 1463.06 Q558.269 1462.59 556.186 1462.59 Q553.015 1462.59 551.417 1463.57 Q549.843 1464.54 549.843 1466.48 Q549.843 1467.96 550.978 1468.82 Q552.112 1469.65 555.538 1470.42 L556.996 1470.74 Q561.533 1471.71 563.431 1473.5 Q565.353 1475.26 565.353 1478.43 Q565.353 1482.04 562.482 1484.14 Q559.635 1486.25 554.635 1486.25 Q552.552 1486.25 550.283 1485.83 Q548.038 1485.44 545.538 1484.63 L545.538 1480.23 Q547.899 1481.46 550.191 1482.08 Q552.482 1482.69 554.728 1482.69 Q557.737 1482.69 559.357 1481.67 Q560.978 1480.63 560.978 1478.75 Q560.978 1477.02 559.797 1476.09 Q558.64 1475.16 554.681 1474.31 L553.2 1473.96 Q549.242 1473.13 547.482 1471.41 Q545.723 1469.68 545.723 1466.67 Q545.723 1463.01 548.316 1461.02 Q550.908 1459.03 555.677 1459.03 Q558.038 1459.03 560.121 1459.38 Q562.204 1459.72 563.964 1460.42 Z\" fill=\"#000000\" fill-rule=\"evenodd\" fill-opacity=\"1\" /><path clip-path=\"url(#clip300)\" d=\"M576.348 1452.29 L576.348 1459.65 L585.121 1459.65 L585.121 1462.96 L576.348 1462.96 L576.348 1477.04 Q576.348 1480.21 577.204 1481.11 Q578.084 1482.02 580.746 1482.02 L585.121 1482.02 L585.121 1485.58 L580.746 1485.58 Q575.816 1485.58 573.941 1483.75 Q572.066 1481.9 572.066 1477.04 L572.066 1462.96 L568.941 1462.96 L568.941 1459.65 L572.066 1459.65 L572.066 1452.29 L576.348 1452.29 Z\" fill=\"#000000\" fill-rule=\"evenodd\" fill-opacity=\"1\" /><path clip-path=\"url(#clip300)\" d=\"M605.746 1463.64 Q605.028 1463.22 604.172 1463.03 Q603.339 1462.83 602.32 1462.83 Q598.709 1462.83 596.764 1465.19 Q594.843 1467.52 594.843 1471.92 L594.843 1485.58 L590.561 1485.58 L590.561 1459.65 L594.843 1459.65 L594.843 1463.68 Q596.186 1461.32 598.339 1460.19 Q600.491 1459.03 603.57 1459.03 Q604.01 1459.03 604.542 1459.1 Q605.075 1459.14 605.723 1459.26 L605.746 1463.64 Z\" fill=\"#000000\" fill-rule=\"evenodd\" fill-opacity=\"1\" /><path clip-path=\"url(#clip300)\" d=\"M619.218 1462.64 Q615.792 1462.64 613.801 1465.33 Q611.811 1467.99 611.811 1472.64 Q611.811 1477.29 613.778 1479.98 Q615.769 1482.64 619.218 1482.64 Q622.621 1482.64 624.612 1479.95 Q626.602 1477.27 626.602 1472.64 Q626.602 1468.03 624.612 1465.35 Q622.621 1462.64 619.218 1462.64 M619.218 1459.03 Q624.774 1459.03 627.945 1462.64 Q631.116 1466.25 631.116 1472.64 Q631.116 1479.01 627.945 1482.64 Q624.774 1486.25 619.218 1486.25 Q613.639 1486.25 610.468 1482.64 Q607.32 1479.01 607.32 1472.64 Q607.32 1466.25 610.468 1462.64 Q613.639 1459.03 619.218 1459.03 Z\" fill=\"#000000\" fill-rule=\"evenodd\" fill-opacity=\"1\" /><path clip-path=\"url(#clip300)\" d=\"M957.501 1451.02 L962.176 1451.02 L962.176 1465.19 L979.167 1465.19 L979.167 1451.02 L983.843 1451.02 L983.843 1485.58 L979.167 1485.58 L979.167 1469.12 L962.176 1469.12 L962.176 1485.58 L957.501 1485.58 L957.501 1451.02 Z\" fill=\"#000000\" fill-rule=\"evenodd\" fill-opacity=\"1\" /><path clip-path=\"url(#clip300)\" d=\"M1004.75 1472.55 Q999.584 1472.55 997.593 1473.73 Q995.602 1474.91 995.602 1477.76 Q995.602 1480.02 997.084 1481.37 Q998.588 1482.69 1001.16 1482.69 Q1004.7 1482.69 1006.83 1480.19 Q1008.98 1477.66 1008.98 1473.5 L1008.98 1472.55 L1004.75 1472.55 M1013.24 1470.79 L1013.24 1485.58 L1008.98 1485.58 L1008.98 1481.64 Q1007.52 1484.01 1005.35 1485.14 Q1003.17 1486.25 1000.02 1486.25 Q996.042 1486.25 993.681 1484.03 Q991.343 1481.78 991.343 1478.03 Q991.343 1473.66 994.26 1471.44 Q997.199 1469.21 1003.01 1469.21 L1008.98 1469.21 L1008.98 1468.8 Q1008.98 1465.86 1007.04 1464.26 Q1005.12 1462.64 1001.62 1462.64 Q999.398 1462.64 997.292 1463.17 Q995.186 1463.7 993.241 1464.77 L993.241 1460.83 Q995.579 1459.93 997.778 1459.49 Q999.977 1459.03 1002.06 1459.03 Q1007.69 1459.03 1010.46 1461.95 Q1013.24 1464.86 1013.24 1470.79 Z\" fill=\"#000000\" fill-rule=\"evenodd\" fill-opacity=\"1\" /><path clip-path=\"url(#clip300)\" d=\"M1043.56 1469.93 L1043.56 1485.58 L1039.31 1485.58 L1039.31 1470.07 Q1039.31 1466.39 1037.87 1464.56 Q1036.44 1462.73 1033.56 1462.73 Q1030.12 1462.73 1028.13 1464.93 Q1026.13 1467.13 1026.13 1470.93 L1026.13 1485.58 L1021.85 1485.58 L1021.85 1459.65 L1026.13 1459.65 L1026.13 1463.68 Q1027.66 1461.34 1029.72 1460.19 Q1031.81 1459.03 1034.51 1459.03 Q1038.98 1459.03 1041.27 1461.81 Q1043.56 1464.56 1043.56 1469.93 Z\" fill=\"#000000\" fill-rule=\"evenodd\" fill-opacity=\"1\" /><path clip-path=\"url(#clip300)\" d=\"M1069.12 1463.59 L1069.12 1449.56 L1073.38 1449.56 L1073.38 1485.58 L1069.12 1485.58 L1069.12 1481.69 Q1067.78 1484.01 1065.72 1485.14 Q1063.68 1486.25 1060.81 1486.25 Q1056.11 1486.25 1053.15 1482.5 Q1050.21 1478.75 1050.21 1472.64 Q1050.21 1466.53 1053.15 1462.78 Q1056.11 1459.03 1060.81 1459.03 Q1063.68 1459.03 1065.72 1460.16 Q1067.78 1461.27 1069.12 1463.59 M1054.61 1472.64 Q1054.61 1477.34 1056.53 1480.02 Q1058.47 1482.69 1061.85 1482.69 Q1065.23 1482.69 1067.18 1480.02 Q1069.12 1477.34 1069.12 1472.64 Q1069.12 1467.94 1067.18 1465.28 Q1065.23 1462.59 1061.85 1462.59 Q1058.47 1462.59 1056.53 1465.28 Q1054.61 1467.94 1054.61 1472.64 Z\" fill=\"#000000\" fill-rule=\"evenodd\" fill-opacity=\"1\" /><path clip-path=\"url(#clip300)\" d=\"M1104.33 1471.55 L1104.33 1473.64 L1084.75 1473.64 Q1085.02 1478.03 1087.38 1480.35 Q1089.77 1482.64 1094 1482.64 Q1096.46 1482.64 1098.75 1482.04 Q1101.06 1481.44 1103.33 1480.23 L1103.33 1484.26 Q1101.04 1485.23 1098.63 1485.74 Q1096.23 1486.25 1093.75 1486.25 Q1087.55 1486.25 1083.91 1482.64 Q1080.3 1479.03 1080.3 1472.87 Q1080.3 1466.51 1083.73 1462.78 Q1087.18 1459.03 1093.01 1459.03 Q1098.24 1459.03 1101.27 1462.41 Q1104.33 1465.77 1104.33 1471.55 M1100.07 1470.3 Q1100.02 1466.81 1098.1 1464.72 Q1096.2 1462.64 1093.06 1462.64 Q1089.49 1462.64 1087.34 1464.65 Q1085.21 1466.67 1084.88 1470.33 L1100.07 1470.3 Z\" fill=\"#000000\" fill-rule=\"evenodd\" fill-opacity=\"1\" /><path clip-path=\"url(#clip300)\" d=\"M1111.32 1449.56 L1115.58 1449.56 L1115.58 1485.58 L1111.32 1485.58 L1111.32 1449.56 Z\" fill=\"#000000\" fill-rule=\"evenodd\" fill-opacity=\"1\" /><path clip-path=\"url(#clip300)\" d=\"M1507.15 1451.02 L1511.82 1451.02 L1511.82 1483.17 Q1511.82 1489.42 1509.44 1492.25 Q1507.08 1495.07 1501.82 1495.07 L1500.04 1495.07 L1500.04 1491.14 L1501.5 1491.14 Q1504.6 1491.14 1505.87 1489.4 Q1507.15 1487.66 1507.15 1483.17 L1507.15 1451.02 Z\" fill=\"#000000\" fill-rule=\"evenodd\" fill-opacity=\"1\" /><path clip-path=\"url(#clip300)\" d=\"M1530.99 1462.64 Q1527.56 1462.64 1525.57 1465.33 Q1523.58 1467.99 1523.58 1472.64 Q1523.58 1477.29 1525.55 1479.98 Q1527.54 1482.64 1530.99 1482.64 Q1534.39 1482.64 1536.38 1479.95 Q1538.37 1477.27 1538.37 1472.64 Q1538.37 1468.03 1536.38 1465.35 Q1534.39 1462.64 1530.99 1462.64 M1530.99 1459.03 Q1536.55 1459.03 1539.72 1462.64 Q1542.89 1466.25 1542.89 1472.64 Q1542.89 1479.01 1539.72 1482.64 Q1536.55 1486.25 1530.99 1486.25 Q1525.41 1486.25 1522.24 1482.64 Q1519.09 1479.01 1519.09 1472.64 Q1519.09 1466.25 1522.24 1462.64 Q1525.41 1459.03 1530.99 1459.03 Z\" fill=\"#000000\" fill-rule=\"evenodd\" fill-opacity=\"1\" /><path clip-path=\"url(#clip300)\" d=\"M1572.12 1471.55 L1572.12 1473.64 L1552.54 1473.64 Q1552.82 1478.03 1555.18 1480.35 Q1557.56 1482.64 1561.8 1482.64 Q1564.25 1482.64 1566.55 1482.04 Q1568.86 1481.44 1571.13 1480.23 L1571.13 1484.26 Q1568.84 1485.23 1566.43 1485.74 Q1564.02 1486.25 1561.55 1486.25 Q1555.34 1486.25 1551.71 1482.64 Q1548.1 1479.03 1548.1 1472.87 Q1548.1 1466.51 1551.52 1462.78 Q1554.97 1459.03 1560.8 1459.03 Q1566.04 1459.03 1569.07 1462.41 Q1572.12 1465.77 1572.12 1471.55 M1567.86 1470.3 Q1567.82 1466.81 1565.9 1464.72 Q1564 1462.64 1560.85 1462.64 Q1557.29 1462.64 1555.13 1464.65 Q1553 1466.67 1552.68 1470.33 L1567.86 1470.3 Z\" fill=\"#000000\" fill-rule=\"evenodd\" fill-opacity=\"1\" /><path clip-path=\"url(#clip300)\" d=\"M1987.37 1453.68 L1987.37 1458.61 Q1985.01 1456.41 1982.33 1455.33 Q1979.67 1454.24 1976.66 1454.24 Q1970.73 1454.24 1967.58 1457.87 Q1964.43 1461.48 1964.43 1468.33 Q1964.43 1475.16 1967.58 1478.8 Q1970.73 1482.41 1976.66 1482.41 Q1979.67 1482.41 1982.33 1481.32 Q1985.01 1480.23 1987.37 1478.03 L1987.37 1482.92 Q1984.92 1484.58 1982.17 1485.42 Q1979.43 1486.25 1976.38 1486.25 Q1968.53 1486.25 1964.02 1481.46 Q1959.5 1476.64 1959.5 1468.33 Q1959.5 1460 1964.02 1455.21 Q1968.53 1450.39 1976.38 1450.39 Q1979.48 1450.39 1982.21 1451.23 Q1984.97 1452.04 1987.37 1453.68 Z\" fill=\"#000000\" fill-rule=\"evenodd\" fill-opacity=\"1\" /><path clip-path=\"url(#clip300)\" d=\"M2004.46 1462.64 Q2001.03 1462.64 1999.04 1465.33 Q1997.05 1467.99 1997.05 1472.64 Q1997.05 1477.29 1999.02 1479.98 Q2001.01 1482.64 2004.46 1482.64 Q2007.86 1482.64 2009.85 1479.95 Q2011.84 1477.27 2011.84 1472.64 Q2011.84 1468.03 2009.85 1465.35 Q2007.86 1462.64 2004.46 1462.64 M2004.46 1459.03 Q2010.01 1459.03 2013.18 1462.64 Q2016.36 1466.25 2016.36 1472.64 Q2016.36 1479.01 2013.18 1482.64 Q2010.01 1486.25 2004.46 1486.25 Q1998.88 1486.25 1995.71 1482.64 Q1992.56 1479.01 1992.56 1472.64 Q1992.56 1466.25 1995.71 1462.64 Q1998.88 1459.03 2004.46 1459.03 Z\" fill=\"#000000\" fill-rule=\"evenodd\" fill-opacity=\"1\" /><path clip-path=\"url(#clip300)\" d=\"M2043.6 1464.63 Q2045.2 1461.76 2047.42 1460.39 Q2049.64 1459.03 2052.65 1459.03 Q2056.7 1459.03 2058.9 1461.88 Q2061.1 1464.7 2061.1 1469.93 L2061.1 1485.58 L2056.82 1485.58 L2056.82 1470.07 Q2056.82 1466.34 2055.5 1464.54 Q2054.18 1462.73 2051.47 1462.73 Q2048.16 1462.73 2046.24 1464.93 Q2044.32 1467.13 2044.32 1470.93 L2044.32 1485.58 L2040.04 1485.58 L2040.04 1470.07 Q2040.04 1466.32 2038.72 1464.54 Q2037.4 1462.73 2034.64 1462.73 Q2031.38 1462.73 2029.46 1464.95 Q2027.54 1467.15 2027.54 1470.93 L2027.54 1485.58 L2023.25 1485.58 L2023.25 1459.65 L2027.54 1459.65 L2027.54 1463.68 Q2028.99 1461.3 2031.03 1460.16 Q2033.07 1459.03 2035.87 1459.03 Q2038.69 1459.03 2040.66 1460.46 Q2042.65 1461.9 2043.6 1464.63 Z\" fill=\"#000000\" fill-rule=\"evenodd\" fill-opacity=\"1\" /><path clip-path=\"url(#clip300)\" d=\"M2091.77 1471.55 L2091.77 1473.64 L2072.19 1473.64 Q2072.47 1478.03 2074.83 1480.35 Q2077.21 1482.64 2081.45 1482.64 Q2083.9 1482.64 2086.19 1482.04 Q2088.51 1481.44 2090.78 1480.23 L2090.78 1484.26 Q2088.48 1485.23 2086.08 1485.74 Q2083.67 1486.25 2081.19 1486.25 Q2074.99 1486.25 2071.35 1482.64 Q2067.74 1479.03 2067.74 1472.87 Q2067.74 1466.51 2071.17 1462.78 Q2074.62 1459.03 2080.45 1459.03 Q2085.68 1459.03 2088.72 1462.41 Q2091.77 1465.77 2091.77 1471.55 M2087.51 1470.3 Q2087.47 1466.81 2085.54 1464.72 Q2083.65 1462.64 2080.5 1462.64 Q2076.93 1462.64 2074.78 1464.65 Q2072.65 1466.67 2072.33 1470.33 L2087.51 1470.3 Z\" fill=\"#000000\" fill-rule=\"evenodd\" fill-opacity=\"1\" /><path clip-path=\"url(#clip300)\" d=\"M2102.98 1452.29 L2102.98 1459.65 L2111.75 1459.65 L2111.75 1462.96 L2102.98 1462.96 L2102.98 1477.04 Q2102.98 1480.21 2103.83 1481.11 Q2104.71 1482.02 2107.37 1482.02 L2111.75 1482.02 L2111.75 1485.58 L2107.37 1485.58 Q2102.44 1485.58 2100.57 1483.75 Q2098.69 1481.9 2098.69 1477.04 L2098.69 1462.96 L2095.57 1462.96 L2095.57 1459.65 L2098.69 1459.65 L2098.69 1452.29 L2102.98 1452.29 Z\" fill=\"#000000\" fill-rule=\"evenodd\" fill-opacity=\"1\" /><path clip-path=\"url(#clip300)\" d=\"M1124.73 1520.52 L1131.19 1520.52 L1131.19 1549.39 Q1131.19 1557.03 1133.96 1560.4 Q1136.73 1563.75 1142.94 1563.75 Q1149.11 1563.75 1151.88 1560.4 Q1154.65 1557.03 1154.65 1549.39 L1154.65 1520.52 L1161.11 1520.52 L1161.11 1550.19 Q1161.11 1559.48 1156.5 1564.22 Q1151.92 1568.97 1142.94 1568.97 Q1133.93 1568.97 1129.32 1564.22 Q1124.73 1559.48 1124.73 1550.19 L1124.73 1520.52 Z\" fill=\"#000000\" fill-rule=\"evenodd\" fill-opacity=\"1\" /><path clip-path=\"url(#clip300)\" d=\"M1195.65 1533.45 L1195.65 1538.98 Q1193.16 1537.71 1190.49 1537.07 Q1187.82 1536.44 1184.95 1536.44 Q1180.59 1536.44 1178.4 1537.77 Q1176.23 1539.11 1176.23 1541.79 Q1176.23 1543.82 1177.79 1545 Q1179.35 1546.15 1184.06 1547.2 L1186.07 1547.64 Q1192.31 1548.98 1194.92 1551.43 Q1197.56 1553.85 1197.56 1558.21 Q1197.56 1563.17 1193.61 1566.07 Q1189.7 1568.97 1182.82 1568.97 Q1179.96 1568.97 1176.84 1568.39 Q1173.75 1567.85 1170.31 1566.74 L1170.31 1560.69 Q1173.56 1562.38 1176.71 1563.24 Q1179.86 1564.07 1182.95 1564.07 Q1187.09 1564.07 1189.31 1562.66 Q1191.54 1561.23 1191.54 1558.65 Q1191.54 1556.27 1189.92 1554.99 Q1188.33 1553.72 1182.88 1552.54 L1180.85 1552.07 Q1175.4 1550.92 1172.99 1548.56 Q1170.57 1546.18 1170.57 1542.04 Q1170.57 1537.01 1174.13 1534.27 Q1177.7 1531.54 1184.25 1531.54 Q1187.5 1531.54 1190.36 1532.01 Q1193.23 1532.49 1195.65 1533.45 Z\" fill=\"#000000\" fill-rule=\"evenodd\" fill-opacity=\"1\" /><path clip-path=\"url(#clip300)\" d=\"M1237.37 1548.76 L1237.37 1551.62 L1210.45 1551.62 Q1210.83 1557.67 1214.08 1560.85 Q1217.35 1564 1223.18 1564 Q1226.55 1564 1229.7 1563.17 Q1232.89 1562.35 1236.01 1560.69 L1236.01 1566.23 Q1232.86 1567.57 1229.54 1568.27 Q1226.23 1568.97 1222.83 1568.97 Q1214.3 1568.97 1209.3 1564 Q1204.34 1559.04 1204.34 1550.57 Q1204.34 1541.82 1209.05 1536.69 Q1213.79 1531.54 1221.81 1531.54 Q1229 1531.54 1233.17 1536.18 Q1237.37 1540.8 1237.37 1548.76 M1231.52 1547.04 Q1231.45 1542.23 1228.81 1539.37 Q1226.2 1536.5 1221.87 1536.5 Q1216.97 1536.5 1214.01 1539.27 Q1211.08 1542.04 1210.64 1547.07 L1231.52 1547.04 Z\" fill=\"#000000\" fill-rule=\"evenodd\" fill-opacity=\"1\" /><path clip-path=\"url(#clip300)\" d=\"M1267.64 1537.87 Q1266.66 1537.3 1265.48 1537.04 Q1264.33 1536.76 1262.93 1536.76 Q1257.97 1536.76 1255.29 1540 Q1252.65 1543.22 1252.65 1549.27 L1252.65 1568.04 L1246.76 1568.04 L1246.76 1532.4 L1252.65 1532.4 L1252.65 1537.93 Q1254.5 1534.69 1257.46 1533.13 Q1260.42 1531.54 1264.65 1531.54 Q1265.26 1531.54 1265.99 1531.63 Q1266.72 1531.7 1267.61 1531.85 L1267.64 1537.87 Z\" fill=\"#000000\" fill-rule=\"evenodd\" fill-opacity=\"1\" /><path clip-path=\"url(#clip300)\" d=\"M1302.27 1546.53 L1302.27 1568.04 L1296.42 1568.04 L1296.42 1546.72 Q1296.42 1541.66 1294.44 1539.14 Q1292.47 1536.63 1288.52 1536.63 Q1283.78 1536.63 1281.04 1539.65 Q1278.31 1542.68 1278.31 1547.9 L1278.31 1568.04 L1272.42 1568.04 L1272.42 1532.4 L1278.31 1532.4 L1278.31 1537.93 Q1280.41 1534.72 1283.24 1533.13 Q1286.1 1531.54 1289.83 1531.54 Q1295.97 1531.54 1299.12 1535.36 Q1302.27 1539.14 1302.27 1546.53 Z\" fill=\"#000000\" fill-rule=\"evenodd\" fill-opacity=\"1\" /><path clip-path=\"url(#clip300)\" d=\"M1330.15 1550.12 Q1323.06 1550.12 1320.32 1551.75 Q1317.58 1553.37 1317.58 1557.29 Q1317.58 1560.4 1319.62 1562.25 Q1321.69 1564.07 1325.22 1564.07 Q1330.09 1564.07 1333.02 1560.63 Q1335.98 1557.16 1335.98 1551.43 L1335.98 1550.12 L1330.15 1550.12 M1341.84 1547.71 L1341.84 1568.04 L1335.98 1568.04 L1335.98 1562.63 Q1333.97 1565.88 1330.98 1567.44 Q1327.99 1568.97 1323.66 1568.97 Q1318.19 1568.97 1314.94 1565.91 Q1311.73 1562.82 1311.73 1557.67 Q1311.73 1551.65 1315.74 1548.6 Q1319.78 1545.54 1327.77 1545.54 L1335.98 1545.54 L1335.98 1544.97 Q1335.98 1540.93 1333.31 1538.73 Q1330.66 1536.5 1325.86 1536.5 Q1322.8 1536.5 1319.91 1537.23 Q1317.01 1537.97 1314.34 1539.43 L1314.34 1534.02 Q1317.55 1532.78 1320.57 1532.17 Q1323.6 1531.54 1326.46 1531.54 Q1334.2 1531.54 1338.02 1535.55 Q1341.84 1539.56 1341.84 1547.71 Z\" fill=\"#000000\" fill-rule=\"evenodd\" fill-opacity=\"1\" /><path clip-path=\"url(#clip300)\" d=\"M1381.65 1539.24 Q1383.85 1535.29 1386.91 1533.41 Q1389.96 1531.54 1394.1 1531.54 Q1399.67 1531.54 1402.69 1535.45 Q1405.72 1539.33 1405.72 1546.53 L1405.72 1568.04 L1399.83 1568.04 L1399.83 1546.72 Q1399.83 1541.59 1398.01 1539.11 Q1396.2 1536.63 1392.48 1536.63 Q1387.92 1536.63 1385.28 1539.65 Q1382.64 1542.68 1382.64 1547.9 L1382.64 1568.04 L1376.75 1568.04 L1376.75 1546.72 Q1376.75 1541.56 1374.94 1539.11 Q1373.12 1536.63 1369.34 1536.63 Q1364.85 1536.63 1362.21 1539.68 Q1359.56 1542.71 1359.56 1547.9 L1359.56 1568.04 L1353.68 1568.04 L1353.68 1532.4 L1359.56 1532.4 L1359.56 1537.93 Q1361.57 1534.66 1364.37 1533.1 Q1367.17 1531.54 1371.02 1531.54 Q1374.91 1531.54 1377.61 1533.51 Q1380.35 1535.48 1381.65 1539.24 Z\" fill=\"#000000\" fill-rule=\"evenodd\" fill-opacity=\"1\" /><path clip-path=\"url(#clip300)\" d=\"M1447.89 1548.76 L1447.89 1551.62 L1420.96 1551.62 Q1421.34 1557.67 1424.59 1560.85 Q1427.87 1564 1433.69 1564 Q1437.07 1564 1440.22 1563.17 Q1443.4 1562.35 1446.52 1560.69 L1446.52 1566.23 Q1443.37 1567.57 1440.06 1568.27 Q1436.75 1568.97 1433.34 1568.97 Q1424.81 1568.97 1419.82 1564 Q1414.85 1559.04 1414.85 1550.57 Q1414.85 1541.82 1419.56 1536.69 Q1424.3 1531.54 1432.32 1531.54 Q1439.52 1531.54 1443.69 1536.18 Q1447.89 1540.8 1447.89 1548.76 M1442.03 1547.04 Q1441.97 1542.23 1439.33 1539.37 Q1436.72 1536.5 1432.39 1536.5 Q1427.49 1536.5 1424.53 1539.27 Q1421.6 1542.04 1421.15 1547.07 L1442.03 1547.04 Z\" fill=\"#000000\" fill-rule=\"evenodd\" fill-opacity=\"1\" /><polyline clip-path=\"url(#clip302)\" style=\"stroke:#000000; stroke-linecap:round; stroke-linejoin:round; stroke-width:2; stroke-opacity:0.1; fill:none\" points=\"\n",
       "  219.866,1423.18 2352.76,1423.18 \n",
       "  \"/>\n",
       "<polyline clip-path=\"url(#clip302)\" style=\"stroke:#000000; stroke-linecap:round; stroke-linejoin:round; stroke-width:2; stroke-opacity:0.1; fill:none\" points=\"\n",
       "  219.866,1163.24 2352.76,1163.24 \n",
       "  \"/>\n",
       "<polyline clip-path=\"url(#clip302)\" style=\"stroke:#000000; stroke-linecap:round; stroke-linejoin:round; stroke-width:2; stroke-opacity:0.1; fill:none\" points=\"\n",
       "  219.866,903.297 2352.76,903.297 \n",
       "  \"/>\n",
       "<polyline clip-path=\"url(#clip302)\" style=\"stroke:#000000; stroke-linecap:round; stroke-linejoin:round; stroke-width:2; stroke-opacity:0.1; fill:none\" points=\"\n",
       "  219.866,643.355 2352.76,643.355 \n",
       "  \"/>\n",
       "<polyline clip-path=\"url(#clip302)\" style=\"stroke:#000000; stroke-linecap:round; stroke-linejoin:round; stroke-width:2; stroke-opacity:0.1; fill:none\" points=\"\n",
       "  219.866,383.414 2352.76,383.414 \n",
       "  \"/>\n",
       "<polyline clip-path=\"url(#clip302)\" style=\"stroke:#000000; stroke-linecap:round; stroke-linejoin:round; stroke-width:2; stroke-opacity:0.1; fill:none\" points=\"\n",
       "  219.866,123.472 2352.76,123.472 \n",
       "  \"/>\n",
       "<polyline clip-path=\"url(#clip300)\" style=\"stroke:#000000; stroke-linecap:round; stroke-linejoin:round; stroke-width:4; stroke-opacity:1; fill:none\" points=\"\n",
       "  219.866,1423.18 219.866,123.472 \n",
       "  \"/>\n",
       "<polyline clip-path=\"url(#clip300)\" style=\"stroke:#000000; stroke-linecap:round; stroke-linejoin:round; stroke-width:4; stroke-opacity:1; fill:none\" points=\"\n",
       "  219.866,1423.18 238.764,1423.18 \n",
       "  \"/>\n",
       "<polyline clip-path=\"url(#clip300)\" style=\"stroke:#000000; stroke-linecap:round; stroke-linejoin:round; stroke-width:4; stroke-opacity:1; fill:none\" points=\"\n",
       "  219.866,1163.24 238.764,1163.24 \n",
       "  \"/>\n",
       "<polyline clip-path=\"url(#clip300)\" style=\"stroke:#000000; stroke-linecap:round; stroke-linejoin:round; stroke-width:4; stroke-opacity:1; fill:none\" points=\"\n",
       "  219.866,903.297 238.764,903.297 \n",
       "  \"/>\n",
       "<polyline clip-path=\"url(#clip300)\" style=\"stroke:#000000; stroke-linecap:round; stroke-linejoin:round; stroke-width:4; stroke-opacity:1; fill:none\" points=\"\n",
       "  219.866,643.355 238.764,643.355 \n",
       "  \"/>\n",
       "<polyline clip-path=\"url(#clip300)\" style=\"stroke:#000000; stroke-linecap:round; stroke-linejoin:round; stroke-width:4; stroke-opacity:1; fill:none\" points=\"\n",
       "  219.866,383.414 238.764,383.414 \n",
       "  \"/>\n",
       "<polyline clip-path=\"url(#clip300)\" style=\"stroke:#000000; stroke-linecap:round; stroke-linejoin:round; stroke-width:4; stroke-opacity:1; fill:none\" points=\"\n",
       "  219.866,123.472 238.764,123.472 \n",
       "  \"/>\n",
       "<path clip-path=\"url(#clip300)\" d=\"M126.691 1408.98 Q123.08 1408.98 121.251 1412.54 Q119.445 1416.08 119.445 1423.21 Q119.445 1430.32 121.251 1433.89 Q123.08 1437.43 126.691 1437.43 Q130.325 1437.43 132.13 1433.89 Q133.959 1430.32 133.959 1423.21 Q133.959 1416.08 132.13 1412.54 Q130.325 1408.98 126.691 1408.98 M126.691 1405.27 Q132.501 1405.27 135.556 1409.88 Q138.635 1414.46 138.635 1423.21 Q138.635 1431.94 135.556 1436.55 Q132.501 1441.13 126.691 1441.13 Q120.88 1441.13 117.802 1436.55 Q114.746 1431.94 114.746 1423.21 Q114.746 1414.46 117.802 1409.88 Q120.88 1405.27 126.691 1405.27 Z\" fill=\"#000000\" fill-rule=\"evenodd\" fill-opacity=\"1\" /><path clip-path=\"url(#clip300)\" d=\"M146.853 1434.58 L151.737 1434.58 L151.737 1440.46 L146.853 1440.46 L146.853 1434.58 Z\" fill=\"#000000\" fill-rule=\"evenodd\" fill-opacity=\"1\" /><path clip-path=\"url(#clip300)\" d=\"M171.922 1408.98 Q168.311 1408.98 166.482 1412.54 Q164.677 1416.08 164.677 1423.21 Q164.677 1430.32 166.482 1433.89 Q168.311 1437.43 171.922 1437.43 Q175.556 1437.43 177.362 1433.89 Q179.19 1430.32 179.19 1423.21 Q179.19 1416.08 177.362 1412.54 Q175.556 1408.98 171.922 1408.98 M171.922 1405.27 Q177.732 1405.27 180.788 1409.88 Q183.866 1414.46 183.866 1423.21 Q183.866 1431.94 180.788 1436.55 Q177.732 1441.13 171.922 1441.13 Q166.112 1441.13 163.033 1436.55 Q159.978 1431.94 159.978 1423.21 Q159.978 1414.46 163.033 1409.88 Q166.112 1405.27 171.922 1405.27 Z\" fill=\"#000000\" fill-rule=\"evenodd\" fill-opacity=\"1\" /><path clip-path=\"url(#clip300)\" d=\"M128.288 1149.04 Q124.677 1149.04 122.848 1152.6 Q121.043 1156.14 121.043 1163.27 Q121.043 1170.38 122.848 1173.94 Q124.677 1177.49 128.288 1177.49 Q131.922 1177.49 133.728 1173.94 Q135.556 1170.38 135.556 1163.27 Q135.556 1156.14 133.728 1152.6 Q131.922 1149.04 128.288 1149.04 M128.288 1145.33 Q134.098 1145.33 137.154 1149.94 Q140.232 1154.52 140.232 1163.27 Q140.232 1172 137.154 1176.61 Q134.098 1181.19 128.288 1181.19 Q122.478 1181.19 119.399 1176.61 Q116.343 1172 116.343 1163.27 Q116.343 1154.52 119.399 1149.94 Q122.478 1145.33 128.288 1145.33 Z\" fill=\"#000000\" fill-rule=\"evenodd\" fill-opacity=\"1\" /><path clip-path=\"url(#clip300)\" d=\"M148.45 1174.64 L153.334 1174.64 L153.334 1180.52 L148.45 1180.52 L148.45 1174.64 Z\" fill=\"#000000\" fill-rule=\"evenodd\" fill-opacity=\"1\" /><path clip-path=\"url(#clip300)\" d=\"M167.547 1176.58 L183.866 1176.58 L183.866 1180.52 L161.922 1180.52 L161.922 1176.58 Q164.584 1173.83 169.167 1169.2 Q173.774 1164.55 174.954 1163.2 Q177.2 1160.68 178.079 1158.94 Q178.982 1157.19 178.982 1155.5 Q178.982 1152.74 177.038 1151 Q175.116 1149.27 172.014 1149.27 Q169.815 1149.27 167.362 1150.03 Q164.931 1150.8 162.153 1152.35 L162.153 1147.62 Q164.977 1146.49 167.431 1145.91 Q169.885 1145.33 171.922 1145.33 Q177.292 1145.33 180.487 1148.02 Q183.681 1150.7 183.681 1155.19 Q183.681 1157.32 182.871 1159.25 Q182.084 1161.14 179.977 1163.74 Q179.399 1164.41 176.297 1167.62 Q173.195 1170.82 167.547 1176.58 Z\" fill=\"#000000\" fill-rule=\"evenodd\" fill-opacity=\"1\" /><path clip-path=\"url(#clip300)\" d=\"M126.205 889.095 Q122.593 889.095 120.765 892.66 Q118.959 896.202 118.959 903.331 Q118.959 910.438 120.765 914.003 Q122.593 917.544 126.205 917.544 Q129.839 917.544 131.644 914.003 Q133.473 910.438 133.473 903.331 Q133.473 896.202 131.644 892.66 Q129.839 889.095 126.205 889.095 M126.205 885.392 Q132.015 885.392 135.07 889.998 Q138.149 894.582 138.149 903.331 Q138.149 912.058 135.07 916.665 Q132.015 921.248 126.205 921.248 Q120.394 921.248 117.316 916.665 Q114.26 912.058 114.26 903.331 Q114.26 894.582 117.316 889.998 Q120.394 885.392 126.205 885.392 Z\" fill=\"#000000\" fill-rule=\"evenodd\" fill-opacity=\"1\" /><path clip-path=\"url(#clip300)\" d=\"M146.366 914.697 L151.251 914.697 L151.251 920.577 L146.366 920.577 L146.366 914.697 Z\" fill=\"#000000\" fill-rule=\"evenodd\" fill-opacity=\"1\" /><path clip-path=\"url(#clip300)\" d=\"M174.283 890.091 L162.477 908.54 L174.283 908.54 L174.283 890.091 M173.056 886.017 L178.936 886.017 L178.936 908.54 L183.866 908.54 L183.866 912.429 L178.936 912.429 L178.936 920.577 L174.283 920.577 L174.283 912.429 L158.681 912.429 L158.681 907.915 L173.056 886.017 Z\" fill=\"#000000\" fill-rule=\"evenodd\" fill-opacity=\"1\" /><path clip-path=\"url(#clip300)\" d=\"M126.529 629.154 Q122.918 629.154 121.089 632.719 Q119.283 636.26 119.283 643.39 Q119.283 650.496 121.089 654.061 Q122.918 657.603 126.529 657.603 Q130.163 657.603 131.968 654.061 Q133.797 650.496 133.797 643.39 Q133.797 636.26 131.968 632.719 Q130.163 629.154 126.529 629.154 M126.529 625.45 Q132.339 625.45 135.394 630.057 Q138.473 634.64 138.473 643.39 Q138.473 652.117 135.394 656.723 Q132.339 661.307 126.529 661.307 Q120.718 661.307 117.64 656.723 Q114.584 652.117 114.584 643.39 Q114.584 634.64 117.64 630.057 Q120.718 625.45 126.529 625.45 Z\" fill=\"#000000\" fill-rule=\"evenodd\" fill-opacity=\"1\" /><path clip-path=\"url(#clip300)\" d=\"M146.691 654.756 L151.575 654.756 L151.575 660.635 L146.691 660.635 L146.691 654.756 Z\" fill=\"#000000\" fill-rule=\"evenodd\" fill-opacity=\"1\" /><path clip-path=\"url(#clip300)\" d=\"M172.339 641.492 Q169.19 641.492 167.339 643.645 Q165.51 645.797 165.51 649.547 Q165.51 653.274 167.339 655.45 Q169.19 657.603 172.339 657.603 Q175.487 657.603 177.315 655.45 Q179.167 653.274 179.167 649.547 Q179.167 645.797 177.315 643.645 Q175.487 641.492 172.339 641.492 M181.621 626.839 L181.621 631.098 Q179.862 630.265 178.056 629.825 Q176.274 629.385 174.514 629.385 Q169.885 629.385 167.431 632.51 Q165.001 635.635 164.653 641.955 Q166.019 639.941 168.079 638.876 Q170.139 637.788 172.616 637.788 Q177.825 637.788 180.834 640.959 Q183.866 644.108 183.866 649.547 Q183.866 654.871 180.718 658.089 Q177.57 661.307 172.339 661.307 Q166.343 661.307 163.172 656.723 Q160.001 652.117 160.001 643.39 Q160.001 635.196 163.89 630.334 Q167.778 625.45 174.329 625.45 Q176.089 625.45 177.871 625.797 Q179.676 626.145 181.621 626.839 Z\" fill=\"#000000\" fill-rule=\"evenodd\" fill-opacity=\"1\" /><path clip-path=\"url(#clip300)\" d=\"M126.783 369.212 Q123.172 369.212 121.343 372.777 Q119.538 376.319 119.538 383.448 Q119.538 390.555 121.343 394.12 Q123.172 397.661 126.783 397.661 Q130.417 397.661 132.223 394.12 Q134.052 390.555 134.052 383.448 Q134.052 376.319 132.223 372.777 Q130.417 369.212 126.783 369.212 M126.783 365.509 Q132.593 365.509 135.649 370.115 Q138.728 374.698 138.728 383.448 Q138.728 392.175 135.649 396.782 Q132.593 401.365 126.783 401.365 Q120.973 401.365 117.894 396.782 Q114.839 392.175 114.839 383.448 Q114.839 374.698 117.894 370.115 Q120.973 365.509 126.783 365.509 Z\" fill=\"#000000\" fill-rule=\"evenodd\" fill-opacity=\"1\" /><path clip-path=\"url(#clip300)\" d=\"M146.945 394.814 L151.829 394.814 L151.829 400.694 L146.945 400.694 L146.945 394.814 Z\" fill=\"#000000\" fill-rule=\"evenodd\" fill-opacity=\"1\" /><path clip-path=\"url(#clip300)\" d=\"M172.014 384.282 Q168.681 384.282 166.76 386.064 Q164.862 387.847 164.862 390.971 Q164.862 394.096 166.76 395.879 Q168.681 397.661 172.014 397.661 Q175.348 397.661 177.269 395.879 Q179.19 394.073 179.19 390.971 Q179.19 387.847 177.269 386.064 Q175.371 384.282 172.014 384.282 M167.339 382.291 Q164.329 381.55 162.64 379.49 Q160.973 377.43 160.973 374.467 Q160.973 370.323 163.913 367.916 Q166.876 365.509 172.014 365.509 Q177.176 365.509 180.116 367.916 Q183.056 370.323 183.056 374.467 Q183.056 377.43 181.366 379.49 Q179.7 381.55 176.714 382.291 Q180.093 383.078 181.968 385.37 Q183.866 387.661 183.866 390.971 Q183.866 395.995 180.788 398.68 Q177.732 401.365 172.014 401.365 Q166.297 401.365 163.218 398.68 Q160.163 395.995 160.163 390.971 Q160.163 387.661 162.061 385.37 Q163.959 383.078 167.339 382.291 M165.626 374.907 Q165.626 377.592 167.292 379.097 Q168.982 380.601 172.014 380.601 Q175.024 380.601 176.714 379.097 Q178.426 377.592 178.426 374.907 Q178.426 372.222 176.714 370.717 Q175.024 369.212 172.014 369.212 Q168.982 369.212 167.292 370.717 Q165.626 372.222 165.626 374.907 Z\" fill=\"#000000\" fill-rule=\"evenodd\" fill-opacity=\"1\" /><path clip-path=\"url(#clip300)\" d=\"M117.501 136.817 L125.14 136.817 L125.14 110.451 L116.83 112.118 L116.83 107.859 L125.093 106.192 L129.769 106.192 L129.769 136.817 L137.408 136.817 L137.408 140.752 L117.501 140.752 L117.501 136.817 Z\" fill=\"#000000\" fill-rule=\"evenodd\" fill-opacity=\"1\" /><path clip-path=\"url(#clip300)\" d=\"M146.853 134.873 L151.737 134.873 L151.737 140.752 L146.853 140.752 L146.853 134.873 Z\" fill=\"#000000\" fill-rule=\"evenodd\" fill-opacity=\"1\" /><path clip-path=\"url(#clip300)\" d=\"M171.922 109.271 Q168.311 109.271 166.482 112.836 Q164.677 116.377 164.677 123.507 Q164.677 130.613 166.482 134.178 Q168.311 137.72 171.922 137.72 Q175.556 137.72 177.362 134.178 Q179.19 130.613 179.19 123.507 Q179.19 116.377 177.362 112.836 Q175.556 109.271 171.922 109.271 M171.922 105.567 Q177.732 105.567 180.788 110.174 Q183.866 114.757 183.866 123.507 Q183.866 132.234 180.788 136.84 Q177.732 141.423 171.922 141.423 Q166.112 141.423 163.033 136.84 Q159.978 132.234 159.978 123.507 Q159.978 114.757 163.033 110.174 Q166.112 105.567 171.922 105.567 Z\" fill=\"#000000\" fill-rule=\"evenodd\" fill-opacity=\"1\" /><path clip-path=\"url(#clip300)\" d=\"M16.4842 916.825 L16.4842 910.332 L56.6518 900.338 L16.4842 890.375 L16.4842 883.15 L56.6518 873.156 L16.4842 863.194 L16.4842 856.669 L64.0042 868.605 L64.0042 876.689 L22.7544 886.715 L64.0042 896.837 L64.0042 904.921 L16.4842 916.825 Z\" fill=\"#000000\" fill-rule=\"evenodd\" fill-opacity=\"1\" /><path clip-path=\"url(#clip300)\" d=\"M28.3562 849.826 L28.3562 843.969 L64.0042 843.969 L64.0042 849.826 L28.3562 849.826 M14.479 849.826 L14.479 843.969 L21.895 843.969 L21.895 849.826 L14.479 849.826 Z\" fill=\"#000000\" fill-rule=\"evenodd\" fill-opacity=\"1\" /><path clip-path=\"url(#clip300)\" d=\"M42.4881 802.083 L64.0042 802.083 L64.0042 807.94 L42.679 807.94 Q37.6183 807.94 35.1038 809.913 Q32.5894 811.886 32.5894 815.833 Q32.5894 820.575 35.6131 823.313 Q38.6368 826.05 43.8567 826.05 L64.0042 826.05 L64.0042 831.938 L28.3562 831.938 L28.3562 826.05 L33.8944 826.05 Q30.6797 823.949 29.0883 821.117 Q27.4968 818.252 27.4968 814.528 Q27.4968 808.385 31.3163 805.234 Q35.1038 802.083 42.4881 802.083 Z\" fill=\"#000000\" fill-rule=\"evenodd\" fill-opacity=\"1\" /><path clip-path=\"url(#clip300)\" d=\"M41.7242 746.892 Q42.4244 744.824 44.7161 742.882 Q47.0077 740.909 51.0181 738.935 L64.0042 732.41 L64.0042 739.317 L51.8138 745.396 Q47.0395 747.752 45.48 749.98 Q43.9204 752.176 43.9204 755.995 L43.9204 762.998 L64.0042 762.998 L64.0042 769.427 L16.4842 769.427 L16.4842 754.913 Q16.4842 746.765 19.8898 742.755 Q23.2955 738.744 30.1704 738.744 Q34.6582 738.744 37.6183 740.845 Q40.5784 742.914 41.7242 746.892 M21.7677 762.998 L38.6368 762.998 L38.6368 754.913 Q38.6368 750.266 36.5043 747.911 Q34.34 745.524 30.1704 745.524 Q26.0009 745.524 23.9002 747.911 Q21.7677 750.266 21.7677 754.913 L21.7677 762.998 Z\" fill=\"#000000\" fill-rule=\"evenodd\" fill-opacity=\"1\" /><path clip-path=\"url(#clip300)\" d=\"M46.0847 709.621 Q46.0847 716.719 47.7079 719.456 Q49.3312 722.193 53.2461 722.193 Q56.3653 722.193 58.2114 720.156 Q60.0256 718.088 60.0256 714.555 Q60.0256 709.685 56.5881 706.757 Q53.1188 703.797 47.3897 703.797 L46.0847 703.797 L46.0847 709.621 M43.6657 697.94 L64.0042 697.94 L64.0042 703.797 L58.5933 703.797 Q61.8398 705.802 63.3994 708.794 Q64.9272 711.786 64.9272 716.114 Q64.9272 721.589 61.8716 724.835 Q58.7843 728.05 53.6281 728.05 Q47.6125 728.05 44.5569 724.04 Q41.5014 719.997 41.5014 712.008 L41.5014 703.797 L40.9285 703.797 Q36.8862 703.797 34.6901 706.47 Q32.4621 709.112 32.4621 713.918 Q32.4621 716.974 33.1941 719.87 Q33.9262 722.766 35.3903 725.44 L29.9795 725.44 Q28.7381 722.225 28.1334 719.202 Q27.4968 716.178 27.4968 713.313 Q27.4968 705.579 31.5072 701.76 Q35.5176 697.94 43.6657 697.94 Z\" fill=\"#000000\" fill-rule=\"evenodd\" fill-opacity=\"1\" /><path clip-path=\"url(#clip300)\" d=\"M18.2347 680.084 L28.3562 680.084 L28.3562 668.021 L32.9077 668.021 L32.9077 680.084 L52.2594 680.084 Q56.6199 680.084 57.8613 678.907 Q59.1026 677.697 59.1026 674.037 L59.1026 668.021 L64.0042 668.021 L64.0042 674.037 Q64.0042 680.816 61.4897 683.394 Q58.9434 685.973 52.2594 685.973 L32.9077 685.973 L32.9077 690.269 L28.3562 690.269 L28.3562 685.973 L18.2347 685.973 L18.2347 680.084 Z\" fill=\"#000000\" fill-rule=\"evenodd\" fill-opacity=\"1\" /><path clip-path=\"url(#clip300)\" d=\"M44.7161 629.827 L47.5806 629.827 L47.5806 656.754 Q53.6281 656.372 56.8109 653.126 Q59.9619 649.847 59.9619 644.023 Q59.9619 640.649 59.1344 637.498 Q58.3069 634.315 56.6518 631.196 L62.1899 631.196 Q63.5267 634.347 64.227 637.657 Q64.9272 640.967 64.9272 644.373 Q64.9272 652.903 59.9619 657.9 Q54.9967 662.865 46.5303 662.865 Q37.7774 662.865 32.6531 658.154 Q27.4968 653.412 27.4968 645.391 Q27.4968 638.198 32.1438 634.028 Q36.7589 629.827 44.7161 629.827 M42.9973 635.683 Q38.1912 635.747 35.3266 638.389 Q32.4621 640.999 32.4621 645.328 Q32.4621 650.229 35.2312 653.189 Q38.0002 656.117 43.0292 656.563 L42.9973 635.683 Z\" fill=\"#000000\" fill-rule=\"evenodd\" fill-opacity=\"1\" /><path clip-path=\"url(#clip300)\" d=\"M498.957 12.096 L507.221 12.096 L519.941 63.2184 L532.62 12.096 L541.816 12.096 L554.535 63.2184 L567.215 12.096 L575.519 12.096 L560.328 72.576 L550.039 72.576 L537.279 20.0763 L524.397 72.576 L514.107 72.576 L498.957 12.096 Z\" fill=\"#000000\" fill-rule=\"evenodd\" fill-opacity=\"1\" /><path clip-path=\"url(#clip300)\" d=\"M584.229 27.2059 L591.682 27.2059 L591.682 72.576 L584.229 72.576 L584.229 27.2059 M584.229 9.54393 L591.682 9.54393 L591.682 18.9825 L584.229 18.9825 L584.229 9.54393 Z\" fill=\"#000000\" fill-rule=\"evenodd\" fill-opacity=\"1\" /><path clip-path=\"url(#clip300)\" d=\"M644.992 45.1919 L644.992 72.576 L637.539 72.576 L637.539 45.4349 Q637.539 38.994 635.027 35.7938 Q632.515 32.5936 627.492 32.5936 Q621.456 32.5936 617.973 36.4419 Q614.489 40.2903 614.489 46.9338 L614.489 72.576 L606.995 72.576 L606.995 27.2059 L614.489 27.2059 L614.489 34.2544 Q617.162 30.163 620.768 28.1376 Q624.414 26.1121 629.153 26.1121 Q636.971 26.1121 640.982 30.9732 Q644.992 35.7938 644.992 45.1919 Z\" fill=\"#000000\" fill-rule=\"evenodd\" fill-opacity=\"1\" /><path clip-path=\"url(#clip300)\" d=\"M715.235 44.2197 Q717.868 45.1109 720.339 48.0275 Q722.851 50.9442 725.362 56.0483 L733.666 72.576 L724.876 72.576 L717.139 57.061 Q714.141 50.9847 711.305 48.9997 Q708.51 47.0148 703.649 47.0148 L694.737 47.0148 L694.737 72.576 L686.554 72.576 L686.554 12.096 L705.027 12.096 Q715.397 12.096 720.501 16.4305 Q725.605 20.7649 725.605 29.5149 Q725.605 35.2267 722.932 38.994 Q720.298 42.7613 715.235 44.2197 M694.737 18.8205 L694.737 40.2903 L705.027 40.2903 Q710.941 40.2903 713.939 37.5762 Q716.977 34.8216 716.977 29.5149 Q716.977 24.2082 713.939 21.5346 Q710.941 18.8205 705.027 18.8205 L694.737 18.8205 Z\" fill=\"#000000\" fill-rule=\"evenodd\" fill-opacity=\"1\" /><path clip-path=\"url(#clip300)\" d=\"M762.671 49.7694 Q753.637 49.7694 750.154 51.8354 Q746.67 53.9013 746.67 58.8839 Q746.67 62.8538 749.262 65.2034 Q751.896 67.5124 756.392 67.5124 Q762.59 67.5124 766.317 63.1374 Q770.084 58.7219 770.084 51.4303 L770.084 49.7694 L762.671 49.7694 M777.538 46.6907 L777.538 72.576 L770.084 72.576 L770.084 65.6895 Q767.532 69.8214 763.724 71.8063 Q759.916 73.7508 754.407 73.7508 Q747.44 73.7508 743.308 69.8619 Q739.216 65.9325 739.216 59.3701 Q739.216 51.7138 744.32 47.825 Q749.465 43.9361 759.633 43.9361 L770.084 43.9361 L770.084 43.2069 Q770.084 38.0623 766.681 35.2672 Q763.319 32.4315 757.202 32.4315 Q753.313 32.4315 749.627 33.3632 Q745.941 34.295 742.538 36.1584 L742.538 29.2718 Q746.629 27.692 750.478 26.9223 Q754.326 26.1121 757.972 26.1121 Q767.816 26.1121 772.677 31.2163 Q777.538 36.3204 777.538 46.6907 Z\" fill=\"#000000\" fill-rule=\"evenodd\" fill-opacity=\"1\" /><path clip-path=\"url(#clip300)\" d=\"M800.263 14.324 L800.263 27.2059 L815.616 27.2059 L815.616 32.9987 L800.263 32.9987 L800.263 57.6282 Q800.263 63.1779 801.762 64.7578 Q803.302 66.3376 807.96 66.3376 L815.616 66.3376 L815.616 72.576 L807.96 72.576 Q799.332 72.576 796.05 69.3758 Q792.769 66.1351 792.769 57.6282 L792.769 32.9987 L787.3 32.9987 L787.3 27.2059 L792.769 27.2059 L792.769 14.324 L800.263 14.324 Z\" fill=\"#000000\" fill-rule=\"evenodd\" fill-opacity=\"1\" /><path clip-path=\"url(#clip300)\" d=\"M864.227 48.0275 L864.227 51.6733 L829.956 51.6733 Q830.443 59.3701 834.575 63.421 Q838.747 67.4314 846.16 67.4314 Q850.454 67.4314 854.464 66.3781 Q858.515 65.3249 862.485 63.2184 L862.485 70.267 Q858.475 71.9684 854.262 72.8596 Q850.049 73.7508 845.714 73.7508 Q834.858 73.7508 828.498 67.4314 Q822.179 61.1119 822.179 50.3365 Q822.179 39.1965 828.174 32.6746 Q834.21 26.1121 844.418 26.1121 Q853.573 26.1121 858.88 32.0264 Q864.227 37.9003 864.227 48.0275 M856.773 45.84 Q856.692 39.7232 853.33 36.0774 Q850.008 32.4315 844.499 32.4315 Q838.261 32.4315 834.493 35.9558 Q830.767 39.4801 830.2 45.8805 L856.773 45.84 Z\" fill=\"#000000\" fill-rule=\"evenodd\" fill-opacity=\"1\" /><path clip-path=\"url(#clip300)\" d=\"M905.384 28.5427 L905.384 35.5912 Q902.225 33.9709 898.822 33.1607 Q895.419 32.3505 891.773 32.3505 Q886.224 32.3505 883.428 34.0519 Q880.674 35.7533 880.674 39.156 Q880.674 41.7486 882.659 43.2475 Q884.644 44.7058 890.639 46.0426 L893.191 46.6097 Q901.131 48.3111 904.453 51.4303 Q907.815 54.509 907.815 60.0587 Q907.815 66.3781 902.792 70.0644 Q897.809 73.7508 889.059 73.7508 Q885.413 73.7508 881.443 73.0216 Q877.514 72.3329 873.139 70.9151 L873.139 63.2184 Q877.271 65.3654 881.281 66.4591 Q885.292 67.5124 889.221 67.5124 Q894.487 67.5124 897.323 65.73 Q900.159 63.9071 900.159 60.6258 Q900.159 57.5877 898.093 55.9673 Q896.067 54.3469 889.14 52.8481 L886.548 52.2405 Q879.621 50.7821 876.542 47.7845 Q873.463 44.7463 873.463 39.4801 Q873.463 33.0797 878 29.5959 Q882.537 26.1121 890.882 26.1121 Q895.014 26.1121 898.66 26.7198 Q902.306 27.3274 905.384 28.5427 Z\" fill=\"#000000\" fill-rule=\"evenodd\" fill-opacity=\"1\" /><path clip-path=\"url(#clip300)\" d=\"M963.636 32.4315 Q957.641 32.4315 954.157 37.1306 Q950.673 41.7891 950.673 49.9314 Q950.673 58.0738 954.117 62.7728 Q957.6 67.4314 963.636 67.4314 Q969.591 67.4314 973.075 62.7323 Q976.559 58.0333 976.559 49.9314 Q976.559 41.8701 973.075 37.1711 Q969.591 32.4315 963.636 32.4315 M963.636 26.1121 Q973.358 26.1121 978.908 32.4315 Q984.458 38.7509 984.458 49.9314 Q984.458 61.0714 978.908 67.4314 Q973.358 73.7508 963.636 73.7508 Q953.874 73.7508 948.324 67.4314 Q942.815 61.0714 942.815 49.9314 Q942.815 38.7509 948.324 32.4315 Q953.874 26.1121 963.636 26.1121 Z\" fill=\"#000000\" fill-rule=\"evenodd\" fill-opacity=\"1\" /><path clip-path=\"url(#clip300)\" d=\"M1019.78 9.54393 L1019.78 15.7418 L1012.65 15.7418 Q1008.64 15.7418 1007.06 17.3622 Q1005.52 18.9825 1005.52 23.1955 L1005.52 27.2059 L1017.8 27.2059 L1017.8 32.9987 L1005.52 32.9987 L1005.52 72.576 L998.028 72.576 L998.028 32.9987 L990.899 32.9987 L990.899 27.2059 L998.028 27.2059 L998.028 24.0462 Q998.028 16.471 1001.55 13.0277 Q1005.08 9.54393 1012.73 9.54393 L1019.78 9.54393 Z\" fill=\"#000000\" fill-rule=\"evenodd\" fill-opacity=\"1\" /><path clip-path=\"url(#clip300)\" d=\"M1044.33 12.096 L1095.49 12.096 L1095.49 18.9825 L1074.02 18.9825 L1074.02 72.576 L1065.8 72.576 L1065.8 18.9825 L1044.33 18.9825 L1044.33 12.096 Z\" fill=\"#000000\" fill-rule=\"evenodd\" fill-opacity=\"1\" /><path clip-path=\"url(#clip300)\" d=\"M1117.17 34.1734 Q1115.91 33.4443 1114.41 33.1202 Q1112.95 32.7556 1111.17 32.7556 Q1104.85 32.7556 1101.45 36.8875 Q1098.09 40.9789 1098.09 48.6757 L1098.09 72.576 L1090.59 72.576 L1090.59 27.2059 L1098.09 27.2059 L1098.09 34.2544 Q1100.44 30.1225 1104.2 28.1376 Q1107.97 26.1121 1113.36 26.1121 Q1114.13 26.1121 1115.06 26.2337 Q1115.99 26.3147 1117.13 26.5172 L1117.17 34.1734 Z\" fill=\"#000000\" fill-rule=\"evenodd\" fill-opacity=\"1\" /><path clip-path=\"url(#clip300)\" d=\"M1145.6 49.7694 Q1136.57 49.7694 1133.09 51.8354 Q1129.6 53.9013 1129.6 58.8839 Q1129.6 62.8538 1132.19 65.2034 Q1134.83 67.5124 1139.32 67.5124 Q1145.52 67.5124 1149.25 63.1374 Q1153.02 58.7219 1153.02 51.4303 L1153.02 49.7694 L1145.6 49.7694 M1160.47 46.6907 L1160.47 72.576 L1153.02 72.576 L1153.02 65.6895 Q1150.46 69.8214 1146.66 71.8063 Q1142.85 73.7508 1137.34 73.7508 Q1130.37 73.7508 1126.24 69.8619 Q1122.15 65.9325 1122.15 59.3701 Q1122.15 51.7138 1127.25 47.825 Q1132.4 43.9361 1142.56 43.9361 L1153.02 43.9361 L1153.02 43.2069 Q1153.02 38.0623 1149.61 35.2672 Q1146.25 32.4315 1140.13 32.4315 Q1136.25 32.4315 1132.56 33.3632 Q1128.87 34.295 1125.47 36.1584 L1125.47 29.2718 Q1129.56 27.692 1133.41 26.9223 Q1137.26 26.1121 1140.9 26.1121 Q1150.75 26.1121 1155.61 31.2163 Q1160.47 36.3204 1160.47 46.6907 Z\" fill=\"#000000\" fill-rule=\"evenodd\" fill-opacity=\"1\" /><path clip-path=\"url(#clip300)\" d=\"M1175.82 27.2059 L1183.28 27.2059 L1183.28 72.576 L1175.82 72.576 L1175.82 27.2059 M1175.82 9.54393 L1183.28 9.54393 L1183.28 18.9825 L1175.82 18.9825 L1175.82 9.54393 Z\" fill=\"#000000\" fill-rule=\"evenodd\" fill-opacity=\"1\" /><path clip-path=\"url(#clip300)\" d=\"M1236.59 45.1919 L1236.59 72.576 L1229.13 72.576 L1229.13 45.4349 Q1229.13 38.994 1226.62 35.7938 Q1224.11 32.5936 1219.09 32.5936 Q1213.05 32.5936 1209.57 36.4419 Q1206.08 40.2903 1206.08 46.9338 L1206.08 72.576 L1198.59 72.576 L1198.59 27.2059 L1206.08 27.2059 L1206.08 34.2544 Q1208.76 30.163 1212.36 28.1376 Q1216.01 26.1121 1220.75 26.1121 Q1228.57 26.1121 1232.58 30.9732 Q1236.59 35.7938 1236.59 45.1919 Z\" fill=\"#000000\" fill-rule=\"evenodd\" fill-opacity=\"1\" /><path clip-path=\"url(#clip300)\" d=\"M1251.45 27.2059 L1258.91 27.2059 L1258.91 72.576 L1251.45 72.576 L1251.45 27.2059 M1251.45 9.54393 L1258.91 9.54393 L1258.91 18.9825 L1251.45 18.9825 L1251.45 9.54393 Z\" fill=\"#000000\" fill-rule=\"evenodd\" fill-opacity=\"1\" /><path clip-path=\"url(#clip300)\" d=\"M1312.22 45.1919 L1312.22 72.576 L1304.76 72.576 L1304.76 45.4349 Q1304.76 38.994 1302.25 35.7938 Q1299.74 32.5936 1294.72 32.5936 Q1288.68 32.5936 1285.2 36.4419 Q1281.71 40.2903 1281.71 46.9338 L1281.71 72.576 L1274.22 72.576 L1274.22 27.2059 L1281.71 27.2059 L1281.71 34.2544 Q1284.39 30.163 1287.99 28.1376 Q1291.64 26.1121 1296.38 26.1121 Q1304.2 26.1121 1308.21 30.9732 Q1312.22 35.7938 1312.22 45.1919 Z\" fill=\"#000000\" fill-rule=\"evenodd\" fill-opacity=\"1\" /><path clip-path=\"url(#clip300)\" d=\"M1356.94 49.3643 Q1356.94 41.2625 1353.58 36.8065 Q1350.25 32.3505 1344.22 32.3505 Q1338.22 32.3505 1334.86 36.8065 Q1331.54 41.2625 1331.54 49.3643 Q1331.54 57.4256 1334.86 61.8816 Q1338.22 66.3376 1344.22 66.3376 Q1350.25 66.3376 1353.58 61.8816 Q1356.94 57.4256 1356.94 49.3643 M1364.39 66.9452 Q1364.39 78.5308 1359.25 84.1616 Q1354.1 89.8329 1343.49 89.8329 Q1339.56 89.8329 1336.08 89.2252 Q1332.59 88.6581 1329.31 87.4428 L1329.31 80.1917 Q1332.59 81.9741 1335.79 82.8248 Q1338.99 83.6755 1342.31 83.6755 Q1349.65 83.6755 1353.29 79.8271 Q1356.94 76.0193 1356.94 68.282 L1356.94 64.5957 Q1354.63 68.6061 1351.02 70.5911 Q1347.42 72.576 1342.4 72.576 Q1334.05 72.576 1328.95 66.2161 Q1323.84 59.8562 1323.84 49.3643 Q1323.84 38.832 1328.95 32.472 Q1334.05 26.1121 1342.4 26.1121 Q1347.42 26.1121 1351.02 28.0971 Q1354.63 30.082 1356.94 34.0924 L1356.94 27.2059 L1364.39 27.2059 L1364.39 66.9452 Z\" fill=\"#000000\" fill-rule=\"evenodd\" fill-opacity=\"1\" /><path clip-path=\"url(#clip300)\" d=\"M1442.7 14.0809 L1442.7 22.0612 Q1438.04 19.8332 1433.91 18.7395 Q1429.77 17.6457 1425.93 17.6457 Q1419.24 17.6457 1415.6 20.2383 Q1411.99 22.8309 1411.99 27.611 Q1411.99 31.6214 1414.38 33.6873 Q1416.81 35.7128 1423.54 36.9686 L1428.48 37.9813 Q1437.63 39.7232 1441.97 44.1387 Q1446.34 48.5136 1446.34 55.8863 Q1446.34 64.6767 1440.43 69.2137 Q1434.55 73.7508 1423.17 73.7508 Q1418.88 73.7508 1414.02 72.7785 Q1409.2 71.8063 1404.01 69.9024 L1404.01 61.4765 Q1408.99 64.2716 1413.77 65.6895 Q1418.55 67.1073 1423.17 67.1073 Q1430.18 67.1073 1433.99 64.3527 Q1437.79 61.598 1437.79 56.4939 Q1437.79 52.0379 1435.04 49.5264 Q1432.33 47.0148 1426.09 45.759 L1421.1 44.7868 Q1411.95 42.9639 1407.86 39.075 Q1403.77 35.1862 1403.77 28.2591 Q1403.77 20.2383 1409.4 15.6203 Q1415.07 11.0023 1424.99 11.0023 Q1429.25 11.0023 1433.66 11.7719 Q1438.08 12.5416 1442.7 14.0809 Z\" fill=\"#000000\" fill-rule=\"evenodd\" fill-opacity=\"1\" /><path clip-path=\"url(#clip300)\" d=\"M1497.59 48.0275 L1497.59 51.6733 L1463.32 51.6733 Q1463.8 59.3701 1467.93 63.421 Q1472.11 67.4314 1479.52 67.4314 Q1483.81 67.4314 1487.82 66.3781 Q1491.87 65.3249 1495.84 63.2184 L1495.84 70.267 Q1491.83 71.9684 1487.62 72.8596 Q1483.41 73.7508 1479.07 73.7508 Q1468.22 73.7508 1461.86 67.4314 Q1455.54 61.1119 1455.54 50.3365 Q1455.54 39.1965 1461.53 32.6746 Q1467.57 26.1121 1477.78 26.1121 Q1486.93 26.1121 1492.24 32.0264 Q1497.59 37.9003 1497.59 48.0275 M1490.13 45.84 Q1490.05 39.7232 1486.69 36.0774 Q1483.37 32.4315 1477.86 32.4315 Q1471.62 32.4315 1467.85 35.9558 Q1464.13 39.4801 1463.56 45.8805 L1490.13 45.84 Z\" fill=\"#000000\" fill-rule=\"evenodd\" fill-opacity=\"1\" /><path clip-path=\"url(#clip300)\" d=\"M1517.19 14.324 L1517.19 27.2059 L1532.55 27.2059 L1532.55 32.9987 L1517.19 32.9987 L1517.19 57.6282 Q1517.19 63.1779 1518.69 64.7578 Q1520.23 66.3376 1524.89 66.3376 L1532.55 66.3376 L1532.55 72.576 L1524.89 72.576 Q1516.26 72.576 1512.98 69.3758 Q1509.7 66.1351 1509.7 57.6282 L1509.7 32.9987 L1504.23 32.9987 L1504.23 27.2059 L1509.7 27.2059 L1509.7 14.324 L1517.19 14.324 Z\" fill=\"#000000\" fill-rule=\"evenodd\" fill-opacity=\"1\" /><path clip-path=\"url(#clip300)\" d=\"M1614.33 16.7545 L1614.33 25.383 Q1610.2 21.5346 1605.5 19.6307 Q1600.84 17.7268 1595.58 17.7268 Q1585.21 17.7268 1579.7 24.0867 Q1574.19 30.4061 1574.19 42.3968 Q1574.19 54.3469 1579.7 60.7069 Q1585.21 67.0263 1595.58 67.0263 Q1600.84 67.0263 1605.5 65.1223 Q1610.2 63.2184 1614.33 59.3701 L1614.33 67.9175 Q1610.04 70.8341 1605.22 72.2924 Q1600.44 73.7508 1595.09 73.7508 Q1581.36 73.7508 1573.46 65.3654 Q1565.56 56.9395 1565.56 42.3968 Q1565.56 27.8135 1573.46 19.4281 Q1581.36 11.0023 1595.09 11.0023 Q1600.52 11.0023 1605.3 12.4606 Q1610.12 13.8784 1614.33 16.7545 Z\" fill=\"#000000\" fill-rule=\"evenodd\" fill-opacity=\"1\" /><path clip-path=\"url(#clip300)\" d=\"M1644.23 32.4315 Q1638.23 32.4315 1634.75 37.1306 Q1631.27 41.7891 1631.27 49.9314 Q1631.27 58.0738 1634.71 62.7728 Q1638.19 67.4314 1644.23 67.4314 Q1650.18 67.4314 1653.67 62.7323 Q1657.15 58.0333 1657.15 49.9314 Q1657.15 41.8701 1653.67 37.1711 Q1650.18 32.4315 1644.23 32.4315 M1644.23 26.1121 Q1653.95 26.1121 1659.5 32.4315 Q1665.05 38.7509 1665.05 49.9314 Q1665.05 61.0714 1659.5 67.4314 Q1653.95 73.7508 1644.23 73.7508 Q1634.47 73.7508 1628.92 67.4314 Q1623.41 61.0714 1623.41 49.9314 Q1623.41 38.7509 1628.92 32.4315 Q1634.47 26.1121 1644.23 26.1121 Z\" fill=\"#000000\" fill-rule=\"evenodd\" fill-opacity=\"1\" /><path clip-path=\"url(#clip300)\" d=\"M1715.12 45.1919 L1715.12 72.576 L1707.67 72.576 L1707.67 45.4349 Q1707.67 38.994 1705.15 35.7938 Q1702.64 32.5936 1697.62 32.5936 Q1691.58 32.5936 1688.1 36.4419 Q1684.62 40.2903 1684.62 46.9338 L1684.62 72.576 L1677.12 72.576 L1677.12 27.2059 L1684.62 27.2059 L1684.62 34.2544 Q1687.29 30.163 1690.9 28.1376 Q1694.54 26.1121 1699.28 26.1121 Q1707.1 26.1121 1711.11 30.9732 Q1715.12 35.7938 1715.12 45.1919 Z\" fill=\"#000000\" fill-rule=\"evenodd\" fill-opacity=\"1\" /><path clip-path=\"url(#clip300)\" d=\"M1737.36 14.324 L1737.36 27.2059 L1752.71 27.2059 L1752.71 32.9987 L1737.36 32.9987 L1737.36 57.6282 Q1737.36 63.1779 1738.86 64.7578 Q1740.4 66.3376 1745.06 66.3376 L1752.71 66.3376 L1752.71 72.576 L1745.06 72.576 Q1736.43 72.576 1733.15 69.3758 Q1729.86 66.1351 1729.86 57.6282 L1729.86 32.9987 L1724.4 32.9987 L1724.4 27.2059 L1729.86 27.2059 L1729.86 14.324 L1737.36 14.324 Z\" fill=\"#000000\" fill-rule=\"evenodd\" fill-opacity=\"1\" /><path clip-path=\"url(#clip300)\" d=\"M1788.81 34.1734 Q1787.55 33.4443 1786.05 33.1202 Q1784.59 32.7556 1782.81 32.7556 Q1776.49 32.7556 1773.09 36.8875 Q1769.73 40.9789 1769.73 48.6757 L1769.73 72.576 L1762.23 72.576 L1762.23 27.2059 L1769.73 27.2059 L1769.73 34.2544 Q1772.08 30.1225 1775.84 28.1376 Q1779.61 26.1121 1785 26.1121 Q1785.77 26.1121 1786.7 26.2337 Q1787.63 26.3147 1788.76 26.5172 L1788.81 34.1734 Z\" fill=\"#000000\" fill-rule=\"evenodd\" fill-opacity=\"1\" /><path clip-path=\"url(#clip300)\" d=\"M1796.62 27.2059 L1804.08 27.2059 L1804.08 72.576 L1796.62 72.576 L1796.62 27.2059 M1796.62 9.54393 L1804.08 9.54393 L1804.08 18.9825 L1796.62 18.9825 L1796.62 9.54393 Z\" fill=\"#000000\" fill-rule=\"evenodd\" fill-opacity=\"1\" /><path clip-path=\"url(#clip300)\" d=\"M1852.24 49.9314 Q1852.24 41.7081 1848.84 37.0496 Q1845.48 32.3505 1839.56 32.3505 Q1833.65 32.3505 1830.25 37.0496 Q1826.88 41.7081 1826.88 49.9314 Q1826.88 58.1548 1830.25 62.8538 Q1833.65 67.5124 1839.56 67.5124 Q1845.48 67.5124 1848.84 62.8538 Q1852.24 58.1548 1852.24 49.9314 M1826.88 34.0924 Q1829.23 30.0415 1832.8 28.0971 Q1836.4 26.1121 1841.39 26.1121 Q1849.65 26.1121 1854.79 32.6746 Q1859.98 39.2371 1859.98 49.9314 Q1859.98 60.6258 1854.79 67.1883 Q1849.65 73.7508 1841.39 73.7508 Q1836.4 73.7508 1832.8 71.8063 Q1829.23 69.8214 1826.88 65.7705 L1826.88 72.576 L1819.39 72.576 L1819.39 9.54393 L1826.88 9.54393 L1826.88 34.0924 Z\" fill=\"#000000\" fill-rule=\"evenodd\" fill-opacity=\"1\" /><path clip-path=\"url(#clip300)\" d=\"M1871.57 54.671 L1871.57 27.2059 L1879.02 27.2059 L1879.02 54.3874 Q1879.02 60.8284 1881.53 64.0691 Q1884.04 67.2693 1889.07 67.2693 Q1895.1 67.2693 1898.59 63.421 Q1902.11 59.5726 1902.11 52.9291 L1902.11 27.2059 L1909.56 27.2059 L1909.56 72.576 L1902.11 72.576 L1902.11 65.6084 Q1899.4 69.7404 1895.79 71.7658 Q1892.23 73.7508 1887.49 73.7508 Q1879.67 73.7508 1875.62 68.8897 Q1871.57 64.0286 1871.57 54.671 M1890.32 26.1121 L1890.32 26.1121 Z\" fill=\"#000000\" fill-rule=\"evenodd\" fill-opacity=\"1\" /><path clip-path=\"url(#clip300)\" d=\"M1932.29 14.324 L1932.29 27.2059 L1947.64 27.2059 L1947.64 32.9987 L1932.29 32.9987 L1932.29 57.6282 Q1932.29 63.1779 1933.79 64.7578 Q1935.33 66.3376 1939.99 66.3376 L1947.64 66.3376 L1947.64 72.576 L1939.99 72.576 Q1931.36 72.576 1928.08 69.3758 Q1924.79 66.1351 1924.79 57.6282 L1924.79 32.9987 L1919.33 32.9987 L1919.33 27.2059 L1924.79 27.2059 L1924.79 14.324 L1932.29 14.324 Z\" fill=\"#000000\" fill-rule=\"evenodd\" fill-opacity=\"1\" /><path clip-path=\"url(#clip300)\" d=\"M1975.03 32.4315 Q1969.03 32.4315 1965.55 37.1306 Q1962.06 41.7891 1962.06 49.9314 Q1962.06 58.0738 1965.51 62.7728 Q1968.99 67.4314 1975.03 67.4314 Q1980.98 67.4314 1984.46 62.7323 Q1987.95 58.0333 1987.95 49.9314 Q1987.95 41.8701 1984.46 37.1711 Q1980.98 32.4315 1975.03 32.4315 M1975.03 26.1121 Q1984.75 26.1121 1990.3 32.4315 Q1995.85 38.7509 1995.85 49.9314 Q1995.85 61.0714 1990.3 67.4314 Q1984.75 73.7508 1975.03 73.7508 Q1965.26 73.7508 1959.71 67.4314 Q1954.2 61.0714 1954.2 49.9314 Q1954.2 38.7509 1959.71 32.4315 Q1965.26 26.1121 1975.03 26.1121 Z\" fill=\"#000000\" fill-rule=\"evenodd\" fill-opacity=\"1\" /><path clip-path=\"url(#clip300)\" d=\"M2034.49 34.1734 Q2033.24 33.4443 2031.74 33.1202 Q2030.28 32.7556 2028.5 32.7556 Q2022.18 32.7556 2018.78 36.8875 Q2015.41 40.9789 2015.41 48.6757 L2015.41 72.576 L2007.92 72.576 L2007.92 27.2059 L2015.41 27.2059 L2015.41 34.2544 Q2017.76 30.1225 2021.53 28.1376 Q2025.3 26.1121 2030.68 26.1121 Q2031.45 26.1121 2032.39 26.2337 Q2033.32 26.3147 2034.45 26.5172 L2034.49 34.1734 Z\" fill=\"#000000\" fill-rule=\"evenodd\" fill-opacity=\"1\" /><path clip-path=\"url(#clip300)\" d=\"M2071.23 28.5427 L2071.23 35.5912 Q2068.07 33.9709 2064.67 33.1607 Q2061.27 32.3505 2057.62 32.3505 Q2052.07 32.3505 2049.28 34.0519 Q2046.52 35.7533 2046.52 39.156 Q2046.52 41.7486 2048.51 43.2475 Q2050.49 44.7058 2056.49 46.0426 L2059.04 46.6097 Q2066.98 48.3111 2070.3 51.4303 Q2073.67 54.509 2073.67 60.0587 Q2073.67 66.3781 2068.64 70.0644 Q2063.66 73.7508 2054.91 73.7508 Q2051.26 73.7508 2047.29 73.0216 Q2043.36 72.3329 2038.99 70.9151 L2038.99 63.2184 Q2043.12 65.3654 2047.13 66.4591 Q2051.14 67.5124 2055.07 67.5124 Q2060.34 67.5124 2063.17 65.73 Q2066.01 63.9071 2066.01 60.6258 Q2066.01 57.5877 2063.94 55.9673 Q2061.92 54.3469 2054.99 52.8481 L2052.4 52.2405 Q2045.47 50.7821 2042.39 47.7845 Q2039.31 44.7463 2039.31 39.4801 Q2039.31 33.0797 2043.85 29.5959 Q2048.39 26.1121 2056.73 26.1121 Q2060.86 26.1121 2064.51 26.7198 Q2068.16 27.3274 2071.23 28.5427 Z\" fill=\"#000000\" fill-rule=\"evenodd\" fill-opacity=\"1\" /><path clip-path=\"url(#clip302)\" d=\"\n",
       "M337.179 744.228 L337.179 1423.18 L736.814 1423.18 L736.814 744.228 L337.179 744.228 L337.179 744.228  Z\n",
       "  \" fill=\"#009af9\" fill-rule=\"evenodd\" fill-opacity=\"1\"/>\n",
       "<polyline clip-path=\"url(#clip302)\" style=\"stroke:#000000; stroke-linecap:round; stroke-linejoin:round; stroke-width:4; stroke-opacity:1; fill:none\" points=\"\n",
       "  337.179,744.228 337.179,1423.18 736.814,1423.18 736.814,744.228 337.179,744.228 \n",
       "  \"/>\n",
       "<path clip-path=\"url(#clip302)\" d=\"\n",
       "M836.722 839.134 L836.722 1423.18 L1236.36 1423.18 L1236.36 839.134 L836.722 839.134 L836.722 839.134  Z\n",
       "  \" fill=\"#009af9\" fill-rule=\"evenodd\" fill-opacity=\"1\"/>\n",
       "<polyline clip-path=\"url(#clip302)\" style=\"stroke:#000000; stroke-linecap:round; stroke-linejoin:round; stroke-width:4; stroke-opacity:1; fill:none\" points=\"\n",
       "  836.722,839.134 836.722,1423.18 1236.36,1423.18 1236.36,839.134 836.722,839.134 \n",
       "  \"/>\n",
       "<path clip-path=\"url(#clip302)\" d=\"\n",
       "M1336.27 747.332 L1336.27 1423.18 L1735.9 1423.18 L1735.9 747.332 L1336.27 747.332 L1336.27 747.332  Z\n",
       "  \" fill=\"#009af9\" fill-rule=\"evenodd\" fill-opacity=\"1\"/>\n",
       "<polyline clip-path=\"url(#clip302)\" style=\"stroke:#000000; stroke-linecap:round; stroke-linejoin:round; stroke-width:4; stroke-opacity:1; fill:none\" points=\"\n",
       "  1336.27,747.332 1336.27,1423.18 1735.9,1423.18 1735.9,747.332 1336.27,747.332 \n",
       "  \"/>\n",
       "<path clip-path=\"url(#clip302)\" d=\"\n",
       "M1835.81 773.326 L1835.81 1423.18 L2235.44 1423.18 L2235.44 773.326 L1835.81 773.326 L1835.81 773.326  Z\n",
       "  \" fill=\"#009af9\" fill-rule=\"evenodd\" fill-opacity=\"1\"/>\n",
       "<polyline clip-path=\"url(#clip302)\" style=\"stroke:#000000; stroke-linecap:round; stroke-linejoin:round; stroke-width:4; stroke-opacity:1; fill:none\" points=\"\n",
       "  1835.81,773.326 1835.81,1423.18 2235.44,1423.18 2235.44,773.326 1835.81,773.326 \n",
       "  \"/>\n",
       "<circle clip-path=\"url(#clip302)\" style=\"fill:#009af9; stroke:none; fill-opacity:0\" cx=\"536.996\" cy=\"744.228\" r=\"2\"/>\n",
       "<circle clip-path=\"url(#clip302)\" style=\"fill:#009af9; stroke:none; fill-opacity:0\" cx=\"1036.54\" cy=\"839.134\" r=\"2\"/>\n",
       "<circle clip-path=\"url(#clip302)\" style=\"fill:#009af9; stroke:none; fill-opacity:0\" cx=\"1536.08\" cy=\"747.332\" r=\"2\"/>\n",
       "<circle clip-path=\"url(#clip302)\" style=\"fill:#009af9; stroke:none; fill-opacity:0\" cx=\"2035.63\" cy=\"773.326\" r=\"2\"/>\n",
       "</svg>\n"
      ]
     },
     "execution_count": 158,
     "metadata": {},
     "output_type": "execute_result"
    }
   ],
   "source": [
    "bar(\n",
    "    player_stats[:,\"win_rate\"],\n",
    "    xticks = (1:nrow(player_stats), player_stats[:,\"username\"]),\n",
    "    ylims = (0,1),\n",
    "    title = \"Win Rates of Training Set Contributors\",\n",
    "    xlabel = \"Username\",\n",
    "    ylabel = \"Win Rate\",\n",
    "    legend = false\n",
    ")"
   ]
  },
  {
   "cell_type": "markdown",
   "id": "59f6ea47",
   "metadata": {},
   "source": [
    "Finally, we will take a look at a scatterplot of games played vs win rate to see if there is any trend. It's possible that veteran players will have a higher win rate. We should expect to see convergence away from extreme win rates as the number of games increases, though.\n"
   ]
  },
  {
   "cell_type": "code",
   "execution_count": 159,
   "id": "d9bf27cf",
   "metadata": {},
   "outputs": [
    {
     "data": {
      "image/svg+xml": [
       "<?xml version=\"1.0\" encoding=\"utf-8\"?>\n",
       "<svg xmlns=\"http://www.w3.org/2000/svg\" xmlns:xlink=\"http://www.w3.org/1999/xlink\" width=\"600\" height=\"400\" viewBox=\"0 0 2400 1600\">\n",
       "<defs>\n",
       "  <clipPath id=\"clip340\">\n",
       "    <rect x=\"0\" y=\"0\" width=\"2400\" height=\"1600\"/>\n",
       "  </clipPath>\n",
       "</defs>\n",
       "<path clip-path=\"url(#clip340)\" d=\"\n",
       "M0 1600 L2400 1600 L2400 0 L0 0  Z\n",
       "  \" fill=\"#ffffff\" fill-rule=\"evenodd\" fill-opacity=\"1\"/>\n",
       "<defs>\n",
       "  <clipPath id=\"clip341\">\n",
       "    <rect x=\"480\" y=\"0\" width=\"1681\" height=\"1600\"/>\n",
       "  </clipPath>\n",
       "</defs>\n",
       "<path clip-path=\"url(#clip340)\" d=\"\n",
       "M219.866 1423.18 L2352.76 1423.18 L2352.76 123.472 L219.866 123.472  Z\n",
       "  \" fill=\"#ffffff\" fill-rule=\"evenodd\" fill-opacity=\"1\"/>\n",
       "<defs>\n",
       "  <clipPath id=\"clip342\">\n",
       "    <rect x=\"219\" y=\"123\" width=\"2134\" height=\"1301\"/>\n",
       "  </clipPath>\n",
       "</defs>\n",
       "<polyline clip-path=\"url(#clip342)\" style=\"stroke:#000000; stroke-linecap:round; stroke-linejoin:round; stroke-width:2; stroke-opacity:0.1; fill:none\" points=\"\n",
       "  565.419,1423.18 565.419,123.472 \n",
       "  \"/>\n",
       "<polyline clip-path=\"url(#clip342)\" style=\"stroke:#000000; stroke-linecap:round; stroke-linejoin:round; stroke-width:2; stroke-opacity:0.1; fill:none\" points=\"\n",
       "  961.514,1423.18 961.514,123.472 \n",
       "  \"/>\n",
       "<polyline clip-path=\"url(#clip342)\" style=\"stroke:#000000; stroke-linecap:round; stroke-linejoin:round; stroke-width:2; stroke-opacity:0.1; fill:none\" points=\"\n",
       "  1357.61,1423.18 1357.61,123.472 \n",
       "  \"/>\n",
       "<polyline clip-path=\"url(#clip342)\" style=\"stroke:#000000; stroke-linecap:round; stroke-linejoin:round; stroke-width:2; stroke-opacity:0.1; fill:none\" points=\"\n",
       "  1753.7,1423.18 1753.7,123.472 \n",
       "  \"/>\n",
       "<polyline clip-path=\"url(#clip342)\" style=\"stroke:#000000; stroke-linecap:round; stroke-linejoin:round; stroke-width:2; stroke-opacity:0.1; fill:none\" points=\"\n",
       "  2149.8,1423.18 2149.8,123.472 \n",
       "  \"/>\n",
       "<polyline clip-path=\"url(#clip340)\" style=\"stroke:#000000; stroke-linecap:round; stroke-linejoin:round; stroke-width:4; stroke-opacity:1; fill:none\" points=\"\n",
       "  219.866,1423.18 2352.76,1423.18 \n",
       "  \"/>\n",
       "<polyline clip-path=\"url(#clip340)\" style=\"stroke:#000000; stroke-linecap:round; stroke-linejoin:round; stroke-width:4; stroke-opacity:1; fill:none\" points=\"\n",
       "  565.419,1423.18 565.419,1404.28 \n",
       "  \"/>\n",
       "<polyline clip-path=\"url(#clip340)\" style=\"stroke:#000000; stroke-linecap:round; stroke-linejoin:round; stroke-width:4; stroke-opacity:1; fill:none\" points=\"\n",
       "  961.514,1423.18 961.514,1404.28 \n",
       "  \"/>\n",
       "<polyline clip-path=\"url(#clip340)\" style=\"stroke:#000000; stroke-linecap:round; stroke-linejoin:round; stroke-width:4; stroke-opacity:1; fill:none\" points=\"\n",
       "  1357.61,1423.18 1357.61,1404.28 \n",
       "  \"/>\n",
       "<polyline clip-path=\"url(#clip340)\" style=\"stroke:#000000; stroke-linecap:round; stroke-linejoin:round; stroke-width:4; stroke-opacity:1; fill:none\" points=\"\n",
       "  1753.7,1423.18 1753.7,1404.28 \n",
       "  \"/>\n",
       "<polyline clip-path=\"url(#clip340)\" style=\"stroke:#000000; stroke-linecap:round; stroke-linejoin:round; stroke-width:4; stroke-opacity:1; fill:none\" points=\"\n",
       "  2149.8,1423.18 2149.8,1404.28 \n",
       "  \"/>\n",
       "<path clip-path=\"url(#clip340)\" d=\"M540.118 1451.02 L558.475 1451.02 L558.475 1454.96 L544.401 1454.96 L544.401 1463.43 Q545.419 1463.08 546.438 1462.92 Q547.456 1462.73 548.475 1462.73 Q554.262 1462.73 557.641 1465.9 Q561.021 1469.08 561.021 1474.49 Q561.021 1480.07 557.549 1483.17 Q554.077 1486.25 547.757 1486.25 Q545.581 1486.25 543.313 1485.88 Q541.067 1485.51 538.66 1484.77 L538.66 1480.07 Q540.743 1481.2 542.966 1481.76 Q545.188 1482.32 547.665 1482.32 Q551.669 1482.32 554.007 1480.21 Q556.345 1478.1 556.345 1474.49 Q556.345 1470.88 554.007 1468.77 Q551.669 1466.67 547.665 1466.67 Q545.79 1466.67 543.915 1467.08 Q542.063 1467.5 540.118 1468.38 L540.118 1451.02 Z\" fill=\"#000000\" fill-rule=\"evenodd\" fill-opacity=\"1\" /><path clip-path=\"url(#clip340)\" d=\"M580.234 1454.1 Q576.623 1454.1 574.794 1457.66 Q572.989 1461.2 572.989 1468.33 Q572.989 1475.44 574.794 1479.01 Q576.623 1482.55 580.234 1482.55 Q583.868 1482.55 585.674 1479.01 Q587.502 1475.44 587.502 1468.33 Q587.502 1461.2 585.674 1457.66 Q583.868 1454.1 580.234 1454.1 M580.234 1450.39 Q586.044 1450.39 589.1 1455 Q592.178 1459.58 592.178 1468.33 Q592.178 1477.06 589.1 1481.67 Q586.044 1486.25 580.234 1486.25 Q574.424 1486.25 571.345 1481.67 Q568.289 1477.06 568.289 1468.33 Q568.289 1459.58 571.345 1455 Q574.424 1450.39 580.234 1450.39 Z\" fill=\"#000000\" fill-rule=\"evenodd\" fill-opacity=\"1\" /><path clip-path=\"url(#clip340)\" d=\"M921.12 1481.64 L928.759 1481.64 L928.759 1455.28 L920.449 1456.95 L920.449 1452.69 L928.713 1451.02 L933.389 1451.02 L933.389 1481.64 L941.028 1481.64 L941.028 1485.58 L921.12 1485.58 L921.12 1481.64 Z\" fill=\"#000000\" fill-rule=\"evenodd\" fill-opacity=\"1\" /><path clip-path=\"url(#clip340)\" d=\"M960.472 1454.1 Q956.861 1454.1 955.032 1457.66 Q953.227 1461.2 953.227 1468.33 Q953.227 1475.44 955.032 1479.01 Q956.861 1482.55 960.472 1482.55 Q964.106 1482.55 965.912 1479.01 Q967.74 1475.44 967.74 1468.33 Q967.74 1461.2 965.912 1457.66 Q964.106 1454.1 960.472 1454.1 M960.472 1450.39 Q966.282 1450.39 969.338 1455 Q972.416 1459.58 972.416 1468.33 Q972.416 1477.06 969.338 1481.67 Q966.282 1486.25 960.472 1486.25 Q954.662 1486.25 951.583 1481.67 Q948.528 1477.06 948.528 1468.33 Q948.528 1459.58 951.583 1455 Q954.662 1450.39 960.472 1450.39 Z\" fill=\"#000000\" fill-rule=\"evenodd\" fill-opacity=\"1\" /><path clip-path=\"url(#clip340)\" d=\"M990.634 1454.1 Q987.023 1454.1 985.194 1457.66 Q983.388 1461.2 983.388 1468.33 Q983.388 1475.44 985.194 1479.01 Q987.023 1482.55 990.634 1482.55 Q994.268 1482.55 996.074 1479.01 Q997.902 1475.44 997.902 1468.33 Q997.902 1461.2 996.074 1457.66 Q994.268 1454.1 990.634 1454.1 M990.634 1450.39 Q996.444 1450.39 999.5 1455 Q1002.58 1459.58 1002.58 1468.33 Q1002.58 1477.06 999.5 1481.67 Q996.444 1486.25 990.634 1486.25 Q984.824 1486.25 981.745 1481.67 Q978.689 1477.06 978.689 1468.33 Q978.689 1459.58 981.745 1455 Q984.824 1450.39 990.634 1450.39 Z\" fill=\"#000000\" fill-rule=\"evenodd\" fill-opacity=\"1\" /><path clip-path=\"url(#clip340)\" d=\"M1317.21 1481.64 L1324.85 1481.64 L1324.85 1455.28 L1316.54 1456.95 L1316.54 1452.69 L1324.81 1451.02 L1329.48 1451.02 L1329.48 1481.64 L1337.12 1481.64 L1337.12 1485.58 L1317.21 1485.58 L1317.21 1481.64 Z\" fill=\"#000000\" fill-rule=\"evenodd\" fill-opacity=\"1\" /><path clip-path=\"url(#clip340)\" d=\"M1346.61 1451.02 L1364.97 1451.02 L1364.97 1454.96 L1350.9 1454.96 L1350.9 1463.43 Q1351.91 1463.08 1352.93 1462.92 Q1353.95 1462.73 1354.97 1462.73 Q1360.76 1462.73 1364.14 1465.9 Q1367.52 1469.08 1367.52 1474.49 Q1367.52 1480.07 1364.04 1483.17 Q1360.57 1486.25 1354.25 1486.25 Q1352.08 1486.25 1349.81 1485.88 Q1347.56 1485.51 1345.15 1484.77 L1345.15 1480.07 Q1347.24 1481.2 1349.46 1481.76 Q1351.68 1482.32 1354.16 1482.32 Q1358.16 1482.32 1360.5 1480.21 Q1362.84 1478.1 1362.84 1474.49 Q1362.84 1470.88 1360.5 1468.77 Q1358.16 1466.67 1354.16 1466.67 Q1352.28 1466.67 1350.41 1467.08 Q1348.56 1467.5 1346.61 1468.38 L1346.61 1451.02 Z\" fill=\"#000000\" fill-rule=\"evenodd\" fill-opacity=\"1\" /><path clip-path=\"url(#clip340)\" d=\"M1386.73 1454.1 Q1383.12 1454.1 1381.29 1457.66 Q1379.48 1461.2 1379.48 1468.33 Q1379.48 1475.44 1381.29 1479.01 Q1383.12 1482.55 1386.73 1482.55 Q1390.36 1482.55 1392.17 1479.01 Q1394 1475.44 1394 1468.33 Q1394 1461.2 1392.17 1457.66 Q1390.36 1454.1 1386.73 1454.1 M1386.73 1450.39 Q1392.54 1450.39 1395.59 1455 Q1398.67 1459.58 1398.67 1468.33 Q1398.67 1477.06 1395.59 1481.67 Q1392.54 1486.25 1386.73 1486.25 Q1380.92 1486.25 1377.84 1481.67 Q1374.78 1477.06 1374.78 1468.33 Q1374.78 1459.58 1377.84 1455 Q1380.92 1450.39 1386.73 1450.39 Z\" fill=\"#000000\" fill-rule=\"evenodd\" fill-opacity=\"1\" /><path clip-path=\"url(#clip340)\" d=\"M1717.39 1481.64 L1733.71 1481.64 L1733.71 1485.58 L1711.77 1485.58 L1711.77 1481.64 Q1714.43 1478.89 1719.02 1474.26 Q1723.62 1469.61 1724.8 1468.27 Q1727.05 1465.74 1727.93 1464.01 Q1728.83 1462.25 1728.83 1460.56 Q1728.83 1457.8 1726.89 1456.07 Q1724.96 1454.33 1721.86 1454.33 Q1719.66 1454.33 1717.21 1455.09 Q1714.78 1455.86 1712 1457.41 L1712 1452.69 Q1714.83 1451.55 1717.28 1450.97 Q1719.73 1450.39 1721.77 1450.39 Q1727.14 1450.39 1730.33 1453.08 Q1733.53 1455.77 1733.53 1460.26 Q1733.53 1462.39 1732.72 1464.31 Q1731.93 1466.2 1729.83 1468.8 Q1729.25 1469.47 1726.14 1472.69 Q1723.04 1475.88 1717.39 1481.64 Z\" fill=\"#000000\" fill-rule=\"evenodd\" fill-opacity=\"1\" /><path clip-path=\"url(#clip340)\" d=\"M1753.53 1454.1 Q1749.92 1454.1 1748.09 1457.66 Q1746.28 1461.2 1746.28 1468.33 Q1746.28 1475.44 1748.09 1479.01 Q1749.92 1482.55 1753.53 1482.55 Q1757.16 1482.55 1758.97 1479.01 Q1760.8 1475.44 1760.8 1468.33 Q1760.8 1461.2 1758.97 1457.66 Q1757.16 1454.1 1753.53 1454.1 M1753.53 1450.39 Q1759.34 1450.39 1762.39 1455 Q1765.47 1459.58 1765.47 1468.33 Q1765.47 1477.06 1762.39 1481.67 Q1759.34 1486.25 1753.53 1486.25 Q1747.72 1486.25 1744.64 1481.67 Q1741.58 1477.06 1741.58 1468.33 Q1741.58 1459.58 1744.64 1455 Q1747.72 1450.39 1753.53 1450.39 Z\" fill=\"#000000\" fill-rule=\"evenodd\" fill-opacity=\"1\" /><path clip-path=\"url(#clip340)\" d=\"M1783.69 1454.1 Q1780.08 1454.1 1778.25 1457.66 Q1776.45 1461.2 1776.45 1468.33 Q1776.45 1475.44 1778.25 1479.01 Q1780.08 1482.55 1783.69 1482.55 Q1787.33 1482.55 1789.13 1479.01 Q1790.96 1475.44 1790.96 1468.33 Q1790.96 1461.2 1789.13 1457.66 Q1787.33 1454.1 1783.69 1454.1 M1783.69 1450.39 Q1789.5 1450.39 1792.56 1455 Q1795.64 1459.58 1795.64 1468.33 Q1795.64 1477.06 1792.56 1481.67 Q1789.5 1486.25 1783.69 1486.25 Q1777.88 1486.25 1774.8 1481.67 Q1771.75 1477.06 1771.75 1468.33 Q1771.75 1459.58 1774.8 1455 Q1777.88 1450.39 1783.69 1450.39 Z\" fill=\"#000000\" fill-rule=\"evenodd\" fill-opacity=\"1\" /><path clip-path=\"url(#clip340)\" d=\"M2113.49 1481.64 L2129.81 1481.64 L2129.81 1485.58 L2107.86 1485.58 L2107.86 1481.64 Q2110.53 1478.89 2115.11 1474.26 Q2119.72 1469.61 2120.9 1468.27 Q2123.14 1465.74 2124.02 1464.01 Q2124.92 1462.25 2124.92 1460.56 Q2124.92 1457.8 2122.98 1456.07 Q2121.06 1454.33 2117.96 1454.33 Q2115.76 1454.33 2113.3 1455.09 Q2110.87 1455.86 2108.1 1457.41 L2108.1 1452.69 Q2110.92 1451.55 2113.37 1450.97 Q2115.83 1450.39 2117.86 1450.39 Q2123.23 1450.39 2126.43 1453.08 Q2129.62 1455.77 2129.62 1460.26 Q2129.62 1462.39 2128.81 1464.31 Q2128.03 1466.2 2125.92 1468.8 Q2125.34 1469.47 2122.24 1472.69 Q2119.14 1475.88 2113.49 1481.64 Z\" fill=\"#000000\" fill-rule=\"evenodd\" fill-opacity=\"1\" /><path clip-path=\"url(#clip340)\" d=\"M2139.67 1451.02 L2158.03 1451.02 L2158.03 1454.96 L2143.95 1454.96 L2143.95 1463.43 Q2144.97 1463.08 2145.99 1462.92 Q2147.01 1462.73 2148.03 1462.73 Q2153.81 1462.73 2157.19 1465.9 Q2160.57 1469.08 2160.57 1474.49 Q2160.57 1480.07 2157.1 1483.17 Q2153.63 1486.25 2147.31 1486.25 Q2145.13 1486.25 2142.86 1485.88 Q2140.62 1485.51 2138.21 1484.77 L2138.21 1480.07 Q2140.29 1481.2 2142.52 1481.76 Q2144.74 1482.32 2147.22 1482.32 Q2151.22 1482.32 2153.56 1480.21 Q2155.9 1478.1 2155.9 1474.49 Q2155.9 1470.88 2153.56 1468.77 Q2151.22 1466.67 2147.22 1466.67 Q2145.34 1466.67 2143.47 1467.08 Q2141.61 1467.5 2139.67 1468.38 L2139.67 1451.02 Z\" fill=\"#000000\" fill-rule=\"evenodd\" fill-opacity=\"1\" /><path clip-path=\"url(#clip340)\" d=\"M2179.79 1454.1 Q2176.17 1454.1 2174.35 1457.66 Q2172.54 1461.2 2172.54 1468.33 Q2172.54 1475.44 2174.35 1479.01 Q2176.17 1482.55 2179.79 1482.55 Q2183.42 1482.55 2185.23 1479.01 Q2187.05 1475.44 2187.05 1468.33 Q2187.05 1461.2 2185.23 1457.66 Q2183.42 1454.1 2179.79 1454.1 M2179.79 1450.39 Q2185.6 1450.39 2188.65 1455 Q2191.73 1459.58 2191.73 1468.33 Q2191.73 1477.06 2188.65 1481.67 Q2185.6 1486.25 2179.79 1486.25 Q2173.98 1486.25 2170.9 1481.67 Q2167.84 1477.06 2167.84 1468.33 Q2167.84 1459.58 2170.9 1455 Q2173.98 1450.39 2179.79 1450.39 Z\" fill=\"#000000\" fill-rule=\"evenodd\" fill-opacity=\"1\" /><path clip-path=\"url(#clip340)\" d=\"M994.03 1520.52 L1002.69 1520.52 L1023.76 1560.28 L1023.76 1520.52 L1030 1520.52 L1030 1568.04 L1021.34 1568.04 L1000.27 1528.29 L1000.27 1568.04 L994.03 1568.04 L994.03 1520.52 Z\" fill=\"#000000\" fill-rule=\"evenodd\" fill-opacity=\"1\" /><path clip-path=\"url(#clip340)\" d=\"M1041.93 1553.98 L1041.93 1532.4 L1047.79 1532.4 L1047.79 1553.75 Q1047.79 1558.81 1049.76 1561.36 Q1051.73 1563.87 1055.68 1563.87 Q1060.42 1563.87 1063.16 1560.85 Q1065.93 1557.83 1065.93 1552.61 L1065.93 1532.4 L1071.79 1532.4 L1071.79 1568.04 L1065.93 1568.04 L1065.93 1562.57 Q1063.8 1565.82 1060.97 1567.41 Q1058.16 1568.97 1054.44 1568.97 Q1048.3 1568.97 1045.11 1565.15 Q1041.93 1561.33 1041.93 1553.98 M1056.67 1531.54 L1056.67 1531.54 Z\" fill=\"#000000\" fill-rule=\"evenodd\" fill-opacity=\"1\" /><path clip-path=\"url(#clip340)\" d=\"M1111.6 1539.24 Q1113.8 1535.29 1116.86 1533.41 Q1119.91 1531.54 1124.05 1531.54 Q1129.62 1531.54 1132.64 1535.45 Q1135.67 1539.33 1135.67 1546.53 L1135.67 1568.04 L1129.78 1568.04 L1129.78 1546.72 Q1129.78 1541.59 1127.96 1539.11 Q1126.15 1536.63 1122.43 1536.63 Q1117.87 1536.63 1115.23 1539.65 Q1112.59 1542.68 1112.59 1547.9 L1112.59 1568.04 L1106.7 1568.04 L1106.7 1546.72 Q1106.7 1541.56 1104.89 1539.11 Q1103.07 1536.63 1099.29 1536.63 Q1094.8 1536.63 1092.16 1539.68 Q1089.52 1542.71 1089.52 1547.9 L1089.52 1568.04 L1083.63 1568.04 L1083.63 1532.4 L1089.52 1532.4 L1089.52 1537.93 Q1091.52 1534.66 1094.32 1533.1 Q1097.12 1531.54 1100.97 1531.54 Q1104.86 1531.54 1107.56 1533.51 Q1110.3 1535.48 1111.6 1539.24 Z\" fill=\"#000000\" fill-rule=\"evenodd\" fill-opacity=\"1\" /><path clip-path=\"url(#clip340)\" d=\"M1172.94 1550.25 Q1172.94 1543.79 1170.26 1540.13 Q1167.62 1536.44 1162.98 1536.44 Q1158.33 1536.44 1155.65 1540.13 Q1153.01 1543.79 1153.01 1550.25 Q1153.01 1556.71 1155.65 1560.4 Q1158.33 1564.07 1162.98 1564.07 Q1167.62 1564.07 1170.26 1560.4 Q1172.94 1556.71 1172.94 1550.25 M1153.01 1537.81 Q1154.86 1534.62 1157.66 1533.1 Q1160.49 1531.54 1164.41 1531.54 Q1170.9 1531.54 1174.94 1536.69 Q1179.02 1541.85 1179.02 1550.25 Q1179.02 1558.65 1174.94 1563.81 Q1170.9 1568.97 1164.41 1568.97 Q1160.49 1568.97 1157.66 1567.44 Q1154.86 1565.88 1153.01 1562.7 L1153.01 1568.04 L1147.12 1568.04 L1147.12 1518.52 L1153.01 1518.52 L1153.01 1537.81 Z\" fill=\"#000000\" fill-rule=\"evenodd\" fill-opacity=\"1\" /><path clip-path=\"url(#clip340)\" d=\"M1219.22 1548.76 L1219.22 1551.62 L1192.29 1551.62 Q1192.67 1557.67 1195.92 1560.85 Q1199.2 1564 1205.02 1564 Q1208.39 1564 1211.55 1563.17 Q1214.73 1562.35 1217.85 1560.69 L1217.85 1566.23 Q1214.7 1567.57 1211.39 1568.27 Q1208.08 1568.97 1204.67 1568.97 Q1196.14 1568.97 1191.14 1564 Q1186.18 1559.04 1186.18 1550.57 Q1186.18 1541.82 1190.89 1536.69 Q1195.63 1531.54 1203.65 1531.54 Q1210.85 1531.54 1215.02 1536.18 Q1219.22 1540.8 1219.22 1548.76 M1213.36 1547.04 Q1213.3 1542.23 1210.65 1539.37 Q1208.04 1536.5 1203.72 1536.5 Q1198.81 1536.5 1195.85 1539.27 Q1192.93 1542.04 1192.48 1547.07 L1213.36 1547.04 Z\" fill=\"#000000\" fill-rule=\"evenodd\" fill-opacity=\"1\" /><path clip-path=\"url(#clip340)\" d=\"M1249.49 1537.87 Q1248.5 1537.3 1247.32 1537.04 Q1246.18 1536.76 1244.77 1536.76 Q1239.81 1536.76 1237.14 1540 Q1234.49 1543.22 1234.49 1549.27 L1234.49 1568.04 L1228.61 1568.04 L1228.61 1532.4 L1234.49 1532.4 L1234.49 1537.93 Q1236.34 1534.69 1239.3 1533.13 Q1242.26 1531.54 1246.49 1531.54 Q1247.1 1531.54 1247.83 1531.63 Q1248.56 1531.7 1249.45 1531.85 L1249.49 1537.87 Z\" fill=\"#000000\" fill-rule=\"evenodd\" fill-opacity=\"1\" /><path clip-path=\"url(#clip340)\" d=\"M1290.16 1536.5 Q1285.45 1536.5 1282.71 1540.19 Q1279.98 1543.85 1279.98 1550.25 Q1279.98 1556.65 1282.68 1560.34 Q1285.42 1564 1290.16 1564 Q1294.84 1564 1297.58 1560.31 Q1300.32 1556.62 1300.32 1550.25 Q1300.32 1543.92 1297.58 1540.23 Q1294.84 1536.5 1290.16 1536.5 M1290.16 1531.54 Q1297.8 1531.54 1302.16 1536.5 Q1306.52 1541.47 1306.52 1550.25 Q1306.52 1559 1302.16 1564 Q1297.8 1568.97 1290.16 1568.97 Q1282.49 1568.97 1278.13 1564 Q1273.8 1559 1273.8 1550.25 Q1273.8 1541.47 1278.13 1536.5 Q1282.49 1531.54 1290.16 1531.54 Z\" fill=\"#000000\" fill-rule=\"evenodd\" fill-opacity=\"1\" /><path clip-path=\"url(#clip340)\" d=\"M1334.28 1518.52 L1334.28 1523.39 L1328.67 1523.39 Q1325.52 1523.39 1324.28 1524.66 Q1323.07 1525.93 1323.07 1529.24 L1323.07 1532.4 L1332.72 1532.4 L1332.72 1536.95 L1323.07 1536.95 L1323.07 1568.04 L1317.18 1568.04 L1317.18 1536.95 L1311.58 1536.95 L1311.58 1532.4 L1317.18 1532.4 L1317.18 1529.91 Q1317.18 1523.96 1319.95 1521.26 Q1322.72 1518.52 1328.74 1518.52 L1334.28 1518.52 Z\" fill=\"#000000\" fill-rule=\"evenodd\" fill-opacity=\"1\" /><path clip-path=\"url(#clip340)\" d=\"M1392.55 1561.26 L1392.55 1548.5 L1382.05 1548.5 L1382.05 1543.22 L1398.92 1543.22 L1398.92 1563.62 Q1395.2 1566.26 1390.71 1567.63 Q1386.22 1568.97 1381.13 1568.97 Q1369.99 1568.97 1363.69 1562.47 Q1357.42 1555.95 1357.42 1544.33 Q1357.42 1532.68 1363.69 1526.19 Q1369.99 1519.66 1381.13 1519.66 Q1385.78 1519.66 1389.94 1520.81 Q1394.15 1521.96 1397.68 1524.18 L1397.68 1531.03 Q1394.11 1528 1390.1 1526.48 Q1386.09 1524.95 1381.67 1524.95 Q1372.95 1524.95 1368.56 1529.82 Q1364.2 1534.69 1364.2 1544.33 Q1364.2 1553.94 1368.56 1558.81 Q1372.95 1563.68 1381.67 1563.68 Q1385.08 1563.68 1387.75 1563.11 Q1390.42 1562.51 1392.55 1561.26 Z\" fill=\"#000000\" fill-rule=\"evenodd\" fill-opacity=\"1\" /><path clip-path=\"url(#clip340)\" d=\"M1426.61 1550.12 Q1419.51 1550.12 1416.78 1551.75 Q1414.04 1553.37 1414.04 1557.29 Q1414.04 1560.4 1416.08 1562.25 Q1418.14 1564.07 1421.68 1564.07 Q1426.55 1564.07 1429.48 1560.63 Q1432.44 1557.16 1432.44 1551.43 L1432.44 1550.12 L1426.61 1550.12 M1438.29 1547.71 L1438.29 1568.04 L1432.44 1568.04 L1432.44 1562.63 Q1430.43 1565.88 1427.44 1567.44 Q1424.45 1568.97 1420.12 1568.97 Q1414.64 1568.97 1411.4 1565.91 Q1408.18 1562.82 1408.18 1557.67 Q1408.18 1551.65 1412.19 1548.6 Q1416.24 1545.54 1424.22 1545.54 L1432.44 1545.54 L1432.44 1544.97 Q1432.44 1540.93 1429.76 1538.73 Q1427.12 1536.5 1422.31 1536.5 Q1419.26 1536.5 1416.36 1537.23 Q1413.47 1537.97 1410.79 1539.43 L1410.79 1534.02 Q1414.01 1532.78 1417.03 1532.17 Q1420.05 1531.54 1422.92 1531.54 Q1430.65 1531.54 1434.47 1535.55 Q1438.29 1539.56 1438.29 1547.71 Z\" fill=\"#000000\" fill-rule=\"evenodd\" fill-opacity=\"1\" /><path clip-path=\"url(#clip340)\" d=\"M1478.11 1539.24 Q1480.31 1535.29 1483.36 1533.41 Q1486.42 1531.54 1490.55 1531.54 Q1496.12 1531.54 1499.15 1535.45 Q1502.17 1539.33 1502.17 1546.53 L1502.17 1568.04 L1496.28 1568.04 L1496.28 1546.72 Q1496.28 1541.59 1494.47 1539.11 Q1492.66 1536.63 1488.93 1536.63 Q1484.38 1536.63 1481.74 1539.65 Q1479.1 1542.68 1479.1 1547.9 L1479.1 1568.04 L1473.21 1568.04 L1473.21 1546.72 Q1473.21 1541.56 1471.39 1539.11 Q1469.58 1536.63 1465.79 1536.63 Q1461.3 1536.63 1458.66 1539.68 Q1456.02 1542.71 1456.02 1547.9 L1456.02 1568.04 L1450.13 1568.04 L1450.13 1532.4 L1456.02 1532.4 L1456.02 1537.93 Q1458.03 1534.66 1460.83 1533.1 Q1463.63 1531.54 1467.48 1531.54 Q1471.36 1531.54 1474.07 1533.51 Q1476.8 1535.48 1478.11 1539.24 Z\" fill=\"#000000\" fill-rule=\"evenodd\" fill-opacity=\"1\" /><path clip-path=\"url(#clip340)\" d=\"M1544.35 1548.76 L1544.35 1551.62 L1517.42 1551.62 Q1517.8 1557.67 1521.05 1560.85 Q1524.32 1564 1530.15 1564 Q1533.52 1564 1536.67 1563.17 Q1539.86 1562.35 1542.98 1560.69 L1542.98 1566.23 Q1539.83 1567.57 1536.52 1568.27 Q1533.21 1568.97 1529.8 1568.97 Q1521.27 1568.97 1516.27 1564 Q1511.31 1559.04 1511.31 1550.57 Q1511.31 1541.82 1516.02 1536.69 Q1520.76 1531.54 1528.78 1531.54 Q1535.97 1531.54 1540.14 1536.18 Q1544.35 1540.8 1544.35 1548.76 M1538.49 1547.04 Q1538.42 1542.23 1535.78 1539.37 Q1533.17 1536.5 1528.84 1536.5 Q1523.94 1536.5 1520.98 1539.27 Q1518.05 1542.04 1517.61 1547.07 L1538.49 1547.04 Z\" fill=\"#000000\" fill-rule=\"evenodd\" fill-opacity=\"1\" /><path clip-path=\"url(#clip340)\" d=\"M1576.68 1533.45 L1576.68 1538.98 Q1574.2 1537.71 1571.53 1537.07 Q1568.85 1536.44 1565.99 1536.44 Q1561.63 1536.44 1559.43 1537.77 Q1557.27 1539.11 1557.27 1541.79 Q1557.27 1543.82 1558.83 1545 Q1560.39 1546.15 1565.1 1547.2 L1567.1 1547.64 Q1573.34 1548.98 1575.95 1551.43 Q1578.59 1553.85 1578.59 1558.21 Q1578.59 1563.17 1574.65 1566.07 Q1570.73 1568.97 1563.86 1568.97 Q1560.99 1568.97 1557.87 1568.39 Q1554.78 1567.85 1551.35 1566.74 L1551.35 1560.69 Q1554.59 1562.38 1557.74 1563.24 Q1560.9 1564.07 1563.98 1564.07 Q1568.12 1564.07 1570.35 1562.66 Q1572.58 1561.23 1572.58 1558.65 Q1572.58 1556.27 1570.95 1554.99 Q1569.36 1553.72 1563.92 1552.54 L1561.88 1552.07 Q1556.44 1550.92 1554.02 1548.56 Q1551.6 1546.18 1551.6 1542.04 Q1551.6 1537.01 1555.17 1534.27 Q1558.73 1531.54 1565.29 1531.54 Q1568.53 1531.54 1571.4 1532.01 Q1574.26 1532.49 1576.68 1533.45 Z\" fill=\"#000000\" fill-rule=\"evenodd\" fill-opacity=\"1\" /><polyline clip-path=\"url(#clip342)\" style=\"stroke:#000000; stroke-linecap:round; stroke-linejoin:round; stroke-width:2; stroke-opacity:0.1; fill:none\" points=\"\n",
       "  219.866,1423.18 2352.76,1423.18 \n",
       "  \"/>\n",
       "<polyline clip-path=\"url(#clip342)\" style=\"stroke:#000000; stroke-linecap:round; stroke-linejoin:round; stroke-width:2; stroke-opacity:0.1; fill:none\" points=\"\n",
       "  219.866,1163.24 2352.76,1163.24 \n",
       "  \"/>\n",
       "<polyline clip-path=\"url(#clip342)\" style=\"stroke:#000000; stroke-linecap:round; stroke-linejoin:round; stroke-width:2; stroke-opacity:0.1; fill:none\" points=\"\n",
       "  219.866,903.297 2352.76,903.297 \n",
       "  \"/>\n",
       "<polyline clip-path=\"url(#clip342)\" style=\"stroke:#000000; stroke-linecap:round; stroke-linejoin:round; stroke-width:2; stroke-opacity:0.1; fill:none\" points=\"\n",
       "  219.866,643.355 2352.76,643.355 \n",
       "  \"/>\n",
       "<polyline clip-path=\"url(#clip342)\" style=\"stroke:#000000; stroke-linecap:round; stroke-linejoin:round; stroke-width:2; stroke-opacity:0.1; fill:none\" points=\"\n",
       "  219.866,383.414 2352.76,383.414 \n",
       "  \"/>\n",
       "<polyline clip-path=\"url(#clip342)\" style=\"stroke:#000000; stroke-linecap:round; stroke-linejoin:round; stroke-width:2; stroke-opacity:0.1; fill:none\" points=\"\n",
       "  219.866,123.472 2352.76,123.472 \n",
       "  \"/>\n",
       "<polyline clip-path=\"url(#clip340)\" style=\"stroke:#000000; stroke-linecap:round; stroke-linejoin:round; stroke-width:4; stroke-opacity:1; fill:none\" points=\"\n",
       "  219.866,1423.18 219.866,123.472 \n",
       "  \"/>\n",
       "<polyline clip-path=\"url(#clip340)\" style=\"stroke:#000000; stroke-linecap:round; stroke-linejoin:round; stroke-width:4; stroke-opacity:1; fill:none\" points=\"\n",
       "  219.866,1423.18 238.764,1423.18 \n",
       "  \"/>\n",
       "<polyline clip-path=\"url(#clip340)\" style=\"stroke:#000000; stroke-linecap:round; stroke-linejoin:round; stroke-width:4; stroke-opacity:1; fill:none\" points=\"\n",
       "  219.866,1163.24 238.764,1163.24 \n",
       "  \"/>\n",
       "<polyline clip-path=\"url(#clip340)\" style=\"stroke:#000000; stroke-linecap:round; stroke-linejoin:round; stroke-width:4; stroke-opacity:1; fill:none\" points=\"\n",
       "  219.866,903.297 238.764,903.297 \n",
       "  \"/>\n",
       "<polyline clip-path=\"url(#clip340)\" style=\"stroke:#000000; stroke-linecap:round; stroke-linejoin:round; stroke-width:4; stroke-opacity:1; fill:none\" points=\"\n",
       "  219.866,643.355 238.764,643.355 \n",
       "  \"/>\n",
       "<polyline clip-path=\"url(#clip340)\" style=\"stroke:#000000; stroke-linecap:round; stroke-linejoin:round; stroke-width:4; stroke-opacity:1; fill:none\" points=\"\n",
       "  219.866,383.414 238.764,383.414 \n",
       "  \"/>\n",
       "<polyline clip-path=\"url(#clip340)\" style=\"stroke:#000000; stroke-linecap:round; stroke-linejoin:round; stroke-width:4; stroke-opacity:1; fill:none\" points=\"\n",
       "  219.866,123.472 238.764,123.472 \n",
       "  \"/>\n",
       "<path clip-path=\"url(#clip340)\" d=\"M126.691 1408.98 Q123.08 1408.98 121.251 1412.54 Q119.445 1416.08 119.445 1423.21 Q119.445 1430.32 121.251 1433.89 Q123.08 1437.43 126.691 1437.43 Q130.325 1437.43 132.13 1433.89 Q133.959 1430.32 133.959 1423.21 Q133.959 1416.08 132.13 1412.54 Q130.325 1408.98 126.691 1408.98 M126.691 1405.27 Q132.501 1405.27 135.556 1409.88 Q138.635 1414.46 138.635 1423.21 Q138.635 1431.94 135.556 1436.55 Q132.501 1441.13 126.691 1441.13 Q120.88 1441.13 117.802 1436.55 Q114.746 1431.94 114.746 1423.21 Q114.746 1414.46 117.802 1409.88 Q120.88 1405.27 126.691 1405.27 Z\" fill=\"#000000\" fill-rule=\"evenodd\" fill-opacity=\"1\" /><path clip-path=\"url(#clip340)\" d=\"M146.853 1434.58 L151.737 1434.58 L151.737 1440.46 L146.853 1440.46 L146.853 1434.58 Z\" fill=\"#000000\" fill-rule=\"evenodd\" fill-opacity=\"1\" /><path clip-path=\"url(#clip340)\" d=\"M171.922 1408.98 Q168.311 1408.98 166.482 1412.54 Q164.677 1416.08 164.677 1423.21 Q164.677 1430.32 166.482 1433.89 Q168.311 1437.43 171.922 1437.43 Q175.556 1437.43 177.362 1433.89 Q179.19 1430.32 179.19 1423.21 Q179.19 1416.08 177.362 1412.54 Q175.556 1408.98 171.922 1408.98 M171.922 1405.27 Q177.732 1405.27 180.788 1409.88 Q183.866 1414.46 183.866 1423.21 Q183.866 1431.94 180.788 1436.55 Q177.732 1441.13 171.922 1441.13 Q166.112 1441.13 163.033 1436.55 Q159.978 1431.94 159.978 1423.21 Q159.978 1414.46 163.033 1409.88 Q166.112 1405.27 171.922 1405.27 Z\" fill=\"#000000\" fill-rule=\"evenodd\" fill-opacity=\"1\" /><path clip-path=\"url(#clip340)\" d=\"M128.288 1149.04 Q124.677 1149.04 122.848 1152.6 Q121.043 1156.14 121.043 1163.27 Q121.043 1170.38 122.848 1173.94 Q124.677 1177.49 128.288 1177.49 Q131.922 1177.49 133.728 1173.94 Q135.556 1170.38 135.556 1163.27 Q135.556 1156.14 133.728 1152.6 Q131.922 1149.04 128.288 1149.04 M128.288 1145.33 Q134.098 1145.33 137.154 1149.94 Q140.232 1154.52 140.232 1163.27 Q140.232 1172 137.154 1176.61 Q134.098 1181.19 128.288 1181.19 Q122.478 1181.19 119.399 1176.61 Q116.343 1172 116.343 1163.27 Q116.343 1154.52 119.399 1149.94 Q122.478 1145.33 128.288 1145.33 Z\" fill=\"#000000\" fill-rule=\"evenodd\" fill-opacity=\"1\" /><path clip-path=\"url(#clip340)\" d=\"M148.45 1174.64 L153.334 1174.64 L153.334 1180.52 L148.45 1180.52 L148.45 1174.64 Z\" fill=\"#000000\" fill-rule=\"evenodd\" fill-opacity=\"1\" /><path clip-path=\"url(#clip340)\" d=\"M167.547 1176.58 L183.866 1176.58 L183.866 1180.52 L161.922 1180.52 L161.922 1176.58 Q164.584 1173.83 169.167 1169.2 Q173.774 1164.55 174.954 1163.2 Q177.2 1160.68 178.079 1158.94 Q178.982 1157.19 178.982 1155.5 Q178.982 1152.74 177.038 1151 Q175.116 1149.27 172.014 1149.27 Q169.815 1149.27 167.362 1150.03 Q164.931 1150.8 162.153 1152.35 L162.153 1147.62 Q164.977 1146.49 167.431 1145.91 Q169.885 1145.33 171.922 1145.33 Q177.292 1145.33 180.487 1148.02 Q183.681 1150.7 183.681 1155.19 Q183.681 1157.32 182.871 1159.25 Q182.084 1161.14 179.977 1163.74 Q179.399 1164.41 176.297 1167.62 Q173.195 1170.82 167.547 1176.58 Z\" fill=\"#000000\" fill-rule=\"evenodd\" fill-opacity=\"1\" /><path clip-path=\"url(#clip340)\" d=\"M126.205 889.095 Q122.593 889.095 120.765 892.66 Q118.959 896.202 118.959 903.331 Q118.959 910.438 120.765 914.003 Q122.593 917.544 126.205 917.544 Q129.839 917.544 131.644 914.003 Q133.473 910.438 133.473 903.331 Q133.473 896.202 131.644 892.66 Q129.839 889.095 126.205 889.095 M126.205 885.392 Q132.015 885.392 135.07 889.998 Q138.149 894.582 138.149 903.331 Q138.149 912.058 135.07 916.665 Q132.015 921.248 126.205 921.248 Q120.394 921.248 117.316 916.665 Q114.26 912.058 114.26 903.331 Q114.26 894.582 117.316 889.998 Q120.394 885.392 126.205 885.392 Z\" fill=\"#000000\" fill-rule=\"evenodd\" fill-opacity=\"1\" /><path clip-path=\"url(#clip340)\" d=\"M146.366 914.697 L151.251 914.697 L151.251 920.577 L146.366 920.577 L146.366 914.697 Z\" fill=\"#000000\" fill-rule=\"evenodd\" fill-opacity=\"1\" /><path clip-path=\"url(#clip340)\" d=\"M174.283 890.091 L162.477 908.54 L174.283 908.54 L174.283 890.091 M173.056 886.017 L178.936 886.017 L178.936 908.54 L183.866 908.54 L183.866 912.429 L178.936 912.429 L178.936 920.577 L174.283 920.577 L174.283 912.429 L158.681 912.429 L158.681 907.915 L173.056 886.017 Z\" fill=\"#000000\" fill-rule=\"evenodd\" fill-opacity=\"1\" /><path clip-path=\"url(#clip340)\" d=\"M126.529 629.154 Q122.918 629.154 121.089 632.719 Q119.283 636.26 119.283 643.39 Q119.283 650.496 121.089 654.061 Q122.918 657.603 126.529 657.603 Q130.163 657.603 131.968 654.061 Q133.797 650.496 133.797 643.39 Q133.797 636.26 131.968 632.719 Q130.163 629.154 126.529 629.154 M126.529 625.45 Q132.339 625.45 135.394 630.057 Q138.473 634.64 138.473 643.39 Q138.473 652.117 135.394 656.723 Q132.339 661.307 126.529 661.307 Q120.718 661.307 117.64 656.723 Q114.584 652.117 114.584 643.39 Q114.584 634.64 117.64 630.057 Q120.718 625.45 126.529 625.45 Z\" fill=\"#000000\" fill-rule=\"evenodd\" fill-opacity=\"1\" /><path clip-path=\"url(#clip340)\" d=\"M146.691 654.756 L151.575 654.756 L151.575 660.635 L146.691 660.635 L146.691 654.756 Z\" fill=\"#000000\" fill-rule=\"evenodd\" fill-opacity=\"1\" /><path clip-path=\"url(#clip340)\" d=\"M172.339 641.492 Q169.19 641.492 167.339 643.645 Q165.51 645.797 165.51 649.547 Q165.51 653.274 167.339 655.45 Q169.19 657.603 172.339 657.603 Q175.487 657.603 177.315 655.45 Q179.167 653.274 179.167 649.547 Q179.167 645.797 177.315 643.645 Q175.487 641.492 172.339 641.492 M181.621 626.839 L181.621 631.098 Q179.862 630.265 178.056 629.825 Q176.274 629.385 174.514 629.385 Q169.885 629.385 167.431 632.51 Q165.001 635.635 164.653 641.955 Q166.019 639.941 168.079 638.876 Q170.139 637.788 172.616 637.788 Q177.825 637.788 180.834 640.959 Q183.866 644.108 183.866 649.547 Q183.866 654.871 180.718 658.089 Q177.57 661.307 172.339 661.307 Q166.343 661.307 163.172 656.723 Q160.001 652.117 160.001 643.39 Q160.001 635.196 163.89 630.334 Q167.778 625.45 174.329 625.45 Q176.089 625.45 177.871 625.797 Q179.676 626.145 181.621 626.839 Z\" fill=\"#000000\" fill-rule=\"evenodd\" fill-opacity=\"1\" /><path clip-path=\"url(#clip340)\" d=\"M126.783 369.212 Q123.172 369.212 121.343 372.777 Q119.538 376.319 119.538 383.448 Q119.538 390.555 121.343 394.12 Q123.172 397.661 126.783 397.661 Q130.417 397.661 132.223 394.12 Q134.052 390.555 134.052 383.448 Q134.052 376.319 132.223 372.777 Q130.417 369.212 126.783 369.212 M126.783 365.509 Q132.593 365.509 135.649 370.115 Q138.728 374.698 138.728 383.448 Q138.728 392.175 135.649 396.782 Q132.593 401.365 126.783 401.365 Q120.973 401.365 117.894 396.782 Q114.839 392.175 114.839 383.448 Q114.839 374.698 117.894 370.115 Q120.973 365.509 126.783 365.509 Z\" fill=\"#000000\" fill-rule=\"evenodd\" fill-opacity=\"1\" /><path clip-path=\"url(#clip340)\" d=\"M146.945 394.814 L151.829 394.814 L151.829 400.694 L146.945 400.694 L146.945 394.814 Z\" fill=\"#000000\" fill-rule=\"evenodd\" fill-opacity=\"1\" /><path clip-path=\"url(#clip340)\" d=\"M172.014 384.282 Q168.681 384.282 166.76 386.064 Q164.862 387.847 164.862 390.971 Q164.862 394.096 166.76 395.879 Q168.681 397.661 172.014 397.661 Q175.348 397.661 177.269 395.879 Q179.19 394.073 179.19 390.971 Q179.19 387.847 177.269 386.064 Q175.371 384.282 172.014 384.282 M167.339 382.291 Q164.329 381.55 162.64 379.49 Q160.973 377.43 160.973 374.467 Q160.973 370.323 163.913 367.916 Q166.876 365.509 172.014 365.509 Q177.176 365.509 180.116 367.916 Q183.056 370.323 183.056 374.467 Q183.056 377.43 181.366 379.49 Q179.7 381.55 176.714 382.291 Q180.093 383.078 181.968 385.37 Q183.866 387.661 183.866 390.971 Q183.866 395.995 180.788 398.68 Q177.732 401.365 172.014 401.365 Q166.297 401.365 163.218 398.68 Q160.163 395.995 160.163 390.971 Q160.163 387.661 162.061 385.37 Q163.959 383.078 167.339 382.291 M165.626 374.907 Q165.626 377.592 167.292 379.097 Q168.982 380.601 172.014 380.601 Q175.024 380.601 176.714 379.097 Q178.426 377.592 178.426 374.907 Q178.426 372.222 176.714 370.717 Q175.024 369.212 172.014 369.212 Q168.982 369.212 167.292 370.717 Q165.626 372.222 165.626 374.907 Z\" fill=\"#000000\" fill-rule=\"evenodd\" fill-opacity=\"1\" /><path clip-path=\"url(#clip340)\" d=\"M117.501 136.817 L125.14 136.817 L125.14 110.451 L116.83 112.118 L116.83 107.859 L125.093 106.192 L129.769 106.192 L129.769 136.817 L137.408 136.817 L137.408 140.752 L117.501 140.752 L117.501 136.817 Z\" fill=\"#000000\" fill-rule=\"evenodd\" fill-opacity=\"1\" /><path clip-path=\"url(#clip340)\" d=\"M146.853 134.873 L151.737 134.873 L151.737 140.752 L146.853 140.752 L146.853 134.873 Z\" fill=\"#000000\" fill-rule=\"evenodd\" fill-opacity=\"1\" /><path clip-path=\"url(#clip340)\" d=\"M171.922 109.271 Q168.311 109.271 166.482 112.836 Q164.677 116.377 164.677 123.507 Q164.677 130.613 166.482 134.178 Q168.311 137.72 171.922 137.72 Q175.556 137.72 177.362 134.178 Q179.19 130.613 179.19 123.507 Q179.19 116.377 177.362 112.836 Q175.556 109.271 171.922 109.271 M171.922 105.567 Q177.732 105.567 180.788 110.174 Q183.866 114.757 183.866 123.507 Q183.866 132.234 180.788 136.84 Q177.732 141.423 171.922 141.423 Q166.112 141.423 163.033 136.84 Q159.978 132.234 159.978 123.507 Q159.978 114.757 163.033 110.174 Q166.112 105.567 171.922 105.567 Z\" fill=\"#000000\" fill-rule=\"evenodd\" fill-opacity=\"1\" /><path clip-path=\"url(#clip340)\" d=\"M16.4842 916.825 L16.4842 910.332 L56.6518 900.338 L16.4842 890.375 L16.4842 883.15 L56.6518 873.156 L16.4842 863.194 L16.4842 856.669 L64.0042 868.605 L64.0042 876.689 L22.7544 886.715 L64.0042 896.837 L64.0042 904.921 L16.4842 916.825 Z\" fill=\"#000000\" fill-rule=\"evenodd\" fill-opacity=\"1\" /><path clip-path=\"url(#clip340)\" d=\"M28.3562 849.826 L28.3562 843.969 L64.0042 843.969 L64.0042 849.826 L28.3562 849.826 M14.479 849.826 L14.479 843.969 L21.895 843.969 L21.895 849.826 L14.479 849.826 Z\" fill=\"#000000\" fill-rule=\"evenodd\" fill-opacity=\"1\" /><path clip-path=\"url(#clip340)\" d=\"M42.4881 802.083 L64.0042 802.083 L64.0042 807.94 L42.679 807.94 Q37.6183 807.94 35.1038 809.913 Q32.5894 811.886 32.5894 815.833 Q32.5894 820.575 35.6131 823.313 Q38.6368 826.05 43.8567 826.05 L64.0042 826.05 L64.0042 831.938 L28.3562 831.938 L28.3562 826.05 L33.8944 826.05 Q30.6797 823.949 29.0883 821.117 Q27.4968 818.252 27.4968 814.528 Q27.4968 808.385 31.3163 805.234 Q35.1038 802.083 42.4881 802.083 Z\" fill=\"#000000\" fill-rule=\"evenodd\" fill-opacity=\"1\" /><path clip-path=\"url(#clip340)\" d=\"M41.7242 746.892 Q42.4244 744.824 44.7161 742.882 Q47.0077 740.909 51.0181 738.935 L64.0042 732.41 L64.0042 739.317 L51.8138 745.396 Q47.0395 747.752 45.48 749.98 Q43.9204 752.176 43.9204 755.995 L43.9204 762.998 L64.0042 762.998 L64.0042 769.427 L16.4842 769.427 L16.4842 754.913 Q16.4842 746.765 19.8898 742.755 Q23.2955 738.744 30.1704 738.744 Q34.6582 738.744 37.6183 740.845 Q40.5784 742.914 41.7242 746.892 M21.7677 762.998 L38.6368 762.998 L38.6368 754.913 Q38.6368 750.266 36.5043 747.911 Q34.34 745.524 30.1704 745.524 Q26.0009 745.524 23.9002 747.911 Q21.7677 750.266 21.7677 754.913 L21.7677 762.998 Z\" fill=\"#000000\" fill-rule=\"evenodd\" fill-opacity=\"1\" /><path clip-path=\"url(#clip340)\" d=\"M46.0847 709.621 Q46.0847 716.719 47.7079 719.456 Q49.3312 722.193 53.2461 722.193 Q56.3653 722.193 58.2114 720.156 Q60.0256 718.088 60.0256 714.555 Q60.0256 709.685 56.5881 706.757 Q53.1188 703.797 47.3897 703.797 L46.0847 703.797 L46.0847 709.621 M43.6657 697.94 L64.0042 697.94 L64.0042 703.797 L58.5933 703.797 Q61.8398 705.802 63.3994 708.794 Q64.9272 711.786 64.9272 716.114 Q64.9272 721.589 61.8716 724.835 Q58.7843 728.05 53.6281 728.05 Q47.6125 728.05 44.5569 724.04 Q41.5014 719.997 41.5014 712.008 L41.5014 703.797 L40.9285 703.797 Q36.8862 703.797 34.6901 706.47 Q32.4621 709.112 32.4621 713.918 Q32.4621 716.974 33.1941 719.87 Q33.9262 722.766 35.3903 725.44 L29.9795 725.44 Q28.7381 722.225 28.1334 719.202 Q27.4968 716.178 27.4968 713.313 Q27.4968 705.579 31.5072 701.76 Q35.5176 697.94 43.6657 697.94 Z\" fill=\"#000000\" fill-rule=\"evenodd\" fill-opacity=\"1\" /><path clip-path=\"url(#clip340)\" d=\"M18.2347 680.084 L28.3562 680.084 L28.3562 668.021 L32.9077 668.021 L32.9077 680.084 L52.2594 680.084 Q56.6199 680.084 57.8613 678.907 Q59.1026 677.697 59.1026 674.037 L59.1026 668.021 L64.0042 668.021 L64.0042 674.037 Q64.0042 680.816 61.4897 683.394 Q58.9434 685.973 52.2594 685.973 L32.9077 685.973 L32.9077 690.269 L28.3562 690.269 L28.3562 685.973 L18.2347 685.973 L18.2347 680.084 Z\" fill=\"#000000\" fill-rule=\"evenodd\" fill-opacity=\"1\" /><path clip-path=\"url(#clip340)\" d=\"M44.7161 629.827 L47.5806 629.827 L47.5806 656.754 Q53.6281 656.372 56.8109 653.126 Q59.9619 649.847 59.9619 644.023 Q59.9619 640.649 59.1344 637.498 Q58.3069 634.315 56.6518 631.196 L62.1899 631.196 Q63.5267 634.347 64.227 637.657 Q64.9272 640.967 64.9272 644.373 Q64.9272 652.903 59.9619 657.9 Q54.9967 662.865 46.5303 662.865 Q37.7774 662.865 32.6531 658.154 Q27.4968 653.412 27.4968 645.391 Q27.4968 638.198 32.1438 634.028 Q36.7589 629.827 44.7161 629.827 M42.9973 635.683 Q38.1912 635.747 35.3266 638.389 Q32.4621 640.999 32.4621 645.328 Q32.4621 650.229 35.2312 653.189 Q38.0002 656.117 43.0292 656.563 L42.9973 635.683 Z\" fill=\"#000000\" fill-rule=\"evenodd\" fill-opacity=\"1\" /><path clip-path=\"url(#clip340)\" d=\"M780.171 63.9476 L780.171 47.7034 L766.803 47.7034 L766.803 40.9789 L788.273 40.9789 L788.273 66.9452 Q783.533 70.3075 777.821 72.0494 Q772.11 73.7508 765.628 73.7508 Q751.45 73.7508 743.429 65.4869 Q735.449 57.1826 735.449 42.3968 Q735.449 27.5705 743.429 19.3066 Q751.45 11.0023 765.628 11.0023 Q771.542 11.0023 776.849 12.4606 Q782.196 13.9189 786.693 16.7545 L786.693 25.464 Q782.156 21.6156 777.052 19.6712 Q771.948 17.7268 766.317 17.7268 Q755.217 17.7268 749.627 23.9246 Q744.077 30.1225 744.077 42.3968 Q744.077 54.6305 749.627 60.8284 Q755.217 67.0263 766.317 67.0263 Q770.651 67.0263 774.054 66.2971 Q777.457 65.5274 780.171 63.9476 Z\" fill=\"#000000\" fill-rule=\"evenodd\" fill-opacity=\"1\" /><path clip-path=\"url(#clip340)\" d=\"M823.516 49.7694 Q814.482 49.7694 810.998 51.8354 Q807.514 53.9013 807.514 58.8839 Q807.514 62.8538 810.107 65.2034 Q812.74 67.5124 817.237 67.5124 Q823.435 67.5124 827.161 63.1374 Q830.929 58.7219 830.929 51.4303 L830.929 49.7694 L823.516 49.7694 M838.382 46.6907 L838.382 72.576 L830.929 72.576 L830.929 65.6895 Q828.377 69.8214 824.569 71.8063 Q820.761 73.7508 815.252 73.7508 Q808.284 73.7508 804.152 69.8619 Q800.061 65.9325 800.061 59.3701 Q800.061 51.7138 805.165 47.825 Q810.31 43.9361 820.477 43.9361 L830.929 43.9361 L830.929 43.2069 Q830.929 38.0623 827.526 35.2672 Q824.164 32.4315 818.047 32.4315 Q814.158 32.4315 810.472 33.3632 Q806.785 34.295 803.383 36.1584 L803.383 29.2718 Q807.474 27.692 811.322 26.9223 Q815.171 26.1121 818.816 26.1121 Q828.66 26.1121 833.521 31.2163 Q838.382 36.3204 838.382 46.6907 Z\" fill=\"#000000\" fill-rule=\"evenodd\" fill-opacity=\"1\" /><path clip-path=\"url(#clip340)\" d=\"M889.059 35.9153 Q891.854 30.8922 895.743 28.5022 Q899.632 26.1121 904.898 26.1121 Q911.987 26.1121 915.836 31.0947 Q919.684 36.0368 919.684 45.1919 L919.684 72.576 L912.19 72.576 L912.19 45.4349 Q912.19 38.913 909.881 35.7533 Q907.572 32.5936 902.832 32.5936 Q897.039 32.5936 893.677 36.4419 Q890.315 40.2903 890.315 46.9338 L890.315 72.576 L882.821 72.576 L882.821 45.4349 Q882.821 38.8725 880.512 35.7533 Q878.203 32.5936 873.382 32.5936 Q867.67 32.5936 864.308 36.4824 Q860.946 40.3308 860.946 46.9338 L860.946 72.576 L853.452 72.576 L853.452 27.2059 L860.946 27.2059 L860.946 34.2544 Q863.498 30.082 867.063 28.0971 Q870.628 26.1121 875.529 26.1121 Q880.471 26.1121 883.915 28.6237 Q887.398 31.1352 889.059 35.9153 Z\" fill=\"#000000\" fill-rule=\"evenodd\" fill-opacity=\"1\" /><path clip-path=\"url(#clip340)\" d=\"M973.358 48.0275 L973.358 51.6733 L939.088 51.6733 Q939.574 59.3701 943.706 63.421 Q947.878 67.4314 955.291 67.4314 Q959.585 67.4314 963.596 66.3781 Q967.647 65.3249 971.617 63.2184 L971.617 70.267 Q967.606 71.9684 963.393 72.8596 Q959.18 73.7508 954.846 73.7508 Q943.989 73.7508 937.63 67.4314 Q931.31 61.1119 931.31 50.3365 Q931.31 39.1965 937.305 32.6746 Q943.341 26.1121 953.55 26.1121 Q962.705 26.1121 968.011 32.0264 Q973.358 37.9003 973.358 48.0275 M965.905 45.84 Q965.824 39.7232 962.462 36.0774 Q959.14 32.4315 953.631 32.4315 Q947.392 32.4315 943.625 35.9558 Q939.898 39.4801 939.331 45.8805 L965.905 45.84 Z\" fill=\"#000000\" fill-rule=\"evenodd\" fill-opacity=\"1\" /><path clip-path=\"url(#clip340)\" d=\"M1014.52 28.5427 L1014.52 35.5912 Q1011.36 33.9709 1007.95 33.1607 Q1004.55 32.3505 1000.9 32.3505 Q995.355 32.3505 992.56 34.0519 Q989.805 35.7533 989.805 39.156 Q989.805 41.7486 991.79 43.2475 Q993.775 44.7058 999.77 46.0426 L1002.32 46.6097 Q1010.26 48.3111 1013.58 51.4303 Q1016.95 54.509 1016.95 60.0587 Q1016.95 66.3781 1011.92 70.0644 Q1006.94 73.7508 998.191 73.7508 Q994.545 73.7508 990.575 73.0216 Q986.645 72.3329 982.27 70.9151 L982.27 63.2184 Q986.402 65.3654 990.413 66.4591 Q994.423 67.5124 998.353 67.5124 Q1003.62 67.5124 1006.45 65.73 Q1009.29 63.9071 1009.29 60.6258 Q1009.29 57.5877 1007.22 55.9673 Q1005.2 54.3469 998.272 52.8481 L995.679 52.2405 Q988.752 50.7821 985.673 47.7845 Q982.595 44.7463 982.595 39.4801 Q982.595 33.0797 987.132 29.5959 Q991.669 26.1121 1000.01 26.1121 Q1004.15 26.1121 1007.79 26.7198 Q1011.44 27.3274 1014.52 28.5427 Z\" fill=\"#000000\" fill-rule=\"evenodd\" fill-opacity=\"1\" /><path clip-path=\"url(#clip340)\" d=\"M1063.69 18.8205 L1063.69 41.5461 L1073.98 41.5461 Q1079.69 41.5461 1082.81 38.5889 Q1085.93 35.6318 1085.93 30.163 Q1085.93 24.7348 1082.81 21.7777 Q1079.69 18.8205 1073.98 18.8205 L1063.69 18.8205 M1055.51 12.096 L1073.98 12.096 Q1084.15 12.096 1089.34 16.714 Q1094.56 21.2916 1094.56 30.163 Q1094.56 39.1155 1089.34 43.6931 Q1084.15 48.2706 1073.98 48.2706 L1063.69 48.2706 L1063.69 72.576 L1055.51 72.576 L1055.51 12.096 Z\" fill=\"#000000\" fill-rule=\"evenodd\" fill-opacity=\"1\" /><path clip-path=\"url(#clip340)\" d=\"M1105.22 9.54393 L1112.67 9.54393 L1112.67 72.576 L1105.22 72.576 L1105.22 9.54393 Z\" fill=\"#000000\" fill-rule=\"evenodd\" fill-opacity=\"1\" /><path clip-path=\"url(#clip340)\" d=\"M1148.88 49.7694 Q1139.85 49.7694 1136.37 51.8354 Q1132.88 53.9013 1132.88 58.8839 Q1132.88 62.8538 1135.48 65.2034 Q1138.11 67.5124 1142.61 67.5124 Q1148.8 67.5124 1152.53 63.1374 Q1156.3 58.7219 1156.3 51.4303 L1156.3 49.7694 L1148.88 49.7694 M1163.75 46.6907 L1163.75 72.576 L1156.3 72.576 L1156.3 65.6895 Q1153.75 69.8214 1149.94 71.8063 Q1146.13 73.7508 1140.62 73.7508 Q1133.65 73.7508 1129.52 69.8619 Q1125.43 65.9325 1125.43 59.3701 Q1125.43 51.7138 1130.53 47.825 Q1135.68 43.9361 1145.85 43.9361 L1156.3 43.9361 L1156.3 43.2069 Q1156.3 38.0623 1152.89 35.2672 Q1149.53 32.4315 1143.42 32.4315 Q1139.53 32.4315 1135.84 33.3632 Q1132.15 34.295 1128.75 36.1584 L1128.75 29.2718 Q1132.84 27.692 1136.69 26.9223 Q1140.54 26.1121 1144.19 26.1121 Q1154.03 26.1121 1158.89 31.2163 Q1163.75 36.3204 1163.75 46.6907 Z\" fill=\"#000000\" fill-rule=\"evenodd\" fill-opacity=\"1\" /><path clip-path=\"url(#clip340)\" d=\"M1197.98 76.7889 Q1194.82 84.8907 1191.82 87.3618 Q1188.83 89.8329 1183.8 89.8329 L1177.85 89.8329 L1177.85 83.5945 L1182.22 83.5945 Q1185.3 83.5945 1187 82.1361 Q1188.7 80.6778 1190.77 75.2496 L1192.11 71.8468 L1173.76 27.2059 L1181.66 27.2059 L1195.83 62.6918 L1210.01 27.2059 L1217.91 27.2059 L1197.98 76.7889 Z\" fill=\"#000000\" fill-rule=\"evenodd\" fill-opacity=\"1\" /><path clip-path=\"url(#clip340)\" d=\"M1267.01 48.0275 L1267.01 51.6733 L1232.74 51.6733 Q1233.22 59.3701 1237.36 63.421 Q1241.53 67.4314 1248.94 67.4314 Q1253.24 67.4314 1257.25 66.3781 Q1261.3 65.3249 1265.27 63.2184 L1265.27 70.267 Q1261.26 71.9684 1257.04 72.8596 Q1252.83 73.7508 1248.5 73.7508 Q1237.64 73.7508 1231.28 67.4314 Q1224.96 61.1119 1224.96 50.3365 Q1224.96 39.1965 1230.96 32.6746 Q1236.99 26.1121 1247.2 26.1121 Q1256.35 26.1121 1261.66 32.0264 Q1267.01 37.9003 1267.01 48.0275 M1259.55 45.84 Q1259.47 39.7232 1256.11 36.0774 Q1252.79 32.4315 1247.28 32.4315 Q1241.04 32.4315 1237.27 35.9558 Q1233.55 39.4801 1232.98 45.8805 L1259.55 45.84 Z\" fill=\"#000000\" fill-rule=\"evenodd\" fill-opacity=\"1\" /><path clip-path=\"url(#clip340)\" d=\"M1309.1 34.0924 L1309.1 9.54393 L1316.55 9.54393 L1316.55 72.576 L1309.1 72.576 L1309.1 65.7705 Q1306.75 69.8214 1303.14 71.8063 Q1299.58 73.7508 1294.55 73.7508 Q1286.33 73.7508 1281.15 67.1883 Q1276 60.6258 1276 49.9314 Q1276 39.2371 1281.15 32.6746 Q1286.33 26.1121 1294.55 26.1121 Q1299.58 26.1121 1303.14 28.0971 Q1306.75 30.0415 1309.1 34.0924 M1283.7 49.9314 Q1283.7 58.1548 1287.06 62.8538 Q1290.46 67.5124 1296.38 67.5124 Q1302.29 67.5124 1305.69 62.8538 Q1309.1 58.1548 1309.1 49.9314 Q1309.1 41.7081 1305.69 37.0496 Q1302.29 32.3505 1296.38 32.3505 Q1290.46 32.3505 1287.06 37.0496 Q1283.7 41.7081 1283.7 49.9314 Z\" fill=\"#000000\" fill-rule=\"evenodd\" fill-opacity=\"1\" /><path clip-path=\"url(#clip340)\" d=\"M1352.93 27.2059 L1360.83 27.2059 L1375.01 65.2844 L1389.18 27.2059 L1397.08 27.2059 L1380.07 72.576 L1369.94 72.576 L1352.93 27.2059 Z\" fill=\"#000000\" fill-rule=\"evenodd\" fill-opacity=\"1\" /><path clip-path=\"url(#clip340)\" d=\"M1436.3 28.5427 L1436.3 35.5912 Q1433.14 33.9709 1429.73 33.1607 Q1426.33 32.3505 1422.68 32.3505 Q1417.14 32.3505 1414.34 34.0519 Q1411.59 35.7533 1411.59 39.156 Q1411.59 41.7486 1413.57 43.2475 Q1415.56 44.7058 1421.55 46.0426 L1424.1 46.6097 Q1432.04 48.3111 1435.36 51.4303 Q1438.73 54.509 1438.73 60.0587 Q1438.73 66.3781 1433.7 70.0644 Q1428.72 73.7508 1419.97 73.7508 Q1416.32 73.7508 1412.35 73.0216 Q1408.43 72.3329 1404.05 70.9151 L1404.05 63.2184 Q1408.18 65.3654 1412.19 66.4591 Q1416.2 67.5124 1420.13 67.5124 Q1425.4 67.5124 1428.23 65.73 Q1431.07 63.9071 1431.07 60.6258 Q1431.07 57.5877 1429 55.9673 Q1426.98 54.3469 1420.05 52.8481 L1417.46 52.2405 Q1410.53 50.7821 1407.45 47.7845 Q1404.37 44.7463 1404.37 39.4801 Q1404.37 33.0797 1408.91 29.5959 Q1413.45 26.1121 1421.79 26.1121 Q1425.93 26.1121 1429.57 26.7198 Q1433.22 27.3274 1436.3 28.5427 Z\" fill=\"#000000\" fill-rule=\"evenodd\" fill-opacity=\"1\" /><path clip-path=\"url(#clip340)\" d=\"M1471.9 12.096 L1480.17 12.096 L1492.89 63.2184 L1505.57 12.096 L1514.76 12.096 L1527.48 63.2184 L1540.16 12.096 L1548.47 12.096 L1533.27 72.576 L1522.99 72.576 L1510.22 20.0763 L1497.34 72.576 L1487.05 72.576 L1471.9 12.096 Z\" fill=\"#000000\" fill-rule=\"evenodd\" fill-opacity=\"1\" /><path clip-path=\"url(#clip340)\" d=\"M1557.17 27.2059 L1564.63 27.2059 L1564.63 72.576 L1557.17 72.576 L1557.17 27.2059 M1557.17 9.54393 L1564.63 9.54393 L1564.63 18.9825 L1557.17 18.9825 L1557.17 9.54393 Z\" fill=\"#000000\" fill-rule=\"evenodd\" fill-opacity=\"1\" /><path clip-path=\"url(#clip340)\" d=\"M1617.94 45.1919 L1617.94 72.576 L1610.48 72.576 L1610.48 45.4349 Q1610.48 38.994 1607.97 35.7938 Q1605.46 32.5936 1600.44 32.5936 Q1594.4 32.5936 1590.92 36.4419 Q1587.44 40.2903 1587.44 46.9338 L1587.44 72.576 L1579.94 72.576 L1579.94 27.2059 L1587.44 27.2059 L1587.44 34.2544 Q1590.11 30.163 1593.71 28.1376 Q1597.36 26.1121 1602.1 26.1121 Q1609.92 26.1121 1613.93 30.9732 Q1617.94 35.7938 1617.94 45.1919 Z\" fill=\"#000000\" fill-rule=\"evenodd\" fill-opacity=\"1\" /><path clip-path=\"url(#clip340)\" d=\"M1688.18 44.2197 Q1690.81 45.1109 1693.29 48.0275 Q1695.8 50.9442 1698.31 56.0483 L1706.61 72.576 L1697.82 72.576 L1690.08 57.061 Q1687.09 50.9847 1684.25 48.9997 Q1681.46 47.0148 1676.6 47.0148 L1667.68 47.0148 L1667.68 72.576 L1659.5 72.576 L1659.5 12.096 L1677.97 12.096 Q1688.34 12.096 1693.45 16.4305 Q1698.55 20.7649 1698.55 29.5149 Q1698.55 35.2267 1695.88 38.994 Q1693.24 42.7613 1688.18 44.2197 M1667.68 18.8205 L1667.68 40.2903 L1677.97 40.2903 Q1683.89 40.2903 1686.88 37.5762 Q1689.92 34.8216 1689.92 29.5149 Q1689.92 24.2082 1686.88 21.5346 Q1683.89 18.8205 1677.97 18.8205 L1667.68 18.8205 Z\" fill=\"#000000\" fill-rule=\"evenodd\" fill-opacity=\"1\" /><path clip-path=\"url(#clip340)\" d=\"M1735.62 49.7694 Q1726.58 49.7694 1723.1 51.8354 Q1719.62 53.9013 1719.62 58.8839 Q1719.62 62.8538 1722.21 65.2034 Q1724.84 67.5124 1729.34 67.5124 Q1735.54 67.5124 1739.26 63.1374 Q1743.03 58.7219 1743.03 51.4303 L1743.03 49.7694 L1735.62 49.7694 M1750.48 46.6907 L1750.48 72.576 L1743.03 72.576 L1743.03 65.6895 Q1740.48 69.8214 1736.67 71.8063 Q1732.86 73.7508 1727.35 73.7508 Q1720.39 73.7508 1716.25 69.8619 Q1712.16 65.9325 1712.16 59.3701 Q1712.16 51.7138 1717.27 47.825 Q1722.41 43.9361 1732.58 43.9361 L1743.03 43.9361 L1743.03 43.2069 Q1743.03 38.0623 1739.63 35.2672 Q1736.27 32.4315 1730.15 32.4315 Q1726.26 32.4315 1722.57 33.3632 Q1718.89 34.295 1715.48 36.1584 L1715.48 29.2718 Q1719.58 27.692 1723.42 26.9223 Q1727.27 26.1121 1730.92 26.1121 Q1740.76 26.1121 1745.62 31.2163 Q1750.48 36.3204 1750.48 46.6907 Z\" fill=\"#000000\" fill-rule=\"evenodd\" fill-opacity=\"1\" /><path clip-path=\"url(#clip340)\" d=\"M1773.21 14.324 L1773.21 27.2059 L1788.56 27.2059 L1788.56 32.9987 L1773.21 32.9987 L1773.21 57.6282 Q1773.21 63.1779 1774.71 64.7578 Q1776.25 66.3376 1780.91 66.3376 L1788.56 66.3376 L1788.56 72.576 L1780.91 72.576 Q1772.28 72.576 1769 69.3758 Q1765.72 66.1351 1765.72 57.6282 L1765.72 32.9987 L1760.25 32.9987 L1760.25 27.2059 L1765.72 27.2059 L1765.72 14.324 L1773.21 14.324 Z\" fill=\"#000000\" fill-rule=\"evenodd\" fill-opacity=\"1\" /><path clip-path=\"url(#clip340)\" d=\"M1837.17 48.0275 L1837.17 51.6733 L1802.9 51.6733 Q1803.39 59.3701 1807.52 63.421 Q1811.69 67.4314 1819.11 67.4314 Q1823.4 67.4314 1827.41 66.3781 Q1831.46 65.3249 1835.43 63.2184 L1835.43 70.267 Q1831.42 71.9684 1827.21 72.8596 Q1823 73.7508 1818.66 73.7508 Q1807.8 73.7508 1801.44 67.4314 Q1795.12 61.1119 1795.12 50.3365 Q1795.12 39.1965 1801.12 32.6746 Q1807.16 26.1121 1817.36 26.1121 Q1826.52 26.1121 1831.83 32.0264 Q1837.17 37.9003 1837.17 48.0275 M1829.72 45.84 Q1829.64 39.7232 1826.28 36.0774 Q1822.95 32.4315 1817.45 32.4315 Q1811.21 32.4315 1807.44 35.9558 Q1803.71 39.4801 1803.15 45.8805 L1829.72 45.84 Z\" fill=\"#000000\" fill-rule=\"evenodd\" fill-opacity=\"1\" /><circle clip-path=\"url(#clip342)\" cx=\"2292.39\" cy=\"744.228\" r=\"14.4\" fill=\"#009af9\" fill-rule=\"evenodd\" fill-opacity=\"1\" stroke=\"#000000\" stroke-opacity=\"1\" stroke-width=\"3.2\"/>\n",
       "<circle clip-path=\"url(#clip342)\" cx=\"1420.98\" cy=\"839.134\" r=\"14.4\" fill=\"#009af9\" fill-rule=\"evenodd\" fill-opacity=\"1\" stroke=\"#000000\" stroke-opacity=\"1\" stroke-width=\"3.2\"/>\n",
       "<circle clip-path=\"url(#clip342)\" cx=\"961.514\" cy=\"747.332\" r=\"14.4\" fill=\"#009af9\" fill-rule=\"evenodd\" fill-opacity=\"1\" stroke=\"#000000\" stroke-opacity=\"1\" stroke-width=\"3.2\"/>\n",
       "<circle clip-path=\"url(#clip342)\" cx=\"280.231\" cy=\"773.326\" r=\"14.4\" fill=\"#009af9\" fill-rule=\"evenodd\" fill-opacity=\"1\" stroke=\"#000000\" stroke-opacity=\"1\" stroke-width=\"3.2\"/>\n",
       "</svg>\n"
      ]
     },
     "execution_count": 159,
     "metadata": {},
     "output_type": "execute_result"
    }
   ],
   "source": [
    "scatter(\n",
    "    player_stats[:,\"games_played\"],\n",
    "    player_stats[:,\"win_rate\"],\n",
    "    ylims = (0,1),\n",
    "    title = \"Games Played vs Win Rate\",\n",
    "    xlabel = \"Number of Games\",\n",
    "    ylabel = \"Win Rate\",\n",
    "    legend = false\n",
    ")"
   ]
  },
  {
   "cell_type": "markdown",
   "id": "730f51ff",
   "metadata": {},
   "source": [
    "## Possible Actions Reweighted by Limited Empirical Strategic Samples (PARLESS) <a id=\"parless\"></a>\n",
    "### [↑ Contents](#contents)"
   ]
  },
  {
   "cell_type": "markdown",
   "id": "84a376a1",
   "metadata": {},
   "source": [
    "In this section, I present a method for using real game data to reweight the enemy's mixed strategies (i.e. probability distribution over possible actions) which I call **\"Possible Actions Reweighted by Limited Empirical Strategic Samples\" (PARLESS)**. In this method, we will use the empirical distribution of actions taken from a given state by real players as the \"evidence\" term in Bayes' rule to reweight the parameters of a categorical/multinomial probability distribution, which we use to represent the mixed strategy. We will use a Dirichlet prior with equal probabilities, as it is the conjugate prior of the multinomial distribution.\n",
    "\n",
    "Information about Bayesian reweighting with the Dirichlet distribution was obtained from https://en.wikipedia.org/wiki/Dirichlet_distribution.\n",
    "\n",
    "For each distinct action, let's call it $A_i$, the categorical/multinomial distribution has a parameter $p_i$, which is essentially just the probability of $A_i$ under the distribution. The Dirichlet distribution has a corresponding \"concentration\" parameter, $\\alpha_i$, which is a sort of \"pseudocount\" of the action $A_i$. \n",
    "\n",
    "What does this mean? Essentially, the reweighting process will follow these steps:\n",
    "1. Assume a prior conjugate distribution with concentration parameters $\\alpha_i$ for each action $A_i$. This is effectively equivalent to basing the prior on sample in which $A_i$ occurs $\\alpha_i$ times out of $\\sum_k\\alpha_k$ total observations. \n",
    "2. Compute the parameters of the posterior conjugate Dirichlet distribution by incrementing each value of $\\alpha_i$ by the number of empirical strategic samples in which $A_i$ was chosen from the given state.\n",
    "3. Compute the posterior categorical distribution by normalizing the values of $\\alpha$ (divide each by the sum).\n",
    "\n",
    "This procedure is pretty straightforward, however, we have to choose values for the concentration parameters of the prior. Smaller values will result in a more volatile prior, which will result in larger changes in the parameters of the categorical distribution over the actions.\n",
    "\n",
    "I think it's best to keep things simple and just let all the $\\alpha_i=1$. In other words, we will act as if we've seen each possible action used exactly once from a given state. We don't have very much data, so we want to get a big impact out of it; additionally, it's unlikely that we'll have more than one strategic sample from any given state. Overall, I think that this prior will aptly simulate our lack of certainty going into this process.\n"
   ]
  },
  {
   "cell_type": "code",
   "execution_count": 38,
   "id": "0e5b1852",
   "metadata": {},
   "outputs": [
    {
     "data": {
      "text/plain": [
       "Dict{Int64, Float64} with 8 entries:\n",
       "  51 => 0.125\n",
       "  50 => 0.125\n",
       "  41 => 0.125\n",
       "  20 => 0.125\n",
       "  11 => 0.125\n",
       "  10 => 0.125\n",
       "  21 => 0.125\n",
       "  40 => 0.125"
      ]
     },
     "execution_count": 38,
     "metadata": {},
     "output_type": "execute_result"
    }
   ],
   "source": [
    "niv = Dict(enemy_action=>1/length(possible_actions(112011300350011001)) \n",
    "                for enemy_action in possible_actions(112011300350011001))"
   ]
  },
  {
   "cell_type": "markdown",
   "id": "8c1a1c52",
   "metadata": {},
   "source": [
    "## PARLESS Augmented With Neural Networks (PAWNN) <a id=\"pawnn\"></a>\n",
    "### [↑ Contents](#contents)"
   ]
  },
  {
   "cell_type": "markdown",
   "id": "48ca74cb",
   "metadata": {},
   "source": [
    "PUNISH has a small yet dedicated player base. However, with hundreds of thousands of game states, we simply do not have empirical strategy data for every possible action. However, we may be able to extrapolate from the states that we do have using a deep neural network model. Here, we will experiment with using neural networks trained on the (state ↦ mixed strategy) set generated by the basic PARLESS method to extrapolate mixed strategies for states for which we lack data."
   ]
  },
  {
   "cell_type": "markdown",
   "id": "4c5f5b89",
   "metadata": {},
   "source": [
    "# Enumerating State-Action Transition Probabilities <a id=\"transitions\"></a>\n",
    "### [↑ Contents](#contents)"
   ]
  },
  {
   "cell_type": "markdown",
   "id": "87ab7aab",
   "metadata": {},
   "source": [
    "Although we have the `transitionmap` function to generate the transition probabilities for any given state-action pair, it will significantly speed up the value iteration algorithm if we pre-compile the transition probabilities.\n",
    "\n",
    "Note: we will need to generate a separate transition probability map for all three models of enemy strategies (Naïve, PARLESS, and PAWNN).\n",
    "\n",
    "Before we included intermediary \"Breath 5\" states, extrapolation from benchmark experiments indicated that generating transition probabilities for each (state,action) pair would take somewhere around 42 hours. With Breath 5 states between non-terminal Breath 4 results and redeals, this computation takes around a half hour."
   ]
  },
  {
   "cell_type": "markdown",
   "id": "587cbe53",
   "metadata": {},
   "source": [
    "## Naïve Transition Probabilities <a id=\"naive-transitions\"></a>"
   ]
  },
  {
   "cell_type": "markdown",
   "id": "f797f119",
   "metadata": {},
   "source": [
    "This next cell will compute transition probabilities under the Naïve model of enemy strategies, which is just a fancy way of referring to the assumption that the enemy is equally probable to choose any of their possible actions."
   ]
  },
  {
   "cell_type": "code",
   "execution_count": 20,
   "id": "d9bf8c86",
   "metadata": {},
   "outputs": [
    {
     "name": "stdout",
     "output_type": "stream",
     "text": [
      "Dict{Int64, Dict{Int64}}\n"
     ]
    }
   ],
   "source": [
    "if CONFIG[\"transition-probabilities\"][\"naive\"][\"generate\"]\n",
    "    NAIVE_TRANSITIONS = Dict( \n",
    "        state => Dict(\n",
    "            action => transitionmap(state,action) \n",
    "            for action in possible_actions(state)\n",
    "        )\n",
    "        for state in STATE_SPACE\n",
    "    )\n",
    "    open(CONFIG[\"transition-probabilities\"][\"naive\"][\"filepath\"],\"w\") do f\n",
    "        JSON.print(f,NAIVE_TRANSITIONS)\n",
    "    end\n",
    "    #Generate transition map and save results.\n",
    "else \n",
    "    NAIVE_TRANSITIONS = strkeys2int(\n",
    "        JSON.parsefile(CONFIG[\"transition-probabilities\"][\"naive\"][\"filepath\"],use_mmap=false)\n",
    "    )\n",
    "    #Load results from disk.\n",
    "end\n",
    "println(typeof(NAIVE_TRANSITIONS))"
   ]
  },
  {
   "cell_type": "markdown",
   "id": "b2cdeb76",
   "metadata": {},
   "source": [
    "This cell took about 35 minutes to run."
   ]
  },
  {
   "cell_type": "markdown",
   "id": "7bd363c3",
   "metadata": {},
   "source": [
    "## PARLESS"
   ]
  },
  {
   "cell_type": "markdown",
   "id": "eaea73cf",
   "metadata": {},
   "source": [
    "## PAWNN"
   ]
  },
  {
   "cell_type": "markdown",
   "id": "b254a242",
   "metadata": {},
   "source": [
    "# Implementation of Value Iteration <a id=\"value-iteration\"></a>\n",
    "### [↑ Contents](#contents)"
   ]
  },
  {
   "cell_type": "markdown",
   "id": "c0d81016",
   "metadata": {},
   "source": [
    "In this section, we will implement the value iteration algorithm  (and its accessory functions), which we will use to train our agents. Value iteration is an offline reinforcement learning algorithm which applies dynamic programming to an MDP-representation of a game to generate a \"state-action value\" function (also known as a Q-function), which assigns relative values to taking a given action from a given state for every possible (state,action) pairing. [This video](https://youtu.be/4KGC_3GWuPY) does an excellent job showing how the algorithm works."
   ]
  },
  {
   "cell_type": "markdown",
   "id": "a282e01f",
   "metadata": {},
   "source": [
    "Reinforcement learning algorithms require a state-action reward function, which assigns quantitative rewards to each (state,action) pair. If we want to incentivize certain kinds of gameplay, we might customize the values in these functions. However, we will just stick with the basic state-action reward function, in which the reward for taking some action at a given state is just the expected value of the state-rewards of all the successors of that action (i.e. the sum of the state rewards of the successors, weighted by their probabilities of resulting from the action). \n",
    "\n",
    "We will also keep our state reward function pretty simple: a WinState is +1, a LossState is -1, and any DuelingState is 0. If we wanted to incentivize the agent to keep games quick (i.e. penalize it for dragging the game out), we might assign a slight negative value to DuelingStates, but I believe that the inherent risk of playing the game is enough of a driving force to keep things short and sweet."
   ]
  },
  {
   "cell_type": "code",
   "execution_count": 21,
   "id": "8ecee2b8",
   "metadata": {},
   "outputs": [
    {
     "data": {
      "text/plain": [
       "state_action_reward (generic function with 1 method)"
      ]
     },
     "execution_count": 21,
     "metadata": {},
     "output_type": "execute_result"
    }
   ],
   "source": [
    "function state_reward(s::Int)\n",
    "    return get(Dict(-2=>-1.0,-1=>+1.0),s,0.0)\n",
    "    #Faster than wasting time decoding the state.\n",
    "    #Note: values must be specified as floats or else\n",
    "    #nested dicts in the Q-function may assume values to be\n",
    "    #integers.\n",
    "end\n",
    "\n",
    "function state_action_reward(state::Int,action::Int,transition_probabilities::Dict)\n",
    "    \"\"\"This function returns the immediate expected reward of a (state,action) pair, \n",
    "    calculated as the probability-weighted sum of the state-rewards of the possible\n",
    "    successor states.\"\"\"\n",
    "    return sum([p*state_reward(successor) for (successor,p) in transition_probabilities[state][action]])\n",
    "end"
   ]
  },
  {
   "cell_type": "markdown",
   "id": "0add3462",
   "metadata": {},
   "source": [
    "We will initialize the blank state-action function such that the value of any given (state,action) pair is equal to the immediate expected state-action reward, as defined in the previous cell."
   ]
  },
  {
   "cell_type": "code",
   "execution_count": 22,
   "id": "8e11b39e",
   "metadata": {},
   "outputs": [
    {
     "data": {
      "text/plain": [
       "initialize_Q_function (generic function with 1 method)"
      ]
     },
     "execution_count": 22,
     "metadata": {},
     "output_type": "execute_result"
    }
   ],
   "source": [
    "function initialize_Q_function(transition_probabilities)\n",
    "    \"\"\"This function initializes a state-action value function\n",
    "    such that each (state,action) pair maps to its immediate expected reward.\"\"\"\n",
    "    Q_function = Dict(\n",
    "        state => Dict(\n",
    "            action => state_action_reward(state,action,transition_probabilities)\n",
    "            for action in keys(transitions)\n",
    "        )\n",
    "        for (state,transitions) in transition_probabilities\n",
    "    )\n",
    "end"
   ]
  },
  {
   "cell_type": "markdown",
   "id": "a4603c0e",
   "metadata": {},
   "source": [
    "Now, we have all the pieces we need to implement value iteration. The value iteration algorithm itself is pretty simple. It really consists of two basic steps:\n",
    "\n",
    "1. Compute the \"state-value\" function (also known as the V-function) which assigns values to states themselves rather than (state,action) pairs. The value assigned is simply the Q-function value resulting from taking the optimal action (i.e. argmax of the Q-function for that state) from that state.\n",
    "2. Update the Q-function; the new value of a given (state,action) pair is equal to the immediate state-action reward plus the \"discounted\" (scaled by $0<\\gamma<1$) probability-weighted sum of the successors' V-function values."
   ]
  },
  {
   "cell_type": "code",
   "execution_count": 28,
   "id": "51fce523",
   "metadata": {},
   "outputs": [
    {
     "data": {
      "text/plain": [
       "value_iteration! (generic function with 1 method)"
      ]
     },
     "execution_count": 28,
     "metadata": {},
     "output_type": "execute_result"
    }
   ],
   "source": [
    "function value_iteration!(Q_function::Dict,transition_probabilities::Dict;discount=0.95) \n",
    "    \"\"\"This function performs a single training episode of value iteration on a given Q-function\n",
    "    dictionary, based on an input transition probability map.\n",
    "    \n",
    "    Note: this function mutates the `Q_function` argument.\"\"\"\n",
    "    greedy_choice = (state -> argmax(Q_function[state]))\n",
    "    #Use a greedy policy, in which we choose the action with the highest state-action value for the\n",
    "    #given state.\n",
    "    V_function = Dict(state => Q_function[state][greedy_choice(state)] for state in STATE_SPACE)\n",
    "    #The state-value function assigns each state the value resulting from taking the \n",
    "    #optimal action from that state.\n",
    "\n",
    "    for (state, action_maps) in transition_probabilities\n",
    "        for (action, successors) in action_maps\n",
    "            immediate_reward = state_action_reward(state,action,transition_probabilities)\n",
    "            successor_rewards = sum([p*V_function[successor] for (successor,p) in successors])\n",
    "            Q_function[state][action] = immediate_reward + discount*successor_rewards\n",
    "            #Update each value of the Q-function so that it is equal to the immediate\n",
    "            #state-action reward plus the discounted sum of the state-values\n",
    "            #of the immediate successor states, weighted by their transition probabilities.\n",
    "        end\n",
    "    end\n",
    "    return Q_function\n",
    "                     \n",
    "end"
   ]
  },
  {
   "cell_type": "markdown",
   "id": "a6e39b3f",
   "metadata": {},
   "source": [
    "Finally, we will need to create a function to measure the change between two Q-functions so that we can measure the convergence of our training. We will do this by computing the root-mean-square error over all possible (state,action) pairs between two Q-functions."
   ]
  },
  {
   "cell_type": "code",
   "execution_count": 24,
   "id": "7c691fe4",
   "metadata": {},
   "outputs": [
    {
     "data": {
      "text/plain": [
       "Q_function_error (generic function with 1 method)"
      ]
     },
     "execution_count": 24,
     "metadata": {},
     "output_type": "execute_result"
    }
   ],
   "source": [
    "function Q_function_error(Q1::Dict,Q2::Dict)\n",
    "    \"\"\"This function computes the RMSE over all\n",
    "    (state,action) pairs between two Q-functions.\"\"\"\n",
    "    err = 0\n",
    "    for (state,actions) in Q1\n",
    "        for (action,value) in actions\n",
    "            err += (Q1[state][action] - Q2[state][action])^2\n",
    "            #Sum the squared errors for every (state,action) pair.\n",
    "        end\n",
    "    end\n",
    "    return sqrt(err)\n",
    "end"
   ]
  },
  {
   "cell_type": "markdown",
   "id": "a5a4c648",
   "metadata": {},
   "source": [
    "# Agent Training <a id=\"training\"></a>\n",
    "### [↑ Contents](#contents)"
   ]
  },
  {
   "cell_type": "markdown",
   "id": "1328493d",
   "metadata": {},
   "source": [
    "In this section, we will apply value iteration to train our agents. We will design this Notebook such that if a specified number of training episodes is found to be insufficient, we can pick up where we left off rather than starting training over from scratch."
   ]
  },
  {
   "cell_type": "markdown",
   "id": "24bbcb5e",
   "metadata": {},
   "source": [
    "## Naïve Agent <a id=\"naive-agent\"></a>"
   ]
  },
  {
   "cell_type": "code",
   "execution_count": 25,
   "id": "37e49707",
   "metadata": {},
   "outputs": [
    {
     "data": {
      "text/plain": [
       "Dict{Int64, Dict{Int64, Float64}} with 668884 entries:\n",
       "  310200300330123030 => Dict(11=>-0.952812, 10=>12.4745, 31=>-1.15578, 30=>13.5…\n",
       "  511001300210021222 => Dict(90=>15.0316)\n",
       "  210300301140121022 => Dict(10=>5.31734, 30=>12.9174)\n",
       "  102012300350000300 => Dict(51=>11.1003, 50=>15.6902, 41=>10.4096, 21=>11.4714…\n",
       "  401020201220131213 => Dict(20=>13.3267, 40=>14.9711)\n",
       "  301110301330130222 => Dict(20=>-5.0521, 30=>5.42679, 40=>-1.55826)\n",
       "  300111300331122202 => Dict(51=>15.0781, 50=>19.8875, 41=>18.8875, 31=>18.8875…\n",
       "  300111211331023012 => Dict(90=>11.7682)\n",
       "  201210301340112121 => Dict(20=>-4.2145, 30=>7.01121, 40=>-4.33004)\n",
       "  300111110131103122 => Dict(90=>17.4737)\n",
       "  210003200240010130 => Dict(51=>12.7017, 50=>16.3388, 11=>11.1431, 10=>14.653)\n",
       "  220011200140010112 => Dict(51=>14.9706, 50=>6.04144, 41=>13.4759, 11=>14.5631…\n",
       "  401100201330032211 => Dict(20=>-19.8875, 30=>9.10219)\n",
       "  300111200130132021 => Dict(51=>18.1634, 50=>11.8258, 41=>16.9036, 31=>18.0665…\n",
       "  301011100130111222 => Dict(51=>11.595, 50=>3.4369, 41=>9.95559, 21=>4.4485, 2…\n",
       "  401020200331120303 => Dict(41=>12.3752, 21=>12.6348, 20=>11.9572, 40=>16.4689)\n",
       "  400101301230023112 => Dict(50=>17.6443, 30=>12.3016)\n",
       "  300120211331131113 => Dict(90=>12.4234)\n",
       "  401020301330002213 => Dict(20=>10.3025, 40=>10.02)\n",
       "  430000210321001133 => Dict(90=>10.3228)\n",
       "  211011210140012101 => Dict(90=>-0.775392)\n",
       "  400101101130030132 => Dict(50=>-9.69685, 30=>-9.80323)\n",
       "  200103100240021200 => Dict(51=>-16.2509, 50=>-11.9325, 31=>-16.4454, 30=>-15.…\n",
       "  420000110131113203 => Dict(90=>1.0531)\n",
       "  402000311221030232 => Dict(90=>8.46695)\n",
       "  ⋮                  => ⋮"
      ]
     },
     "execution_count": 25,
     "metadata": {},
     "output_type": "execute_result"
    }
   ],
   "source": [
    "if CONFIG[\"value-iteration\"][\"naive\"][\"generate\"]\n",
    "    Q_Naive = initialize_Q_function(NAIVE_TRANSITIONS)\n",
    "    #If generating from scratch, initialize the Q-function with \n",
    "    #immediate expected rewards.\n",
    "    training_log[\"naive\"] = []\n",
    "else \n",
    "    Q_Naive = strkeys2int(\n",
    "        JSON.parsefile(CONFIG[\"value-iteration\"][\"naive\"][\"filepath\"],use_mmap=false)\n",
    "    )\n",
    "end"
   ]
  },
  {
   "cell_type": "code",
   "execution_count": 32,
   "id": "24ae10bc",
   "metadata": {},
   "outputs": [
    {
     "name": "stdout",
     "output_type": "stream",
     "text": [
      "Episode 101: RMSE=5.35349066338031\n",
      "Episode 102: RMSE=5.085831529477704\n",
      "Episode 103: RMSE=4.831545750031296\n",
      "Episode 104: RMSE=4.589975301251026\n",
      "Episode 105: RMSE=4.360494400860289\n",
      "Episode 106: RMSE=4.142502842483667\n",
      "Episode 107: RMSE=3.9353987138951454\n",
      "Episode 108: RMSE=3.7386369725225195\n",
      "Episode 109: RMSE=3.551706974497102\n",
      "Episode 110: RMSE=3.3741245156234045\n",
      "Episode 111: RMSE=3.205423230547698\n",
      "Episode 112: RMSE=3.0451556966146307\n",
      "Episode 113: RMSE=2.892901366661692\n",
      "Episode 114: RMSE=2.7482614103752026\n",
      "Episode 115: RMSE=2.6108518261912987\n",
      "Episode 116: RMSE=2.480311304589201\n",
      "Episode 117: RMSE=2.3562968651385603\n",
      "Episode 118: RMSE=2.2384826828463544\n",
      "Episode 119: RMSE=2.126559037979792\n",
      "Episode 120: RMSE=2.0202316300885625\n",
      "Episode 121: RMSE=1.9192205620544929\n",
      "Episode 122: RMSE=1.8232597609562056\n",
      "Episode 123: RMSE=1.732096940797657\n",
      "Episode 124: RMSE=1.6454924158456163\n",
      "Episode 125: RMSE=1.5632183619595168\n"
     ]
    }
   ],
   "source": [
    "for i in (1:CONFIG[\"value-iteration\"][\"naive\"][\"episodes\"]).+length(training_log[\"naive\"])\n",
    "    #Start training from the next episode over the last one logged.\n",
    "    Q_Naive_old = deepcopy(Q_Naive)\n",
    "    #Copy the current Q-function before training for comparison. \n",
    "    Q_Naive = value_iteration!(Q_Naive,NAIVE_TRANSITIONS)\n",
    "    #Run one episode of value iteration.\n",
    "    err = Q_function_error(Q_Naive,Q_Naive_old)\n",
    "    #Compute the RMSE for the before and after Q-functions to\n",
    "    #check convergence.\n",
    "    push!(training_log[\"naive\"],err)\n",
    "    #Record the RMSE value in the log.\n",
    "    println(\"Episode $(i): RMSE=$(err)\")\n",
    "end"
   ]
  },
  {
   "cell_type": "code",
   "execution_count": 33,
   "id": "226b3242",
   "metadata": {},
   "outputs": [],
   "source": [
    "if CONFIG[\"value-iteration\"][\"naive\"][\"episodes\"] > 0\n",
    "    open(CONFIG[\"value-iteration\"][\"naive\"][\"filepath\"],\"w\") do f\n",
    "        JSON.print(f,Q_Naive)\n",
    "    end\n",
    "    open(\"training_log.json\",\"w\") do f\n",
    "        JSON.print(f,training_log)\n",
    "    end\n",
    "    #If training was performed, save the trained Q-function and the\n",
    "    #logged RMSE values.\n",
    "end"
   ]
  },
  {
   "cell_type": "code",
   "execution_count": 39,
   "id": "d54211c4",
   "metadata": {
    "scrolled": false
   },
   "outputs": [
    {
     "data": {
      "image/svg+xml": [
       "<?xml version=\"1.0\" encoding=\"utf-8\"?>\n",
       "<svg xmlns=\"http://www.w3.org/2000/svg\" xmlns:xlink=\"http://www.w3.org/1999/xlink\" width=\"600\" height=\"400\" viewBox=\"0 0 2400 1600\">\n",
       "<defs>\n",
       "  <clipPath id=\"clip700\">\n",
       "    <rect x=\"0\" y=\"0\" width=\"2400\" height=\"1600\"/>\n",
       "  </clipPath>\n",
       "</defs>\n",
       "<path clip-path=\"url(#clip700)\" d=\"\n",
       "M0 1600 L2400 1600 L2400 0 L0 0  Z\n",
       "  \" fill=\"#ffffff\" fill-rule=\"evenodd\" fill-opacity=\"1\"/>\n",
       "<defs>\n",
       "  <clipPath id=\"clip701\">\n",
       "    <rect x=\"480\" y=\"0\" width=\"1681\" height=\"1600\"/>\n",
       "  </clipPath>\n",
       "</defs>\n",
       "<path clip-path=\"url(#clip700)\" d=\"\n",
       "M235.283 1423.18 L2352.76 1423.18 L2352.76 123.472 L235.283 123.472  Z\n",
       "  \" fill=\"#ffffff\" fill-rule=\"evenodd\" fill-opacity=\"1\"/>\n",
       "<defs>\n",
       "  <clipPath id=\"clip702\">\n",
       "    <rect x=\"235\" y=\"123\" width=\"2118\" height=\"1301\"/>\n",
       "  </clipPath>\n",
       "</defs>\n",
       "<polyline clip-path=\"url(#clip702)\" style=\"stroke:#000000; stroke-linecap:round; stroke-linejoin:round; stroke-width:2; stroke-opacity:0.1; fill:none\" points=\"\n",
       "  279.102,1423.18 279.102,123.472 \n",
       "  \"/>\n",
       "<polyline clip-path=\"url(#clip702)\" style=\"stroke:#000000; stroke-linecap:round; stroke-linejoin:round; stroke-width:2; stroke-opacity:0.1; fill:none\" points=\"\n",
       "  601.298,1423.18 601.298,123.472 \n",
       "  \"/>\n",
       "<polyline clip-path=\"url(#clip702)\" style=\"stroke:#000000; stroke-linecap:round; stroke-linejoin:round; stroke-width:2; stroke-opacity:0.1; fill:none\" points=\"\n",
       "  923.494,1423.18 923.494,123.472 \n",
       "  \"/>\n",
       "<polyline clip-path=\"url(#clip702)\" style=\"stroke:#000000; stroke-linecap:round; stroke-linejoin:round; stroke-width:2; stroke-opacity:0.1; fill:none\" points=\"\n",
       "  1245.69,1423.18 1245.69,123.472 \n",
       "  \"/>\n",
       "<polyline clip-path=\"url(#clip702)\" style=\"stroke:#000000; stroke-linecap:round; stroke-linejoin:round; stroke-width:2; stroke-opacity:0.1; fill:none\" points=\"\n",
       "  1567.89,1423.18 1567.89,123.472 \n",
       "  \"/>\n",
       "<polyline clip-path=\"url(#clip702)\" style=\"stroke:#000000; stroke-linecap:round; stroke-linejoin:round; stroke-width:2; stroke-opacity:0.1; fill:none\" points=\"\n",
       "  1890.08,1423.18 1890.08,123.472 \n",
       "  \"/>\n",
       "<polyline clip-path=\"url(#clip702)\" style=\"stroke:#000000; stroke-linecap:round; stroke-linejoin:round; stroke-width:2; stroke-opacity:0.1; fill:none\" points=\"\n",
       "  2212.28,1423.18 2212.28,123.472 \n",
       "  \"/>\n",
       "<polyline clip-path=\"url(#clip700)\" style=\"stroke:#000000; stroke-linecap:round; stroke-linejoin:round; stroke-width:4; stroke-opacity:1; fill:none\" points=\"\n",
       "  235.283,1423.18 2352.76,1423.18 \n",
       "  \"/>\n",
       "<polyline clip-path=\"url(#clip700)\" style=\"stroke:#000000; stroke-linecap:round; stroke-linejoin:round; stroke-width:4; stroke-opacity:1; fill:none\" points=\"\n",
       "  279.102,1423.18 279.102,1404.28 \n",
       "  \"/>\n",
       "<polyline clip-path=\"url(#clip700)\" style=\"stroke:#000000; stroke-linecap:round; stroke-linejoin:round; stroke-width:4; stroke-opacity:1; fill:none\" points=\"\n",
       "  601.298,1423.18 601.298,1404.28 \n",
       "  \"/>\n",
       "<polyline clip-path=\"url(#clip700)\" style=\"stroke:#000000; stroke-linecap:round; stroke-linejoin:round; stroke-width:4; stroke-opacity:1; fill:none\" points=\"\n",
       "  923.494,1423.18 923.494,1404.28 \n",
       "  \"/>\n",
       "<polyline clip-path=\"url(#clip700)\" style=\"stroke:#000000; stroke-linecap:round; stroke-linejoin:round; stroke-width:4; stroke-opacity:1; fill:none\" points=\"\n",
       "  1245.69,1423.18 1245.69,1404.28 \n",
       "  \"/>\n",
       "<polyline clip-path=\"url(#clip700)\" style=\"stroke:#000000; stroke-linecap:round; stroke-linejoin:round; stroke-width:4; stroke-opacity:1; fill:none\" points=\"\n",
       "  1567.89,1423.18 1567.89,1404.28 \n",
       "  \"/>\n",
       "<polyline clip-path=\"url(#clip700)\" style=\"stroke:#000000; stroke-linecap:round; stroke-linejoin:round; stroke-width:4; stroke-opacity:1; fill:none\" points=\"\n",
       "  1890.08,1423.18 1890.08,1404.28 \n",
       "  \"/>\n",
       "<polyline clip-path=\"url(#clip700)\" style=\"stroke:#000000; stroke-linecap:round; stroke-linejoin:round; stroke-width:4; stroke-opacity:1; fill:none\" points=\"\n",
       "  2212.28,1423.18 2212.28,1404.28 \n",
       "  \"/>\n",
       "<path clip-path=\"url(#clip700)\" d=\"M279.102 1454.1 Q275.49 1454.1 273.662 1457.66 Q271.856 1461.2 271.856 1468.33 Q271.856 1475.44 273.662 1479.01 Q275.49 1482.55 279.102 1482.55 Q282.736 1482.55 284.541 1479.01 Q286.37 1475.44 286.37 1468.33 Q286.37 1461.2 284.541 1457.66 Q282.736 1454.1 279.102 1454.1 M279.102 1450.39 Q284.912 1450.39 287.967 1455 Q291.046 1459.58 291.046 1468.33 Q291.046 1477.06 287.967 1481.67 Q284.912 1486.25 279.102 1486.25 Q273.291 1486.25 270.213 1481.67 Q267.157 1477.06 267.157 1468.33 Q267.157 1459.58 270.213 1455 Q273.291 1450.39 279.102 1450.39 Z\" fill=\"#000000\" fill-rule=\"evenodd\" fill-opacity=\"1\" /><path clip-path=\"url(#clip700)\" d=\"M580.071 1481.64 L596.39 1481.64 L596.39 1485.58 L574.446 1485.58 L574.446 1481.64 Q577.108 1478.89 581.691 1474.26 Q586.298 1469.61 587.478 1468.27 Q589.724 1465.74 590.603 1464.01 Q591.506 1462.25 591.506 1460.56 Q591.506 1457.8 589.562 1456.07 Q587.64 1454.33 584.538 1454.33 Q582.339 1454.33 579.886 1455.09 Q577.455 1455.86 574.677 1457.41 L574.677 1452.69 Q577.502 1451.55 579.955 1450.97 Q582.409 1450.39 584.446 1450.39 Q589.816 1450.39 593.011 1453.08 Q596.205 1455.77 596.205 1460.26 Q596.205 1462.39 595.395 1464.31 Q594.608 1466.2 592.501 1468.8 Q591.923 1469.47 588.821 1472.69 Q585.719 1475.88 580.071 1481.64 Z\" fill=\"#000000\" fill-rule=\"evenodd\" fill-opacity=\"1\" /><path clip-path=\"url(#clip700)\" d=\"M616.205 1454.1 Q612.594 1454.1 610.765 1457.66 Q608.96 1461.2 608.96 1468.33 Q608.96 1475.44 610.765 1479.01 Q612.594 1482.55 616.205 1482.55 Q619.839 1482.55 621.645 1479.01 Q623.473 1475.44 623.473 1468.33 Q623.473 1461.2 621.645 1457.66 Q619.839 1454.1 616.205 1454.1 M616.205 1450.39 Q622.015 1450.39 625.071 1455 Q628.149 1459.58 628.149 1468.33 Q628.149 1477.06 625.071 1481.67 Q622.015 1486.25 616.205 1486.25 Q610.395 1486.25 607.316 1481.67 Q604.261 1477.06 604.261 1468.33 Q604.261 1459.58 607.316 1455 Q610.395 1450.39 616.205 1450.39 Z\" fill=\"#000000\" fill-rule=\"evenodd\" fill-opacity=\"1\" /><path clip-path=\"url(#clip700)\" d=\"M911.665 1455.09 L899.86 1473.54 L911.665 1473.54 L911.665 1455.09 M910.438 1451.02 L916.318 1451.02 L916.318 1473.54 L921.248 1473.54 L921.248 1477.43 L916.318 1477.43 L916.318 1485.58 L911.665 1485.58 L911.665 1477.43 L896.063 1477.43 L896.063 1472.92 L910.438 1451.02 Z\" fill=\"#000000\" fill-rule=\"evenodd\" fill-opacity=\"1\" /><path clip-path=\"url(#clip700)\" d=\"M938.98 1454.1 Q935.369 1454.1 933.54 1457.66 Q931.735 1461.2 931.735 1468.33 Q931.735 1475.44 933.54 1479.01 Q935.369 1482.55 938.98 1482.55 Q942.614 1482.55 944.42 1479.01 Q946.248 1475.44 946.248 1468.33 Q946.248 1461.2 944.42 1457.66 Q942.614 1454.1 938.98 1454.1 M938.98 1450.39 Q944.79 1450.39 947.846 1455 Q950.924 1459.58 950.924 1468.33 Q950.924 1477.06 947.846 1481.67 Q944.79 1486.25 938.98 1486.25 Q933.17 1486.25 930.091 1481.67 Q927.035 1477.06 927.035 1468.33 Q927.035 1459.58 930.091 1455 Q933.17 1450.39 938.98 1450.39 Z\" fill=\"#000000\" fill-rule=\"evenodd\" fill-opacity=\"1\" /><path clip-path=\"url(#clip700)\" d=\"M1231.1 1466.44 Q1227.95 1466.44 1226.1 1468.59 Q1224.27 1470.74 1224.27 1474.49 Q1224.27 1478.22 1226.1 1480.39 Q1227.95 1482.55 1231.1 1482.55 Q1234.24 1482.55 1236.07 1480.39 Q1237.92 1478.22 1237.92 1474.49 Q1237.92 1470.74 1236.07 1468.59 Q1234.24 1466.44 1231.1 1466.44 M1240.38 1451.78 L1240.38 1456.04 Q1238.62 1455.21 1236.81 1454.77 Q1235.03 1454.33 1233.27 1454.33 Q1228.64 1454.33 1226.19 1457.45 Q1223.76 1460.58 1223.41 1466.9 Q1224.78 1464.89 1226.84 1463.82 Q1228.9 1462.73 1231.37 1462.73 Q1236.58 1462.73 1239.59 1465.9 Q1242.62 1469.05 1242.62 1474.49 Q1242.62 1479.82 1239.47 1483.03 Q1236.33 1486.25 1231.1 1486.25 Q1225.1 1486.25 1221.93 1481.67 Q1218.76 1477.06 1218.76 1468.33 Q1218.76 1460.14 1222.65 1455.28 Q1226.53 1450.39 1233.09 1450.39 Q1234.85 1450.39 1236.63 1450.74 Q1238.43 1451.09 1240.38 1451.78 Z\" fill=\"#000000\" fill-rule=\"evenodd\" fill-opacity=\"1\" /><path clip-path=\"url(#clip700)\" d=\"M1260.68 1454.1 Q1257.07 1454.1 1255.24 1457.66 Q1253.43 1461.2 1253.43 1468.33 Q1253.43 1475.44 1255.24 1479.01 Q1257.07 1482.55 1260.68 1482.55 Q1264.31 1482.55 1266.12 1479.01 Q1267.95 1475.44 1267.95 1468.33 Q1267.95 1461.2 1266.12 1457.66 Q1264.31 1454.1 1260.68 1454.1 M1260.68 1450.39 Q1266.49 1450.39 1269.54 1455 Q1272.62 1459.58 1272.62 1468.33 Q1272.62 1477.06 1269.54 1481.67 Q1266.49 1486.25 1260.68 1486.25 Q1254.87 1486.25 1251.79 1481.67 Q1248.73 1477.06 1248.73 1468.33 Q1248.73 1459.58 1251.79 1455 Q1254.87 1450.39 1260.68 1450.39 Z\" fill=\"#000000\" fill-rule=\"evenodd\" fill-opacity=\"1\" /><path clip-path=\"url(#clip700)\" d=\"M1552.76 1469.17 Q1549.43 1469.17 1547.5 1470.95 Q1545.61 1472.73 1545.61 1475.86 Q1545.61 1478.98 1547.5 1480.77 Q1549.43 1482.55 1552.76 1482.55 Q1556.09 1482.55 1558.01 1480.77 Q1559.93 1478.96 1559.93 1475.86 Q1559.93 1472.73 1558.01 1470.95 Q1556.12 1469.17 1552.76 1469.17 M1548.08 1467.18 Q1545.07 1466.44 1543.38 1464.38 Q1541.72 1462.32 1541.72 1459.35 Q1541.72 1455.21 1544.66 1452.8 Q1547.62 1450.39 1552.76 1450.39 Q1557.92 1450.39 1560.86 1452.8 Q1563.8 1455.21 1563.8 1459.35 Q1563.8 1462.32 1562.11 1464.38 Q1560.44 1466.44 1557.46 1467.18 Q1560.84 1467.96 1562.71 1470.26 Q1564.61 1472.55 1564.61 1475.86 Q1564.61 1480.88 1561.53 1483.57 Q1558.48 1486.25 1552.76 1486.25 Q1547.04 1486.25 1543.96 1483.57 Q1540.91 1480.88 1540.91 1475.86 Q1540.91 1472.55 1542.81 1470.26 Q1544.7 1467.96 1548.08 1467.18 M1546.37 1459.79 Q1546.37 1462.48 1548.04 1463.98 Q1549.73 1465.49 1552.76 1465.49 Q1555.77 1465.49 1557.46 1463.98 Q1559.17 1462.48 1559.17 1459.79 Q1559.17 1457.11 1557.46 1455.6 Q1555.77 1454.1 1552.76 1454.1 Q1549.73 1454.1 1548.04 1455.6 Q1546.37 1457.11 1546.37 1459.79 Z\" fill=\"#000000\" fill-rule=\"evenodd\" fill-opacity=\"1\" /><path clip-path=\"url(#clip700)\" d=\"M1582.92 1454.1 Q1579.31 1454.1 1577.48 1457.66 Q1575.68 1461.2 1575.68 1468.33 Q1575.68 1475.44 1577.48 1479.01 Q1579.31 1482.55 1582.92 1482.55 Q1586.55 1482.55 1588.36 1479.01 Q1590.19 1475.44 1590.19 1468.33 Q1590.19 1461.2 1588.36 1457.66 Q1586.55 1454.1 1582.92 1454.1 M1582.92 1450.39 Q1588.73 1450.39 1591.79 1455 Q1594.87 1459.58 1594.87 1468.33 Q1594.87 1477.06 1591.79 1481.67 Q1588.73 1486.25 1582.92 1486.25 Q1577.11 1486.25 1574.03 1481.67 Q1570.98 1477.06 1570.98 1468.33 Q1570.98 1459.58 1574.03 1455 Q1577.11 1450.39 1582.92 1450.39 Z\" fill=\"#000000\" fill-rule=\"evenodd\" fill-opacity=\"1\" /><path clip-path=\"url(#clip700)\" d=\"M1849.69 1481.64 L1857.33 1481.64 L1857.33 1455.28 L1849.02 1456.95 L1849.02 1452.69 L1857.28 1451.02 L1861.96 1451.02 L1861.96 1481.64 L1869.6 1481.64 L1869.6 1485.58 L1849.69 1485.58 L1849.69 1481.64 Z\" fill=\"#000000\" fill-rule=\"evenodd\" fill-opacity=\"1\" /><path clip-path=\"url(#clip700)\" d=\"M1889.04 1454.1 Q1885.43 1454.1 1883.6 1457.66 Q1881.8 1461.2 1881.8 1468.33 Q1881.8 1475.44 1883.6 1479.01 Q1885.43 1482.55 1889.04 1482.55 Q1892.67 1482.55 1894.48 1479.01 Q1896.31 1475.44 1896.31 1468.33 Q1896.31 1461.2 1894.48 1457.66 Q1892.67 1454.1 1889.04 1454.1 M1889.04 1450.39 Q1894.85 1450.39 1897.91 1455 Q1900.98 1459.58 1900.98 1468.33 Q1900.98 1477.06 1897.91 1481.67 Q1894.85 1486.25 1889.04 1486.25 Q1883.23 1486.25 1880.15 1481.67 Q1877.1 1477.06 1877.1 1468.33 Q1877.1 1459.58 1880.15 1455 Q1883.23 1450.39 1889.04 1450.39 Z\" fill=\"#000000\" fill-rule=\"evenodd\" fill-opacity=\"1\" /><path clip-path=\"url(#clip700)\" d=\"M1919.2 1454.1 Q1915.59 1454.1 1913.76 1457.66 Q1911.96 1461.2 1911.96 1468.33 Q1911.96 1475.44 1913.76 1479.01 Q1915.59 1482.55 1919.2 1482.55 Q1922.84 1482.55 1924.64 1479.01 Q1926.47 1475.44 1926.47 1468.33 Q1926.47 1461.2 1924.64 1457.66 Q1922.84 1454.1 1919.2 1454.1 M1919.2 1450.39 Q1925.01 1450.39 1928.07 1455 Q1931.15 1459.58 1931.15 1468.33 Q1931.15 1477.06 1928.07 1481.67 Q1925.01 1486.25 1919.2 1486.25 Q1913.39 1486.25 1910.31 1481.67 Q1907.26 1477.06 1907.26 1468.33 Q1907.26 1459.58 1910.31 1455 Q1913.39 1450.39 1919.2 1450.39 Z\" fill=\"#000000\" fill-rule=\"evenodd\" fill-opacity=\"1\" /><path clip-path=\"url(#clip700)\" d=\"M2171.89 1481.64 L2179.52 1481.64 L2179.52 1455.28 L2171.21 1456.95 L2171.21 1452.69 L2179.48 1451.02 L2184.15 1451.02 L2184.15 1481.64 L2191.79 1481.64 L2191.79 1485.58 L2171.89 1485.58 L2171.89 1481.64 Z\" fill=\"#000000\" fill-rule=\"evenodd\" fill-opacity=\"1\" /><path clip-path=\"url(#clip700)\" d=\"M2205.26 1481.64 L2221.58 1481.64 L2221.58 1485.58 L2199.64 1485.58 L2199.64 1481.64 Q2202.3 1478.89 2206.88 1474.26 Q2211.49 1469.61 2212.67 1468.27 Q2214.92 1465.74 2215.8 1464.01 Q2216.7 1462.25 2216.7 1460.56 Q2216.7 1457.8 2214.76 1456.07 Q2212.83 1454.33 2209.73 1454.33 Q2207.53 1454.33 2205.08 1455.09 Q2202.65 1455.86 2199.87 1457.41 L2199.87 1452.69 Q2202.7 1451.55 2205.15 1450.97 Q2207.6 1450.39 2209.64 1450.39 Q2215.01 1450.39 2218.2 1453.08 Q2221.4 1455.77 2221.4 1460.26 Q2221.4 1462.39 2220.59 1464.31 Q2219.8 1466.2 2217.7 1468.8 Q2217.12 1469.47 2214.01 1472.69 Q2210.91 1475.88 2205.26 1481.64 Z\" fill=\"#000000\" fill-rule=\"evenodd\" fill-opacity=\"1\" /><path clip-path=\"url(#clip700)\" d=\"M2241.4 1454.1 Q2237.79 1454.1 2235.96 1457.66 Q2234.15 1461.2 2234.15 1468.33 Q2234.15 1475.44 2235.96 1479.01 Q2237.79 1482.55 2241.4 1482.55 Q2245.03 1482.55 2246.84 1479.01 Q2248.67 1475.44 2248.67 1468.33 Q2248.67 1461.2 2246.84 1457.66 Q2245.03 1454.1 2241.4 1454.1 M2241.4 1450.39 Q2247.21 1450.39 2250.26 1455 Q2253.34 1459.58 2253.34 1468.33 Q2253.34 1477.06 2250.26 1481.67 Q2247.21 1486.25 2241.4 1486.25 Q2235.59 1486.25 2232.51 1481.67 Q2229.45 1477.06 2229.45 1468.33 Q2229.45 1459.58 2232.51 1455 Q2235.59 1450.39 2241.4 1450.39 Z\" fill=\"#000000\" fill-rule=\"evenodd\" fill-opacity=\"1\" /><path clip-path=\"url(#clip700)\" d=\"M1028.7 1520.52 L1068.9 1520.52 L1068.9 1525.93 L1052.03 1525.93 L1052.03 1568.04 L1045.57 1568.04 L1045.57 1525.93 L1028.7 1525.93 L1028.7 1520.52 Z\" fill=\"#000000\" fill-rule=\"evenodd\" fill-opacity=\"1\" /><path clip-path=\"url(#clip700)\" d=\"M1085.92 1537.87 Q1084.94 1537.3 1083.76 1537.04 Q1082.61 1536.76 1081.21 1536.76 Q1076.25 1536.76 1073.57 1540 Q1070.93 1543.22 1070.93 1549.27 L1070.93 1568.04 L1065.04 1568.04 L1065.04 1532.4 L1070.93 1532.4 L1070.93 1537.93 Q1072.78 1534.69 1075.74 1533.13 Q1078.7 1531.54 1082.93 1531.54 Q1083.54 1531.54 1084.27 1531.63 Q1085 1531.7 1085.89 1531.85 L1085.92 1537.87 Z\" fill=\"#000000\" fill-rule=\"evenodd\" fill-opacity=\"1\" /><path clip-path=\"url(#clip700)\" d=\"M1108.27 1550.12 Q1101.17 1550.12 1098.43 1551.75 Q1095.7 1553.37 1095.7 1557.29 Q1095.7 1560.4 1097.73 1562.25 Q1099.8 1564.07 1103.33 1564.07 Q1108.2 1564.07 1111.13 1560.63 Q1114.09 1557.16 1114.09 1551.43 L1114.09 1550.12 L1108.27 1550.12 M1119.95 1547.71 L1119.95 1568.04 L1114.09 1568.04 L1114.09 1562.63 Q1112.09 1565.88 1109.1 1567.44 Q1106.1 1568.97 1101.78 1568.97 Q1096.3 1568.97 1093.05 1565.91 Q1089.84 1562.82 1089.84 1557.67 Q1089.84 1551.65 1093.85 1548.6 Q1097.89 1545.54 1105.88 1545.54 L1114.09 1545.54 L1114.09 1544.97 Q1114.09 1540.93 1111.42 1538.73 Q1108.78 1536.5 1103.97 1536.5 Q1100.92 1536.5 1098.02 1537.23 Q1095.12 1537.97 1092.45 1539.43 L1092.45 1534.02 Q1095.66 1532.78 1098.69 1532.17 Q1101.71 1531.54 1104.58 1531.54 Q1112.31 1531.54 1116.13 1535.55 Q1119.95 1539.56 1119.95 1547.71 Z\" fill=\"#000000\" fill-rule=\"evenodd\" fill-opacity=\"1\" /><path clip-path=\"url(#clip700)\" d=\"M1132.01 1532.4 L1137.87 1532.4 L1137.87 1568.04 L1132.01 1568.04 L1132.01 1532.4 M1132.01 1518.52 L1137.87 1518.52 L1137.87 1525.93 L1132.01 1525.93 L1132.01 1518.52 Z\" fill=\"#000000\" fill-rule=\"evenodd\" fill-opacity=\"1\" /><path clip-path=\"url(#clip700)\" d=\"M1179.75 1546.53 L1179.75 1568.04 L1173.9 1568.04 L1173.9 1546.72 Q1173.9 1541.66 1171.93 1539.14 Q1169.95 1536.63 1166.01 1536.63 Q1161.26 1536.63 1158.53 1539.65 Q1155.79 1542.68 1155.79 1547.9 L1155.79 1568.04 L1149.9 1568.04 L1149.9 1532.4 L1155.79 1532.4 L1155.79 1537.93 Q1157.89 1534.72 1160.72 1533.13 Q1163.59 1531.54 1167.31 1531.54 Q1173.45 1531.54 1176.6 1535.36 Q1179.75 1539.14 1179.75 1546.53 Z\" fill=\"#000000\" fill-rule=\"evenodd\" fill-opacity=\"1\" /><path clip-path=\"url(#clip700)\" d=\"M1191.44 1532.4 L1197.29 1532.4 L1197.29 1568.04 L1191.44 1568.04 L1191.44 1532.4 M1191.44 1518.52 L1197.29 1518.52 L1197.29 1525.93 L1191.44 1525.93 L1191.44 1518.52 Z\" fill=\"#000000\" fill-rule=\"evenodd\" fill-opacity=\"1\" /><path clip-path=\"url(#clip700)\" d=\"M1239.18 1546.53 L1239.18 1568.04 L1233.32 1568.04 L1233.32 1546.72 Q1233.32 1541.66 1231.35 1539.14 Q1229.38 1536.63 1225.43 1536.63 Q1220.69 1536.63 1217.95 1539.65 Q1215.21 1542.68 1215.21 1547.9 L1215.21 1568.04 L1209.32 1568.04 L1209.32 1532.4 L1215.21 1532.4 L1215.21 1537.93 Q1217.31 1534.72 1220.15 1533.13 Q1223.01 1531.54 1226.73 1531.54 Q1232.88 1531.54 1236.03 1535.36 Q1239.18 1539.14 1239.18 1546.53 Z\" fill=\"#000000\" fill-rule=\"evenodd\" fill-opacity=\"1\" /><path clip-path=\"url(#clip700)\" d=\"M1274.32 1549.81 Q1274.32 1543.44 1271.68 1539.94 Q1269.07 1536.44 1264.32 1536.44 Q1259.61 1536.44 1256.97 1539.94 Q1254.36 1543.44 1254.36 1549.81 Q1254.36 1556.14 1256.97 1559.64 Q1259.61 1563.14 1264.32 1563.14 Q1269.07 1563.14 1271.68 1559.64 Q1274.32 1556.14 1274.32 1549.81 M1280.17 1563.62 Q1280.17 1572.72 1276.13 1577.15 Q1272.09 1581.6 1263.75 1581.6 Q1260.66 1581.6 1257.93 1581.13 Q1255.19 1580.68 1252.61 1579.72 L1252.61 1574.03 Q1255.19 1575.43 1257.7 1576.1 Q1260.22 1576.76 1262.83 1576.76 Q1268.59 1576.76 1271.45 1573.74 Q1274.32 1570.75 1274.32 1564.67 L1274.32 1561.77 Q1272.5 1564.92 1269.67 1566.48 Q1266.84 1568.04 1262.89 1568.04 Q1256.33 1568.04 1252.32 1563.05 Q1248.31 1558.05 1248.31 1549.81 Q1248.31 1541.53 1252.32 1536.53 Q1256.33 1531.54 1262.89 1531.54 Q1266.84 1531.54 1269.67 1533.1 Q1272.5 1534.66 1274.32 1537.81 L1274.32 1532.4 L1280.17 1532.4 L1280.17 1563.62 Z\" fill=\"#000000\" fill-rule=\"evenodd\" fill-opacity=\"1\" /><path clip-path=\"url(#clip700)\" d=\"M1313.21 1520.52 L1343.26 1520.52 L1343.26 1525.93 L1319.64 1525.93 L1319.64 1540 L1342.27 1540 L1342.27 1545.41 L1319.64 1545.41 L1319.64 1562.63 L1343.83 1562.63 L1343.83 1568.04 L1313.21 1568.04 L1313.21 1520.52 Z\" fill=\"#000000\" fill-rule=\"evenodd\" fill-opacity=\"1\" /><path clip-path=\"url(#clip700)\" d=\"M1359.81 1562.7 L1359.81 1581.6 L1353.92 1581.6 L1353.92 1532.4 L1359.81 1532.4 L1359.81 1537.81 Q1361.66 1534.62 1364.46 1533.1 Q1367.29 1531.54 1371.2 1531.54 Q1377.7 1531.54 1381.74 1536.69 Q1385.81 1541.85 1385.81 1550.25 Q1385.81 1558.65 1381.74 1563.81 Q1377.7 1568.97 1371.2 1568.97 Q1367.29 1568.97 1364.46 1567.44 Q1361.66 1565.88 1359.81 1562.7 M1379.73 1550.25 Q1379.73 1543.79 1377.06 1540.13 Q1374.42 1536.44 1369.77 1536.44 Q1365.12 1536.44 1362.45 1540.13 Q1359.81 1543.79 1359.81 1550.25 Q1359.81 1556.71 1362.45 1560.4 Q1365.12 1564.07 1369.77 1564.07 Q1374.42 1564.07 1377.06 1560.4 Q1379.73 1556.71 1379.73 1550.25 Z\" fill=\"#000000\" fill-rule=\"evenodd\" fill-opacity=\"1\" /><path clip-path=\"url(#clip700)\" d=\"M1395.52 1532.4 L1401.38 1532.4 L1401.38 1568.04 L1395.52 1568.04 L1395.52 1532.4 M1395.52 1518.52 L1401.38 1518.52 L1401.38 1525.93 L1395.52 1525.93 L1395.52 1518.52 Z\" fill=\"#000000\" fill-rule=\"evenodd\" fill-opacity=\"1\" /><path clip-path=\"url(#clip700)\" d=\"M1436.36 1533.45 L1436.36 1538.98 Q1433.87 1537.71 1431.2 1537.07 Q1428.53 1536.44 1425.66 1536.44 Q1421.3 1536.44 1419.11 1537.77 Q1416.94 1539.11 1416.94 1541.79 Q1416.94 1543.82 1418.5 1545 Q1420.06 1546.15 1424.77 1547.2 L1426.78 1547.64 Q1433.01 1548.98 1435.62 1551.43 Q1438.27 1553.85 1438.27 1558.21 Q1438.27 1563.17 1434.32 1566.07 Q1430.4 1568.97 1423.53 1568.97 Q1420.67 1568.97 1417.55 1568.39 Q1414.46 1567.85 1411.02 1566.74 L1411.02 1560.69 Q1414.27 1562.38 1417.42 1563.24 Q1420.57 1564.07 1423.66 1564.07 Q1427.79 1564.07 1430.02 1562.66 Q1432.25 1561.23 1432.25 1558.65 Q1432.25 1556.27 1430.63 1554.99 Q1429.04 1553.72 1423.59 1552.54 L1421.56 1552.07 Q1416.11 1550.92 1413.69 1548.56 Q1411.28 1546.18 1411.28 1542.04 Q1411.28 1537.01 1414.84 1534.27 Q1418.41 1531.54 1424.96 1531.54 Q1428.21 1531.54 1431.07 1532.01 Q1433.94 1532.49 1436.36 1533.45 Z\" fill=\"#000000\" fill-rule=\"evenodd\" fill-opacity=\"1\" /><path clip-path=\"url(#clip700)\" d=\"M1461.41 1536.5 Q1456.7 1536.5 1453.96 1540.19 Q1451.22 1543.85 1451.22 1550.25 Q1451.22 1556.65 1453.93 1560.34 Q1456.66 1564 1461.41 1564 Q1466.08 1564 1468.82 1560.31 Q1471.56 1556.62 1471.56 1550.25 Q1471.56 1543.92 1468.82 1540.23 Q1466.08 1536.5 1461.41 1536.5 M1461.41 1531.54 Q1469.04 1531.54 1473.4 1536.5 Q1477.77 1541.47 1477.77 1550.25 Q1477.77 1559 1473.4 1564 Q1469.04 1568.97 1461.41 1568.97 Q1453.73 1568.97 1449.37 1564 Q1445.05 1559 1445.05 1550.25 Q1445.05 1541.47 1449.37 1536.5 Q1453.73 1531.54 1461.41 1531.54 Z\" fill=\"#000000\" fill-rule=\"evenodd\" fill-opacity=\"1\" /><path clip-path=\"url(#clip700)\" d=\"M1510.93 1537.81 L1510.93 1518.52 L1516.79 1518.52 L1516.79 1568.04 L1510.93 1568.04 L1510.93 1562.7 Q1509.08 1565.88 1506.25 1567.44 Q1503.45 1568.97 1499.5 1568.97 Q1493.04 1568.97 1488.97 1563.81 Q1484.93 1558.65 1484.93 1550.25 Q1484.93 1541.85 1488.97 1536.69 Q1493.04 1531.54 1499.5 1531.54 Q1503.45 1531.54 1506.25 1533.1 Q1509.08 1534.62 1510.93 1537.81 M1490.97 1550.25 Q1490.97 1556.71 1493.62 1560.4 Q1496.29 1564.07 1500.94 1564.07 Q1505.58 1564.07 1508.26 1560.4 Q1510.93 1556.71 1510.93 1550.25 Q1510.93 1543.79 1508.26 1540.13 Q1505.58 1536.44 1500.94 1536.44 Q1496.29 1536.44 1493.62 1540.13 Q1490.97 1543.79 1490.97 1550.25 Z\" fill=\"#000000\" fill-rule=\"evenodd\" fill-opacity=\"1\" /><path clip-path=\"url(#clip700)\" d=\"M1559.34 1548.76 L1559.34 1551.62 L1532.42 1551.62 Q1532.8 1557.67 1536.04 1560.85 Q1539.32 1564 1545.15 1564 Q1548.52 1564 1551.67 1563.17 Q1554.85 1562.35 1557.97 1560.69 L1557.97 1566.23 Q1554.82 1567.57 1551.51 1568.27 Q1548.2 1568.97 1544.8 1568.97 Q1536.27 1568.97 1531.27 1564 Q1526.3 1559.04 1526.3 1550.57 Q1526.3 1541.82 1531.01 1536.69 Q1535.76 1531.54 1543.78 1531.54 Q1550.97 1531.54 1555.14 1536.18 Q1559.34 1540.8 1559.34 1548.76 M1553.49 1547.04 Q1553.42 1542.23 1550.78 1539.37 Q1548.17 1536.5 1543.84 1536.5 Q1538.94 1536.5 1535.98 1539.27 Q1533.05 1542.04 1532.61 1547.07 L1553.49 1547.04 Z\" fill=\"#000000\" fill-rule=\"evenodd\" fill-opacity=\"1\" /><polyline clip-path=\"url(#clip702)\" style=\"stroke:#000000; stroke-linecap:round; stroke-linejoin:round; stroke-width:2; stroke-opacity:0.1; fill:none\" points=\"\n",
       "  235.283,1389.14 2352.76,1389.14 \n",
       "  \"/>\n",
       "<polyline clip-path=\"url(#clip702)\" style=\"stroke:#000000; stroke-linecap:round; stroke-linejoin:round; stroke-width:2; stroke-opacity:0.1; fill:none\" points=\"\n",
       "  235.283,1037.65 2352.76,1037.65 \n",
       "  \"/>\n",
       "<polyline clip-path=\"url(#clip702)\" style=\"stroke:#000000; stroke-linecap:round; stroke-linejoin:round; stroke-width:2; stroke-opacity:0.1; fill:none\" points=\"\n",
       "  235.283,686.164 2352.76,686.164 \n",
       "  \"/>\n",
       "<polyline clip-path=\"url(#clip702)\" style=\"stroke:#000000; stroke-linecap:round; stroke-linejoin:round; stroke-width:2; stroke-opacity:0.1; fill:none\" points=\"\n",
       "  235.283,334.674 2352.76,334.674 \n",
       "  \"/>\n",
       "<polyline clip-path=\"url(#clip700)\" style=\"stroke:#000000; stroke-linecap:round; stroke-linejoin:round; stroke-width:4; stroke-opacity:1; fill:none\" points=\"\n",
       "  235.283,1423.18 235.283,123.472 \n",
       "  \"/>\n",
       "<polyline clip-path=\"url(#clip700)\" style=\"stroke:#000000; stroke-linecap:round; stroke-linejoin:round; stroke-width:4; stroke-opacity:1; fill:none\" points=\"\n",
       "  235.283,1389.14 254.18,1389.14 \n",
       "  \"/>\n",
       "<polyline clip-path=\"url(#clip700)\" style=\"stroke:#000000; stroke-linecap:round; stroke-linejoin:round; stroke-width:4; stroke-opacity:1; fill:none\" points=\"\n",
       "  235.283,1037.65 254.18,1037.65 \n",
       "  \"/>\n",
       "<polyline clip-path=\"url(#clip700)\" style=\"stroke:#000000; stroke-linecap:round; stroke-linejoin:round; stroke-width:4; stroke-opacity:1; fill:none\" points=\"\n",
       "  235.283,686.164 254.18,686.164 \n",
       "  \"/>\n",
       "<polyline clip-path=\"url(#clip700)\" style=\"stroke:#000000; stroke-linecap:round; stroke-linejoin:round; stroke-width:4; stroke-opacity:1; fill:none\" points=\"\n",
       "  235.283,334.674 254.18,334.674 \n",
       "  \"/>\n",
       "<path clip-path=\"url(#clip700)\" d=\"M187.338 1374.94 Q183.727 1374.94 181.899 1378.51 Q180.093 1382.05 180.093 1389.18 Q180.093 1396.28 181.899 1399.85 Q183.727 1403.39 187.338 1403.39 Q190.973 1403.39 192.778 1399.85 Q194.607 1396.28 194.607 1389.18 Q194.607 1382.05 192.778 1378.51 Q190.973 1374.94 187.338 1374.94 M187.338 1371.24 Q193.149 1371.24 196.204 1375.84 Q199.283 1380.43 199.283 1389.18 Q199.283 1397.9 196.204 1402.51 Q193.149 1407.09 187.338 1407.09 Q181.528 1407.09 178.45 1402.51 Q175.394 1397.9 175.394 1389.18 Q175.394 1380.43 178.45 1375.84 Q181.528 1371.24 187.338 1371.24 Z\" fill=\"#000000\" fill-rule=\"evenodd\" fill-opacity=\"1\" /><path clip-path=\"url(#clip700)\" d=\"M121.043 1051 L137.362 1051 L137.362 1054.93 L115.418 1054.93 L115.418 1051 Q118.08 1048.24 122.663 1043.61 Q127.269 1038.96 128.45 1037.62 Q130.695 1035.1 131.575 1033.36 Q132.478 1031.6 132.478 1029.91 Q132.478 1027.16 130.533 1025.42 Q128.612 1023.68 125.51 1023.68 Q123.311 1023.68 120.857 1024.45 Q118.427 1025.21 115.649 1026.76 L115.649 1022.04 Q118.473 1020.91 120.927 1020.33 Q123.38 1019.75 125.418 1019.75 Q130.788 1019.75 133.982 1022.43 Q137.177 1025.12 137.177 1029.61 Q137.177 1031.74 136.367 1033.66 Q135.579 1035.56 133.473 1038.15 Q132.894 1038.82 129.792 1042.04 Q126.691 1045.23 121.043 1051 Z\" fill=\"#000000\" fill-rule=\"evenodd\" fill-opacity=\"1\" /><path clip-path=\"url(#clip700)\" d=\"M157.177 1023.45 Q153.566 1023.45 151.737 1027.02 Q149.931 1030.56 149.931 1037.69 Q149.931 1044.79 151.737 1048.36 Q153.566 1051.9 157.177 1051.9 Q160.811 1051.9 162.616 1048.36 Q164.445 1044.79 164.445 1037.69 Q164.445 1030.56 162.616 1027.02 Q160.811 1023.45 157.177 1023.45 M157.177 1019.75 Q162.987 1019.75 166.042 1024.35 Q169.121 1028.94 169.121 1037.69 Q169.121 1046.41 166.042 1051.02 Q162.987 1055.6 157.177 1055.6 Q151.366 1055.6 148.288 1051.02 Q145.232 1046.41 145.232 1037.69 Q145.232 1028.94 148.288 1024.35 Q151.366 1019.75 157.177 1019.75 Z\" fill=\"#000000\" fill-rule=\"evenodd\" fill-opacity=\"1\" /><path clip-path=\"url(#clip700)\" d=\"M187.338 1023.45 Q183.727 1023.45 181.899 1027.02 Q180.093 1030.56 180.093 1037.69 Q180.093 1044.79 181.899 1048.36 Q183.727 1051.9 187.338 1051.9 Q190.973 1051.9 192.778 1048.36 Q194.607 1044.79 194.607 1037.69 Q194.607 1030.56 192.778 1027.02 Q190.973 1023.45 187.338 1023.45 M187.338 1019.75 Q193.149 1019.75 196.204 1024.35 Q199.283 1028.94 199.283 1037.69 Q199.283 1046.41 196.204 1051.02 Q193.149 1055.6 187.338 1055.6 Q181.528 1055.6 178.45 1051.02 Q175.394 1046.41 175.394 1037.69 Q175.394 1028.94 178.45 1024.35 Q181.528 1019.75 187.338 1019.75 Z\" fill=\"#000000\" fill-rule=\"evenodd\" fill-opacity=\"1\" /><path clip-path=\"url(#clip700)\" d=\"M129.862 672.958 L118.056 691.407 L129.862 691.407 L129.862 672.958 M128.635 668.884 L134.515 668.884 L134.515 691.407 L139.445 691.407 L139.445 695.296 L134.515 695.296 L134.515 703.444 L129.862 703.444 L129.862 695.296 L114.26 695.296 L114.26 690.782 L128.635 668.884 Z\" fill=\"#000000\" fill-rule=\"evenodd\" fill-opacity=\"1\" /><path clip-path=\"url(#clip700)\" d=\"M157.177 671.962 Q153.566 671.962 151.737 675.527 Q149.931 679.069 149.931 686.199 Q149.931 693.305 151.737 696.87 Q153.566 700.411 157.177 700.411 Q160.811 700.411 162.616 696.87 Q164.445 693.305 164.445 686.199 Q164.445 679.069 162.616 675.527 Q160.811 671.962 157.177 671.962 M157.177 668.259 Q162.987 668.259 166.042 672.865 Q169.121 677.449 169.121 686.199 Q169.121 694.925 166.042 699.532 Q162.987 704.115 157.177 704.115 Q151.366 704.115 148.288 699.532 Q145.232 694.925 145.232 686.199 Q145.232 677.449 148.288 672.865 Q151.366 668.259 157.177 668.259 Z\" fill=\"#000000\" fill-rule=\"evenodd\" fill-opacity=\"1\" /><path clip-path=\"url(#clip700)\" d=\"M187.338 671.962 Q183.727 671.962 181.899 675.527 Q180.093 679.069 180.093 686.199 Q180.093 693.305 181.899 696.87 Q183.727 700.411 187.338 700.411 Q190.973 700.411 192.778 696.87 Q194.607 693.305 194.607 686.199 Q194.607 679.069 192.778 675.527 Q190.973 671.962 187.338 671.962 M187.338 668.259 Q193.149 668.259 196.204 672.865 Q199.283 677.449 199.283 686.199 Q199.283 694.925 196.204 699.532 Q193.149 704.115 187.338 704.115 Q181.528 704.115 178.45 699.532 Q175.394 694.925 175.394 686.199 Q175.394 677.449 178.45 672.865 Q181.528 668.259 187.338 668.259 Z\" fill=\"#000000\" fill-rule=\"evenodd\" fill-opacity=\"1\" /><path clip-path=\"url(#clip700)\" d=\"M127.593 332.811 Q124.445 332.811 122.593 334.964 Q120.765 337.116 120.765 340.866 Q120.765 344.593 122.593 346.769 Q124.445 348.922 127.593 348.922 Q130.742 348.922 132.57 346.769 Q134.422 344.593 134.422 340.866 Q134.422 337.116 132.57 334.964 Q130.742 332.811 127.593 332.811 M136.876 318.158 L136.876 322.417 Q135.117 321.584 133.311 321.144 Q131.529 320.704 129.769 320.704 Q125.14 320.704 122.686 323.829 Q120.255 326.954 119.908 333.274 Q121.274 331.26 123.334 330.195 Q125.394 329.107 127.871 329.107 Q133.08 329.107 136.089 332.278 Q139.121 335.427 139.121 340.866 Q139.121 346.19 135.973 349.408 Q132.825 352.625 127.593 352.625 Q121.598 352.625 118.427 348.042 Q115.256 343.436 115.256 334.709 Q115.256 326.515 119.144 321.653 Q123.033 316.769 129.584 316.769 Q131.343 316.769 133.126 317.116 Q134.931 317.464 136.876 318.158 Z\" fill=\"#000000\" fill-rule=\"evenodd\" fill-opacity=\"1\" /><path clip-path=\"url(#clip700)\" d=\"M157.177 320.473 Q153.566 320.473 151.737 324.038 Q149.931 327.579 149.931 334.709 Q149.931 341.815 151.737 345.38 Q153.566 348.922 157.177 348.922 Q160.811 348.922 162.616 345.38 Q164.445 341.815 164.445 334.709 Q164.445 327.579 162.616 324.038 Q160.811 320.473 157.177 320.473 M157.177 316.769 Q162.987 316.769 166.042 321.376 Q169.121 325.959 169.121 334.709 Q169.121 343.436 166.042 348.042 Q162.987 352.625 157.177 352.625 Q151.366 352.625 148.288 348.042 Q145.232 343.436 145.232 334.709 Q145.232 325.959 148.288 321.376 Q151.366 316.769 157.177 316.769 Z\" fill=\"#000000\" fill-rule=\"evenodd\" fill-opacity=\"1\" /><path clip-path=\"url(#clip700)\" d=\"M187.338 320.473 Q183.727 320.473 181.899 324.038 Q180.093 327.579 180.093 334.709 Q180.093 341.815 181.899 345.38 Q183.727 348.922 187.338 348.922 Q190.973 348.922 192.778 345.38 Q194.607 341.815 194.607 334.709 Q194.607 327.579 192.778 324.038 Q190.973 320.473 187.338 320.473 M187.338 316.769 Q193.149 316.769 196.204 321.376 Q199.283 325.959 199.283 334.709 Q199.283 343.436 196.204 348.042 Q193.149 352.625 187.338 352.625 Q181.528 352.625 178.45 348.042 Q175.394 343.436 175.394 334.709 Q175.394 325.959 178.45 321.376 Q181.528 316.769 187.338 316.769 Z\" fill=\"#000000\" fill-rule=\"evenodd\" fill-opacity=\"1\" /><path clip-path=\"url(#clip700)\" d=\"M20.8447 1141.26 Q20.8447 1148.27 26.0645 1152.4 Q31.2844 1156.51 40.2919 1156.51 Q49.2675 1156.51 54.4874 1152.4 Q59.7073 1148.27 59.7073 1141.26 Q59.7073 1134.26 54.4874 1130.19 Q49.2675 1126.08 40.2919 1126.08 Q31.2844 1126.08 26.0645 1130.19 Q20.8447 1134.26 20.8447 1141.26 M63.1448 1132.26 L72.4069 1123.79 L72.4069 1131.56 L64.7999 1138.59 Q64.8635 1139.64 64.8954 1140.21 Q64.9272 1140.75 64.9272 1141.26 Q64.9272 1151.29 58.2432 1157.31 Q51.5274 1163.29 40.2919 1163.29 Q29.0246 1163.29 22.3406 1157.31 Q15.6248 1151.29 15.6248 1141.26 Q15.6248 1131.27 22.3406 1125.29 Q29.0246 1119.3 40.2919 1119.3 Q48.5673 1119.3 54.4556 1122.64 Q60.3439 1125.95 63.1448 1132.26 Z\" fill=\"#000000\" fill-rule=\"evenodd\" fill-opacity=\"1\" /><path clip-path=\"url(#clip700)\" d=\"M43.5384 1110.64 L43.5384 1093.49 L48.7583 1093.49 L48.7583 1110.64 L43.5384 1110.64 Z\" fill=\"#000000\" fill-rule=\"evenodd\" fill-opacity=\"1\" /><path clip-path=\"url(#clip700)\" d=\"M16.4842 1083.91 L16.4842 1056.6 L21.895 1056.6 L21.895 1077.48 L35.8996 1077.48 L35.8996 1058.64 L41.3104 1058.64 L41.3104 1077.48 L64.0042 1077.48 L64.0042 1083.91 L16.4842 1083.91 Z\" fill=\"#000000\" fill-rule=\"evenodd\" fill-opacity=\"1\" /><path clip-path=\"url(#clip700)\" d=\"M49.9359 1050.84 L28.3562 1050.84 L28.3562 1044.98 L49.7131 1044.98 Q54.7739 1044.98 57.3202 1043.01 Q59.8346 1041.04 59.8346 1037.09 Q59.8346 1032.35 56.8109 1029.61 Q53.7872 1026.84 48.5673 1026.84 L28.3562 1026.84 L28.3562 1020.98 L64.0042 1020.98 L64.0042 1026.84 L58.5296 1026.84 Q61.7762 1028.97 63.3676 1031.81 Q64.9272 1034.61 64.9272 1038.33 Q64.9272 1044.47 61.1078 1047.66 Q57.2883 1050.84 49.9359 1050.84 M27.4968 1036.1 L27.4968 1036.1 Z\" fill=\"#000000\" fill-rule=\"evenodd\" fill-opacity=\"1\" /><path clip-path=\"url(#clip700)\" d=\"M42.4881 979.288 L64.0042 979.288 L64.0042 985.145 L42.679 985.145 Q37.6183 985.145 35.1038 987.118 Q32.5894 989.092 32.5894 993.038 Q32.5894 997.781 35.6131 1000.52 Q38.6368 1003.26 43.8567 1003.26 L64.0042 1003.26 L64.0042 1009.14 L28.3562 1009.14 L28.3562 1003.26 L33.8944 1003.26 Q30.6797 1001.15 29.0883 998.322 Q27.4968 995.457 27.4968 991.733 Q27.4968 985.59 31.3163 982.439 Q35.1038 979.288 42.4881 979.288 Z\" fill=\"#000000\" fill-rule=\"evenodd\" fill-opacity=\"1\" /><path clip-path=\"url(#clip700)\" d=\"M29.7248 941.954 L35.1993 941.954 Q33.8307 944.436 33.1623 946.951 Q32.4621 949.433 32.4621 951.98 Q32.4621 957.677 36.0905 960.828 Q39.6872 963.979 46.212 963.979 Q52.7369 963.979 56.3653 960.828 Q59.9619 957.677 59.9619 951.98 Q59.9619 949.433 59.2935 946.951 Q58.5933 944.436 57.2247 941.954 L62.6355 941.954 Q63.7814 944.404 64.3543 947.046 Q64.9272 949.656 64.9272 952.616 Q64.9272 960.669 59.8664 965.411 Q54.8057 970.154 46.212 970.154 Q37.491 970.154 32.4939 965.379 Q27.4968 960.573 27.4968 952.234 Q27.4968 949.529 28.0697 946.951 Q28.6108 944.373 29.7248 941.954 Z\" fill=\"#000000\" fill-rule=\"evenodd\" fill-opacity=\"1\" /><path clip-path=\"url(#clip700)\" d=\"M18.2347 925.976 L28.3562 925.976 L28.3562 913.913 L32.9077 913.913 L32.9077 925.976 L52.2594 925.976 Q56.6199 925.976 57.8613 924.798 Q59.1026 923.588 59.1026 919.928 L59.1026 913.913 L64.0042 913.913 L64.0042 919.928 Q64.0042 926.708 61.4897 929.286 Q58.9434 931.864 52.2594 931.864 L32.9077 931.864 L32.9077 936.161 L28.3562 936.161 L28.3562 931.864 L18.2347 931.864 L18.2347 925.976 Z\" fill=\"#000000\" fill-rule=\"evenodd\" fill-opacity=\"1\" /><path clip-path=\"url(#clip700)\" d=\"M28.3562 906.21 L28.3562 900.354 L64.0042 900.354 L64.0042 906.21 L28.3562 906.21 M14.479 906.21 L14.479 900.354 L21.895 900.354 L21.895 906.21 L14.479 906.21 Z\" fill=\"#000000\" fill-rule=\"evenodd\" fill-opacity=\"1\" /><path clip-path=\"url(#clip700)\" d=\"M32.4621 874.286 Q32.4621 878.997 36.1542 881.734 Q39.8145 884.471 46.212 884.471 Q52.6095 884.471 56.3017 881.766 Q59.9619 879.029 59.9619 874.286 Q59.9619 869.607 56.2698 866.87 Q52.5777 864.133 46.212 864.133 Q39.8781 864.133 36.186 866.87 Q32.4621 869.607 32.4621 874.286 M27.4968 874.286 Q27.4968 866.647 32.4621 862.287 Q37.4273 857.926 46.212 857.926 Q54.9649 857.926 59.9619 862.287 Q64.9272 866.647 64.9272 874.286 Q64.9272 881.957 59.9619 886.317 Q54.9649 890.646 46.212 890.646 Q37.4273 890.646 32.4621 886.317 Q27.4968 881.957 27.4968 874.286 Z\" fill=\"#000000\" fill-rule=\"evenodd\" fill-opacity=\"1\" /><path clip-path=\"url(#clip700)\" d=\"M42.4881 818.586 L64.0042 818.586 L64.0042 824.443 L42.679 824.443 Q37.6183 824.443 35.1038 826.416 Q32.5894 828.389 32.5894 832.336 Q32.5894 837.079 35.6131 839.816 Q38.6368 842.553 43.8567 842.553 L64.0042 842.553 L64.0042 848.441 L28.3562 848.441 L28.3562 842.553 L33.8944 842.553 Q30.6797 840.452 29.0883 837.62 Q27.4968 834.755 27.4968 831.031 Q27.4968 824.888 31.3163 821.737 Q35.1038 818.586 42.4881 818.586 Z\" fill=\"#000000\" fill-rule=\"evenodd\" fill-opacity=\"1\" /><path clip-path=\"url(#clip700)\" d=\"M16.4842 785.93 L16.4842 755.884 L21.895 755.884 L21.895 779.501 L35.9632 779.501 L35.9632 756.871 L41.3741 756.871 L41.3741 779.501 L58.5933 779.501 L58.5933 755.311 L64.0042 755.311 L64.0042 785.93 L16.4842 785.93 Z\" fill=\"#000000\" fill-rule=\"evenodd\" fill-opacity=\"1\" /><path clip-path=\"url(#clip700)\" d=\"M33.8307 724.342 Q33.2578 725.329 33.0032 726.506 Q32.7167 727.652 32.7167 729.052 Q32.7167 734.018 35.9632 736.691 Q39.1779 739.333 45.2253 739.333 L64.0042 739.333 L64.0042 745.221 L28.3562 745.221 L28.3562 739.333 L33.8944 739.333 Q30.6479 737.487 29.0883 734.527 Q27.4968 731.567 27.4968 727.334 Q27.4968 726.729 27.5923 725.997 Q27.656 725.265 27.8151 724.374 L33.8307 724.342 Z\" fill=\"#000000\" fill-rule=\"evenodd\" fill-opacity=\"1\" /><path clip-path=\"url(#clip700)\" d=\"M33.8307 698.688 Q33.2578 699.675 33.0032 700.852 Q32.7167 701.998 32.7167 703.399 Q32.7167 708.364 35.9632 711.038 Q39.1779 713.679 45.2253 713.679 L64.0042 713.679 L64.0042 719.568 L28.3562 719.568 L28.3562 713.679 L33.8944 713.679 Q30.6479 711.833 29.0883 708.873 Q27.4968 705.913 27.4968 701.68 Q27.4968 701.075 27.5923 700.343 Q27.656 699.611 27.8151 698.72 L33.8307 698.688 Z\" fill=\"#000000\" fill-rule=\"evenodd\" fill-opacity=\"1\" /><path clip-path=\"url(#clip700)\" d=\"M32.4621 680.164 Q32.4621 684.874 36.1542 687.612 Q39.8145 690.349 46.212 690.349 Q52.6095 690.349 56.3017 687.644 Q59.9619 684.906 59.9619 680.164 Q59.9619 675.485 56.2698 672.748 Q52.5777 670.011 46.212 670.011 Q39.8781 670.011 36.186 672.748 Q32.4621 675.485 32.4621 680.164 M27.4968 680.164 Q27.4968 672.525 32.4621 668.165 Q37.4273 663.804 46.212 663.804 Q54.9649 663.804 59.9619 668.165 Q64.9272 672.525 64.9272 680.164 Q64.9272 687.835 59.9619 692.195 Q54.9649 696.524 46.212 696.524 Q37.4273 696.524 32.4621 692.195 Q27.4968 687.835 27.4968 680.164 Z\" fill=\"#000000\" fill-rule=\"evenodd\" fill-opacity=\"1\" /><path clip-path=\"url(#clip700)\" d=\"M33.8307 633.44 Q33.2578 634.426 33.0032 635.604 Q32.7167 636.75 32.7167 638.15 Q32.7167 643.115 35.9632 645.789 Q39.1779 648.431 45.2253 648.431 L64.0042 648.431 L64.0042 654.319 L28.3562 654.319 L28.3562 648.431 L33.8944 648.431 Q30.6479 646.585 29.0883 643.625 Q27.4968 640.665 27.4968 636.431 Q27.4968 635.827 27.5923 635.095 Q27.656 634.363 27.8151 633.471 L33.8307 633.44 Z\" fill=\"#000000\" fill-rule=\"evenodd\" fill-opacity=\"1\" /><path clip-path=\"url(#clip700)\" d=\"M14.5426 592.508 Q21.8632 596.773 29.0246 598.842 Q36.186 600.911 43.5384 600.911 Q50.8908 600.911 58.1159 598.842 Q65.3091 596.741 72.5979 592.508 L72.5979 597.601 Q65.1182 602.375 57.8931 604.762 Q50.668 607.117 43.5384 607.117 Q36.4406 607.117 29.2474 604.762 Q22.0542 602.407 14.5426 597.601 L14.5426 592.508 Z\" fill=\"#000000\" fill-rule=\"evenodd\" fill-opacity=\"1\" /><path clip-path=\"url(#clip700)\" d=\"M41.7242 558.356 Q42.4244 556.287 44.7161 554.346 Q47.0077 552.372 51.0181 550.399 L64.0042 543.874 L64.0042 550.781 L51.8138 556.86 Q47.0395 559.215 45.48 561.443 Q43.9204 563.64 43.9204 567.459 L43.9204 574.461 L64.0042 574.461 L64.0042 580.891 L16.4842 580.891 L16.4842 566.377 Q16.4842 558.229 19.8898 554.218 Q23.2955 550.208 30.1704 550.208 Q34.6582 550.208 37.6183 552.309 Q40.5784 554.378 41.7242 558.356 M21.7677 574.461 L38.6368 574.461 L38.6368 566.377 Q38.6368 561.73 36.5043 559.375 Q34.34 556.987 30.1704 556.987 Q26.0009 556.987 23.9002 559.375 Q21.7677 561.73 21.7677 566.377 L21.7677 574.461 Z\" fill=\"#000000\" fill-rule=\"evenodd\" fill-opacity=\"1\" /><path clip-path=\"url(#clip700)\" d=\"M16.4842 535.599 L16.4842 526.018 L48.8219 513.892 L16.4842 501.701 L16.4842 492.121 L64.0042 492.121 L64.0042 498.391 L22.277 498.391 L54.8694 510.645 L54.8694 517.106 L22.277 529.36 L64.0042 529.36 L64.0042 535.599 L16.4842 535.599 Z\" fill=\"#000000\" fill-rule=\"evenodd\" fill-opacity=\"1\" /><path clip-path=\"url(#clip700)\" d=\"M18.0438 450.871 L24.314 450.871 Q22.5634 454.531 21.704 457.778 Q20.8447 461.024 20.8447 464.048 Q20.8447 469.3 22.8817 472.164 Q24.9187 474.997 28.6745 474.997 Q31.8255 474.997 33.4488 473.119 Q35.0402 471.21 36.0269 465.926 L36.8226 462.043 Q38.1912 454.85 41.6605 451.444 Q45.098 448.007 50.8908 448.007 Q57.7976 448.007 61.3624 452.654 Q64.9272 457.269 64.9272 466.212 Q64.9272 469.586 64.1633 473.406 Q63.3994 477.193 61.9035 481.267 L55.2831 481.267 Q57.4793 477.352 58.5933 473.597 Q59.7073 469.841 59.7073 466.212 Q59.7073 460.706 57.543 457.714 Q55.3786 454.722 51.3682 454.722 Q47.8671 454.722 45.8937 456.887 Q43.9204 459.019 42.9337 463.921 L42.1698 467.836 Q40.7375 475.029 37.682 478.244 Q34.6264 481.458 29.1837 481.458 Q22.8817 481.458 19.2532 477.034 Q15.6248 472.578 15.6248 464.78 Q15.6248 461.438 16.2295 457.969 Q16.8343 454.5 18.0438 450.871 Z\" fill=\"#000000\" fill-rule=\"evenodd\" fill-opacity=\"1\" /><path clip-path=\"url(#clip700)\" d=\"M16.4842 437.981 L16.4842 407.934 L21.895 407.934 L21.895 431.551 L35.9632 431.551 L35.9632 408.921 L41.3741 408.921 L41.3741 431.551 L58.5933 431.551 L58.5933 407.362 L64.0042 407.362 L64.0042 437.981 L16.4842 437.981 Z\" fill=\"#000000\" fill-rule=\"evenodd\" fill-opacity=\"1\" /><path clip-path=\"url(#clip700)\" d=\"M14.5426 397.972 L14.5426 392.88 Q22.0542 388.105 29.2474 385.75 Q36.4406 383.363 43.5384 383.363 Q50.668 383.363 57.8931 385.75 Q65.1182 388.105 72.5979 392.88 L72.5979 397.972 Q65.3091 393.739 58.1159 391.67 Q50.8908 389.569 43.5384 389.569 Q36.186 389.569 29.0246 391.67 Q21.8632 393.739 14.5426 397.972 Z\" fill=\"#000000\" fill-rule=\"evenodd\" fill-opacity=\"1\" /><path clip-path=\"url(#clip700)\" d=\"M700.299 12.096 L751.462 12.096 L751.462 18.9825 L729.992 18.9825 L729.992 72.576 L721.768 72.576 L721.768 18.9825 L700.299 18.9825 L700.299 12.096 Z\" fill=\"#000000\" fill-rule=\"evenodd\" fill-opacity=\"1\" /><path clip-path=\"url(#clip700)\" d=\"M773.134 34.1734 Q771.878 33.4443 770.379 33.1202 Q768.921 32.7556 767.139 32.7556 Q760.819 32.7556 757.416 36.8875 Q754.054 40.9789 754.054 48.6757 L754.054 72.576 L746.56 72.576 L746.56 27.2059 L754.054 27.2059 L754.054 34.2544 Q756.404 30.1225 760.171 28.1376 Q763.938 26.1121 769.326 26.1121 Q770.096 26.1121 771.027 26.2337 Q771.959 26.3147 773.093 26.5172 L773.134 34.1734 Z\" fill=\"#000000\" fill-rule=\"evenodd\" fill-opacity=\"1\" /><path clip-path=\"url(#clip700)\" d=\"M801.571 49.7694 Q792.538 49.7694 789.054 51.8354 Q785.57 53.9013 785.57 58.8839 Q785.57 62.8538 788.163 65.2034 Q790.796 67.5124 795.292 67.5124 Q801.49 67.5124 805.217 63.1374 Q808.984 58.7219 808.984 51.4303 L808.984 49.7694 L801.571 49.7694 M816.438 46.6907 L816.438 72.576 L808.984 72.576 L808.984 65.6895 Q806.432 69.8214 802.624 71.8063 Q798.817 73.7508 793.307 73.7508 Q786.34 73.7508 782.208 69.8619 Q778.116 65.9325 778.116 59.3701 Q778.116 51.7138 783.221 47.825 Q788.365 43.9361 798.533 43.9361 L808.984 43.9361 L808.984 43.2069 Q808.984 38.0623 805.582 35.2672 Q802.219 32.4315 796.102 32.4315 Q792.214 32.4315 788.527 33.3632 Q784.841 34.295 781.438 36.1584 L781.438 29.2718 Q785.53 27.692 789.378 26.9223 Q793.226 26.1121 796.872 26.1121 Q806.716 26.1121 811.577 31.2163 Q816.438 36.3204 816.438 46.6907 Z\" fill=\"#000000\" fill-rule=\"evenodd\" fill-opacity=\"1\" /><path clip-path=\"url(#clip700)\" d=\"M831.791 27.2059 L839.245 27.2059 L839.245 72.576 L831.791 72.576 L831.791 27.2059 M831.791 9.54393 L839.245 9.54393 L839.245 18.9825 L831.791 18.9825 L831.791 9.54393 Z\" fill=\"#000000\" fill-rule=\"evenodd\" fill-opacity=\"1\" /><path clip-path=\"url(#clip700)\" d=\"M892.555 45.1919 L892.555 72.576 L885.101 72.576 L885.101 45.4349 Q885.101 38.994 882.589 35.7938 Q880.078 32.5936 875.055 32.5936 Q869.019 32.5936 865.535 36.4419 Q862.051 40.2903 862.051 46.9338 L862.051 72.576 L854.557 72.576 L854.557 27.2059 L862.051 27.2059 L862.051 34.2544 Q864.725 30.163 868.33 28.1376 Q871.976 26.1121 876.715 26.1121 Q884.534 26.1121 888.544 30.9732 Q892.555 35.7938 892.555 45.1919 Z\" fill=\"#000000\" fill-rule=\"evenodd\" fill-opacity=\"1\" /><path clip-path=\"url(#clip700)\" d=\"M907.421 27.2059 L914.875 27.2059 L914.875 72.576 L907.421 72.576 L907.421 27.2059 M907.421 9.54393 L914.875 9.54393 L914.875 18.9825 L907.421 18.9825 L907.421 9.54393 Z\" fill=\"#000000\" fill-rule=\"evenodd\" fill-opacity=\"1\" /><path clip-path=\"url(#clip700)\" d=\"M968.185 45.1919 L968.185 72.576 L960.731 72.576 L960.731 45.4349 Q960.731 38.994 958.22 35.7938 Q955.708 32.5936 950.685 32.5936 Q944.649 32.5936 941.165 36.4419 Q937.682 40.2903 937.682 46.9338 L937.682 72.576 L930.187 72.576 L930.187 27.2059 L937.682 27.2059 L937.682 34.2544 Q940.355 30.163 943.96 28.1376 Q947.606 26.1121 952.346 26.1121 Q960.164 26.1121 964.175 30.9732 Q968.185 35.7938 968.185 45.1919 Z\" fill=\"#000000\" fill-rule=\"evenodd\" fill-opacity=\"1\" /><path clip-path=\"url(#clip700)\" d=\"M1012.91 49.3643 Q1012.91 41.2625 1009.54 36.8065 Q1006.22 32.3505 1000.19 32.3505 Q994.192 32.3505 990.829 36.8065 Q987.508 41.2625 987.508 49.3643 Q987.508 57.4256 990.829 61.8816 Q994.192 66.3376 1000.19 66.3376 Q1006.22 66.3376 1009.54 61.8816 Q1012.91 57.4256 1012.91 49.3643 M1020.36 66.9452 Q1020.36 78.5308 1015.22 84.1616 Q1010.07 89.8329 999.458 89.8329 Q995.529 89.8329 992.045 89.2252 Q988.561 88.6581 985.28 87.4428 L985.28 80.1917 Q988.561 81.9741 991.761 82.8248 Q994.961 83.6755 998.283 83.6755 Q1005.62 83.6755 1009.26 79.8271 Q1012.91 76.0193 1012.91 68.282 L1012.91 64.5957 Q1010.6 68.6061 1006.99 70.5911 Q1003.39 72.576 998.364 72.576 Q990.019 72.576 984.915 66.2161 Q979.811 59.8562 979.811 49.3643 Q979.811 38.832 984.915 32.472 Q990.019 26.1121 998.364 26.1121 Q1003.39 26.1121 1006.99 28.0971 Q1010.6 30.082 1012.91 34.0924 L1012.91 27.2059 L1020.36 27.2059 L1020.36 66.9452 Z\" fill=\"#000000\" fill-rule=\"evenodd\" fill-opacity=\"1\" /><path clip-path=\"url(#clip700)\" d=\"M1107.7 16.7545 L1107.7 25.383 Q1103.57 21.5346 1098.87 19.6307 Q1094.21 17.7268 1088.94 17.7268 Q1078.57 17.7268 1073.06 24.0867 Q1067.55 30.4061 1067.55 42.3968 Q1067.55 54.3469 1073.06 60.7069 Q1078.57 67.0263 1088.94 67.0263 Q1094.21 67.0263 1098.87 65.1223 Q1103.57 63.2184 1107.7 59.3701 L1107.7 67.9175 Q1103.4 70.8341 1098.58 72.2924 Q1093.8 73.7508 1088.46 73.7508 Q1074.72 73.7508 1066.82 65.3654 Q1058.93 56.9395 1058.93 42.3968 Q1058.93 27.8135 1066.82 19.4281 Q1074.72 11.0023 1088.46 11.0023 Q1093.88 11.0023 1098.66 12.4606 Q1103.49 13.8784 1107.7 16.7545 Z\" fill=\"#000000\" fill-rule=\"evenodd\" fill-opacity=\"1\" /><path clip-path=\"url(#clip700)\" d=\"M1119.24 54.671 L1119.24 27.2059 L1126.7 27.2059 L1126.7 54.3874 Q1126.7 60.8284 1129.21 64.0691 Q1131.72 67.2693 1136.74 67.2693 Q1142.78 67.2693 1146.26 63.421 Q1149.79 59.5726 1149.79 52.9291 L1149.79 27.2059 L1157.24 27.2059 L1157.24 72.576 L1149.79 72.576 L1149.79 65.6084 Q1147.07 69.7404 1143.47 71.7658 Q1139.9 73.7508 1135.16 73.7508 Q1127.34 73.7508 1123.29 68.8897 Q1119.24 64.0286 1119.24 54.671 M1138 26.1121 L1138 26.1121 Z\" fill=\"#000000\" fill-rule=\"evenodd\" fill-opacity=\"1\" /><path clip-path=\"url(#clip700)\" d=\"M1198.88 34.1734 Q1197.63 33.4443 1196.13 33.1202 Q1194.67 32.7556 1192.89 32.7556 Q1186.57 32.7556 1183.17 36.8875 Q1179.8 40.9789 1179.8 48.6757 L1179.8 72.576 L1172.31 72.576 L1172.31 27.2059 L1179.8 27.2059 L1179.8 34.2544 Q1182.15 30.1225 1185.92 28.1376 Q1189.69 26.1121 1195.08 26.1121 Q1195.85 26.1121 1196.78 26.2337 Q1197.71 26.3147 1198.84 26.5172 L1198.88 34.1734 Z\" fill=\"#000000\" fill-rule=\"evenodd\" fill-opacity=\"1\" /><path clip-path=\"url(#clip700)\" d=\"M1201.35 27.2059 L1209.25 27.2059 L1223.43 65.2844 L1237.61 27.2059 L1245.51 27.2059 L1228.5 72.576 L1218.37 72.576 L1201.35 27.2059 Z\" fill=\"#000000\" fill-rule=\"evenodd\" fill-opacity=\"1\" /><path clip-path=\"url(#clip700)\" d=\"M1294.61 48.0275 L1294.61 51.6733 L1260.34 51.6733 Q1260.82 59.3701 1264.95 63.421 Q1269.13 67.4314 1276.54 67.4314 Q1280.83 67.4314 1284.84 66.3781 Q1288.89 65.3249 1292.86 63.2184 L1292.86 70.267 Q1288.85 71.9684 1284.64 72.8596 Q1280.43 73.7508 1276.09 73.7508 Q1265.24 73.7508 1258.88 67.4314 Q1252.56 61.1119 1252.56 50.3365 Q1252.56 39.1965 1258.55 32.6746 Q1264.59 26.1121 1274.8 26.1121 Q1283.95 26.1121 1289.26 32.0264 Q1294.61 37.9003 1294.61 48.0275 M1287.15 45.84 Q1287.07 39.7232 1283.71 36.0774 Q1280.39 32.4315 1274.88 32.4315 Q1268.64 32.4315 1264.87 35.9558 Q1261.15 39.4801 1260.58 45.8805 L1287.15 45.84 Z\" fill=\"#000000\" fill-rule=\"evenodd\" fill-opacity=\"1\" /><path clip-path=\"url(#clip700)\" d=\"M1329.44 46.5287 L1351.28 46.5287 L1351.28 53.1722 L1329.44 53.1722 L1329.44 46.5287 Z\" fill=\"#000000\" fill-rule=\"evenodd\" fill-opacity=\"1\" /><path clip-path=\"url(#clip700)\" d=\"M1389.84 12.096 L1400.86 12.096 L1427.68 62.6918 L1427.68 12.096 L1435.62 12.096 L1435.62 72.576 L1424.6 72.576 L1397.78 21.9802 L1397.78 72.576 L1389.84 72.576 L1389.84 12.096 Z\" fill=\"#000000\" fill-rule=\"evenodd\" fill-opacity=\"1\" /><path clip-path=\"url(#clip700)\" d=\"M1472.2 49.7694 Q1463.16 49.7694 1459.68 51.8354 Q1456.2 53.9013 1456.2 58.8839 Q1456.2 62.8538 1458.79 65.2034 Q1461.42 67.5124 1465.92 67.5124 Q1472.12 67.5124 1475.84 63.1374 Q1479.61 58.7219 1479.61 51.4303 L1479.61 49.7694 L1472.2 49.7694 M1487.07 46.6907 L1487.07 72.576 L1479.61 72.576 L1479.61 65.6895 Q1477.06 69.8214 1473.25 71.8063 Q1469.44 73.7508 1463.93 73.7508 Q1456.97 73.7508 1452.84 69.8619 Q1448.74 65.9325 1448.74 59.3701 Q1448.74 51.7138 1453.85 47.825 Q1458.99 43.9361 1469.16 43.9361 L1479.61 43.9361 L1479.61 43.2069 Q1479.61 38.0623 1476.21 35.2672 Q1472.85 32.4315 1466.73 32.4315 Q1462.84 32.4315 1459.15 33.3632 Q1455.47 34.295 1452.07 36.1584 L1452.07 29.2718 Q1456.16 27.692 1460.01 26.9223 Q1463.85 26.1121 1467.5 26.1121 Q1477.34 26.1121 1482.2 31.2163 Q1487.07 36.3204 1487.07 46.6907 Z\" fill=\"#000000\" fill-rule=\"evenodd\" fill-opacity=\"1\" /><path clip-path=\"url(#clip700)\" d=\"M1502.42 27.2059 L1509.87 27.2059 L1509.87 72.576 L1502.42 72.576 L1502.42 27.2059 M1506.14 26.1121 L1506.14 26.1121 M1509.95 9.70597 L1518.18 9.70597 L1518.18 17.8888 L1509.95 17.8888 L1509.95 9.70597 M1494.11 9.70597 L1502.34 9.70597 L1502.34 17.8888 L1494.11 17.8888 L1494.11 9.70597 Z\" fill=\"#000000\" fill-rule=\"evenodd\" fill-opacity=\"1\" /><path clip-path=\"url(#clip700)\" d=\"M1520.12 27.2059 L1528.02 27.2059 L1542.2 65.2844 L1556.38 27.2059 L1564.28 27.2059 L1547.26 72.576 L1537.13 72.576 L1520.12 27.2059 Z\" fill=\"#000000\" fill-rule=\"evenodd\" fill-opacity=\"1\" /><path clip-path=\"url(#clip700)\" d=\"M1613.37 48.0275 L1613.37 51.6733 L1579.1 51.6733 Q1579.59 59.3701 1583.72 63.421 Q1587.89 67.4314 1595.31 67.4314 Q1599.6 67.4314 1603.61 66.3781 Q1607.66 65.3249 1611.63 63.2184 L1611.63 70.267 Q1607.62 71.9684 1603.41 72.8596 Q1599.19 73.7508 1594.86 73.7508 Q1584 73.7508 1577.64 67.4314 Q1571.32 61.1119 1571.32 50.3365 Q1571.32 39.1965 1577.32 32.6746 Q1583.36 26.1121 1593.56 26.1121 Q1602.72 26.1121 1608.03 32.0264 Q1613.37 37.9003 1613.37 48.0275 M1605.92 45.84 Q1605.84 39.7232 1602.48 36.0774 Q1599.15 32.4315 1593.64 32.4315 Q1587.41 32.4315 1583.64 35.9558 Q1579.91 39.4801 1579.34 45.8805 L1605.92 45.84 Z\" fill=\"#000000\" fill-rule=\"evenodd\" fill-opacity=\"1\" /><path clip-path=\"url(#clip700)\" d=\"M1672.52 20.1573 L1661.42 50.2555 L1683.66 50.2555 L1672.52 20.1573 M1667.9 12.096 L1677.17 12.096 L1700.22 72.576 L1691.72 72.576 L1686.21 57.061 L1658.95 57.061 L1653.44 72.576 L1644.81 72.576 L1667.9 12.096 Z\" fill=\"#000000\" fill-rule=\"evenodd\" fill-opacity=\"1\" /><path clip-path=\"url(#clip700)\" d=\"M1738.59 49.3643 Q1738.59 41.2625 1735.22 36.8065 Q1731.9 32.3505 1725.87 32.3505 Q1719.87 32.3505 1716.51 36.8065 Q1713.19 41.2625 1713.19 49.3643 Q1713.19 57.4256 1716.51 61.8816 Q1719.87 66.3376 1725.87 66.3376 Q1731.9 66.3376 1735.22 61.8816 Q1738.59 57.4256 1738.59 49.3643 M1746.04 66.9452 Q1746.04 78.5308 1740.89 84.1616 Q1735.75 89.8329 1725.14 89.8329 Q1721.21 89.8329 1717.72 89.2252 Q1714.24 88.6581 1710.96 87.4428 L1710.96 80.1917 Q1714.24 81.9741 1717.44 82.8248 Q1720.64 83.6755 1723.96 83.6755 Q1731.29 83.6755 1734.94 79.8271 Q1738.59 76.0193 1738.59 68.282 L1738.59 64.5957 Q1736.28 68.6061 1732.67 70.5911 Q1729.07 72.576 1724.04 72.576 Q1715.7 72.576 1710.59 66.2161 Q1705.49 59.8562 1705.49 49.3643 Q1705.49 38.832 1710.59 32.472 Q1715.7 26.1121 1724.04 26.1121 Q1729.07 26.1121 1732.67 28.0971 Q1736.28 30.082 1738.59 34.0924 L1738.59 27.2059 L1746.04 27.2059 L1746.04 66.9452 Z\" fill=\"#000000\" fill-rule=\"evenodd\" fill-opacity=\"1\" /><path clip-path=\"url(#clip700)\" d=\"M1800.2 48.0275 L1800.2 51.6733 L1765.93 51.6733 Q1766.42 59.3701 1770.55 63.421 Q1774.72 67.4314 1782.13 67.4314 Q1786.43 67.4314 1790.44 66.3781 Q1794.49 65.3249 1798.46 63.2184 L1798.46 70.267 Q1794.45 71.9684 1790.23 72.8596 Q1786.02 73.7508 1781.69 73.7508 Q1770.83 73.7508 1764.47 67.4314 Q1758.15 61.1119 1758.15 50.3365 Q1758.15 39.1965 1764.15 32.6746 Q1770.18 26.1121 1780.39 26.1121 Q1789.55 26.1121 1794.85 32.0264 Q1800.2 37.9003 1800.2 48.0275 M1792.75 45.84 Q1792.67 39.7232 1789.3 36.0774 Q1785.98 32.4315 1780.47 32.4315 Q1774.23 32.4315 1770.47 35.9558 Q1766.74 39.4801 1766.17 45.8805 L1792.75 45.84 Z\" fill=\"#000000\" fill-rule=\"evenodd\" fill-opacity=\"1\" /><path clip-path=\"url(#clip700)\" d=\"M1850.15 45.1919 L1850.15 72.576 L1842.69 72.576 L1842.69 45.4349 Q1842.69 38.994 1840.18 35.7938 Q1837.67 32.5936 1832.65 32.5936 Q1826.61 32.5936 1823.13 36.4419 Q1819.64 40.2903 1819.64 46.9338 L1819.64 72.576 L1812.15 72.576 L1812.15 27.2059 L1819.64 27.2059 L1819.64 34.2544 Q1822.32 30.163 1825.92 28.1376 Q1829.57 26.1121 1834.31 26.1121 Q1842.13 26.1121 1846.14 30.9732 Q1850.15 35.7938 1850.15 45.1919 Z\" fill=\"#000000\" fill-rule=\"evenodd\" fill-opacity=\"1\" /><path clip-path=\"url(#clip700)\" d=\"M1872.39 14.324 L1872.39 27.2059 L1887.74 27.2059 L1887.74 32.9987 L1872.39 32.9987 L1872.39 57.6282 Q1872.39 63.1779 1873.89 64.7578 Q1875.43 66.3376 1880.08 66.3376 L1887.74 66.3376 L1887.74 72.576 L1880.08 72.576 Q1871.46 72.576 1868.17 69.3758 Q1864.89 66.1351 1864.89 57.6282 L1864.89 32.9987 L1859.42 32.9987 L1859.42 27.2059 L1864.89 27.2059 L1864.89 14.324 L1872.39 14.324 Z\" fill=\"#000000\" fill-rule=\"evenodd\" fill-opacity=\"1\" /><polyline clip-path=\"url(#clip702)\" style=\"stroke:#009af9; stroke-linecap:round; stroke-linejoin:round; stroke-width:4; stroke-opacity:1; fill:none\" points=\"\n",
       "  295.211,201.974 311.321,166.198 327.431,160.256 343.541,168.202 359.651,199.485 375.76,241.465 391.87,279.862 407.98,322.061 424.09,366.142 440.2,411.79 \n",
       "  456.309,456.883 472.419,499.5 488.529,541.133 504.639,581.473 520.749,620.567 536.858,658.096 552.968,693.781 569.078,727.916 585.188,760.52 601.298,791.645 \n",
       "  617.407,821.287 633.517,849.467 649.627,876.281 665.737,901.779 681.847,926.047 697.957,949.123 714.066,971.052 730.176,991.889 746.286,1011.7 762.396,1030.54 \n",
       "  778.506,1048.44 794.615,1065.45 810.725,1081.61 826.835,1096.97 842.945,1111.56 859.055,1125.42 875.164,1138.6 891.274,1151.11 907.384,1163.01 923.494,1174.31 \n",
       "  939.604,1185.04 955.713,1195.24 971.823,1204.93 987.933,1214.13 1004.04,1222.88 1020.15,1231.19 1036.26,1239.08 1052.37,1246.58 1068.48,1253.71 1084.59,1260.48 \n",
       "  1100.7,1266.91 1116.81,1273.02 1132.92,1278.82 1149.03,1284.34 1165.14,1289.58 1181.25,1294.55 1197.36,1299.28 1213.47,1303.77 1229.58,1308.04 1245.69,1312.1 \n",
       "  1261.8,1315.95 1277.91,1319.61 1294.02,1323.08 1310.13,1326.39 1326.24,1329.52 1342.35,1332.5 1358.46,1335.33 1374.57,1338.02 1390.68,1340.58 1406.79,1343.01 \n",
       "  1422.9,1345.31 1439.01,1347.5 1455.12,1349.59 1471.23,1351.56 1487.34,1353.44 1503.45,1355.23 1519.56,1356.92 1535.67,1358.53 1551.78,1360.06 1567.89,1361.52 \n",
       "  1584,1362.9 1600.11,1364.21 1616.22,1365.46 1632.33,1366.64 1648.44,1367.77 1664.54,1368.84 1680.65,1369.85 1696.76,1370.82 1712.87,1371.73 1728.98,1372.6 \n",
       "  1745.09,1373.43 1761.2,1374.22 1777.31,1374.96 1793.42,1375.67 1809.53,1376.34 1825.64,1376.98 1841.75,1377.59 1857.86,1378.17 1873.97,1378.72 1890.08,1379.24 \n",
       "  1906.19,1379.73 1922.3,1380.2 1938.41,1380.65 1954.52,1381.08 1970.63,1381.48 1986.74,1381.86 2002.85,1382.23 2018.96,1382.57 2035.07,1382.9 2051.18,1383.21 \n",
       "  2067.29,1383.51 2083.4,1383.79 2099.51,1384.06 2115.62,1384.31 2131.73,1384.55 2147.84,1384.78 2163.95,1385 2180.06,1385.21 2196.17,1385.41 2212.28,1385.59 \n",
       "  2228.39,1385.77 2244.5,1385.94 2260.61,1386.1 2276.72,1386.25 2292.83,1386.4 \n",
       "  \"/>\n",
       "</svg>\n"
      ]
     },
     "execution_count": 39,
     "metadata": {},
     "output_type": "execute_result"
    }
   ],
   "source": [
    "plot(\n",
    "    1:length(training_log[\"naive\"]),training_log[\"naive\"],\n",
    "    legend=false,\n",
    "    title=\"Training Curve - Naïve Agent\",\n",
    "    xlabel=\"Training Episode\",\n",
    "    ylabel=\"Q-Function Error (RMSE)\"\n",
    ")"
   ]
  },
  {
   "cell_type": "markdown",
   "id": "cdac6634",
   "metadata": {},
   "source": [
    "# Analysis <a id=\"analysis\"></a>\n",
    "### [↑ Contents](#contents)"
   ]
  }
 ],
 "metadata": {
  "kernelspec": {
   "display_name": "Julia 1.8.0",
   "language": "julia",
   "name": "julia-1.8"
  },
  "language_info": {
   "file_extension": ".jl",
   "mimetype": "application/julia",
   "name": "julia",
   "version": "1.8.0"
  }
 },
 "nbformat": 4,
 "nbformat_minor": 5
}
